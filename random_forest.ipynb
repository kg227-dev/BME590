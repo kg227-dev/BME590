{
  "cells": [
    {
      "cell_type": "markdown",
      "id": "6bb55246",
      "metadata": {
        "id": "6bb55246"
      },
      "source": [
        "#### Import necessary libraries "
      ]
    },
    {
      "cell_type": "code",
      "execution_count": 68,
      "id": "67748d16",
      "metadata": {
        "colab": {
          "base_uri": "https://localhost:8080/"
        },
        "id": "67748d16",
        "outputId": "f301b7ce-6bff-4c0c-92df-cb280298ef01"
      },
      "outputs": [
        {
          "output_type": "stream",
          "name": "stdout",
          "text": [
            "Looking in indexes: https://pypi.org/simple, https://us-python.pkg.dev/colab-wheels/public/simple/\n",
            "Requirement already satisfied: deepchem==2.6.1 in /usr/local/lib/python3.8/dist-packages (2.6.1)\n",
            "Requirement already satisfied: rdkit-pypi in /usr/local/lib/python3.8/dist-packages (from deepchem==2.6.1) (2022.9.2)\n",
            "Requirement already satisfied: pandas in /usr/local/lib/python3.8/dist-packages (from deepchem==2.6.1) (1.3.5)\n",
            "Requirement already satisfied: scipy in /usr/local/lib/python3.8/dist-packages (from deepchem==2.6.1) (1.7.3)\n",
            "Requirement already satisfied: joblib in /usr/local/lib/python3.8/dist-packages (from deepchem==2.6.1) (1.2.0)\n",
            "Requirement already satisfied: numpy>=1.21 in /usr/local/lib/python3.8/dist-packages (from deepchem==2.6.1) (1.21.6)\n",
            "Requirement already satisfied: scikit-learn in /usr/local/lib/python3.8/dist-packages (from deepchem==2.6.1) (1.0.2)\n",
            "Requirement already satisfied: python-dateutil>=2.7.3 in /usr/local/lib/python3.8/dist-packages (from pandas->deepchem==2.6.1) (2.8.2)\n",
            "Requirement already satisfied: pytz>=2017.3 in /usr/local/lib/python3.8/dist-packages (from pandas->deepchem==2.6.1) (2022.6)\n",
            "Requirement already satisfied: six>=1.5 in /usr/local/lib/python3.8/dist-packages (from python-dateutil>=2.7.3->pandas->deepchem==2.6.1) (1.15.0)\n",
            "Requirement already satisfied: Pillow in /usr/local/lib/python3.8/dist-packages (from rdkit-pypi->deepchem==2.6.1) (7.1.2)\n",
            "Requirement already satisfied: threadpoolctl>=2.0.0 in /usr/local/lib/python3.8/dist-packages (from scikit-learn->deepchem==2.6.1) (3.1.0)\n",
            "Looking in indexes: https://pypi.org/simple, https://us-python.pkg.dev/colab-wheels/public/simple/\n",
            "Requirement already satisfied: rdkit-pypi in /usr/local/lib/python3.8/dist-packages (2022.9.2)\n",
            "Requirement already satisfied: numpy in /usr/local/lib/python3.8/dist-packages (from rdkit-pypi) (1.21.6)\n",
            "Requirement already satisfied: Pillow in /usr/local/lib/python3.8/dist-packages (from rdkit-pypi) (7.1.2)\n"
          ]
        }
      ],
      "source": [
        "!pip install deepchem==2.6.1\n",
        "!pip install rdkit-pypi"
      ]
    },
    {
      "cell_type": "code",
      "execution_count": 69,
      "id": "d9378a71",
      "metadata": {
        "id": "d9378a71"
      },
      "outputs": [],
      "source": [
        "import numpy as np\n",
        "import pandas as pd\n",
        "from rdkit import Chem\n",
        "import matplotlib.pyplot as plt\n",
        "from rdkit.Chem import AllChem, DataStructs, PandasTools\n",
        "from rdkit.Chem import Descriptors\n",
        "from rdkit.ML.Descriptors import MoleculeDescriptors\n",
        "from sklearn.model_selection import train_test_split \n",
        "from sklearn.tree import DecisionTreeClassifier\n",
        "from deepchem import metrics\n",
        "from sklearn.ensemble import RandomForestClassifier\n",
        "from sklearn.model_selection import ParameterGrid\n",
        "import scipy\n",
        "from sklearn.manifold import TSNE\n",
        "from sklearn.decomposition import PCA\n",
        "from sklearn.metrics import matthews_corrcoef\n",
        "from deepchem.splits import RandomSplitter\n",
        "from scipy.stats import ttest_ind\n",
        "from deepchem import metrics\n",
        "import deepchem as dc"
      ]
    },
    {
      "cell_type": "markdown",
      "id": "6f7996de",
      "metadata": {
        "id": "6f7996de"
      },
      "source": [
        "#### Read in the preprocessed BBB dataset from Adenot paper"
      ]
    },
    {
      "cell_type": "code",
      "execution_count": 70,
      "id": "da732072",
      "metadata": {
        "id": "da732072"
      },
      "outputs": [],
      "source": [
        "bbb_df = pd.read_csv('adenot_processed.csv')"
      ]
    },
    {
      "cell_type": "code",
      "execution_count": 71,
      "id": "52d11b04",
      "metadata": {
        "colab": {
          "base_uri": "https://localhost:8080/",
          "height": 505
        },
        "id": "52d11b04",
        "outputId": "92d9e301-5558-4a24-a8b1-204d2e14419d"
      },
      "outputs": [
        {
          "output_type": "execute_result",
          "data": {
            "text/plain": [
              "                 Drug                                             SMILES  \\\n",
              "0          ACEBUTOLOL           CCCC(=O)Nc1ccc(c(c1)C(C)=O)OCC(O)CNC(C)C   \n",
              "1        DACTINOMYCIN  CC(C)[C@H]1NC(=O)[C@@H](NC(=O)c2ccc(c3c2N=C2C(...   \n",
              "2         ALDOSTERONE  C[C@@]12CCC(=O)C=C2CC[C@H]2C3CC[C@H](C(=O)CO)C...   \n",
              "3           AMILORIDE                     N\\C(=N)\\NC(=O)c1nc(c(nc1N)N)Cl   \n",
              "4          AMIODARONE  CCCCc1oc2ccccc2c1C(=O)c1cc(c(c(c1)[I])OCCN(CC)...   \n",
              "...               ...                                                ...   \n",
              "1655    AMITRIPTYLINE                     CN(C)CCC=C1c2ccccc2CCc2ccccc12   \n",
              "1656   CHLORPROMAZINE                   CN(C)CCCN1c2ccccc2Sc2ccc(cc12)Cl   \n",
              "1657       DISULFIRAM                         CCN(CC)C(=S)SSC(=S)N(CC)CC   \n",
              "1658         MORPHINE  CN1CC[C@@]23[C@H]4Oc5c(ccc(c52)C[C@@H]1[C@@H]3...   \n",
              "1659  TRIFLUOPERAZINE       CN1CCN(CCCN2c3ccccc3Sc3ccc(cc23)C(F)(F)F)CC1   \n",
              "\n",
              "      permeable  0  1  2  3  4  5  6  ...  1014  1015  1016  1017  1018  1019  \\\n",
              "0             0  0  1  0  0  1  0  0  ...     1     0     0     1     0     0   \n",
              "1             0  0  1  0  0  1  1  0  ...     0     0     0     0     0     1   \n",
              "2             0  0  0  0  0  0  0  0  ...     0     0     0     0     0     1   \n",
              "3             0  0  0  0  0  0  0  0  ...     0     0     0     0     0     0   \n",
              "4             0  0  0  0  0  0  0  0  ...     0     0     0     0     0     0   \n",
              "...         ... .. .. .. .. .. .. ..  ...   ...   ...   ...   ...   ...   ...   \n",
              "1655          1  0  0  0  0  0  0  0  ...     0     0     0     0     0     0   \n",
              "1656          1  0  0  0  0  1  0  0  ...     0     0     0     0     0     0   \n",
              "1657          1  0  0  0  0  0  0  0  ...     0     0     0     0     0     0   \n",
              "1658          1  0  0  0  0  0  0  0  ...     0     0     0     0     0     1   \n",
              "1659          1  0  0  0  0  1  0  0  ...     0     0     0     0     0     0   \n",
              "\n",
              "      1020  1021  1022  1023  \n",
              "0        0     0     0     0  \n",
              "1        0     0     0     0  \n",
              "2        0     0     0     0  \n",
              "3        0     0     0     0  \n",
              "4        0     0     0     0  \n",
              "...    ...   ...   ...   ...  \n",
              "1655     0     0     0     0  \n",
              "1656     1     0     0     0  \n",
              "1657     0     0     0     0  \n",
              "1658     0     0     0     0  \n",
              "1659     1     0     0     0  \n",
              "\n",
              "[1660 rows x 1027 columns]"
            ],
            "text/html": [
              "\n",
              "  <div id=\"df-5fa99a97-ef69-46c2-8c2d-6f3a1bbf2462\">\n",
              "    <div class=\"colab-df-container\">\n",
              "      <div>\n",
              "<style scoped>\n",
              "    .dataframe tbody tr th:only-of-type {\n",
              "        vertical-align: middle;\n",
              "    }\n",
              "\n",
              "    .dataframe tbody tr th {\n",
              "        vertical-align: top;\n",
              "    }\n",
              "\n",
              "    .dataframe thead th {\n",
              "        text-align: right;\n",
              "    }\n",
              "</style>\n",
              "<table border=\"1\" class=\"dataframe\">\n",
              "  <thead>\n",
              "    <tr style=\"text-align: right;\">\n",
              "      <th></th>\n",
              "      <th>Drug</th>\n",
              "      <th>SMILES</th>\n",
              "      <th>permeable</th>\n",
              "      <th>0</th>\n",
              "      <th>1</th>\n",
              "      <th>2</th>\n",
              "      <th>3</th>\n",
              "      <th>4</th>\n",
              "      <th>5</th>\n",
              "      <th>6</th>\n",
              "      <th>...</th>\n",
              "      <th>1014</th>\n",
              "      <th>1015</th>\n",
              "      <th>1016</th>\n",
              "      <th>1017</th>\n",
              "      <th>1018</th>\n",
              "      <th>1019</th>\n",
              "      <th>1020</th>\n",
              "      <th>1021</th>\n",
              "      <th>1022</th>\n",
              "      <th>1023</th>\n",
              "    </tr>\n",
              "  </thead>\n",
              "  <tbody>\n",
              "    <tr>\n",
              "      <th>0</th>\n",
              "      <td>ACEBUTOLOL</td>\n",
              "      <td>CCCC(=O)Nc1ccc(c(c1)C(C)=O)OCC(O)CNC(C)C</td>\n",
              "      <td>0</td>\n",
              "      <td>0</td>\n",
              "      <td>1</td>\n",
              "      <td>0</td>\n",
              "      <td>0</td>\n",
              "      <td>1</td>\n",
              "      <td>0</td>\n",
              "      <td>0</td>\n",
              "      <td>...</td>\n",
              "      <td>1</td>\n",
              "      <td>0</td>\n",
              "      <td>0</td>\n",
              "      <td>1</td>\n",
              "      <td>0</td>\n",
              "      <td>0</td>\n",
              "      <td>0</td>\n",
              "      <td>0</td>\n",
              "      <td>0</td>\n",
              "      <td>0</td>\n",
              "    </tr>\n",
              "    <tr>\n",
              "      <th>1</th>\n",
              "      <td>DACTINOMYCIN</td>\n",
              "      <td>CC(C)[C@H]1NC(=O)[C@@H](NC(=O)c2ccc(c3c2N=C2C(...</td>\n",
              "      <td>0</td>\n",
              "      <td>0</td>\n",
              "      <td>1</td>\n",
              "      <td>0</td>\n",
              "      <td>0</td>\n",
              "      <td>1</td>\n",
              "      <td>1</td>\n",
              "      <td>0</td>\n",
              "      <td>...</td>\n",
              "      <td>0</td>\n",
              "      <td>0</td>\n",
              "      <td>0</td>\n",
              "      <td>0</td>\n",
              "      <td>0</td>\n",
              "      <td>1</td>\n",
              "      <td>0</td>\n",
              "      <td>0</td>\n",
              "      <td>0</td>\n",
              "      <td>0</td>\n",
              "    </tr>\n",
              "    <tr>\n",
              "      <th>2</th>\n",
              "      <td>ALDOSTERONE</td>\n",
              "      <td>C[C@@]12CCC(=O)C=C2CC[C@H]2C3CC[C@H](C(=O)CO)C...</td>\n",
              "      <td>0</td>\n",
              "      <td>0</td>\n",
              "      <td>0</td>\n",
              "      <td>0</td>\n",
              "      <td>0</td>\n",
              "      <td>0</td>\n",
              "      <td>0</td>\n",
              "      <td>0</td>\n",
              "      <td>...</td>\n",
              "      <td>0</td>\n",
              "      <td>0</td>\n",
              "      <td>0</td>\n",
              "      <td>0</td>\n",
              "      <td>0</td>\n",
              "      <td>1</td>\n",
              "      <td>0</td>\n",
              "      <td>0</td>\n",
              "      <td>0</td>\n",
              "      <td>0</td>\n",
              "    </tr>\n",
              "    <tr>\n",
              "      <th>3</th>\n",
              "      <td>AMILORIDE</td>\n",
              "      <td>N\\C(=N)\\NC(=O)c1nc(c(nc1N)N)Cl</td>\n",
              "      <td>0</td>\n",
              "      <td>0</td>\n",
              "      <td>0</td>\n",
              "      <td>0</td>\n",
              "      <td>0</td>\n",
              "      <td>0</td>\n",
              "      <td>0</td>\n",
              "      <td>0</td>\n",
              "      <td>...</td>\n",
              "      <td>0</td>\n",
              "      <td>0</td>\n",
              "      <td>0</td>\n",
              "      <td>0</td>\n",
              "      <td>0</td>\n",
              "      <td>0</td>\n",
              "      <td>0</td>\n",
              "      <td>0</td>\n",
              "      <td>0</td>\n",
              "      <td>0</td>\n",
              "    </tr>\n",
              "    <tr>\n",
              "      <th>4</th>\n",
              "      <td>AMIODARONE</td>\n",
              "      <td>CCCCc1oc2ccccc2c1C(=O)c1cc(c(c(c1)[I])OCCN(CC)...</td>\n",
              "      <td>0</td>\n",
              "      <td>0</td>\n",
              "      <td>0</td>\n",
              "      <td>0</td>\n",
              "      <td>0</td>\n",
              "      <td>0</td>\n",
              "      <td>0</td>\n",
              "      <td>0</td>\n",
              "      <td>...</td>\n",
              "      <td>0</td>\n",
              "      <td>0</td>\n",
              "      <td>0</td>\n",
              "      <td>0</td>\n",
              "      <td>0</td>\n",
              "      <td>0</td>\n",
              "      <td>0</td>\n",
              "      <td>0</td>\n",
              "      <td>0</td>\n",
              "      <td>0</td>\n",
              "    </tr>\n",
              "    <tr>\n",
              "      <th>...</th>\n",
              "      <td>...</td>\n",
              "      <td>...</td>\n",
              "      <td>...</td>\n",
              "      <td>...</td>\n",
              "      <td>...</td>\n",
              "      <td>...</td>\n",
              "      <td>...</td>\n",
              "      <td>...</td>\n",
              "      <td>...</td>\n",
              "      <td>...</td>\n",
              "      <td>...</td>\n",
              "      <td>...</td>\n",
              "      <td>...</td>\n",
              "      <td>...</td>\n",
              "      <td>...</td>\n",
              "      <td>...</td>\n",
              "      <td>...</td>\n",
              "      <td>...</td>\n",
              "      <td>...</td>\n",
              "      <td>...</td>\n",
              "      <td>...</td>\n",
              "    </tr>\n",
              "    <tr>\n",
              "      <th>1655</th>\n",
              "      <td>AMITRIPTYLINE</td>\n",
              "      <td>CN(C)CCC=C1c2ccccc2CCc2ccccc12</td>\n",
              "      <td>1</td>\n",
              "      <td>0</td>\n",
              "      <td>0</td>\n",
              "      <td>0</td>\n",
              "      <td>0</td>\n",
              "      <td>0</td>\n",
              "      <td>0</td>\n",
              "      <td>0</td>\n",
              "      <td>...</td>\n",
              "      <td>0</td>\n",
              "      <td>0</td>\n",
              "      <td>0</td>\n",
              "      <td>0</td>\n",
              "      <td>0</td>\n",
              "      <td>0</td>\n",
              "      <td>0</td>\n",
              "      <td>0</td>\n",
              "      <td>0</td>\n",
              "      <td>0</td>\n",
              "    </tr>\n",
              "    <tr>\n",
              "      <th>1656</th>\n",
              "      <td>CHLORPROMAZINE</td>\n",
              "      <td>CN(C)CCCN1c2ccccc2Sc2ccc(cc12)Cl</td>\n",
              "      <td>1</td>\n",
              "      <td>0</td>\n",
              "      <td>0</td>\n",
              "      <td>0</td>\n",
              "      <td>0</td>\n",
              "      <td>1</td>\n",
              "      <td>0</td>\n",
              "      <td>0</td>\n",
              "      <td>...</td>\n",
              "      <td>0</td>\n",
              "      <td>0</td>\n",
              "      <td>0</td>\n",
              "      <td>0</td>\n",
              "      <td>0</td>\n",
              "      <td>0</td>\n",
              "      <td>1</td>\n",
              "      <td>0</td>\n",
              "      <td>0</td>\n",
              "      <td>0</td>\n",
              "    </tr>\n",
              "    <tr>\n",
              "      <th>1657</th>\n",
              "      <td>DISULFIRAM</td>\n",
              "      <td>CCN(CC)C(=S)SSC(=S)N(CC)CC</td>\n",
              "      <td>1</td>\n",
              "      <td>0</td>\n",
              "      <td>0</td>\n",
              "      <td>0</td>\n",
              "      <td>0</td>\n",
              "      <td>0</td>\n",
              "      <td>0</td>\n",
              "      <td>0</td>\n",
              "      <td>...</td>\n",
              "      <td>0</td>\n",
              "      <td>0</td>\n",
              "      <td>0</td>\n",
              "      <td>0</td>\n",
              "      <td>0</td>\n",
              "      <td>0</td>\n",
              "      <td>0</td>\n",
              "      <td>0</td>\n",
              "      <td>0</td>\n",
              "      <td>0</td>\n",
              "    </tr>\n",
              "    <tr>\n",
              "      <th>1658</th>\n",
              "      <td>MORPHINE</td>\n",
              "      <td>CN1CC[C@@]23[C@H]4Oc5c(ccc(c52)C[C@@H]1[C@@H]3...</td>\n",
              "      <td>1</td>\n",
              "      <td>0</td>\n",
              "      <td>0</td>\n",
              "      <td>0</td>\n",
              "      <td>0</td>\n",
              "      <td>0</td>\n",
              "      <td>0</td>\n",
              "      <td>0</td>\n",
              "      <td>...</td>\n",
              "      <td>0</td>\n",
              "      <td>0</td>\n",
              "      <td>0</td>\n",
              "      <td>0</td>\n",
              "      <td>0</td>\n",
              "      <td>1</td>\n",
              "      <td>0</td>\n",
              "      <td>0</td>\n",
              "      <td>0</td>\n",
              "      <td>0</td>\n",
              "    </tr>\n",
              "    <tr>\n",
              "      <th>1659</th>\n",
              "      <td>TRIFLUOPERAZINE</td>\n",
              "      <td>CN1CCN(CCCN2c3ccccc3Sc3ccc(cc23)C(F)(F)F)CC1</td>\n",
              "      <td>1</td>\n",
              "      <td>0</td>\n",
              "      <td>0</td>\n",
              "      <td>0</td>\n",
              "      <td>0</td>\n",
              "      <td>1</td>\n",
              "      <td>0</td>\n",
              "      <td>0</td>\n",
              "      <td>...</td>\n",
              "      <td>0</td>\n",
              "      <td>0</td>\n",
              "      <td>0</td>\n",
              "      <td>0</td>\n",
              "      <td>0</td>\n",
              "      <td>0</td>\n",
              "      <td>1</td>\n",
              "      <td>0</td>\n",
              "      <td>0</td>\n",
              "      <td>0</td>\n",
              "    </tr>\n",
              "  </tbody>\n",
              "</table>\n",
              "<p>1660 rows × 1027 columns</p>\n",
              "</div>\n",
              "      <button class=\"colab-df-convert\" onclick=\"convertToInteractive('df-5fa99a97-ef69-46c2-8c2d-6f3a1bbf2462')\"\n",
              "              title=\"Convert this dataframe to an interactive table.\"\n",
              "              style=\"display:none;\">\n",
              "        \n",
              "  <svg xmlns=\"http://www.w3.org/2000/svg\" height=\"24px\"viewBox=\"0 0 24 24\"\n",
              "       width=\"24px\">\n",
              "    <path d=\"M0 0h24v24H0V0z\" fill=\"none\"/>\n",
              "    <path d=\"M18.56 5.44l.94 2.06.94-2.06 2.06-.94-2.06-.94-.94-2.06-.94 2.06-2.06.94zm-11 1L8.5 8.5l.94-2.06 2.06-.94-2.06-.94L8.5 2.5l-.94 2.06-2.06.94zm10 10l.94 2.06.94-2.06 2.06-.94-2.06-.94-.94-2.06-.94 2.06-2.06.94z\"/><path d=\"M17.41 7.96l-1.37-1.37c-.4-.4-.92-.59-1.43-.59-.52 0-1.04.2-1.43.59L10.3 9.45l-7.72 7.72c-.78.78-.78 2.05 0 2.83L4 21.41c.39.39.9.59 1.41.59.51 0 1.02-.2 1.41-.59l7.78-7.78 2.81-2.81c.8-.78.8-2.07 0-2.86zM5.41 20L4 18.59l7.72-7.72 1.47 1.35L5.41 20z\"/>\n",
              "  </svg>\n",
              "      </button>\n",
              "      \n",
              "  <style>\n",
              "    .colab-df-container {\n",
              "      display:flex;\n",
              "      flex-wrap:wrap;\n",
              "      gap: 12px;\n",
              "    }\n",
              "\n",
              "    .colab-df-convert {\n",
              "      background-color: #E8F0FE;\n",
              "      border: none;\n",
              "      border-radius: 50%;\n",
              "      cursor: pointer;\n",
              "      display: none;\n",
              "      fill: #1967D2;\n",
              "      height: 32px;\n",
              "      padding: 0 0 0 0;\n",
              "      width: 32px;\n",
              "    }\n",
              "\n",
              "    .colab-df-convert:hover {\n",
              "      background-color: #E2EBFA;\n",
              "      box-shadow: 0px 1px 2px rgba(60, 64, 67, 0.3), 0px 1px 3px 1px rgba(60, 64, 67, 0.15);\n",
              "      fill: #174EA6;\n",
              "    }\n",
              "\n",
              "    [theme=dark] .colab-df-convert {\n",
              "      background-color: #3B4455;\n",
              "      fill: #D2E3FC;\n",
              "    }\n",
              "\n",
              "    [theme=dark] .colab-df-convert:hover {\n",
              "      background-color: #434B5C;\n",
              "      box-shadow: 0px 1px 3px 1px rgba(0, 0, 0, 0.15);\n",
              "      filter: drop-shadow(0px 1px 2px rgba(0, 0, 0, 0.3));\n",
              "      fill: #FFFFFF;\n",
              "    }\n",
              "  </style>\n",
              "\n",
              "      <script>\n",
              "        const buttonEl =\n",
              "          document.querySelector('#df-5fa99a97-ef69-46c2-8c2d-6f3a1bbf2462 button.colab-df-convert');\n",
              "        buttonEl.style.display =\n",
              "          google.colab.kernel.accessAllowed ? 'block' : 'none';\n",
              "\n",
              "        async function convertToInteractive(key) {\n",
              "          const element = document.querySelector('#df-5fa99a97-ef69-46c2-8c2d-6f3a1bbf2462');\n",
              "          const dataTable =\n",
              "            await google.colab.kernel.invokeFunction('convertToInteractive',\n",
              "                                                     [key], {});\n",
              "          if (!dataTable) return;\n",
              "\n",
              "          const docLinkHtml = 'Like what you see? Visit the ' +\n",
              "            '<a target=\"_blank\" href=https://colab.research.google.com/notebooks/data_table.ipynb>data table notebook</a>'\n",
              "            + ' to learn more about interactive tables.';\n",
              "          element.innerHTML = '';\n",
              "          dataTable['output_type'] = 'display_data';\n",
              "          await google.colab.output.renderOutput(dataTable, element);\n",
              "          const docLink = document.createElement('div');\n",
              "          docLink.innerHTML = docLinkHtml;\n",
              "          element.appendChild(docLink);\n",
              "        }\n",
              "      </script>\n",
              "    </div>\n",
              "  </div>\n",
              "  "
            ]
          },
          "metadata": {},
          "execution_count": 71
        }
      ],
      "source": [
        "bbb_df"
      ]
    },
    {
      "cell_type": "code",
      "execution_count": 72,
      "id": "0ae40fb7",
      "metadata": {
        "colab": {
          "base_uri": "https://localhost:8080/",
          "height": 505
        },
        "id": "0ae40fb7",
        "outputId": "94089738-eb4e-4e44-d32a-15ebbff3e0e1"
      },
      "outputs": [
        {
          "output_type": "execute_result",
          "data": {
            "text/plain": [
              "                     Drug                                             SMILES  \\\n",
              "341   ADENOSYL-METHIONINE  C[S+](CC[C@H](N)C([O-])=O)C[C@H]1O[C@H]([C@H](...   \n",
              "342          ACEGLUTAMIDE                      CC(=O)N[C@@H](CCC(N)=O)C(O)=O   \n",
              "343            ATROMEPINE              CN1C2CCC1CC(C2)OC(=O)C(C)(CO)c1ccccc1   \n",
              "344              ATROPINE        CN1[C@@H]2CC[C@H]1CC(C2)OC(=O)C(CO)c1ccccc1   \n",
              "345          BENZATROPINE       CN1[C@H]2CC[C@@H]1CC(C2)OC(c1ccccc1)c1ccccc1   \n",
              "...                   ...                                                ...   \n",
              "1655        AMITRIPTYLINE                     CN(C)CCC=C1c2ccccc2CCc2ccccc12   \n",
              "1656       CHLORPROMAZINE                   CN(C)CCCN1c2ccccc2Sc2ccc(cc12)Cl   \n",
              "1657           DISULFIRAM                         CCN(CC)C(=S)SSC(=S)N(CC)CC   \n",
              "1658             MORPHINE  CN1CC[C@@]23[C@H]4Oc5c(ccc(c52)C[C@@H]1[C@@H]3...   \n",
              "1659      TRIFLUOPERAZINE       CN1CCN(CCCN2c3ccccc3Sc3ccc(cc23)C(F)(F)F)CC1   \n",
              "\n",
              "      permeable  0  1  2  3  4  5  6  ...  1014  1015  1016  1017  1018  1019  \\\n",
              "341           1  0  1  0  0  0  0  0  ...     0     0     0     0     0     1   \n",
              "342           1  0  1  0  0  0  0  0  ...     0     0     0     1     0     0   \n",
              "343           1  0  1  0  0  0  0  0  ...     0     0     0     0     0     1   \n",
              "344           1  0  1  0  0  0  0  0  ...     0     0     0     0     0     1   \n",
              "345           1  0  1  0  0  0  0  0  ...     0     0     0     0     0     1   \n",
              "...         ... .. .. .. .. .. .. ..  ...   ...   ...   ...   ...   ...   ...   \n",
              "1655          1  0  0  0  0  0  0  0  ...     0     0     0     0     0     0   \n",
              "1656          1  0  0  0  0  1  0  0  ...     0     0     0     0     0     0   \n",
              "1657          1  0  0  0  0  0  0  0  ...     0     0     0     0     0     0   \n",
              "1658          1  0  0  0  0  0  0  0  ...     0     0     0     0     0     1   \n",
              "1659          1  0  0  0  0  1  0  0  ...     0     0     0     0     0     0   \n",
              "\n",
              "      1020  1021  1022  1023  \n",
              "341      0     0     0     0  \n",
              "342      0     0     0     0  \n",
              "343      0     0     0     0  \n",
              "344      0     0     0     0  \n",
              "345      0     0     0     0  \n",
              "...    ...   ...   ...   ...  \n",
              "1655     0     0     0     0  \n",
              "1656     1     0     0     0  \n",
              "1657     0     0     0     0  \n",
              "1658     0     0     0     0  \n",
              "1659     1     0     0     0  \n",
              "\n",
              "[1319 rows x 1027 columns]"
            ],
            "text/html": [
              "\n",
              "  <div id=\"df-34661960-8c59-4988-814f-cc79bc15158d\">\n",
              "    <div class=\"colab-df-container\">\n",
              "      <div>\n",
              "<style scoped>\n",
              "    .dataframe tbody tr th:only-of-type {\n",
              "        vertical-align: middle;\n",
              "    }\n",
              "\n",
              "    .dataframe tbody tr th {\n",
              "        vertical-align: top;\n",
              "    }\n",
              "\n",
              "    .dataframe thead th {\n",
              "        text-align: right;\n",
              "    }\n",
              "</style>\n",
              "<table border=\"1\" class=\"dataframe\">\n",
              "  <thead>\n",
              "    <tr style=\"text-align: right;\">\n",
              "      <th></th>\n",
              "      <th>Drug</th>\n",
              "      <th>SMILES</th>\n",
              "      <th>permeable</th>\n",
              "      <th>0</th>\n",
              "      <th>1</th>\n",
              "      <th>2</th>\n",
              "      <th>3</th>\n",
              "      <th>4</th>\n",
              "      <th>5</th>\n",
              "      <th>6</th>\n",
              "      <th>...</th>\n",
              "      <th>1014</th>\n",
              "      <th>1015</th>\n",
              "      <th>1016</th>\n",
              "      <th>1017</th>\n",
              "      <th>1018</th>\n",
              "      <th>1019</th>\n",
              "      <th>1020</th>\n",
              "      <th>1021</th>\n",
              "      <th>1022</th>\n",
              "      <th>1023</th>\n",
              "    </tr>\n",
              "  </thead>\n",
              "  <tbody>\n",
              "    <tr>\n",
              "      <th>341</th>\n",
              "      <td>ADENOSYL-METHIONINE</td>\n",
              "      <td>C[S+](CC[C@H](N)C([O-])=O)C[C@H]1O[C@H]([C@H](...</td>\n",
              "      <td>1</td>\n",
              "      <td>0</td>\n",
              "      <td>1</td>\n",
              "      <td>0</td>\n",
              "      <td>0</td>\n",
              "      <td>0</td>\n",
              "      <td>0</td>\n",
              "      <td>0</td>\n",
              "      <td>...</td>\n",
              "      <td>0</td>\n",
              "      <td>0</td>\n",
              "      <td>0</td>\n",
              "      <td>0</td>\n",
              "      <td>0</td>\n",
              "      <td>1</td>\n",
              "      <td>0</td>\n",
              "      <td>0</td>\n",
              "      <td>0</td>\n",
              "      <td>0</td>\n",
              "    </tr>\n",
              "    <tr>\n",
              "      <th>342</th>\n",
              "      <td>ACEGLUTAMIDE</td>\n",
              "      <td>CC(=O)N[C@@H](CCC(N)=O)C(O)=O</td>\n",
              "      <td>1</td>\n",
              "      <td>0</td>\n",
              "      <td>1</td>\n",
              "      <td>0</td>\n",
              "      <td>0</td>\n",
              "      <td>0</td>\n",
              "      <td>0</td>\n",
              "      <td>0</td>\n",
              "      <td>...</td>\n",
              "      <td>0</td>\n",
              "      <td>0</td>\n",
              "      <td>0</td>\n",
              "      <td>1</td>\n",
              "      <td>0</td>\n",
              "      <td>0</td>\n",
              "      <td>0</td>\n",
              "      <td>0</td>\n",
              "      <td>0</td>\n",
              "      <td>0</td>\n",
              "    </tr>\n",
              "    <tr>\n",
              "      <th>343</th>\n",
              "      <td>ATROMEPINE</td>\n",
              "      <td>CN1C2CCC1CC(C2)OC(=O)C(C)(CO)c1ccccc1</td>\n",
              "      <td>1</td>\n",
              "      <td>0</td>\n",
              "      <td>1</td>\n",
              "      <td>0</td>\n",
              "      <td>0</td>\n",
              "      <td>0</td>\n",
              "      <td>0</td>\n",
              "      <td>0</td>\n",
              "      <td>...</td>\n",
              "      <td>0</td>\n",
              "      <td>0</td>\n",
              "      <td>0</td>\n",
              "      <td>0</td>\n",
              "      <td>0</td>\n",
              "      <td>1</td>\n",
              "      <td>0</td>\n",
              "      <td>0</td>\n",
              "      <td>0</td>\n",
              "      <td>0</td>\n",
              "    </tr>\n",
              "    <tr>\n",
              "      <th>344</th>\n",
              "      <td>ATROPINE</td>\n",
              "      <td>CN1[C@@H]2CC[C@H]1CC(C2)OC(=O)C(CO)c1ccccc1</td>\n",
              "      <td>1</td>\n",
              "      <td>0</td>\n",
              "      <td>1</td>\n",
              "      <td>0</td>\n",
              "      <td>0</td>\n",
              "      <td>0</td>\n",
              "      <td>0</td>\n",
              "      <td>0</td>\n",
              "      <td>...</td>\n",
              "      <td>0</td>\n",
              "      <td>0</td>\n",
              "      <td>0</td>\n",
              "      <td>0</td>\n",
              "      <td>0</td>\n",
              "      <td>1</td>\n",
              "      <td>0</td>\n",
              "      <td>0</td>\n",
              "      <td>0</td>\n",
              "      <td>0</td>\n",
              "    </tr>\n",
              "    <tr>\n",
              "      <th>345</th>\n",
              "      <td>BENZATROPINE</td>\n",
              "      <td>CN1[C@H]2CC[C@@H]1CC(C2)OC(c1ccccc1)c1ccccc1</td>\n",
              "      <td>1</td>\n",
              "      <td>0</td>\n",
              "      <td>1</td>\n",
              "      <td>0</td>\n",
              "      <td>0</td>\n",
              "      <td>0</td>\n",
              "      <td>0</td>\n",
              "      <td>0</td>\n",
              "      <td>...</td>\n",
              "      <td>0</td>\n",
              "      <td>0</td>\n",
              "      <td>0</td>\n",
              "      <td>0</td>\n",
              "      <td>0</td>\n",
              "      <td>1</td>\n",
              "      <td>0</td>\n",
              "      <td>0</td>\n",
              "      <td>0</td>\n",
              "      <td>0</td>\n",
              "    </tr>\n",
              "    <tr>\n",
              "      <th>...</th>\n",
              "      <td>...</td>\n",
              "      <td>...</td>\n",
              "      <td>...</td>\n",
              "      <td>...</td>\n",
              "      <td>...</td>\n",
              "      <td>...</td>\n",
              "      <td>...</td>\n",
              "      <td>...</td>\n",
              "      <td>...</td>\n",
              "      <td>...</td>\n",
              "      <td>...</td>\n",
              "      <td>...</td>\n",
              "      <td>...</td>\n",
              "      <td>...</td>\n",
              "      <td>...</td>\n",
              "      <td>...</td>\n",
              "      <td>...</td>\n",
              "      <td>...</td>\n",
              "      <td>...</td>\n",
              "      <td>...</td>\n",
              "      <td>...</td>\n",
              "    </tr>\n",
              "    <tr>\n",
              "      <th>1655</th>\n",
              "      <td>AMITRIPTYLINE</td>\n",
              "      <td>CN(C)CCC=C1c2ccccc2CCc2ccccc12</td>\n",
              "      <td>1</td>\n",
              "      <td>0</td>\n",
              "      <td>0</td>\n",
              "      <td>0</td>\n",
              "      <td>0</td>\n",
              "      <td>0</td>\n",
              "      <td>0</td>\n",
              "      <td>0</td>\n",
              "      <td>...</td>\n",
              "      <td>0</td>\n",
              "      <td>0</td>\n",
              "      <td>0</td>\n",
              "      <td>0</td>\n",
              "      <td>0</td>\n",
              "      <td>0</td>\n",
              "      <td>0</td>\n",
              "      <td>0</td>\n",
              "      <td>0</td>\n",
              "      <td>0</td>\n",
              "    </tr>\n",
              "    <tr>\n",
              "      <th>1656</th>\n",
              "      <td>CHLORPROMAZINE</td>\n",
              "      <td>CN(C)CCCN1c2ccccc2Sc2ccc(cc12)Cl</td>\n",
              "      <td>1</td>\n",
              "      <td>0</td>\n",
              "      <td>0</td>\n",
              "      <td>0</td>\n",
              "      <td>0</td>\n",
              "      <td>1</td>\n",
              "      <td>0</td>\n",
              "      <td>0</td>\n",
              "      <td>...</td>\n",
              "      <td>0</td>\n",
              "      <td>0</td>\n",
              "      <td>0</td>\n",
              "      <td>0</td>\n",
              "      <td>0</td>\n",
              "      <td>0</td>\n",
              "      <td>1</td>\n",
              "      <td>0</td>\n",
              "      <td>0</td>\n",
              "      <td>0</td>\n",
              "    </tr>\n",
              "    <tr>\n",
              "      <th>1657</th>\n",
              "      <td>DISULFIRAM</td>\n",
              "      <td>CCN(CC)C(=S)SSC(=S)N(CC)CC</td>\n",
              "      <td>1</td>\n",
              "      <td>0</td>\n",
              "      <td>0</td>\n",
              "      <td>0</td>\n",
              "      <td>0</td>\n",
              "      <td>0</td>\n",
              "      <td>0</td>\n",
              "      <td>0</td>\n",
              "      <td>...</td>\n",
              "      <td>0</td>\n",
              "      <td>0</td>\n",
              "      <td>0</td>\n",
              "      <td>0</td>\n",
              "      <td>0</td>\n",
              "      <td>0</td>\n",
              "      <td>0</td>\n",
              "      <td>0</td>\n",
              "      <td>0</td>\n",
              "      <td>0</td>\n",
              "    </tr>\n",
              "    <tr>\n",
              "      <th>1658</th>\n",
              "      <td>MORPHINE</td>\n",
              "      <td>CN1CC[C@@]23[C@H]4Oc5c(ccc(c52)C[C@@H]1[C@@H]3...</td>\n",
              "      <td>1</td>\n",
              "      <td>0</td>\n",
              "      <td>0</td>\n",
              "      <td>0</td>\n",
              "      <td>0</td>\n",
              "      <td>0</td>\n",
              "      <td>0</td>\n",
              "      <td>0</td>\n",
              "      <td>...</td>\n",
              "      <td>0</td>\n",
              "      <td>0</td>\n",
              "      <td>0</td>\n",
              "      <td>0</td>\n",
              "      <td>0</td>\n",
              "      <td>1</td>\n",
              "      <td>0</td>\n",
              "      <td>0</td>\n",
              "      <td>0</td>\n",
              "      <td>0</td>\n",
              "    </tr>\n",
              "    <tr>\n",
              "      <th>1659</th>\n",
              "      <td>TRIFLUOPERAZINE</td>\n",
              "      <td>CN1CCN(CCCN2c3ccccc3Sc3ccc(cc23)C(F)(F)F)CC1</td>\n",
              "      <td>1</td>\n",
              "      <td>0</td>\n",
              "      <td>0</td>\n",
              "      <td>0</td>\n",
              "      <td>0</td>\n",
              "      <td>1</td>\n",
              "      <td>0</td>\n",
              "      <td>0</td>\n",
              "      <td>...</td>\n",
              "      <td>0</td>\n",
              "      <td>0</td>\n",
              "      <td>0</td>\n",
              "      <td>0</td>\n",
              "      <td>0</td>\n",
              "      <td>0</td>\n",
              "      <td>1</td>\n",
              "      <td>0</td>\n",
              "      <td>0</td>\n",
              "      <td>0</td>\n",
              "    </tr>\n",
              "  </tbody>\n",
              "</table>\n",
              "<p>1319 rows × 1027 columns</p>\n",
              "</div>\n",
              "      <button class=\"colab-df-convert\" onclick=\"convertToInteractive('df-34661960-8c59-4988-814f-cc79bc15158d')\"\n",
              "              title=\"Convert this dataframe to an interactive table.\"\n",
              "              style=\"display:none;\">\n",
              "        \n",
              "  <svg xmlns=\"http://www.w3.org/2000/svg\" height=\"24px\"viewBox=\"0 0 24 24\"\n",
              "       width=\"24px\">\n",
              "    <path d=\"M0 0h24v24H0V0z\" fill=\"none\"/>\n",
              "    <path d=\"M18.56 5.44l.94 2.06.94-2.06 2.06-.94-2.06-.94-.94-2.06-.94 2.06-2.06.94zm-11 1L8.5 8.5l.94-2.06 2.06-.94-2.06-.94L8.5 2.5l-.94 2.06-2.06.94zm10 10l.94 2.06.94-2.06 2.06-.94-2.06-.94-.94-2.06-.94 2.06-2.06.94z\"/><path d=\"M17.41 7.96l-1.37-1.37c-.4-.4-.92-.59-1.43-.59-.52 0-1.04.2-1.43.59L10.3 9.45l-7.72 7.72c-.78.78-.78 2.05 0 2.83L4 21.41c.39.39.9.59 1.41.59.51 0 1.02-.2 1.41-.59l7.78-7.78 2.81-2.81c.8-.78.8-2.07 0-2.86zM5.41 20L4 18.59l7.72-7.72 1.47 1.35L5.41 20z\"/>\n",
              "  </svg>\n",
              "      </button>\n",
              "      \n",
              "  <style>\n",
              "    .colab-df-container {\n",
              "      display:flex;\n",
              "      flex-wrap:wrap;\n",
              "      gap: 12px;\n",
              "    }\n",
              "\n",
              "    .colab-df-convert {\n",
              "      background-color: #E8F0FE;\n",
              "      border: none;\n",
              "      border-radius: 50%;\n",
              "      cursor: pointer;\n",
              "      display: none;\n",
              "      fill: #1967D2;\n",
              "      height: 32px;\n",
              "      padding: 0 0 0 0;\n",
              "      width: 32px;\n",
              "    }\n",
              "\n",
              "    .colab-df-convert:hover {\n",
              "      background-color: #E2EBFA;\n",
              "      box-shadow: 0px 1px 2px rgba(60, 64, 67, 0.3), 0px 1px 3px 1px rgba(60, 64, 67, 0.15);\n",
              "      fill: #174EA6;\n",
              "    }\n",
              "\n",
              "    [theme=dark] .colab-df-convert {\n",
              "      background-color: #3B4455;\n",
              "      fill: #D2E3FC;\n",
              "    }\n",
              "\n",
              "    [theme=dark] .colab-df-convert:hover {\n",
              "      background-color: #434B5C;\n",
              "      box-shadow: 0px 1px 3px 1px rgba(0, 0, 0, 0.15);\n",
              "      filter: drop-shadow(0px 1px 2px rgba(0, 0, 0, 0.3));\n",
              "      fill: #FFFFFF;\n",
              "    }\n",
              "  </style>\n",
              "\n",
              "      <script>\n",
              "        const buttonEl =\n",
              "          document.querySelector('#df-34661960-8c59-4988-814f-cc79bc15158d button.colab-df-convert');\n",
              "        buttonEl.style.display =\n",
              "          google.colab.kernel.accessAllowed ? 'block' : 'none';\n",
              "\n",
              "        async function convertToInteractive(key) {\n",
              "          const element = document.querySelector('#df-34661960-8c59-4988-814f-cc79bc15158d');\n",
              "          const dataTable =\n",
              "            await google.colab.kernel.invokeFunction('convertToInteractive',\n",
              "                                                     [key], {});\n",
              "          if (!dataTable) return;\n",
              "\n",
              "          const docLinkHtml = 'Like what you see? Visit the ' +\n",
              "            '<a target=\"_blank\" href=https://colab.research.google.com/notebooks/data_table.ipynb>data table notebook</a>'\n",
              "            + ' to learn more about interactive tables.';\n",
              "          element.innerHTML = '';\n",
              "          dataTable['output_type'] = 'display_data';\n",
              "          await google.colab.output.renderOutput(dataTable, element);\n",
              "          const docLink = document.createElement('div');\n",
              "          docLink.innerHTML = docLinkHtml;\n",
              "          element.appendChild(docLink);\n",
              "        }\n",
              "      </script>\n",
              "    </div>\n",
              "  </div>\n",
              "  "
            ]
          },
          "metadata": {},
          "execution_count": 72
        }
      ],
      "source": [
        "bbb_df[bbb_df['permeable']==1]"
      ]
    },
    {
      "cell_type": "code",
      "execution_count": 73,
      "id": "f12bb967",
      "metadata": {
        "colab": {
          "base_uri": "https://localhost:8080/",
          "height": 143
        },
        "id": "f12bb967",
        "outputId": "477da981-5e2b-45dc-87a5-d9959c3421d9"
      },
      "outputs": [
        {
          "output_type": "execute_result",
          "data": {
            "text/plain": [
              "Empty DataFrame\n",
              "Columns: [Drug, SMILES, permeable, 0, 1, 2, 3, 4, 5, 6, 7, 8, 9, 10, 11, 12, 13, 14, 15, 16, 17, 18, 19, 20, 21, 22, 23, 24, 25, 26, 27, 28, 29, 30, 31, 32, 33, 34, 35, 36, 37, 38, 39, 40, 41, 42, 43, 44, 45, 46, 47, 48, 49, 50, 51, 52, 53, 54, 55, 56, 57, 58, 59, 60, 61, 62, 63, 64, 65, 66, 67, 68, 69, 70, 71, 72, 73, 74, 75, 76, 77, 78, 79, 80, 81, 82, 83, 84, 85, 86, 87, 88, 89, 90, 91, 92, 93, 94, 95, 96, ...]\n",
              "Index: []\n",
              "\n",
              "[0 rows x 1027 columns]"
            ],
            "text/html": [
              "\n",
              "  <div id=\"df-90de373f-482e-4bec-aa7e-a70de5aeeaaf\">\n",
              "    <div class=\"colab-df-container\">\n",
              "      <div>\n",
              "<style scoped>\n",
              "    .dataframe tbody tr th:only-of-type {\n",
              "        vertical-align: middle;\n",
              "    }\n",
              "\n",
              "    .dataframe tbody tr th {\n",
              "        vertical-align: top;\n",
              "    }\n",
              "\n",
              "    .dataframe thead th {\n",
              "        text-align: right;\n",
              "    }\n",
              "</style>\n",
              "<table border=\"1\" class=\"dataframe\">\n",
              "  <thead>\n",
              "    <tr style=\"text-align: right;\">\n",
              "      <th></th>\n",
              "      <th>Drug</th>\n",
              "      <th>SMILES</th>\n",
              "      <th>permeable</th>\n",
              "      <th>0</th>\n",
              "      <th>1</th>\n",
              "      <th>2</th>\n",
              "      <th>3</th>\n",
              "      <th>4</th>\n",
              "      <th>5</th>\n",
              "      <th>6</th>\n",
              "      <th>...</th>\n",
              "      <th>1014</th>\n",
              "      <th>1015</th>\n",
              "      <th>1016</th>\n",
              "      <th>1017</th>\n",
              "      <th>1018</th>\n",
              "      <th>1019</th>\n",
              "      <th>1020</th>\n",
              "      <th>1021</th>\n",
              "      <th>1022</th>\n",
              "      <th>1023</th>\n",
              "    </tr>\n",
              "  </thead>\n",
              "  <tbody>\n",
              "  </tbody>\n",
              "</table>\n",
              "<p>0 rows × 1027 columns</p>\n",
              "</div>\n",
              "      <button class=\"colab-df-convert\" onclick=\"convertToInteractive('df-90de373f-482e-4bec-aa7e-a70de5aeeaaf')\"\n",
              "              title=\"Convert this dataframe to an interactive table.\"\n",
              "              style=\"display:none;\">\n",
              "        \n",
              "  <svg xmlns=\"http://www.w3.org/2000/svg\" height=\"24px\"viewBox=\"0 0 24 24\"\n",
              "       width=\"24px\">\n",
              "    <path d=\"M0 0h24v24H0V0z\" fill=\"none\"/>\n",
              "    <path d=\"M18.56 5.44l.94 2.06.94-2.06 2.06-.94-2.06-.94-.94-2.06-.94 2.06-2.06.94zm-11 1L8.5 8.5l.94-2.06 2.06-.94-2.06-.94L8.5 2.5l-.94 2.06-2.06.94zm10 10l.94 2.06.94-2.06 2.06-.94-2.06-.94-.94-2.06-.94 2.06-2.06.94z\"/><path d=\"M17.41 7.96l-1.37-1.37c-.4-.4-.92-.59-1.43-.59-.52 0-1.04.2-1.43.59L10.3 9.45l-7.72 7.72c-.78.78-.78 2.05 0 2.83L4 21.41c.39.39.9.59 1.41.59.51 0 1.02-.2 1.41-.59l7.78-7.78 2.81-2.81c.8-.78.8-2.07 0-2.86zM5.41 20L4 18.59l7.72-7.72 1.47 1.35L5.41 20z\"/>\n",
              "  </svg>\n",
              "      </button>\n",
              "      \n",
              "  <style>\n",
              "    .colab-df-container {\n",
              "      display:flex;\n",
              "      flex-wrap:wrap;\n",
              "      gap: 12px;\n",
              "    }\n",
              "\n",
              "    .colab-df-convert {\n",
              "      background-color: #E8F0FE;\n",
              "      border: none;\n",
              "      border-radius: 50%;\n",
              "      cursor: pointer;\n",
              "      display: none;\n",
              "      fill: #1967D2;\n",
              "      height: 32px;\n",
              "      padding: 0 0 0 0;\n",
              "      width: 32px;\n",
              "    }\n",
              "\n",
              "    .colab-df-convert:hover {\n",
              "      background-color: #E2EBFA;\n",
              "      box-shadow: 0px 1px 2px rgba(60, 64, 67, 0.3), 0px 1px 3px 1px rgba(60, 64, 67, 0.15);\n",
              "      fill: #174EA6;\n",
              "    }\n",
              "\n",
              "    [theme=dark] .colab-df-convert {\n",
              "      background-color: #3B4455;\n",
              "      fill: #D2E3FC;\n",
              "    }\n",
              "\n",
              "    [theme=dark] .colab-df-convert:hover {\n",
              "      background-color: #434B5C;\n",
              "      box-shadow: 0px 1px 3px 1px rgba(0, 0, 0, 0.15);\n",
              "      filter: drop-shadow(0px 1px 2px rgba(0, 0, 0, 0.3));\n",
              "      fill: #FFFFFF;\n",
              "    }\n",
              "  </style>\n",
              "\n",
              "      <script>\n",
              "        const buttonEl =\n",
              "          document.querySelector('#df-90de373f-482e-4bec-aa7e-a70de5aeeaaf button.colab-df-convert');\n",
              "        buttonEl.style.display =\n",
              "          google.colab.kernel.accessAllowed ? 'block' : 'none';\n",
              "\n",
              "        async function convertToInteractive(key) {\n",
              "          const element = document.querySelector('#df-90de373f-482e-4bec-aa7e-a70de5aeeaaf');\n",
              "          const dataTable =\n",
              "            await google.colab.kernel.invokeFunction('convertToInteractive',\n",
              "                                                     [key], {});\n",
              "          if (!dataTable) return;\n",
              "\n",
              "          const docLinkHtml = 'Like what you see? Visit the ' +\n",
              "            '<a target=\"_blank\" href=https://colab.research.google.com/notebooks/data_table.ipynb>data table notebook</a>'\n",
              "            + ' to learn more about interactive tables.';\n",
              "          element.innerHTML = '';\n",
              "          dataTable['output_type'] = 'display_data';\n",
              "          await google.colab.output.renderOutput(dataTable, element);\n",
              "          const docLink = document.createElement('div');\n",
              "          docLink.innerHTML = docLinkHtml;\n",
              "          element.appendChild(docLink);\n",
              "        }\n",
              "      </script>\n",
              "    </div>\n",
              "  </div>\n",
              "  "
            ]
          },
          "metadata": {},
          "execution_count": 73
        }
      ],
      "source": [
        "bbb_df.head(0)"
      ]
    },
    {
      "cell_type": "markdown",
      "id": "c1e532eb",
      "metadata": {
        "id": "c1e532eb"
      },
      "source": [
        "## Random Split"
      ]
    },
    {
      "cell_type": "markdown",
      "id": "ea09ee40",
      "metadata": {
        "id": "ea09ee40"
      },
      "source": [
        "#### Data preprocessing"
      ]
    },
    {
      "cell_type": "code",
      "execution_count": 74,
      "id": "e3e119a9",
      "metadata": {
        "id": "e3e119a9"
      },
      "outputs": [],
      "source": [
        "X = bbb_df.iloc[:,3:].copy()\n",
        "y = bbb_df.iloc[:,2].copy()\n",
        "X_train, X_test, y_train, y_test = train_test_split(X, y, test_size=0.3, random_state=0)"
      ]
    },
    {
      "cell_type": "markdown",
      "id": "8cebcc8c",
      "metadata": {
        "id": "8cebcc8c"
      },
      "source": [
        "#### Random Forest"
      ]
    },
    {
      "cell_type": "code",
      "execution_count": 75,
      "id": "c97b6857",
      "metadata": {
        "id": "c97b6857"
      },
      "outputs": [],
      "source": [
        "# Create a Random Forest Classifier\n",
        "rf = RandomForestClassifier(criterion='gini', max_depth=5, n_estimators=20, random_state=0)\n",
        "\n",
        "# Train the model using the training sets\n",
        "rf.fit(X_train,y_train)\n",
        "y_pred = rf.predict(X_test)"
      ]
    },
    {
      "cell_type": "markdown",
      "id": "8f7bbeba",
      "metadata": {
        "id": "8f7bbeba"
      },
      "source": [
        "#### Hyperparameter Optimization"
      ]
    },
    {
      "cell_type": "code",
      "execution_count": 76,
      "id": "ea7a0d62",
      "metadata": {
        "colab": {
          "base_uri": "https://localhost:8080/",
          "height": 363
        },
        "id": "ea7a0d62",
        "outputId": "9e2bb0da-24d5-4f20-83c2-5162d0f4db82"
      },
      "outputs": [
        {
          "output_type": "execute_result",
          "data": {
            "text/plain": [
              "   criterion  max_depth  n_estimators  accuracy\n",
              "12      gini         20            50  0.955823\n",
              "14      gini         20           150  0.955823\n",
              "30   entropy         20           150  0.953815\n",
              "28   entropy         20            50  0.953815\n",
              "15      gini         20           200  0.953815\n",
              "13      gini         20           100  0.953815\n",
              "24   entropy         15            50  0.951807\n",
              "31   entropy         20           200  0.951807\n",
              "29   entropy         20           100  0.951807\n",
              "8       gini         15            50  0.949799"
            ],
            "text/html": [
              "\n",
              "  <div id=\"df-a6efda9a-3cb5-4531-952f-95162ee6d238\">\n",
              "    <div class=\"colab-df-container\">\n",
              "      <div>\n",
              "<style scoped>\n",
              "    .dataframe tbody tr th:only-of-type {\n",
              "        vertical-align: middle;\n",
              "    }\n",
              "\n",
              "    .dataframe tbody tr th {\n",
              "        vertical-align: top;\n",
              "    }\n",
              "\n",
              "    .dataframe thead th {\n",
              "        text-align: right;\n",
              "    }\n",
              "</style>\n",
              "<table border=\"1\" class=\"dataframe\">\n",
              "  <thead>\n",
              "    <tr style=\"text-align: right;\">\n",
              "      <th></th>\n",
              "      <th>criterion</th>\n",
              "      <th>max_depth</th>\n",
              "      <th>n_estimators</th>\n",
              "      <th>accuracy</th>\n",
              "    </tr>\n",
              "  </thead>\n",
              "  <tbody>\n",
              "    <tr>\n",
              "      <th>12</th>\n",
              "      <td>gini</td>\n",
              "      <td>20</td>\n",
              "      <td>50</td>\n",
              "      <td>0.955823</td>\n",
              "    </tr>\n",
              "    <tr>\n",
              "      <th>14</th>\n",
              "      <td>gini</td>\n",
              "      <td>20</td>\n",
              "      <td>150</td>\n",
              "      <td>0.955823</td>\n",
              "    </tr>\n",
              "    <tr>\n",
              "      <th>30</th>\n",
              "      <td>entropy</td>\n",
              "      <td>20</td>\n",
              "      <td>150</td>\n",
              "      <td>0.953815</td>\n",
              "    </tr>\n",
              "    <tr>\n",
              "      <th>28</th>\n",
              "      <td>entropy</td>\n",
              "      <td>20</td>\n",
              "      <td>50</td>\n",
              "      <td>0.953815</td>\n",
              "    </tr>\n",
              "    <tr>\n",
              "      <th>15</th>\n",
              "      <td>gini</td>\n",
              "      <td>20</td>\n",
              "      <td>200</td>\n",
              "      <td>0.953815</td>\n",
              "    </tr>\n",
              "    <tr>\n",
              "      <th>13</th>\n",
              "      <td>gini</td>\n",
              "      <td>20</td>\n",
              "      <td>100</td>\n",
              "      <td>0.953815</td>\n",
              "    </tr>\n",
              "    <tr>\n",
              "      <th>24</th>\n",
              "      <td>entropy</td>\n",
              "      <td>15</td>\n",
              "      <td>50</td>\n",
              "      <td>0.951807</td>\n",
              "    </tr>\n",
              "    <tr>\n",
              "      <th>31</th>\n",
              "      <td>entropy</td>\n",
              "      <td>20</td>\n",
              "      <td>200</td>\n",
              "      <td>0.951807</td>\n",
              "    </tr>\n",
              "    <tr>\n",
              "      <th>29</th>\n",
              "      <td>entropy</td>\n",
              "      <td>20</td>\n",
              "      <td>100</td>\n",
              "      <td>0.951807</td>\n",
              "    </tr>\n",
              "    <tr>\n",
              "      <th>8</th>\n",
              "      <td>gini</td>\n",
              "      <td>15</td>\n",
              "      <td>50</td>\n",
              "      <td>0.949799</td>\n",
              "    </tr>\n",
              "  </tbody>\n",
              "</table>\n",
              "</div>\n",
              "      <button class=\"colab-df-convert\" onclick=\"convertToInteractive('df-a6efda9a-3cb5-4531-952f-95162ee6d238')\"\n",
              "              title=\"Convert this dataframe to an interactive table.\"\n",
              "              style=\"display:none;\">\n",
              "        \n",
              "  <svg xmlns=\"http://www.w3.org/2000/svg\" height=\"24px\"viewBox=\"0 0 24 24\"\n",
              "       width=\"24px\">\n",
              "    <path d=\"M0 0h24v24H0V0z\" fill=\"none\"/>\n",
              "    <path d=\"M18.56 5.44l.94 2.06.94-2.06 2.06-.94-2.06-.94-.94-2.06-.94 2.06-2.06.94zm-11 1L8.5 8.5l.94-2.06 2.06-.94-2.06-.94L8.5 2.5l-.94 2.06-2.06.94zm10 10l.94 2.06.94-2.06 2.06-.94-2.06-.94-.94-2.06-.94 2.06-2.06.94z\"/><path d=\"M17.41 7.96l-1.37-1.37c-.4-.4-.92-.59-1.43-.59-.52 0-1.04.2-1.43.59L10.3 9.45l-7.72 7.72c-.78.78-.78 2.05 0 2.83L4 21.41c.39.39.9.59 1.41.59.51 0 1.02-.2 1.41-.59l7.78-7.78 2.81-2.81c.8-.78.8-2.07 0-2.86zM5.41 20L4 18.59l7.72-7.72 1.47 1.35L5.41 20z\"/>\n",
              "  </svg>\n",
              "      </button>\n",
              "      \n",
              "  <style>\n",
              "    .colab-df-container {\n",
              "      display:flex;\n",
              "      flex-wrap:wrap;\n",
              "      gap: 12px;\n",
              "    }\n",
              "\n",
              "    .colab-df-convert {\n",
              "      background-color: #E8F0FE;\n",
              "      border: none;\n",
              "      border-radius: 50%;\n",
              "      cursor: pointer;\n",
              "      display: none;\n",
              "      fill: #1967D2;\n",
              "      height: 32px;\n",
              "      padding: 0 0 0 0;\n",
              "      width: 32px;\n",
              "    }\n",
              "\n",
              "    .colab-df-convert:hover {\n",
              "      background-color: #E2EBFA;\n",
              "      box-shadow: 0px 1px 2px rgba(60, 64, 67, 0.3), 0px 1px 3px 1px rgba(60, 64, 67, 0.15);\n",
              "      fill: #174EA6;\n",
              "    }\n",
              "\n",
              "    [theme=dark] .colab-df-convert {\n",
              "      background-color: #3B4455;\n",
              "      fill: #D2E3FC;\n",
              "    }\n",
              "\n",
              "    [theme=dark] .colab-df-convert:hover {\n",
              "      background-color: #434B5C;\n",
              "      box-shadow: 0px 1px 3px 1px rgba(0, 0, 0, 0.15);\n",
              "      filter: drop-shadow(0px 1px 2px rgba(0, 0, 0, 0.3));\n",
              "      fill: #FFFFFF;\n",
              "    }\n",
              "  </style>\n",
              "\n",
              "      <script>\n",
              "        const buttonEl =\n",
              "          document.querySelector('#df-a6efda9a-3cb5-4531-952f-95162ee6d238 button.colab-df-convert');\n",
              "        buttonEl.style.display =\n",
              "          google.colab.kernel.accessAllowed ? 'block' : 'none';\n",
              "\n",
              "        async function convertToInteractive(key) {\n",
              "          const element = document.querySelector('#df-a6efda9a-3cb5-4531-952f-95162ee6d238');\n",
              "          const dataTable =\n",
              "            await google.colab.kernel.invokeFunction('convertToInteractive',\n",
              "                                                     [key], {});\n",
              "          if (!dataTable) return;\n",
              "\n",
              "          const docLinkHtml = 'Like what you see? Visit the ' +\n",
              "            '<a target=\"_blank\" href=https://colab.research.google.com/notebooks/data_table.ipynb>data table notebook</a>'\n",
              "            + ' to learn more about interactive tables.';\n",
              "          element.innerHTML = '';\n",
              "          dataTable['output_type'] = 'display_data';\n",
              "          await google.colab.output.renderOutput(dataTable, element);\n",
              "          const docLink = document.createElement('div');\n",
              "          docLink.innerHTML = docLinkHtml;\n",
              "          element.appendChild(docLink);\n",
              "        }\n",
              "      </script>\n",
              "    </div>\n",
              "  </div>\n",
              "  "
            ]
          },
          "metadata": {},
          "execution_count": 76
        }
      ],
      "source": [
        "param_grid = ParameterGrid({'n_estimators': np.arange(50, 201, 50),\n",
        "         'criterion': ['gini', 'entropy'],\n",
        "         'max_depth': np.arange(5, 21, 5)\n",
        "         })\n",
        "accuracy = []\n",
        "for params in param_grid: \n",
        "    rf = RandomForestClassifier(random_state=0, **params).fit(X_train, y_train)\n",
        "    # Predict the response for test dataset\n",
        "    y_pred = rf.predict(X_test)\n",
        "\n",
        "    # Calculate how often the classifier is correct\n",
        "    accuracy.append(metrics.accuracy_score(y_test, y_pred))\n",
        "\n",
        "acc_df = pd.DataFrame(param_grid)\n",
        "acc_df['accuracy'] = accuracy\n",
        "acc_df.sort_values(by='accuracy', ascending=False, inplace=True)\n",
        "acc_df.head(10)"
      ]
    },
    {
      "cell_type": "markdown",
      "id": "ac0ac2f4",
      "metadata": {
        "id": "ac0ac2f4"
      },
      "source": [
        "#### Optimized Random Forest"
      ]
    },
    {
      "cell_type": "code",
      "execution_count": 77,
      "id": "007108bf",
      "metadata": {
        "id": "007108bf"
      },
      "outputs": [],
      "source": [
        "rf_best = RandomForestClassifier(random_state=0, n_estimators = 100, criterion='gini', max_depth=20)\n",
        "rf_best.fit(X_train,y_train)\n",
        "y_pred = rf_best.predict(X_test)"
      ]
    },
    {
      "cell_type": "markdown",
      "id": "966295f5",
      "metadata": {
        "id": "966295f5"
      },
      "source": [
        "#### Feature Importances "
      ]
    },
    {
      "cell_type": "code",
      "execution_count": 78,
      "id": "e904bdb2",
      "metadata": {
        "id": "e904bdb2"
      },
      "outputs": [],
      "source": [
        "# You don't have to code anything here.\n",
        "\n",
        "# get importance\n",
        "dt_importance = rf_best.feature_importances_\n",
        "\n",
        "# summarize and print out the feature importance\n",
        "non_zero_index_list = [i for i, v in enumerate(dt_importance) if v != 0]\n",
        "\n",
        "# remove all zero value entries\n",
        "non_zero_feature_names = [bbb_df.iloc[:,3:].columns[i] for i in non_zero_index_list]\n",
        "non_zero_importance = [dt_importance[i] for i in non_zero_index_list]\n",
        "non_zero_feature_names_str = [str(x) for x in non_zero_feature_names]\n",
        "feature_importance = pd.DataFrame(list(zip(non_zero_feature_names_str, non_zero_importance)), columns =['Feature','Importance'])\n",
        "feature_importance.sort_values(by='Importance', ascending=True, inplace=True)"
      ]
    },
    {
      "cell_type": "code",
      "execution_count": 79,
      "id": "d6b4ac85",
      "metadata": {
        "colab": {
          "base_uri": "https://localhost:8080/",
          "height": 639
        },
        "id": "d6b4ac85",
        "outputId": "21a3aeaa-52a2-480c-81ba-20a858311a4d"
      },
      "outputs": [
        {
          "output_type": "execute_result",
          "data": {
            "text/plain": [
              "Text(0.5, 1.0, 'Top 10 Random Forest Feature Importances')"
            ]
          },
          "metadata": {},
          "execution_count": 79
        },
        {
          "output_type": "display_data",
          "data": {
            "text/plain": [
              "<Figure size 360x720 with 1 Axes>"
            ],
            "image/png": "[encoded data removed]"
          },
          "metadata": {
            "needs_background": "light"
          }
        }
      ],
      "source": [
        "fig,ax = plt.subplots(figsize=(5,10))\n",
        "plt.xlabel('Gini Importance')\n",
        "plt.ylabel('Features (with non-zero gini importance)')\n",
        "plt.barh(feature_importance['Feature'][958:], feature_importance['Importance'][958:])\n",
        "plt.title('Top 10 Random Forest Feature Importances')"
      ]
    },
    {
      "cell_type": "markdown",
      "id": "d7fec411",
      "metadata": {
        "id": "d7fec411"
      },
      "source": [
        "#### Visualize the proximity of features using the apply method of random forest."
      ]
    },
    {
      "cell_type": "code",
      "execution_count": 80,
      "id": "7e405120",
      "metadata": {
        "colab": {
          "base_uri": "https://localhost:8080/"
        },
        "id": "7e405120",
        "outputId": "7b13237c-1947-4897-9930-97053fa0e41b"
      },
      "outputs": [
        {
          "output_type": "execute_result",
          "data": {
            "text/plain": [
              "array([[0.  , 0.93, 0.91, ..., 0.93, 0.93, 0.93],\n",
              "       [0.93, 0.  , 0.41, ..., 0.65, 0.43, 0.49],\n",
              "       [0.91, 0.41, 0.  , ..., 0.61, 0.42, 0.44],\n",
              "       ...,\n",
              "       [0.93, 0.65, 0.61, ..., 0.  , 0.65, 0.7 ],\n",
              "       [0.93, 0.43, 0.42, ..., 0.65, 0.  , 0.43],\n",
              "       [0.93, 0.49, 0.44, ..., 0.7 , 0.43, 0.  ]])"
            ]
          },
          "metadata": {},
          "execution_count": 80
        }
      ],
      "source": [
        "temp_trees = rf_best.apply(X_train)\n",
        "temp_trees\n",
        "\n",
        "prox = np.array([[1-.0-scipy.spatial.distance.hamming(i,ii) for i in temp_trees] for ii in temp_trees])\n",
        "1-prox"
      ]
    },
    {
      "cell_type": "code",
      "execution_count": 81,
      "id": "c250c16e",
      "metadata": {
        "colab": {
          "base_uri": "https://localhost:8080/"
        },
        "id": "c250c16e",
        "outputId": "9160011a-f388-4c37-def7-889dd9695d34"
      },
      "outputs": [
        {
          "output_type": "stream",
          "name": "stderr",
          "text": [
            "/usr/local/lib/python3.8/dist-packages/sklearn/manifold/_t_sne.py:780: FutureWarning: The default initialization in TSNE will change from 'random' to 'pca' in 1.2.\n",
            "  warnings.warn(\n",
            "/usr/local/lib/python3.8/dist-packages/sklearn/manifold/_t_sne.py:790: FutureWarning: The default learning rate in TSNE will change from 200.0 to 'auto' in 1.2.\n",
            "  warnings.warn(\n"
          ]
        }
      ],
      "source": [
        "X_embedded = TSNE(n_components=2, random_state=0, perplexity = 30).fit_transform(1-prox)"
      ]
    },
    {
      "cell_type": "code",
      "execution_count": 82,
      "id": "25d87bbf",
      "metadata": {
        "colab": {
          "base_uri": "https://localhost:8080/",
          "height": 639
        },
        "id": "25d87bbf",
        "outputId": "a960c5a2-ffcc-4747-99b3-bd8b4fab5b16"
      },
      "outputs": [
        {
          "output_type": "execute_result",
          "data": {
            "text/plain": [
              "<matplotlib.colorbar.Colorbar at 0x7fbd675918e0>"
            ]
          },
          "metadata": {},
          "execution_count": 82
        },
        {
          "output_type": "display_data",
          "data": {
            "text/plain": [
              "<Figure size 720x720 with 2 Axes>"
            ],
            "image/png": "[encoded data removed]"
          },
          "metadata": {
            "needs_background": "light"
          }
        }
      ],
      "source": [
        "fig = plt.figure(figsize=(10, 10))\n",
        "plt.scatter(X_embedded[:,0],X_embedded[:,1],c=y_train)\n",
        "\n",
        "plt.xlabel('TSNE 1')\n",
        "plt.ylabel('TSNE 2')\n",
        "plt.title('Random Forest: Colors represent Train class')\n",
        "plt.colorbar()"
      ]
    },
    {
      "cell_type": "markdown",
      "id": "0ed48777",
      "metadata": {
        "id": "0ed48777"
      },
      "source": [
        "#### Evaluation metrics"
      ]
    },
    {
      "cell_type": "code",
      "execution_count": 83,
      "id": "2b5cc445",
      "metadata": {
        "id": "2b5cc445"
      },
      "outputs": [],
      "source": [
        "def plot_split(split, y_pred, y_test, t_components):\n",
        "    \n",
        "    fig = plt.figure(figsize=(15, 5))\n",
        "    fig.suptitle('{} Split'.format(split))\n",
        "    plt.subplot(1, 2, 1)\n",
        "    plt.scatter(t_components[:,0], t_components[:,1], c=y_pred, s=10)\n",
        "    plt.xlabel('t-SNE_1')\n",
        "    plt.ylabel('t-SNE_2')\n",
        "    plt.title('Prediction Visualization')\n",
        "    plt.colorbar()\n",
        "\n",
        "    plt.subplot(1, 2, 2)\n",
        "    plt.scatter(t_components[:,0], t_components[:,1], c=y_test,s=10)\n",
        "    plt.xlabel('t-SNE_1')\n",
        "    plt.ylabel('t-SNE_2')\n",
        "    plt.title('Permeability Visualization')\n",
        "    plt.colorbar()\n",
        "    \n",
        "    # Calculate how often the classifier is correct\n",
        "    print(\"{} Split Metrics:\".format(split))\n",
        "    print(\"Accuracy:\",metrics.accuracy_score(y_test, y_pred))\n",
        "    print(\"Balanced Accuracy:\", metrics.balanced_accuracy_score(y_test, y_pred))\n",
        "    print(\"ROC AUC:\", metrics.roc_auc_score(y_test, y_pred))\n",
        "    print(\"Precision Score:\", metrics.precision_score(y_test, y_pred))\n",
        "    print(\"Recall Score:\", metrics.recall_score(y_test, y_pred))\n",
        "    print(\"\")"
      ]
    },
    {
      "cell_type": "code",
      "execution_count": 84,
      "id": "b37ca413",
      "metadata": {
        "colab": {
          "base_uri": "https://localhost:8080/"
        },
        "id": "b37ca413",
        "outputId": "6f5520ef-4537-49ed-8901-3ab8b8c8103b"
      },
      "outputs": [
        {
          "output_type": "stream",
          "name": "stderr",
          "text": [
            "/usr/local/lib/python3.8/dist-packages/sklearn/manifold/_t_sne.py:780: FutureWarning: The default initialization in TSNE will change from 'random' to 'pca' in 1.2.\n",
            "  warnings.warn(\n",
            "/usr/local/lib/python3.8/dist-packages/sklearn/manifold/_t_sne.py:790: FutureWarning: The default learning rate in TSNE will change from 200.0 to 'auto' in 1.2.\n",
            "  warnings.warn(\n"
          ]
        }
      ],
      "source": [
        "dim = 100\n",
        "pca_rand = PCA(n_components=dim)\n",
        "components_rand = pca_rand.fit_transform(X_test)\n",
        "tsne_rand = TSNE(n_components=2)\n",
        "t_components_rand = tsne_rand.fit_transform(components_rand)"
      ]
    },
    {
      "cell_type": "code",
      "execution_count": 85,
      "id": "dc3aedc2",
      "metadata": {
        "colab": {
          "base_uri": "https://localhost:8080/",
          "height": 483
        },
        "id": "dc3aedc2",
        "outputId": "f29c5e06-fa3d-49d4-c5e9-0070345d8af5"
      },
      "outputs": [
        {
          "output_type": "stream",
          "name": "stdout",
          "text": [
            "Random Split Metrics:\n",
            "Accuracy: 0.9538152610441767\n",
            "Balanced Accuracy: 0.8826530612244898\n",
            "ROC AUC: 0.8826530612244897\n",
            "Precision Score: 0.9456264775413712\n",
            "Recall Score: 1.0\n",
            "\n"
          ]
        },
        {
          "output_type": "display_data",
          "data": {
            "text/plain": [
              "<Figure size 1080x360 with 4 Axes>"
            ],
            "image/png": "[encoded data removed]"
          },
          "metadata": {
            "needs_background": "light"
          }
        }
      ],
      "source": [
        "plot_split('Random', y_pred, y_test, t_components_rand)\n"
      ]
    },
    {
      "cell_type": "markdown",
      "id": "ff1a8410",
      "metadata": {
        "id": "ff1a8410"
      },
      "source": [
        "### Scaffold Split "
      ]
    },
    {
      "cell_type": "markdown",
      "id": "ab019db0",
      "metadata": {
        "id": "ab019db0"
      },
      "source": [
        "#### Data preprocessing"
      ]
    },
    {
      "cell_type": "code",
      "execution_count": 86,
      "id": "2ac08dc4",
      "metadata": {
        "id": "2ac08dc4"
      },
      "outputs": [],
      "source": [
        "Xs = bbb_df.iloc[:,3:].copy()\n",
        "Ys = bbb_df.iloc[:,2].copy()\n",
        "dataset = dc.data.DiskDataset.from_numpy(X=Xs,y=Ys,ids=bbb_df['SMILES'].tolist())\n",
        "scaffoldsplitter = dc.splits.ScaffoldSplitter()\n",
        "train_scaff, test_scaff = scaffoldsplitter.train_test_split(dataset)"
      ]
    },
    {
      "cell_type": "code",
      "execution_count": 87,
      "id": "a55821c1",
      "metadata": {
        "id": "a55821c1"
      },
      "outputs": [],
      "source": [
        "# Train Decision Tree classifier\n",
        "rf_best = rf_best.fit(train_scaff.X,train_scaff.y)\n",
        "\n",
        "# Predict the response for test dataset\n",
        "y_pred_scaff = rf_best.predict(test_scaff.X)"
      ]
    },
    {
      "cell_type": "code",
      "execution_count": 88,
      "id": "8f800c98",
      "metadata": {
        "id": "8f800c98"
      },
      "outputs": [],
      "source": [
        "dim = 100\n",
        "pca_scaff = PCA(n_components=dim)\n",
        "components_scaff = pca_scaff.fit_transform(test_scaff.X)"
      ]
    },
    {
      "cell_type": "code",
      "execution_count": 89,
      "id": "023c1798",
      "metadata": {
        "colab": {
          "base_uri": "https://localhost:8080/"
        },
        "id": "023c1798",
        "outputId": "b7b9f1ef-46a5-4c06-8a92-b8d04a85b613"
      },
      "outputs": [
        {
          "output_type": "stream",
          "name": "stderr",
          "text": [
            "/usr/local/lib/python3.8/dist-packages/sklearn/manifold/_t_sne.py:780: FutureWarning: The default initialization in TSNE will change from 'random' to 'pca' in 1.2.\n",
            "  warnings.warn(\n",
            "/usr/local/lib/python3.8/dist-packages/sklearn/manifold/_t_sne.py:790: FutureWarning: The default learning rate in TSNE will change from 200.0 to 'auto' in 1.2.\n",
            "  warnings.warn(\n"
          ]
        }
      ],
      "source": [
        "tsne_scaff = TSNE(n_components=2)\n",
        "t_components_scaff = tsne_scaff.fit_transform(components_scaff)"
      ]
    },
    {
      "cell_type": "code",
      "execution_count": 90,
      "id": "31a8c6bc",
      "metadata": {
        "colab": {
          "base_uri": "https://localhost:8080/",
          "height": 483
        },
        "id": "31a8c6bc",
        "outputId": "22342224-f0dc-41ce-e0de-9b7ba4b944a2"
      },
      "outputs": [
        {
          "output_type": "stream",
          "name": "stdout",
          "text": [
            "Scaffold Split Metrics:\n",
            "Accuracy: 0.8012048192771084\n",
            "Balanced Accuracy: 0.777027027027027\n",
            "ROC AUC: 0.777027027027027\n",
            "Precision Score: 0.736\n",
            "Recall Score: 1.0\n",
            "\n"
          ]
        },
        {
          "output_type": "display_data",
          "data": {
            "text/plain": [
              "<Figure size 1080x360 with 4 Axes>"
            ],
            "image/png": "[encoded data removed]"
          },
          "metadata": {
            "needs_background": "light"
          }
        }
      ],
      "source": [
        "plot_split('Scaffold', y_pred_scaff, test_scaff.y, t_components_scaff)"
      ]
    },
    {
      "cell_type": "markdown",
      "source": [
        "### K Fold Splits and MCC Calculations"
      ],
      "metadata": {
        "id": "ZnT0spRJ0MxX"
      },
      "id": "ZnT0spRJ0MxX"
    },
    {
      "cell_type": "code",
      "execution_count": 91,
      "id": "832935cd",
      "metadata": {
        "id": "832935cd"
      },
      "outputs": [],
      "source": [
        "def K_fold_MCC(dataset, h, split_name=\"Random Split\", splitter=RandomSplitter()):\n",
        "    \n",
        "    split_data = splitter.k_fold_split(dataset, k=4)\n",
        "    \n",
        "    MCCs = []\n",
        "    y_true = []\n",
        "    h_predictions = []\n",
        "    \n",
        "    for data in split_data:\n",
        "        h.fit(data[0].X, data[0].y)\n",
        "        y_pred = h.predict(data[1].X)\n",
        "        y_true.extend(list(data[1].y))\n",
        "        h_predictions.extend(list(y_pred))\n",
        "        mcc = matthews_corrcoef(data[1].y, y_pred)\n",
        "        MCCs.append(mcc)\n",
        "    \n",
        "    print(split_name + \" MCC Values:\")\n",
        "    \n",
        "    for mcc in MCCs:\n",
        "        print(mcc)\n",
        "    print(\"Mean: \" + str(np.mean(MCCs)))\n",
        "\n",
        "    print(\"MCC value across full test data: \" + str(matthews_corrcoef(y_true, h_predictions)))\n",
        "    \n",
        "    return MCCs"
      ]
    },
    {
      "cell_type": "code",
      "source": [
        "scaffold_split_mcc = K_fold_MCC(dataset, rf_best, 'Scaffold Split', scaffoldsplitter)"
      ],
      "metadata": {
        "colab": {
          "base_uri": "https://localhost:8080/"
        },
        "id": "bhfzphPA0I3i",
        "outputId": "26c698bc-9a92-4724-ec5e-dd38f3022ae5"
      },
      "id": "bhfzphPA0I3i",
      "execution_count": 96,
      "outputs": [
        {
          "output_type": "stream",
          "name": "stderr",
          "text": [
            "<ipython-input-91-37d8496c44a6>:10: DataConversionWarning: A column-vector y was passed when a 1d array was expected. Please change the shape of y to (n_samples,), for example using ravel().\n",
            "  h.fit(data[0].X, data[0].y)\n"
          ]
        },
        {
          "output_type": "stream",
          "name": "stdout",
          "text": [
            "Scaffold Split MCC Values:\n",
            "0.7846914939903075\n",
            "0.807007127726689\n",
            "0.8145075485434284\n",
            "0.6801964731777397\n",
            "Mean: 0.7716006608595412\n",
            "MCC value across full test data: 0.7700602690681662\n"
          ]
        }
      ]
    },
    {
      "cell_type": "code",
      "source": [
        "random_split_mcc = K_fold_MCC(dataset=dataset, h=rf_best)"
      ],
      "metadata": {
        "colab": {
          "base_uri": "https://localhost:8080/"
        },
        "id": "Gff65eQZ0Sw0",
        "outputId": "dc91fc7b-ba1b-4b26-b8d2-04d4c6af7d34"
      },
      "id": "Gff65eQZ0Sw0",
      "execution_count": 97,
      "outputs": [
        {
          "output_type": "stream",
          "name": "stderr",
          "text": [
            "<ipython-input-91-37d8496c44a6>:10: DataConversionWarning: A column-vector y was passed when a 1d array was expected. Please change the shape of y to (n_samples,), for example using ravel().\n",
            "  h.fit(data[0].X, data[0].y)\n"
          ]
        },
        {
          "output_type": "stream",
          "name": "stdout",
          "text": [
            "Random Split MCC Values:\n",
            "0.8517855155864972\n",
            "0.8203821406351196\n",
            "0.8374140500142363\n",
            "0.7919051043964553\n",
            "Mean: 0.8253717026580771\n",
            "MCC value across full test data: 0.8250763508811292\n"
          ]
        }
      ]
    },
    {
      "cell_type": "code",
      "source": [
        "print(\"T Test P-value: \" + str(ttest_ind(scaffold_split_mcc, random_split_mcc).pvalue))"
      ],
      "metadata": {
        "colab": {
          "base_uri": "https://localhost:8080/"
        },
        "id": "uxQ2u0Xz0U_A",
        "outputId": "e643291b-9388-4cd3-8387-20946e0084b5"
      },
      "id": "uxQ2u0Xz0U_A",
      "execution_count": 98,
      "outputs": [
        {
          "output_type": "stream",
          "name": "stdout",
          "text": [
            "T Test P-value: 0.16143504109014717\n"
          ]
        }
      ]
    },
    {
      "cell_type": "code",
      "source": [
        "fig, ax = plt.subplots(1,2, sharey=True)\n",
        "fig.tight_layout()\n",
        "\n",
        "ax[0].boxplot(scaffold_split_mcc)\n",
        "ax[0].title.set_text(\"Scaffold Split MCC\")\n",
        "ax[1].boxplot(random_split_mcc)\n",
        "ax[1].title.set_text(\"Random Split MCC\")"
      ],
      "metadata": {
        "colab": {
          "base_uri": "https://localhost:8080/",
          "height": 309
        },
        "id": "J3fdv4g-0XLI",
        "outputId": "3dfdac2e-016e-4114-e77e-958eea51d5ee"
      },
      "id": "J3fdv4g-0XLI",
      "execution_count": 99,
      "outputs": [
        {
          "output_type": "display_data",
          "data": {
            "text/plain": [
              "<Figure size 432x288 with 2 Axes>"
            ],
            "image/png": "[encoded data removed]"
          },
          "metadata": {
            "needs_background": "light"
          }
        }
      ]
    }
  ],
  "metadata": {
    "kernelspec": {
      "display_name": "Python 3",
      "language": "python",
      "name": "python3"
    },
    "language_info": {
      "codemirror_mode": {
        "name": "ipython",
        "version": 3
      },
      "file_extension": ".py",
      "mimetype": "text/x-python",
      "name": "python",
      "nbconvert_exporter": "python",
      "pygments_lexer": "ipython3",
      "version": "3.8.8"
    },
    "colab": {
      "provenance": []
    }
  },
  "nbformat": 4,
  "nbformat_minor": 5
}