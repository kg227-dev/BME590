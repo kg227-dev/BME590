{
  "cells": [
    {
      "cell_type": "markdown",
      "id": "6bb55246",
      "metadata": {
        "id": "6bb55246"
      },
      "source": [
        "#### Import necessary libraries "
      ]
    },
    {
      "cell_type": "code",
      "execution_count": 4,
      "id": "43be39f0",
      "metadata": {
        "colab": {
          "base_uri": "https://localhost:8080/"
        },
        "id": "43be39f0",
        "outputId": "1b60fa35-92ed-4414-8edd-0238d7a4f18b"
      },
      "outputs": [
        {
          "output_type": "stream",
          "name": "stdout",
          "text": [
            "Looking in indexes: https://pypi.org/simple, https://us-python.pkg.dev/colab-wheels/public/simple/\n",
            "Requirement already satisfied: deepchem==2.6.1 in /usr/local/lib/python3.8/dist-packages (2.6.1)\n",
            "Requirement already satisfied: rdkit-pypi in /usr/local/lib/python3.8/dist-packages (from deepchem==2.6.1) (2022.9.2)\n",
            "Requirement already satisfied: joblib in /usr/local/lib/python3.8/dist-packages (from deepchem==2.6.1) (1.2.0)\n",
            "Requirement already satisfied: scipy in /usr/local/lib/python3.8/dist-packages (from deepchem==2.6.1) (1.7.3)\n",
            "Requirement already satisfied: numpy>=1.21 in /usr/local/lib/python3.8/dist-packages (from deepchem==2.6.1) (1.21.6)\n",
            "Requirement already satisfied: scikit-learn in /usr/local/lib/python3.8/dist-packages (from deepchem==2.6.1) (1.0.2)\n",
            "Requirement already satisfied: pandas in /usr/local/lib/python3.8/dist-packages (from deepchem==2.6.1) (1.3.5)\n",
            "Requirement already satisfied: pytz>=2017.3 in /usr/local/lib/python3.8/dist-packages (from pandas->deepchem==2.6.1) (2022.6)\n",
            "Requirement already satisfied: python-dateutil>=2.7.3 in /usr/local/lib/python3.8/dist-packages (from pandas->deepchem==2.6.1) (2.8.2)\n",
            "Requirement already satisfied: six>=1.5 in /usr/local/lib/python3.8/dist-packages (from python-dateutil>=2.7.3->pandas->deepchem==2.6.1) (1.15.0)\n",
            "Requirement already satisfied: Pillow in /usr/local/lib/python3.8/dist-packages (from rdkit-pypi->deepchem==2.6.1) (7.1.2)\n",
            "Requirement already satisfied: threadpoolctl>=2.0.0 in /usr/local/lib/python3.8/dist-packages (from scikit-learn->deepchem==2.6.1) (3.1.0)\n",
            "Looking in indexes: https://pypi.org/simple, https://us-python.pkg.dev/colab-wheels/public/simple/\n",
            "Requirement already satisfied: rdkit-pypi in /usr/local/lib/python3.8/dist-packages (2022.9.2)\n",
            "Requirement already satisfied: numpy in /usr/local/lib/python3.8/dist-packages (from rdkit-pypi) (1.21.6)\n",
            "Requirement already satisfied: Pillow in /usr/local/lib/python3.8/dist-packages (from rdkit-pypi) (7.1.2)\n"
          ]
        }
      ],
      "source": [
        "!pip install deepchem==2.6.1\n",
        "!pip install rdkit-pypi"
      ]
    },
    {
      "cell_type": "code",
      "execution_count": 5,
      "id": "eb06cd7d",
      "metadata": {
        "id": "eb06cd7d"
      },
      "outputs": [],
      "source": [
        "# importing utility modules\n",
        "import pandas as pd\n",
        "from sklearn.model_selection import train_test_split\n",
        "from sklearn.metrics import log_loss\n",
        " \n",
        "# importing machine learning models for prediction\n",
        "from sklearn.ensemble import RandomForestClassifier\n",
        "from sklearn.svm import SVC\n",
        "from xgboost import XGBClassifier \n",
        "# importing voting classifier\n",
        "from sklearn.ensemble import VotingClassifier\n",
        "import deepchem as dc\n",
        "from sklearn.decomposition import PCA\n",
        "from sklearn.manifold import TSNE\n",
        "import matplotlib.pyplot as plt\n",
        "from deepchem import metrics\n",
        "\n",
        "import numpy as np\n",
        "from sklearn.metrics import matthews_corrcoef\n",
        "from deepchem.splits import RandomSplitter\n",
        "from scipy.stats import ttest_ind"
      ]
    },
    {
      "cell_type": "markdown",
      "id": "6f7996de",
      "metadata": {
        "id": "6f7996de"
      },
      "source": [
        "#### Read in the preprocessed BBB dataset from Adenot paper"
      ]
    },
    {
      "cell_type": "code",
      "execution_count": 6,
      "id": "da732072",
      "metadata": {
        "id": "da732072"
      },
      "outputs": [],
      "source": [
        "bbb_df = pd.read_csv('adenot_processed.csv')"
      ]
    },
    {
      "cell_type": "code",
      "execution_count": 7,
      "id": "f12bb967",
      "metadata": {
        "colab": {
          "base_uri": "https://localhost:8080/",
          "height": 352
        },
        "id": "f12bb967",
        "outputId": "ced06d46-ecb6-4e3d-8c79-4ad9d6bfe35d"
      },
      "outputs": [
        {
          "output_type": "execute_result",
          "data": {
            "text/plain": [
              "           Drug                                             SMILES  permeable  \\\n",
              "0    ACEBUTOLOL           CCCC(=O)Nc1ccc(c(c1)C(C)=O)OCC(O)CNC(C)C          0   \n",
              "1  DACTINOMYCIN  CC(C)[C@H]1NC(=O)[C@@H](NC(=O)c2ccc(c3c2N=C2C(...          0   \n",
              "2   ALDOSTERONE  C[C@@]12CCC(=O)C=C2CC[C@H]2C3CC[C@H](C(=O)CO)C...          0   \n",
              "3     AMILORIDE                     N\\C(=N)\\NC(=O)c1nc(c(nc1N)N)Cl          0   \n",
              "4    AMIODARONE  CCCCc1oc2ccccc2c1C(=O)c1cc(c(c(c1)[I])OCCN(CC)...          0   \n",
              "\n",
              "   0  1  2  3  4  5  6  ...  1014  1015  1016  1017  1018  1019  1020  1021  \\\n",
              "0  0  1  0  0  1  0  0  ...     1     0     0     1     0     0     0     0   \n",
              "1  0  1  0  0  1  1  0  ...     0     0     0     0     0     1     0     0   \n",
              "2  0  0  0  0  0  0  0  ...     0     0     0     0     0     1     0     0   \n",
              "3  0  0  0  0  0  0  0  ...     0     0     0     0     0     0     0     0   \n",
              "4  0  0  0  0  0  0  0  ...     0     0     0     0     0     0     0     0   \n",
              "\n",
              "   1022  1023  \n",
              "0     0     0  \n",
              "1     0     0  \n",
              "2     0     0  \n",
              "3     0     0  \n",
              "4     0     0  \n",
              "\n",
              "[5 rows x 1027 columns]"
            ],
            "text/html": [
              "\n",
              "  <div id=\"df-bb8dbdad-ab07-4f77-aa98-499c0ff2bd50\">\n",
              "    <div class=\"colab-df-container\">\n",
              "      <div>\n",
              "<style scoped>\n",
              "    .dataframe tbody tr th:only-of-type {\n",
              "        vertical-align: middle;\n",
              "    }\n",
              "\n",
              "    .dataframe tbody tr th {\n",
              "        vertical-align: top;\n",
              "    }\n",
              "\n",
              "    .dataframe thead th {\n",
              "        text-align: right;\n",
              "    }\n",
              "</style>\n",
              "<table border=\"1\" class=\"dataframe\">\n",
              "  <thead>\n",
              "    <tr style=\"text-align: right;\">\n",
              "      <th></th>\n",
              "      <th>Drug</th>\n",
              "      <th>SMILES</th>\n",
              "      <th>permeable</th>\n",
              "      <th>0</th>\n",
              "      <th>1</th>\n",
              "      <th>2</th>\n",
              "      <th>3</th>\n",
              "      <th>4</th>\n",
              "      <th>5</th>\n",
              "      <th>6</th>\n",
              "      <th>...</th>\n",
              "      <th>1014</th>\n",
              "      <th>1015</th>\n",
              "      <th>1016</th>\n",
              "      <th>1017</th>\n",
              "      <th>1018</th>\n",
              "      <th>1019</th>\n",
              "      <th>1020</th>\n",
              "      <th>1021</th>\n",
              "      <th>1022</th>\n",
              "      <th>1023</th>\n",
              "    </tr>\n",
              "  </thead>\n",
              "  <tbody>\n",
              "    <tr>\n",
              "      <th>0</th>\n",
              "      <td>ACEBUTOLOL</td>\n",
              "      <td>CCCC(=O)Nc1ccc(c(c1)C(C)=O)OCC(O)CNC(C)C</td>\n",
              "      <td>0</td>\n",
              "      <td>0</td>\n",
              "      <td>1</td>\n",
              "      <td>0</td>\n",
              "      <td>0</td>\n",
              "      <td>1</td>\n",
              "      <td>0</td>\n",
              "      <td>0</td>\n",
              "      <td>...</td>\n",
              "      <td>1</td>\n",
              "      <td>0</td>\n",
              "      <td>0</td>\n",
              "      <td>1</td>\n",
              "      <td>0</td>\n",
              "      <td>0</td>\n",
              "      <td>0</td>\n",
              "      <td>0</td>\n",
              "      <td>0</td>\n",
              "      <td>0</td>\n",
              "    </tr>\n",
              "    <tr>\n",
              "      <th>1</th>\n",
              "      <td>DACTINOMYCIN</td>\n",
              "      <td>CC(C)[C@H]1NC(=O)[C@@H](NC(=O)c2ccc(c3c2N=C2C(...</td>\n",
              "      <td>0</td>\n",
              "      <td>0</td>\n",
              "      <td>1</td>\n",
              "      <td>0</td>\n",
              "      <td>0</td>\n",
              "      <td>1</td>\n",
              "      <td>1</td>\n",
              "      <td>0</td>\n",
              "      <td>...</td>\n",
              "      <td>0</td>\n",
              "      <td>0</td>\n",
              "      <td>0</td>\n",
              "      <td>0</td>\n",
              "      <td>0</td>\n",
              "      <td>1</td>\n",
              "      <td>0</td>\n",
              "      <td>0</td>\n",
              "      <td>0</td>\n",
              "      <td>0</td>\n",
              "    </tr>\n",
              "    <tr>\n",
              "      <th>2</th>\n",
              "      <td>ALDOSTERONE</td>\n",
              "      <td>C[C@@]12CCC(=O)C=C2CC[C@H]2C3CC[C@H](C(=O)CO)C...</td>\n",
              "      <td>0</td>\n",
              "      <td>0</td>\n",
              "      <td>0</td>\n",
              "      <td>0</td>\n",
              "      <td>0</td>\n",
              "      <td>0</td>\n",
              "      <td>0</td>\n",
              "      <td>0</td>\n",
              "      <td>...</td>\n",
              "      <td>0</td>\n",
              "      <td>0</td>\n",
              "      <td>0</td>\n",
              "      <td>0</td>\n",
              "      <td>0</td>\n",
              "      <td>1</td>\n",
              "      <td>0</td>\n",
              "      <td>0</td>\n",
              "      <td>0</td>\n",
              "      <td>0</td>\n",
              "    </tr>\n",
              "    <tr>\n",
              "      <th>3</th>\n",
              "      <td>AMILORIDE</td>\n",
              "      <td>N\\C(=N)\\NC(=O)c1nc(c(nc1N)N)Cl</td>\n",
              "      <td>0</td>\n",
              "      <td>0</td>\n",
              "      <td>0</td>\n",
              "      <td>0</td>\n",
              "      <td>0</td>\n",
              "      <td>0</td>\n",
              "      <td>0</td>\n",
              "      <td>0</td>\n",
              "      <td>...</td>\n",
              "      <td>0</td>\n",
              "      <td>0</td>\n",
              "      <td>0</td>\n",
              "      <td>0</td>\n",
              "      <td>0</td>\n",
              "      <td>0</td>\n",
              "      <td>0</td>\n",
              "      <td>0</td>\n",
              "      <td>0</td>\n",
              "      <td>0</td>\n",
              "    </tr>\n",
              "    <tr>\n",
              "      <th>4</th>\n",
              "      <td>AMIODARONE</td>\n",
              "      <td>CCCCc1oc2ccccc2c1C(=O)c1cc(c(c(c1)[I])OCCN(CC)...</td>\n",
              "      <td>0</td>\n",
              "      <td>0</td>\n",
              "      <td>0</td>\n",
              "      <td>0</td>\n",
              "      <td>0</td>\n",
              "      <td>0</td>\n",
              "      <td>0</td>\n",
              "      <td>0</td>\n",
              "      <td>...</td>\n",
              "      <td>0</td>\n",
              "      <td>0</td>\n",
              "      <td>0</td>\n",
              "      <td>0</td>\n",
              "      <td>0</td>\n",
              "      <td>0</td>\n",
              "      <td>0</td>\n",
              "      <td>0</td>\n",
              "      <td>0</td>\n",
              "      <td>0</td>\n",
              "    </tr>\n",
              "  </tbody>\n",
              "</table>\n",
              "<p>5 rows × 1027 columns</p>\n",
              "</div>\n",
              "      <button class=\"colab-df-convert\" onclick=\"convertToInteractive('df-bb8dbdad-ab07-4f77-aa98-499c0ff2bd50')\"\n",
              "              title=\"Convert this dataframe to an interactive table.\"\n",
              "              style=\"display:none;\">\n",
              "        \n",
              "  <svg xmlns=\"http://www.w3.org/2000/svg\" height=\"24px\"viewBox=\"0 0 24 24\"\n",
              "       width=\"24px\">\n",
              "    <path d=\"M0 0h24v24H0V0z\" fill=\"none\"/>\n",
              "    <path d=\"M18.56 5.44l.94 2.06.94-2.06 2.06-.94-2.06-.94-.94-2.06-.94 2.06-2.06.94zm-11 1L8.5 8.5l.94-2.06 2.06-.94-2.06-.94L8.5 2.5l-.94 2.06-2.06.94zm10 10l.94 2.06.94-2.06 2.06-.94-2.06-.94-.94-2.06-.94 2.06-2.06.94z\"/><path d=\"M17.41 7.96l-1.37-1.37c-.4-.4-.92-.59-1.43-.59-.52 0-1.04.2-1.43.59L10.3 9.45l-7.72 7.72c-.78.78-.78 2.05 0 2.83L4 21.41c.39.39.9.59 1.41.59.51 0 1.02-.2 1.41-.59l7.78-7.78 2.81-2.81c.8-.78.8-2.07 0-2.86zM5.41 20L4 18.59l7.72-7.72 1.47 1.35L5.41 20z\"/>\n",
              "  </svg>\n",
              "      </button>\n",
              "      \n",
              "  <style>\n",
              "    .colab-df-container {\n",
              "      display:flex;\n",
              "      flex-wrap:wrap;\n",
              "      gap: 12px;\n",
              "    }\n",
              "\n",
              "    .colab-df-convert {\n",
              "      background-color: #E8F0FE;\n",
              "      border: none;\n",
              "      border-radius: 50%;\n",
              "      cursor: pointer;\n",
              "      display: none;\n",
              "      fill: #1967D2;\n",
              "      height: 32px;\n",
              "      padding: 0 0 0 0;\n",
              "      width: 32px;\n",
              "    }\n",
              "\n",
              "    .colab-df-convert:hover {\n",
              "      background-color: #E2EBFA;\n",
              "      box-shadow: 0px 1px 2px rgba(60, 64, 67, 0.3), 0px 1px 3px 1px rgba(60, 64, 67, 0.15);\n",
              "      fill: #174EA6;\n",
              "    }\n",
              "\n",
              "    [theme=dark] .colab-df-convert {\n",
              "      background-color: #3B4455;\n",
              "      fill: #D2E3FC;\n",
              "    }\n",
              "\n",
              "    [theme=dark] .colab-df-convert:hover {\n",
              "      background-color: #434B5C;\n",
              "      box-shadow: 0px 1px 3px 1px rgba(0, 0, 0, 0.15);\n",
              "      filter: drop-shadow(0px 1px 2px rgba(0, 0, 0, 0.3));\n",
              "      fill: #FFFFFF;\n",
              "    }\n",
              "  </style>\n",
              "\n",
              "      <script>\n",
              "        const buttonEl =\n",
              "          document.querySelector('#df-bb8dbdad-ab07-4f77-aa98-499c0ff2bd50 button.colab-df-convert');\n",
              "        buttonEl.style.display =\n",
              "          google.colab.kernel.accessAllowed ? 'block' : 'none';\n",
              "\n",
              "        async function convertToInteractive(key) {\n",
              "          const element = document.querySelector('#df-bb8dbdad-ab07-4f77-aa98-499c0ff2bd50');\n",
              "          const dataTable =\n",
              "            await google.colab.kernel.invokeFunction('convertToInteractive',\n",
              "                                                     [key], {});\n",
              "          if (!dataTable) return;\n",
              "\n",
              "          const docLinkHtml = 'Like what you see? Visit the ' +\n",
              "            '<a target=\"_blank\" href=https://colab.research.google.com/notebooks/data_table.ipynb>data table notebook</a>'\n",
              "            + ' to learn more about interactive tables.';\n",
              "          element.innerHTML = '';\n",
              "          dataTable['output_type'] = 'display_data';\n",
              "          await google.colab.output.renderOutput(dataTable, element);\n",
              "          const docLink = document.createElement('div');\n",
              "          docLink.innerHTML = docLinkHtml;\n",
              "          element.appendChild(docLink);\n",
              "        }\n",
              "      </script>\n",
              "    </div>\n",
              "  </div>\n",
              "  "
            ]
          },
          "metadata": {},
          "execution_count": 7
        }
      ],
      "source": [
        "bbb_df.head()"
      ]
    },
    {
      "cell_type": "markdown",
      "id": "ea09ee40",
      "metadata": {
        "id": "ea09ee40"
      },
      "source": [
        "#### Data preprocessing"
      ]
    },
    {
      "cell_type": "code",
      "execution_count": 8,
      "id": "e3e119a9",
      "metadata": {
        "id": "e3e119a9"
      },
      "outputs": [],
      "source": [
        "X = bbb_df.iloc[:,3:].copy()\n",
        "y = bbb_df.iloc[:,2].copy()\n",
        "X_train, X_test, y_train, y_test = train_test_split(X, y, test_size=0.3, random_state=0)"
      ]
    },
    {
      "cell_type": "markdown",
      "id": "47c81fb4",
      "metadata": {
        "id": "47c81fb4"
      },
      "source": [
        "## Optimized Models"
      ]
    },
    {
      "cell_type": "markdown",
      "id": "8cebcc8c",
      "metadata": {
        "id": "8cebcc8c"
      },
      "source": [
        "#### Optimized Random Forest"
      ]
    },
    {
      "cell_type": "code",
      "execution_count": 9,
      "id": "c97b6857",
      "metadata": {
        "colab": {
          "base_uri": "https://localhost:8080/"
        },
        "id": "c97b6857",
        "outputId": "40e98d3e-ec40-4b75-a5b0-5ffa366301ac"
      },
      "outputs": [
        {
          "output_type": "execute_result",
          "data": {
            "text/plain": [
              "RandomForestClassifier(max_depth=20, random_state=0)"
            ]
          },
          "metadata": {},
          "execution_count": 9
        }
      ],
      "source": [
        "# Create a Random Forest Classifier\n",
        "rf_best = RandomForestClassifier(random_state=0, n_estimators = 100, criterion='gini', max_depth=20)\n",
        "\n",
        "# Train the model using the training sets\n",
        "rf_best.fit(X_train,y_train)"
      ]
    },
    {
      "cell_type": "markdown",
      "id": "1f943c60",
      "metadata": {
        "id": "1f943c60"
      },
      "source": [
        "#### Optimized SVM"
      ]
    },
    {
      "cell_type": "code",
      "execution_count": 10,
      "id": "7f11100a",
      "metadata": {
        "colab": {
          "base_uri": "https://localhost:8080/"
        },
        "id": "7f11100a",
        "outputId": "8eb7295e-e566-498e-9f9d-4f61cad3be81"
      },
      "outputs": [
        {
          "output_type": "execute_result",
          "data": {
            "text/plain": [
              "SVC(C=0.1, gamma=1, kernel='linear', probability=True)"
            ]
          },
          "metadata": {},
          "execution_count": 10
        }
      ],
      "source": [
        "# Create a Support Vector Machine Classifier\n",
        "SVM_best = SVC(C=0.1, gamma=1, kernel='linear', probability=True).fit(X_train, y_train)\n",
        "\n",
        "# Train the model using the training sets\n",
        "SVM_best.fit(X_train, y_train)"
      ]
    },
    {
      "cell_type": "markdown",
      "id": "4c250b76",
      "metadata": {
        "id": "4c250b76"
      },
      "source": [
        "#### Optimized XGBoost"
      ]
    },
    {
      "cell_type": "code",
      "execution_count": 11,
      "id": "ffe512e1",
      "metadata": {
        "id": "ffe512e1"
      },
      "outputs": [],
      "source": [
        "xg_best = XGBClassifier(\n",
        " learning_rate =0.1,\n",
        " n_estimators=1000,\n",
        " max_depth=4,\n",
        " min_child_weight=3,\n",
        " gamma=0,\n",
        " subsample=0.8,\n",
        " colsample_bytree=0.85,\n",
        " reg_alpha=1e-05,\n",
        " objective= 'binary:logistic',\n",
        " nthread=4,\n",
        " scale_pos_weight=1,)"
      ]
    },
    {
      "cell_type": "code",
      "execution_count": 12,
      "id": "889ab0ea",
      "metadata": {
        "colab": {
          "base_uri": "https://localhost:8080/"
        },
        "id": "889ab0ea",
        "outputId": "3891b07c-376b-4832-dd3f-27a40e6a82c1"
      },
      "outputs": [
        {
          "output_type": "execute_result",
          "data": {
            "text/plain": [
              "XGBClassifier(colsample_bytree=0.85, max_depth=4, min_child_weight=3,\n",
              "              n_estimators=1000, nthread=4, reg_alpha=1e-05, subsample=0.8)"
            ]
          },
          "metadata": {},
          "execution_count": 12
        }
      ],
      "source": [
        "xg_best.fit(X_train, y_train)"
      ]
    },
    {
      "cell_type": "markdown",
      "id": "67119c4c",
      "metadata": {
        "id": "67119c4c"
      },
      "source": [
        "### Ensemble"
      ]
    },
    {
      "cell_type": "code",
      "execution_count": 13,
      "id": "6082fc71",
      "metadata": {
        "colab": {
          "base_uri": "https://localhost:8080/"
        },
        "id": "6082fc71",
        "outputId": "86a41e8e-1568-4046-dbaf-db2d73f12d39"
      },
      "outputs": [
        {
          "output_type": "execute_result",
          "data": {
            "text/plain": [
              "VotingClassifier(estimators=[('svm',\n",
              "                              SVC(C=0.1, gamma=1, kernel='linear',\n",
              "                                  probability=True)),\n",
              "                             ('xgb',\n",
              "                              XGBClassifier(colsample_bytree=0.85, max_depth=4,\n",
              "                                            min_child_weight=3,\n",
              "                                            n_estimators=1000, nthread=4,\n",
              "                                            reg_alpha=1e-05, subsample=0.8)),\n",
              "                             ('rf',\n",
              "                              RandomForestClassifier(max_depth=20,\n",
              "                                                     random_state=0))],\n",
              "                 voting='soft')"
            ]
          },
          "metadata": {},
          "execution_count": 13
        }
      ],
      "source": [
        "# Making the final model using voting classifier\n",
        "final_model = VotingClassifier(\n",
        "    estimators=[('svm', SVM_best), ('xgb', xg_best), ('rf', rf_best)], voting='soft')\n",
        " \n",
        "# training all the model on the train dataset\n",
        "final_model.fit(X_train, y_train)\n"
      ]
    },
    {
      "cell_type": "markdown",
      "id": "f267b618",
      "metadata": {
        "id": "f267b618"
      },
      "source": [
        "## Data Preprocessing"
      ]
    },
    {
      "cell_type": "code",
      "execution_count": 14,
      "id": "2ac08dc4",
      "metadata": {
        "id": "2ac08dc4"
      },
      "outputs": [],
      "source": [
        "Xs = bbb_df.iloc[:,3:].copy()\n",
        "Ys = bbb_df.iloc[:,2].copy()\n",
        "dataset = dc.data.DiskDataset.from_numpy(X=Xs,y=Ys,ids=bbb_df['SMILES'].tolist())\n",
        "scaffoldsplitter = dc.splits.ScaffoldSplitter()"
      ]
    },
    {
      "cell_type": "markdown",
      "id": "3b406e2c",
      "metadata": {
        "id": "3b406e2c"
      },
      "source": [
        "## K-Fold and MCC Caluclations"
      ]
    },
    {
      "cell_type": "code",
      "execution_count": 15,
      "id": "d93e42fd",
      "metadata": {
        "id": "d93e42fd"
      },
      "outputs": [],
      "source": [
        "def K_fold_MCC(dataset, h, split_name=\"Random Split\", splitter=RandomSplitter()):\n",
        "    \n",
        "    split_data = splitter.k_fold_split(dataset, k=4)\n",
        "    \n",
        "    MCCs = []\n",
        "    y_true = []\n",
        "    h_predictions = []\n",
        "    \n",
        "    for data in split_data:\n",
        "        h.fit(data[0].X, data[0].y)\n",
        "        y_pred = h.predict(data[1].X)\n",
        "        y_true.extend(list(data[1].y))\n",
        "        h_predictions.extend(list(y_pred))\n",
        "        mcc = matthews_corrcoef(data[1].y, y_pred)\n",
        "        MCCs.append(mcc)\n",
        "    \n",
        "    print(split_name + \" MCC Values:\")\n",
        "    \n",
        "    for mcc in MCCs:\n",
        "        print(mcc)\n",
        "    print(\"Mean: \" + str(np.mean(MCCs)))\n",
        "\n",
        "    print(\"MCC value across full test data: \" + str(matthews_corrcoef(y_true, h_predictions)))\n",
        "    \n",
        "    return MCCs"
      ]
    },
    {
      "cell_type": "markdown",
      "id": "35003bfb",
      "metadata": {
        "id": "35003bfb"
      },
      "source": [
        "#### Comparing MCC Values"
      ]
    },
    {
      "cell_type": "code",
      "execution_count": 16,
      "id": "5e521df9",
      "metadata": {
        "id": "5e521df9"
      },
      "outputs": [],
      "source": [
        "model_MCC_dict = {}"
      ]
    },
    {
      "cell_type": "markdown",
      "id": "c03a16f7",
      "metadata": {
        "id": "c03a16f7"
      },
      "source": [
        "#### MCC values for RF Model"
      ]
    },
    {
      "cell_type": "code",
      "execution_count": 17,
      "id": "11809388",
      "metadata": {
        "colab": {
          "base_uri": "https://localhost:8080/"
        },
        "id": "11809388",
        "outputId": "119c3174-8c65-4bbe-d7c6-79b3f2a8dbd3"
      },
      "outputs": [
        {
          "output_type": "stream",
          "name": "stderr",
          "text": [
            "<ipython-input-15-37d8496c44a6>:10: DataConversionWarning: A column-vector y was passed when a 1d array was expected. Please change the shape of y to (n_samples,), for example using ravel().\n",
            "  h.fit(data[0].X, data[0].y)\n"
          ]
        },
        {
          "output_type": "stream",
          "name": "stdout",
          "text": [
            "Scaffold Split MCC Values:\n",
            "0.7846914939903075\n",
            "0.807007127726689\n",
            "0.8145075485434284\n",
            "0.6801964731777397\n",
            "Mean: 0.7716006608595412\n",
            "MCC value across full test data: 0.7700602690681662\n"
          ]
        },
        {
          "output_type": "stream",
          "name": "stderr",
          "text": [
            "<ipython-input-15-37d8496c44a6>:10: DataConversionWarning: A column-vector y was passed when a 1d array was expected. Please change the shape of y to (n_samples,), for example using ravel().\n",
            "  h.fit(data[0].X, data[0].y)\n"
          ]
        },
        {
          "output_type": "stream",
          "name": "stdout",
          "text": [
            "Random Split MCC Values:\n",
            "0.8039164733622468\n",
            "0.8591163475679805\n",
            "0.8078691652767769\n",
            "0.8450526965562208\n",
            "Mean: 0.8289886706908063\n",
            "MCC value across full test data: 0.8296004851692456\n"
          ]
        }
      ],
      "source": [
        "scaffold_split_mcc = K_fold_MCC(dataset, rf_best, 'Scaffold Split', scaffoldsplitter)\n",
        "random_split_mcc = K_fold_MCC(dataset=dataset, h=rf_best)\n",
        "model_MCC_dict[\"Random Forest\"] = (scaffold_split_mcc, random_split_mcc)"
      ]
    },
    {
      "cell_type": "markdown",
      "id": "b3c0b993",
      "metadata": {
        "id": "b3c0b993"
      },
      "source": [
        "#### MCC values for SVM Model"
      ]
    },
    {
      "cell_type": "code",
      "execution_count": 18,
      "id": "45b9ff78",
      "metadata": {
        "colab": {
          "base_uri": "https://localhost:8080/"
        },
        "id": "45b9ff78",
        "outputId": "0197e235-3a5e-496e-a236-3f1e6c17b6ce"
      },
      "outputs": [
        {
          "output_type": "stream",
          "name": "stderr",
          "text": [
            "/usr/local/lib/python3.8/dist-packages/sklearn/utils/validation.py:993: DataConversionWarning: A column-vector y was passed when a 1d array was expected. Please change the shape of y to (n_samples, ), for example using ravel().\n",
            "  y = column_or_1d(y, warn=True)\n"
          ]
        },
        {
          "output_type": "stream",
          "name": "stdout",
          "text": [
            "Scaffold Split MCC Values:\n",
            "0.6887294242922333\n",
            "0.8368969503903855\n",
            "0.3739754258990208\n",
            "0.7728042598325765\n",
            "Mean: 0.668101515103554\n",
            "MCC value across full test data: 0.7598248879287592\n"
          ]
        },
        {
          "output_type": "stream",
          "name": "stderr",
          "text": [
            "/usr/local/lib/python3.8/dist-packages/sklearn/utils/validation.py:993: DataConversionWarning: A column-vector y was passed when a 1d array was expected. Please change the shape of y to (n_samples, ), for example using ravel().\n",
            "  y = column_or_1d(y, warn=True)\n"
          ]
        },
        {
          "output_type": "stream",
          "name": "stdout",
          "text": [
            "Random Split MCC Values:\n",
            "0.8888284216190426\n",
            "0.8414307648225654\n",
            "0.8647836831736363\n",
            "0.844498433016823\n",
            "Mean: 0.8598853256580169\n",
            "MCC value across full test data: 0.8596961674100803\n"
          ]
        }
      ],
      "source": [
        "scaffold_split_mcc = K_fold_MCC(dataset, SVM_best, 'Scaffold Split', scaffoldsplitter)\n",
        "random_split_mcc = K_fold_MCC(dataset=dataset, h=SVM_best)\n",
        "model_MCC_dict[\"SVM\"] = (scaffold_split_mcc, random_split_mcc)"
      ]
    },
    {
      "cell_type": "markdown",
      "id": "033815fd",
      "metadata": {
        "id": "033815fd"
      },
      "source": [
        "#### MCC values for XG-Boost Model"
      ]
    },
    {
      "cell_type": "code",
      "execution_count": 19,
      "id": "4c3e59d1",
      "metadata": {
        "colab": {
          "base_uri": "https://localhost:8080/"
        },
        "id": "4c3e59d1",
        "outputId": "d33b9699-60d1-430e-9120-963135532574"
      },
      "outputs": [
        {
          "output_type": "stream",
          "name": "stderr",
          "text": [
            "/usr/local/lib/python3.8/dist-packages/sklearn/preprocessing/_label.py:98: DataConversionWarning: A column-vector y was passed when a 1d array was expected. Please change the shape of y to (n_samples, ), for example using ravel().\n",
            "  y = column_or_1d(y, warn=True)\n",
            "/usr/local/lib/python3.8/dist-packages/sklearn/preprocessing/_label.py:133: DataConversionWarning: A column-vector y was passed when a 1d array was expected. Please change the shape of y to (n_samples, ), for example using ravel().\n",
            "  y = column_or_1d(y, warn=True)\n"
          ]
        },
        {
          "output_type": "stream",
          "name": "stdout",
          "text": [
            "Scaffold Split MCC Values:\n",
            "0.6515187123488106\n",
            "0.811764902392185\n",
            "0.35340999030727216\n",
            "0.7561700932611006\n",
            "Mean: 0.6432159245773421\n",
            "MCC value across full test data: 0.7337132712263612\n"
          ]
        },
        {
          "output_type": "stream",
          "name": "stderr",
          "text": [
            "/usr/local/lib/python3.8/dist-packages/sklearn/preprocessing/_label.py:98: DataConversionWarning: A column-vector y was passed when a 1d array was expected. Please change the shape of y to (n_samples, ), for example using ravel().\n",
            "  y = column_or_1d(y, warn=True)\n",
            "/usr/local/lib/python3.8/dist-packages/sklearn/preprocessing/_label.py:133: DataConversionWarning: A column-vector y was passed when a 1d array was expected. Please change the shape of y to (n_samples, ), for example using ravel().\n",
            "  y = column_or_1d(y, warn=True)\n"
          ]
        },
        {
          "output_type": "stream",
          "name": "stdout",
          "text": [
            "Random Split MCC Values:\n",
            "0.8779480181349626\n",
            "0.8322639421600209\n",
            "0.8481109305196614\n",
            "0.8545892311033624\n",
            "Mean: 0.8532280304795018\n",
            "MCC value across full test data: 0.8519899660914146\n"
          ]
        }
      ],
      "source": [
        "scaffold_split_mcc = K_fold_MCC(dataset, xg_best, 'Scaffold Split', scaffoldsplitter)\n",
        "random_split_mcc = K_fold_MCC(dataset=dataset, h=xg_best)\n",
        "model_MCC_dict[\"XG-Boost\"] = (scaffold_split_mcc, random_split_mcc)"
      ]
    },
    {
      "cell_type": "markdown",
      "id": "1e68c6b6",
      "metadata": {
        "id": "1e68c6b6"
      },
      "source": [
        "#### MCC values for Ensemble Model"
      ]
    },
    {
      "cell_type": "code",
      "execution_count": 20,
      "id": "b9190ed1",
      "metadata": {
        "colab": {
          "base_uri": "https://localhost:8080/"
        },
        "id": "b9190ed1",
        "outputId": "23179270-3fbc-4f60-aa01-75fd6b7be5c6"
      },
      "outputs": [
        {
          "output_type": "stream",
          "name": "stderr",
          "text": [
            "/usr/local/lib/python3.8/dist-packages/sklearn/preprocessing/_label.py:98: DataConversionWarning: A column-vector y was passed when a 1d array was expected. Please change the shape of y to (n_samples, ), for example using ravel().\n",
            "  y = column_or_1d(y, warn=True)\n",
            "/usr/local/lib/python3.8/dist-packages/sklearn/preprocessing/_label.py:133: DataConversionWarning: A column-vector y was passed when a 1d array was expected. Please change the shape of y to (n_samples, ), for example using ravel().\n",
            "  y = column_or_1d(y, warn=True)\n"
          ]
        },
        {
          "output_type": "stream",
          "name": "stdout",
          "text": [
            "Scaffold Split MCC Values:\n",
            "0.7586646256039993\n",
            "0.8361088119466458\n",
            "0.5094404799339134\n",
            "0.7657810101349732\n",
            "Mean: 0.7174987319048829\n",
            "MCC value across full test data: 0.7920621838460163\n"
          ]
        },
        {
          "output_type": "stream",
          "name": "stderr",
          "text": [
            "/usr/local/lib/python3.8/dist-packages/sklearn/preprocessing/_label.py:98: DataConversionWarning: A column-vector y was passed when a 1d array was expected. Please change the shape of y to (n_samples, ), for example using ravel().\n",
            "  y = column_or_1d(y, warn=True)\n",
            "/usr/local/lib/python3.8/dist-packages/sklearn/preprocessing/_label.py:133: DataConversionWarning: A column-vector y was passed when a 1d array was expected. Please change the shape of y to (n_samples, ), for example using ravel().\n",
            "  y = column_or_1d(y, warn=True)\n"
          ]
        },
        {
          "output_type": "stream",
          "name": "stdout",
          "text": [
            "Random Split MCC Values:\n",
            "0.8150578479844451\n",
            "0.8632739571224687\n",
            "0.9344227257377159\n",
            "0.8554452324884078\n",
            "Mean: 0.8670499408332594\n",
            "MCC value across full test data: 0.8675840977983985\n"
          ]
        }
      ],
      "source": [
        "scaffold_split_mcc = K_fold_MCC(dataset, final_model, 'Scaffold Split', scaffoldsplitter)\n",
        "random_split_mcc = K_fold_MCC(dataset=dataset, h=final_model)\n",
        "model_MCC_dict[\"Ensemble\"] = (scaffold_split_mcc, random_split_mcc)"
      ]
    },
    {
      "cell_type": "markdown",
      "id": "e85228fe",
      "metadata": {
        "id": "e85228fe"
      },
      "source": [
        "#### Statistical Comparison"
      ]
    },
    {
      "cell_type": "code",
      "execution_count": 21,
      "id": "792379a0",
      "metadata": {
        "colab": {
          "base_uri": "https://localhost:8080/"
        },
        "id": "792379a0",
        "outputId": "b24d7633-e210-4106-f545-794555d7d6d6"
      },
      "outputs": [
        {
          "output_type": "stream",
          "name": "stdout",
          "text": [
            "Scaffold Split P Values\n",
            "Random Forest vs. SVM: 0.37176739411050375\n",
            "Random Forest vs. XG-Boost: 0.2745614587376995\n",
            "Random Forest vs. Ensemble: 0.513852352990134\n",
            "\n",
            "SVM vs. Random Forest: 0.37176739411050375\n",
            "SVM vs. XG-Boost: 0.8691987168817623\n",
            "SVM vs. Ensemble: 0.7065791667650955\n",
            "\n",
            "XG-Boost vs. Random Forest: 0.2745614587376995\n",
            "XG-Boost vs. SVM: 0.8691987168817623\n",
            "XG-Boost vs. Ensemble: 0.5731543949108158\n",
            "\n",
            "Ensemble vs. Random Forest: 0.513852352990134\n",
            "Ensemble vs. SVM: 0.7065791667650955\n",
            "Ensemble vs. XG-Boost: 0.5731543949108158\n",
            "____________________\n",
            "\n",
            "Random Split P Values\n",
            "Random Forest vs. SVM: 0.12810111536197724\n",
            "Random Forest vs. XG-Boost: 0.19524517098560756\n",
            "Random Forest vs. Ensemble: 0.22770233065956388\n",
            "\n",
            "SVM vs. Random Forest: 0.12810111536197724\n",
            "SVM vs. XG-Boost: 0.6619765693732391\n",
            "SVM vs. Ensemble: 0.8005268100343743\n",
            "\n",
            "XG-Boost vs. Random Forest: 0.19524517098560756\n",
            "XG-Boost vs. SVM: 0.6619765693732391\n",
            "XG-Boost vs. Ensemble: 0.6215121397637677\n",
            "\n",
            "Ensemble vs. Random Forest: 0.22770233065956388\n",
            "Ensemble vs. SVM: 0.8005268100343743\n",
            "Ensemble vs. XG-Boost: 0.6215121397637677\n",
            "____________________\n",
            "\n"
          ]
        }
      ],
      "source": [
        "splits = [\"Scaffold Split\", \"Random Split\"]\n",
        "\n",
        "for i in range(2):\n",
        "    print(splits[i] + \" P Values\")\n",
        "    for model in model_MCC_dict:\n",
        "        for model_2 in model_MCC_dict:\n",
        "            if model != model_2:\n",
        "                print(model + \" vs. \" + model_2 + \": \" + str(ttest_ind(model_MCC_dict[model][i], model_MCC_dict[model_2][i]).pvalue))\n",
        "        if model != model_2:\n",
        "            print()\n",
        "    print(\"____________________\")\n",
        "    print()"
      ]
    }
  ],
  "metadata": {
    "kernelspec": {
      "display_name": "Python 3",
      "language": "python",
      "name": "python3"
    },
    "language_info": {
      "codemirror_mode": {
        "name": "ipython",
        "version": 3
      },
      "file_extension": ".py",
      "mimetype": "text/x-python",
      "name": "python",
      "nbconvert_exporter": "python",
      "pygments_lexer": "ipython3",
      "version": "3.8.8"
    },
    "vscode": {
      "interpreter": {
        "hash": "aee8b7b246df8f9039afb4144a1f6fd8d2ca17a180786b69acc140d282b71a49"
      }
    },
    "colab": {
      "provenance": []
    }
  },
  "nbformat": 4,
  "nbformat_minor": 5
}