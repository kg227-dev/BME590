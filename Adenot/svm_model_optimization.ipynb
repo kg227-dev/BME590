{
 "cells": [
  {
   "cell_type": "code",
   "execution_count": 1,
   "metadata": {},
   "outputs": [],
   "source": [
    "import numpy as np\n",
    "import pandas as pd\n",
    "import math\n",
    "import matplotlib.pyplot as plt\n",
    "import numpy as np\n",
    "\n",
    "from sklearn.svm import SVC\n",
    "from sklearn.model_selection import train_test_split \n",
    "from sklearn.decomposition import PCA\n",
    "from sklearn.manifold import TSNE\n",
    "from deepchem import metrics\n",
    "import deepchem as dc\n",
    "from rdkit import Chem\n",
    "from rdkit.Chem import AllChem, DataStructs\n",
    "from sklearn.model_selection import GridSearchCV\n",
    "\n",
    "from sklearn.metrics import matthews_corrcoef\n",
    "from deepchem.splits import RandomSplitter\n",
    "from scipy.stats import ttest_ind\n"
   ]
  },
  {
   "cell_type": "markdown",
   "metadata": {},
   "source": [
    "## Importing and splitting the data"
   ]
  },
  {
   "cell_type": "code",
   "execution_count": 2,
   "metadata": {},
   "outputs": [
    {
     "data": {
      "text/html": [
       "<div>\n",
       "<style scoped>\n",
       "    .dataframe tbody tr th:only-of-type {\n",
       "        vertical-align: middle;\n",
       "    }\n",
       "\n",
       "    .dataframe tbody tr th {\n",
       "        vertical-align: top;\n",
       "    }\n",
       "\n",
       "    .dataframe thead th {\n",
       "        text-align: right;\n",
       "    }\n",
       "</style>\n",
       "<table border=\"1\" class=\"dataframe\">\n",
       "  <thead>\n",
       "    <tr style=\"text-align: right;\">\n",
       "      <th></th>\n",
       "      <th>Drug</th>\n",
       "      <th>SMILES</th>\n",
       "      <th>permeable</th>\n",
       "      <th>0</th>\n",
       "      <th>1</th>\n",
       "      <th>2</th>\n",
       "      <th>3</th>\n",
       "      <th>4</th>\n",
       "      <th>5</th>\n",
       "      <th>6</th>\n",
       "      <th>...</th>\n",
       "      <th>1014</th>\n",
       "      <th>1015</th>\n",
       "      <th>1016</th>\n",
       "      <th>1017</th>\n",
       "      <th>1018</th>\n",
       "      <th>1019</th>\n",
       "      <th>1020</th>\n",
       "      <th>1021</th>\n",
       "      <th>1022</th>\n",
       "      <th>1023</th>\n",
       "    </tr>\n",
       "  </thead>\n",
       "  <tbody>\n",
       "    <tr>\n",
       "      <th>0</th>\n",
       "      <td>ACEBUTOLOL</td>\n",
       "      <td>CCCC(=O)Nc1ccc(c(c1)C(C)=O)OCC(O)CNC(C)C</td>\n",
       "      <td>0.0</td>\n",
       "      <td>0.0</td>\n",
       "      <td>1.0</td>\n",
       "      <td>0.0</td>\n",
       "      <td>0.0</td>\n",
       "      <td>1.0</td>\n",
       "      <td>0.0</td>\n",
       "      <td>0.0</td>\n",
       "      <td>...</td>\n",
       "      <td>1.0</td>\n",
       "      <td>0.0</td>\n",
       "      <td>0.0</td>\n",
       "      <td>1.0</td>\n",
       "      <td>0.0</td>\n",
       "      <td>0.0</td>\n",
       "      <td>0.0</td>\n",
       "      <td>0.0</td>\n",
       "      <td>0.0</td>\n",
       "      <td>0.0</td>\n",
       "    </tr>\n",
       "    <tr>\n",
       "      <th>1</th>\n",
       "      <td>DACTINOMYCIN</td>\n",
       "      <td>CC(C)[C@H]1NC(=O)[C@@H](NC(=O)c2ccc(c3c2N=C2C(...</td>\n",
       "      <td>0.0</td>\n",
       "      <td>0.0</td>\n",
       "      <td>1.0</td>\n",
       "      <td>0.0</td>\n",
       "      <td>0.0</td>\n",
       "      <td>1.0</td>\n",
       "      <td>1.0</td>\n",
       "      <td>0.0</td>\n",
       "      <td>...</td>\n",
       "      <td>0.0</td>\n",
       "      <td>0.0</td>\n",
       "      <td>0.0</td>\n",
       "      <td>0.0</td>\n",
       "      <td>0.0</td>\n",
       "      <td>1.0</td>\n",
       "      <td>0.0</td>\n",
       "      <td>0.0</td>\n",
       "      <td>0.0</td>\n",
       "      <td>0.0</td>\n",
       "    </tr>\n",
       "    <tr>\n",
       "      <th>2</th>\n",
       "      <td>ALDOSTERONE</td>\n",
       "      <td>C[C@@]12CCC(=O)C=C2CC[C@H]2C3CC[C@H](C(=O)CO)C...</td>\n",
       "      <td>0.0</td>\n",
       "      <td>0.0</td>\n",
       "      <td>0.0</td>\n",
       "      <td>0.0</td>\n",
       "      <td>0.0</td>\n",
       "      <td>0.0</td>\n",
       "      <td>0.0</td>\n",
       "      <td>0.0</td>\n",
       "      <td>...</td>\n",
       "      <td>0.0</td>\n",
       "      <td>0.0</td>\n",
       "      <td>0.0</td>\n",
       "      <td>0.0</td>\n",
       "      <td>0.0</td>\n",
       "      <td>1.0</td>\n",
       "      <td>0.0</td>\n",
       "      <td>0.0</td>\n",
       "      <td>0.0</td>\n",
       "      <td>0.0</td>\n",
       "    </tr>\n",
       "    <tr>\n",
       "      <th>3</th>\n",
       "      <td>AMILORIDE</td>\n",
       "      <td>N\\C(=N)\\NC(=O)c1nc(c(nc1N)N)Cl</td>\n",
       "      <td>0.0</td>\n",
       "      <td>0.0</td>\n",
       "      <td>0.0</td>\n",
       "      <td>0.0</td>\n",
       "      <td>0.0</td>\n",
       "      <td>0.0</td>\n",
       "      <td>0.0</td>\n",
       "      <td>0.0</td>\n",
       "      <td>...</td>\n",
       "      <td>0.0</td>\n",
       "      <td>0.0</td>\n",
       "      <td>0.0</td>\n",
       "      <td>0.0</td>\n",
       "      <td>0.0</td>\n",
       "      <td>0.0</td>\n",
       "      <td>0.0</td>\n",
       "      <td>0.0</td>\n",
       "      <td>0.0</td>\n",
       "      <td>0.0</td>\n",
       "    </tr>\n",
       "    <tr>\n",
       "      <th>4</th>\n",
       "      <td>AMIODARONE</td>\n",
       "      <td>CCCCc1oc2ccccc2c1C(=O)c1cc(c(c(c1)[I])OCCN(CC)...</td>\n",
       "      <td>0.0</td>\n",
       "      <td>0.0</td>\n",
       "      <td>0.0</td>\n",
       "      <td>0.0</td>\n",
       "      <td>0.0</td>\n",
       "      <td>0.0</td>\n",
       "      <td>0.0</td>\n",
       "      <td>0.0</td>\n",
       "      <td>...</td>\n",
       "      <td>0.0</td>\n",
       "      <td>0.0</td>\n",
       "      <td>0.0</td>\n",
       "      <td>0.0</td>\n",
       "      <td>0.0</td>\n",
       "      <td>0.0</td>\n",
       "      <td>0.0</td>\n",
       "      <td>0.0</td>\n",
       "      <td>0.0</td>\n",
       "      <td>0.0</td>\n",
       "    </tr>\n",
       "  </tbody>\n",
       "</table>\n",
       "<p>5 rows × 1027 columns</p>\n",
       "</div>"
      ],
      "text/plain": [
       "           Drug                                             SMILES  permeable  \\\n",
       "0    ACEBUTOLOL           CCCC(=O)Nc1ccc(c(c1)C(C)=O)OCC(O)CNC(C)C        0.0   \n",
       "1  DACTINOMYCIN  CC(C)[C@H]1NC(=O)[C@@H](NC(=O)c2ccc(c3c2N=C2C(...        0.0   \n",
       "2   ALDOSTERONE  C[C@@]12CCC(=O)C=C2CC[C@H]2C3CC[C@H](C(=O)CO)C...        0.0   \n",
       "3     AMILORIDE                     N\\C(=N)\\NC(=O)c1nc(c(nc1N)N)Cl        0.0   \n",
       "4    AMIODARONE  CCCCc1oc2ccccc2c1C(=O)c1cc(c(c(c1)[I])OCCN(CC)...        0.0   \n",
       "\n",
       "     0    1    2    3    4    5    6  ...  1014  1015  1016  1017  1018  1019  \\\n",
       "0  0.0  1.0  0.0  0.0  1.0  0.0  0.0  ...   1.0   0.0   0.0   1.0   0.0   0.0   \n",
       "1  0.0  1.0  0.0  0.0  1.0  1.0  0.0  ...   0.0   0.0   0.0   0.0   0.0   1.0   \n",
       "2  0.0  0.0  0.0  0.0  0.0  0.0  0.0  ...   0.0   0.0   0.0   0.0   0.0   1.0   \n",
       "3  0.0  0.0  0.0  0.0  0.0  0.0  0.0  ...   0.0   0.0   0.0   0.0   0.0   0.0   \n",
       "4  0.0  0.0  0.0  0.0  0.0  0.0  0.0  ...   0.0   0.0   0.0   0.0   0.0   0.0   \n",
       "\n",
       "   1020  1021  1022  1023  \n",
       "0   0.0   0.0   0.0   0.0  \n",
       "1   0.0   0.0   0.0   0.0  \n",
       "2   0.0   0.0   0.0   0.0  \n",
       "3   0.0   0.0   0.0   0.0  \n",
       "4   0.0   0.0   0.0   0.0  \n",
       "\n",
       "[5 rows x 1027 columns]"
      ]
     },
     "execution_count": 2,
     "metadata": {},
     "output_type": "execute_result"
    }
   ],
   "source": [
    "bbb_df = pd.read_csv('adenot_processed.csv')\n",
    "bbb_df.head()"
   ]
  },
  {
   "cell_type": "code",
   "execution_count": 3,
   "metadata": {},
   "outputs": [],
   "source": [
    "X = bbb_df.drop(columns=[\"Drug\", \"SMILES\", 'permeable'])\n",
    "Y = bbb_df['permeable']\n",
    "X_train, X_test, y_train, y_test = train_test_split(X, Y, test_size=0.3, random_state=0)"
   ]
  },
  {
   "cell_type": "markdown",
   "metadata": {},
   "source": [
    "## Building and training the model"
   ]
  },
  {
   "cell_type": "code",
   "execution_count": 4,
   "metadata": {},
   "outputs": [],
   "source": [
    "SVM = SVC().fit(X_train, y_train)\n",
    "\n",
    "train_prediction = SVM.predict(X_train)\n",
    "test_prediction = SVM.predict(X_test)"
   ]
  },
  {
   "cell_type": "markdown",
   "id": "8f7bbeba",
   "metadata": {},
   "source": [
    "#### Hyperparameter Optimization"
   ]
  },
  {
   "cell_type": "code",
   "execution_count": 5,
   "metadata": {},
   "outputs": [],
   "source": [
    "param_grid = {'C': [0.1,1, 10, 100], 'gamma': [1,0.1,0.01,0.001],'kernel': ['linear']}\n"
   ]
  },
  {
   "cell_type": "code",
   "execution_count": 6,
   "metadata": {
    "scrolled": true
   },
   "outputs": [
    {
     "name": "stdout",
     "output_type": "stream",
     "text": [
      "Fitting 5 folds for each of 16 candidates, totalling 80 fits\n",
      "[CV] END ......................C=0.1, gamma=1, kernel=linear; total time=   0.3s\n",
      "[CV] END ......................C=0.1, gamma=1, kernel=linear; total time=   0.2s\n",
      "[CV] END ......................C=0.1, gamma=1, kernel=linear; total time=   0.3s\n",
      "[CV] END ......................C=0.1, gamma=1, kernel=linear; total time=   0.3s\n",
      "[CV] END ......................C=0.1, gamma=1, kernel=linear; total time=   0.1s\n",
      "[CV] END ....................C=0.1, gamma=0.1, kernel=linear; total time=   0.2s\n",
      "[CV] END ....................C=0.1, gamma=0.1, kernel=linear; total time=   0.3s\n",
      "[CV] END ....................C=0.1, gamma=0.1, kernel=linear; total time=   0.3s\n",
      "[CV] END ....................C=0.1, gamma=0.1, kernel=linear; total time=   0.2s\n",
      "[CV] END ....................C=0.1, gamma=0.1, kernel=linear; total time=   0.2s\n",
      "[CV] END ...................C=0.1, gamma=0.01, kernel=linear; total time=   0.2s\n",
      "[CV] END ...................C=0.1, gamma=0.01, kernel=linear; total time=   0.1s\n",
      "[CV] END ...................C=0.1, gamma=0.01, kernel=linear; total time=   0.0s\n",
      "[CV] END ...................C=0.1, gamma=0.01, kernel=linear; total time=   0.1s\n",
      "[CV] END ...................C=0.1, gamma=0.01, kernel=linear; total time=   0.0s\n",
      "[CV] END ..................C=0.1, gamma=0.001, kernel=linear; total time=   0.1s\n",
      "[CV] END ..................C=0.1, gamma=0.001, kernel=linear; total time=   0.2s\n",
      "[CV] END ..................C=0.1, gamma=0.001, kernel=linear; total time=   0.2s\n",
      "[CV] END ..................C=0.1, gamma=0.001, kernel=linear; total time=   0.2s\n",
      "[CV] END ..................C=0.1, gamma=0.001, kernel=linear; total time=   0.2s\n",
      "[CV] END ........................C=1, gamma=1, kernel=linear; total time=   0.2s\n",
      "[CV] END ........................C=1, gamma=1, kernel=linear; total time=   0.2s\n",
      "[CV] END ........................C=1, gamma=1, kernel=linear; total time=   0.3s\n",
      "[CV] END ........................C=1, gamma=1, kernel=linear; total time=   0.2s\n",
      "[CV] END ........................C=1, gamma=1, kernel=linear; total time=   0.2s\n",
      "[CV] END ......................C=1, gamma=0.1, kernel=linear; total time=   0.2s\n",
      "[CV] END ......................C=1, gamma=0.1, kernel=linear; total time=   0.3s\n",
      "[CV] END ......................C=1, gamma=0.1, kernel=linear; total time=   0.2s\n",
      "[CV] END ......................C=1, gamma=0.1, kernel=linear; total time=   0.2s\n",
      "[CV] END ......................C=1, gamma=0.1, kernel=linear; total time=   0.3s\n",
      "[CV] END .....................C=1, gamma=0.01, kernel=linear; total time=   0.2s\n",
      "[CV] END .....................C=1, gamma=0.01, kernel=linear; total time=   0.2s\n",
      "[CV] END .....................C=1, gamma=0.01, kernel=linear; total time=   0.2s\n",
      "[CV] END .....................C=1, gamma=0.01, kernel=linear; total time=   0.2s\n",
      "[CV] END .....................C=1, gamma=0.01, kernel=linear; total time=   0.2s\n",
      "[CV] END ....................C=1, gamma=0.001, kernel=linear; total time=   0.2s\n",
      "[CV] END ....................C=1, gamma=0.001, kernel=linear; total time=   0.2s\n",
      "[CV] END ....................C=1, gamma=0.001, kernel=linear; total time=   0.2s\n",
      "[CV] END ....................C=1, gamma=0.001, kernel=linear; total time=   0.2s\n",
      "[CV] END ....................C=1, gamma=0.001, kernel=linear; total time=   0.2s\n",
      "[CV] END .......................C=10, gamma=1, kernel=linear; total time=   0.2s\n",
      "[CV] END .......................C=10, gamma=1, kernel=linear; total time=   0.3s\n",
      "[CV] END .......................C=10, gamma=1, kernel=linear; total time=   0.3s\n",
      "[CV] END .......................C=10, gamma=1, kernel=linear; total time=   0.3s\n",
      "[CV] END .......................C=10, gamma=1, kernel=linear; total time=   0.2s\n",
      "[CV] END .....................C=10, gamma=0.1, kernel=linear; total time=   0.3s\n",
      "[CV] END .....................C=10, gamma=0.1, kernel=linear; total time=   0.3s\n",
      "[CV] END .....................C=10, gamma=0.1, kernel=linear; total time=   0.1s\n",
      "[CV] END .....................C=10, gamma=0.1, kernel=linear; total time=   0.2s\n",
      "[CV] END .....................C=10, gamma=0.1, kernel=linear; total time=   0.2s\n",
      "[CV] END ....................C=10, gamma=0.01, kernel=linear; total time=   0.3s\n",
      "[CV] END ....................C=10, gamma=0.01, kernel=linear; total time=   0.2s\n",
      "[CV] END ....................C=10, gamma=0.01, kernel=linear; total time=   0.2s\n",
      "[CV] END ....................C=10, gamma=0.01, kernel=linear; total time=   0.2s\n",
      "[CV] END ....................C=10, gamma=0.01, kernel=linear; total time=   0.2s\n",
      "[CV] END ...................C=10, gamma=0.001, kernel=linear; total time=   0.2s\n",
      "[CV] END ...................C=10, gamma=0.001, kernel=linear; total time=   0.2s\n",
      "[CV] END ...................C=10, gamma=0.001, kernel=linear; total time=   0.3s\n",
      "[CV] END ...................C=10, gamma=0.001, kernel=linear; total time=   0.3s\n",
      "[CV] END ...................C=10, gamma=0.001, kernel=linear; total time=   0.3s\n",
      "[CV] END ......................C=100, gamma=1, kernel=linear; total time=   0.3s\n",
      "[CV] END ......................C=100, gamma=1, kernel=linear; total time=   0.3s\n",
      "[CV] END ......................C=100, gamma=1, kernel=linear; total time=   0.2s\n",
      "[CV] END ......................C=100, gamma=1, kernel=linear; total time=   0.2s\n",
      "[CV] END ......................C=100, gamma=1, kernel=linear; total time=   0.3s\n",
      "[CV] END ....................C=100, gamma=0.1, kernel=linear; total time=   0.3s\n",
      "[CV] END ....................C=100, gamma=0.1, kernel=linear; total time=   0.3s\n",
      "[CV] END ....................C=100, gamma=0.1, kernel=linear; total time=   0.3s\n",
      "[CV] END ....................C=100, gamma=0.1, kernel=linear; total time=   0.3s\n",
      "[CV] END ....................C=100, gamma=0.1, kernel=linear; total time=   0.3s\n",
      "[CV] END ...................C=100, gamma=0.01, kernel=linear; total time=   0.3s\n",
      "[CV] END ...................C=100, gamma=0.01, kernel=linear; total time=   0.3s\n",
      "[CV] END ...................C=100, gamma=0.01, kernel=linear; total time=   0.3s\n",
      "[CV] END ...................C=100, gamma=0.01, kernel=linear; total time=   0.3s\n",
      "[CV] END ...................C=100, gamma=0.01, kernel=linear; total time=   0.3s\n",
      "[CV] END ..................C=100, gamma=0.001, kernel=linear; total time=   0.3s\n",
      "[CV] END ..................C=100, gamma=0.001, kernel=linear; total time=   0.2s\n",
      "[CV] END ..................C=100, gamma=0.001, kernel=linear; total time=   0.3s\n",
      "[CV] END ..................C=100, gamma=0.001, kernel=linear; total time=   0.3s\n",
      "[CV] END ..................C=100, gamma=0.001, kernel=linear; total time=   0.3s\n"
     ]
    },
    {
     "data": {
      "text/html": [
       "<style>#sk-container-id-1 {color: black;background-color: white;}#sk-container-id-1 pre{padding: 0;}#sk-container-id-1 div.sk-toggleable {background-color: white;}#sk-container-id-1 label.sk-toggleable__label {cursor: pointer;display: block;width: 100%;margin-bottom: 0;padding: 0.3em;box-sizing: border-box;text-align: center;}#sk-container-id-1 label.sk-toggleable__label-arrow:before {content: \"▸\";float: left;margin-right: 0.25em;color: #696969;}#sk-container-id-1 label.sk-toggleable__label-arrow:hover:before {color: black;}#sk-container-id-1 div.sk-estimator:hover label.sk-toggleable__label-arrow:before {color: black;}#sk-container-id-1 div.sk-toggleable__content {max-height: 0;max-width: 0;overflow: hidden;text-align: left;background-color: #f0f8ff;}#sk-container-id-1 div.sk-toggleable__content pre {margin: 0.2em;color: black;border-radius: 0.25em;background-color: #f0f8ff;}#sk-container-id-1 input.sk-toggleable__control:checked~div.sk-toggleable__content {max-height: 200px;max-width: 100%;overflow: auto;}#sk-container-id-1 input.sk-toggleable__control:checked~label.sk-toggleable__label-arrow:before {content: \"▾\";}#sk-container-id-1 div.sk-estimator input.sk-toggleable__control:checked~label.sk-toggleable__label {background-color: #d4ebff;}#sk-container-id-1 div.sk-label input.sk-toggleable__control:checked~label.sk-toggleable__label {background-color: #d4ebff;}#sk-container-id-1 input.sk-hidden--visually {border: 0;clip: rect(1px 1px 1px 1px);clip: rect(1px, 1px, 1px, 1px);height: 1px;margin: -1px;overflow: hidden;padding: 0;position: absolute;width: 1px;}#sk-container-id-1 div.sk-estimator {font-family: monospace;background-color: #f0f8ff;border: 1px dotted black;border-radius: 0.25em;box-sizing: border-box;margin-bottom: 0.5em;}#sk-container-id-1 div.sk-estimator:hover {background-color: #d4ebff;}#sk-container-id-1 div.sk-parallel-item::after {content: \"\";width: 100%;border-bottom: 1px solid gray;flex-grow: 1;}#sk-container-id-1 div.sk-label:hover label.sk-toggleable__label {background-color: #d4ebff;}#sk-container-id-1 div.sk-serial::before {content: \"\";position: absolute;border-left: 1px solid gray;box-sizing: border-box;top: 0;bottom: 0;left: 50%;z-index: 0;}#sk-container-id-1 div.sk-serial {display: flex;flex-direction: column;align-items: center;background-color: white;padding-right: 0.2em;padding-left: 0.2em;position: relative;}#sk-container-id-1 div.sk-item {position: relative;z-index: 1;}#sk-container-id-1 div.sk-parallel {display: flex;align-items: stretch;justify-content: center;background-color: white;position: relative;}#sk-container-id-1 div.sk-item::before, #sk-container-id-1 div.sk-parallel-item::before {content: \"\";position: absolute;border-left: 1px solid gray;box-sizing: border-box;top: 0;bottom: 0;left: 50%;z-index: -1;}#sk-container-id-1 div.sk-parallel-item {display: flex;flex-direction: column;z-index: 1;position: relative;background-color: white;}#sk-container-id-1 div.sk-parallel-item:first-child::after {align-self: flex-end;width: 50%;}#sk-container-id-1 div.sk-parallel-item:last-child::after {align-self: flex-start;width: 50%;}#sk-container-id-1 div.sk-parallel-item:only-child::after {width: 0;}#sk-container-id-1 div.sk-dashed-wrapped {border: 1px dashed gray;margin: 0 0.4em 0.5em 0.4em;box-sizing: border-box;padding-bottom: 0.4em;background-color: white;}#sk-container-id-1 div.sk-label label {font-family: monospace;font-weight: bold;display: inline-block;line-height: 1.2em;}#sk-container-id-1 div.sk-label-container {text-align: center;}#sk-container-id-1 div.sk-container {/* jupyter's `normalize.less` sets `[hidden] { display: none; }` but bootstrap.min.css set `[hidden] { display: none !important; }` so we also need the `!important` here to be able to override the default hidden behavior on the sphinx rendered scikit-learn.org. See: https://github.com/scikit-learn/scikit-learn/issues/21755 */display: inline-block !important;position: relative;}#sk-container-id-1 div.sk-text-repr-fallback {display: none;}</style><div id=\"sk-container-id-1\" class=\"sk-top-container\"><div class=\"sk-text-repr-fallback\"><pre>GridSearchCV(estimator=SVC(),\n",
       "             param_grid={&#x27;C&#x27;: [0.1, 1, 10, 100], &#x27;gamma&#x27;: [1, 0.1, 0.01, 0.001],\n",
       "                         &#x27;kernel&#x27;: [&#x27;linear&#x27;]},\n",
       "             verbose=2)</pre><b>In a Jupyter environment, please rerun this cell to show the HTML representation or trust the notebook. <br />On GitHub, the HTML representation is unable to render, please try loading this page with nbviewer.org.</b></div><div class=\"sk-container\" hidden><div class=\"sk-item sk-dashed-wrapped\"><div class=\"sk-label-container\"><div class=\"sk-label sk-toggleable\"><input class=\"sk-toggleable__control sk-hidden--visually\" id=\"sk-estimator-id-1\" type=\"checkbox\" ><label for=\"sk-estimator-id-1\" class=\"sk-toggleable__label sk-toggleable__label-arrow\">GridSearchCV</label><div class=\"sk-toggleable__content\"><pre>GridSearchCV(estimator=SVC(),\n",
       "             param_grid={&#x27;C&#x27;: [0.1, 1, 10, 100], &#x27;gamma&#x27;: [1, 0.1, 0.01, 0.001],\n",
       "                         &#x27;kernel&#x27;: [&#x27;linear&#x27;]},\n",
       "             verbose=2)</pre></div></div></div><div class=\"sk-parallel\"><div class=\"sk-parallel-item\"><div class=\"sk-item\"><div class=\"sk-label-container\"><div class=\"sk-label sk-toggleable\"><input class=\"sk-toggleable__control sk-hidden--visually\" id=\"sk-estimator-id-2\" type=\"checkbox\" ><label for=\"sk-estimator-id-2\" class=\"sk-toggleable__label sk-toggleable__label-arrow\">estimator: SVC</label><div class=\"sk-toggleable__content\"><pre>SVC()</pre></div></div></div><div class=\"sk-serial\"><div class=\"sk-item\"><div class=\"sk-estimator sk-toggleable\"><input class=\"sk-toggleable__control sk-hidden--visually\" id=\"sk-estimator-id-3\" type=\"checkbox\" ><label for=\"sk-estimator-id-3\" class=\"sk-toggleable__label sk-toggleable__label-arrow\">SVC</label><div class=\"sk-toggleable__content\"><pre>SVC()</pre></div></div></div></div></div></div></div></div></div></div>"
      ],
      "text/plain": [
       "GridSearchCV(estimator=SVC(),\n",
       "             param_grid={'C': [0.1, 1, 10, 100], 'gamma': [1, 0.1, 0.01, 0.001],\n",
       "                         'kernel': ['linear']},\n",
       "             verbose=2)"
      ]
     },
     "execution_count": 6,
     "metadata": {},
     "output_type": "execute_result"
    }
   ],
   "source": [
    "grid = GridSearchCV(SVC(),param_grid,refit=True,verbose=2)\n",
    "grid.fit(X_train,y_train)"
   ]
  },
  {
   "cell_type": "code",
   "execution_count": 7,
   "metadata": {},
   "outputs": [
    {
     "name": "stdout",
     "output_type": "stream",
     "text": [
      "{'C': 0.1, 'gamma': 1, 'kernel': 'linear'}\n"
     ]
    }
   ],
   "source": [
    "print(grid.best_params_)\n"
   ]
  },
  {
   "cell_type": "markdown",
   "id": "23737b22",
   "metadata": {},
   "source": [
    "#### Optimized SVM"
   ]
  },
  {
   "cell_type": "code",
   "execution_count": 8,
   "id": "ffe512e1",
   "metadata": {},
   "outputs": [],
   "source": [
    "SVM_best = SVC(C=0.1, gamma=1, kernel='linear', probability=True).fit(X_train, y_train)"
   ]
  },
  {
   "cell_type": "code",
   "execution_count": 9,
   "id": "889ab0ea",
   "metadata": {},
   "outputs": [],
   "source": [
    "SVM_best.fit(X_train, y_train)\n",
    "# make predictions for test data\n",
    "y_pred = SVM_best.predict(X_test)"
   ]
  },
  {
   "cell_type": "markdown",
   "id": "3384016e",
   "metadata": {},
   "source": [
    "#### Feature Importances"
   ]
  },
  {
   "cell_type": "code",
   "execution_count": 10,
   "id": "97350c94",
   "metadata": {},
   "outputs": [],
   "source": [
    "# get importance\n",
    "dt_importance = SVM_best.coef_\n",
    "\n",
    "# summarize and print out the feature importance\n",
    "non_zero_index_list = [i for i, v in enumerate(dt_importance[0]) if v != 0]\n",
    "\n",
    "# remove all zero value entries\n",
    "non_zero_feature_names = [bbb_df.iloc[:,3:].columns[i] for i in non_zero_index_list]\n",
    "non_zero_importance = [dt_importance[0][i] for i in non_zero_index_list]\n",
    "non_zero_feature_names_str = [str(x) for x in non_zero_feature_names]\n",
    "feature_importance = pd.DataFrame(list(zip(non_zero_feature_names_str, non_zero_importance)), columns =['Feature','Importance'])\n",
    "feature_importance.sort_values(by='Importance', ascending=True, inplace=True)"
   ]
  },
  {
   "cell_type": "code",
   "execution_count": 11,
   "metadata": {},
   "outputs": [
    {
     "data": {
      "text/html": [
       "<div>\n",
       "<style scoped>\n",
       "    .dataframe tbody tr th:only-of-type {\n",
       "        vertical-align: middle;\n",
       "    }\n",
       "\n",
       "    .dataframe tbody tr th {\n",
       "        vertical-align: top;\n",
       "    }\n",
       "\n",
       "    .dataframe thead th {\n",
       "        text-align: right;\n",
       "    }\n",
       "</style>\n",
       "<table border=\"1\" class=\"dataframe\">\n",
       "  <thead>\n",
       "    <tr style=\"text-align: right;\">\n",
       "      <th></th>\n",
       "      <th>Feature</th>\n",
       "      <th>Importance</th>\n",
       "    </tr>\n",
       "  </thead>\n",
       "  <tbody>\n",
       "    <tr>\n",
       "      <th>755</th>\n",
       "      <td>767</td>\n",
       "      <td>0.202917</td>\n",
       "    </tr>\n",
       "    <tr>\n",
       "      <th>404</th>\n",
       "      <td>412</td>\n",
       "      <td>0.214317</td>\n",
       "    </tr>\n",
       "    <tr>\n",
       "      <th>771</th>\n",
       "      <td>784</td>\n",
       "      <td>0.224616</td>\n",
       "    </tr>\n",
       "    <tr>\n",
       "      <th>783</th>\n",
       "      <td>798</td>\n",
       "      <td>0.224833</td>\n",
       "    </tr>\n",
       "    <tr>\n",
       "      <th>134</th>\n",
       "      <td>138</td>\n",
       "      <td>0.278872</td>\n",
       "    </tr>\n",
       "  </tbody>\n",
       "</table>\n",
       "</div>"
      ],
      "text/plain": [
       "    Feature  Importance\n",
       "755     767    0.202917\n",
       "404     412    0.214317\n",
       "771     784    0.224616\n",
       "783     798    0.224833\n",
       "134     138    0.278872"
      ]
     },
     "execution_count": 11,
     "metadata": {},
     "output_type": "execute_result"
    }
   ],
   "source": [
    "feature_importance.tail(5)"
   ]
  },
  {
   "cell_type": "code",
   "execution_count": 12,
   "id": "89eeac3c",
   "metadata": {},
   "outputs": [
    {
     "data": {
      "text/plain": [
       "Text(0.5, 1.0, 'Top 10 SVM Feature Importances')"
      ]
     },
     "execution_count": 12,
     "metadata": {},
     "output_type": "execute_result"
    },
    {
     "data": {
      "image/png": "[encoded data removed]",
      "text/plain": [
       "<Figure size 360x720 with 1 Axes>"
      ]
     },
     "metadata": {
      "needs_background": "light"
     },
     "output_type": "display_data"
    }
   ],
   "source": [
    "fig,ax = plt.subplots(figsize=(5,10))\n",
    "plt.xlabel('Feature Importance')\n",
    "plt.ylabel('Features (with non-zero gini importance)')\n",
    "plt.barh(feature_importance['Feature'][990:], feature_importance['Importance'][990:])\n",
    "plt.title('Top 10 SVM Feature Importances')"
   ]
  },
  {
   "cell_type": "markdown",
   "id": "bab154c3",
   "metadata": {},
   "source": [
    "### Random Split PCA, DR, and Result Metrics"
   ]
  },
  {
   "cell_type": "code",
   "execution_count": 13,
   "id": "e7316d11",
   "metadata": {},
   "outputs": [
    {
     "name": "stderr",
     "output_type": "stream",
     "text": [
      "C:\\Users\\Jamie Wang\\anaconda3\\envs\\bme590\\lib\\site-packages\\sklearn\\manifold\\_t_sne.py:800: FutureWarning: The default initialization in TSNE will change from 'random' to 'pca' in 1.2.\n",
      "  warnings.warn(\n",
      "C:\\Users\\Jamie Wang\\anaconda3\\envs\\bme590\\lib\\site-packages\\sklearn\\manifold\\_t_sne.py:810: FutureWarning: The default learning rate in TSNE will change from 200.0 to 'auto' in 1.2.\n",
      "  warnings.warn(\n"
     ]
    },
    {
     "name": "stdout",
     "output_type": "stream",
     "text": [
      "Random Split Metrics:\n",
      "Accuracy: 0.9640718562874252\n",
      "Balanced Accuracy: 0.9212593516209476\n",
      "ROC AUC: 0.9212593516209476\n",
      "Precision Score: 0.9636803874092009\n",
      "Recall Score: 0.9925187032418953\n",
      "\n"
     ]
    },
    {
     "data": {
      "image/png": "[encoded data removed]",
      "text/plain": [
       "<Figure size 1080x360 with 4 Axes>"
      ]
     },
     "metadata": {
      "needs_background": "light"
     },
     "output_type": "display_data"
    }
   ],
   "source": [
    "def plot_split(split, y_pred, y_test, t_components):\n",
    "    \n",
    "    fig = plt.figure(figsize=(15, 5))\n",
    "    fig.suptitle('{} Split'.format(split))\n",
    "    plt.subplot(1, 2, 1)\n",
    "    plt.scatter(t_components[:,0], t_components[:,1], c=y_pred, s=10)\n",
    "    plt.xlabel('t-SNE_1')\n",
    "    plt.ylabel('t-SNE_2')\n",
    "    plt.title('Prediction Visualization')\n",
    "    plt.colorbar()\n",
    "\n",
    "    plt.subplot(1, 2, 2)\n",
    "    plt.scatter(t_components[:,0], t_components[:,1], c=y_test,s=10)\n",
    "    plt.xlabel('t-SNE_1')\n",
    "    plt.ylabel('t-SNE_2')\n",
    "    plt.title('Permeability Visualization')\n",
    "    plt.colorbar()\n",
    "    \n",
    "    # Calculate how often the classifier is correct\n",
    "    print(\"{} Split Metrics:\".format(split))\n",
    "    print(\"Accuracy:\",metrics.accuracy_score(y_test, y_pred))\n",
    "    print(\"Balanced Accuracy:\", metrics.balanced_accuracy_score(y_test, y_pred))\n",
    "    print(\"ROC AUC:\", metrics.roc_auc_score(y_test, y_pred))\n",
    "    print(\"Precision Score:\", metrics.precision_score(y_test, y_pred))\n",
    "    print(\"Recall Score:\", metrics.recall_score(y_test, y_pred))\n",
    "    print(\"\")\n",
    "\n",
    "dim = 100\n",
    "pca_rand = PCA(n_components=dim)\n",
    "components_rand = pca_rand.fit_transform(X_test)\n",
    "tsne_rand = TSNE(n_components=2)\n",
    "t_components_rand = tsne_rand.fit_transform(components_rand)\n",
    "\n",
    "plot_split('Random', y_pred, y_test, t_components_rand)\n"
   ]
  },
  {
   "cell_type": "markdown",
   "id": "ff1a8410",
   "metadata": {},
   "source": [
    "### Scaffold Split "
   ]
  },
  {
   "cell_type": "markdown",
   "id": "8c9c0d00",
   "metadata": {},
   "source": [
    "#### Data preprocessing"
   ]
  },
  {
   "cell_type": "code",
   "execution_count": 14,
   "id": "2ac08dc4",
   "metadata": {},
   "outputs": [],
   "source": [
    "Xs = bbb_df.iloc[:,3:].copy()\n",
    "Ys = bbb_df.iloc[:,2].copy()\n",
    "dataset = dc.data.DiskDataset.from_numpy(X=Xs,y=Ys,ids=bbb_df['SMILES'].tolist())\n",
    "scaffoldsplitter = dc.splits.ScaffoldSplitter()\n",
    "train_scaff, test_scaff = scaffoldsplitter.train_test_split(dataset)"
   ]
  },
  {
   "cell_type": "markdown",
   "id": "fb9d2dc3",
   "metadata": {},
   "source": [
    "### Model Predictions (Classes and Probabilities)"
   ]
  },
  {
   "cell_type": "code",
   "execution_count": 15,
   "id": "a55821c1",
   "metadata": {},
   "outputs": [],
   "source": [
    "# Train SVM classifier\n",
    "SVM_best = SVM_best.fit(train_scaff.X,train_scaff.y)\n",
    "\n",
    "# Predict the response for test dataset\n",
    "y_pred_scaff = SVM_best.predict(test_scaff.X)"
   ]
  },
  {
   "cell_type": "code",
   "execution_count": 16,
   "id": "0cf7430f",
   "metadata": {},
   "outputs": [
    {
     "data": {
      "text/html": [
       "<div>\n",
       "<style scoped>\n",
       "    .dataframe tbody tr th:only-of-type {\n",
       "        vertical-align: middle;\n",
       "    }\n",
       "\n",
       "    .dataframe tbody tr th {\n",
       "        vertical-align: top;\n",
       "    }\n",
       "\n",
       "    .dataframe thead th {\n",
       "        text-align: right;\n",
       "    }\n",
       "</style>\n",
       "<table border=\"1\" class=\"dataframe\">\n",
       "  <thead>\n",
       "    <tr style=\"text-align: right;\">\n",
       "      <th></th>\n",
       "      <th>SMILES</th>\n",
       "      <th>Prob Permeable</th>\n",
       "    </tr>\n",
       "  </thead>\n",
       "  <tbody>\n",
       "    <tr>\n",
       "      <th>309</th>\n",
       "      <td>CCCCc1nc(c(n1Cc1ccc(cc1)c1ccccc1c1[nH]nnn1)CO)Cl</td>\n",
       "      <td>1.000000</td>\n",
       "    </tr>\n",
       "    <tr>\n",
       "      <th>28</th>\n",
       "      <td>CCc1sc2c(c1)C(=NCC(=O)N2C)c1ccccc1Cl</td>\n",
       "      <td>1.000000</td>\n",
       "    </tr>\n",
       "    <tr>\n",
       "      <th>130</th>\n",
       "      <td>CN(CCc1cc2cccc3c2n1c1ccccc1CC3)Cc1ccccc1</td>\n",
       "      <td>0.999999</td>\n",
       "    </tr>\n",
       "    <tr>\n",
       "      <th>33</th>\n",
       "      <td>Brc1ccc2c(c1)C(=NCC(=O)N2)c1ccccn1</td>\n",
       "      <td>0.999999</td>\n",
       "    </tr>\n",
       "    <tr>\n",
       "      <th>10</th>\n",
       "      <td>CC(=O)OCC(=O)[C@]12OC3(CCCC3)O[C@@H]2C[C@H]2[C...</td>\n",
       "      <td>0.999999</td>\n",
       "    </tr>\n",
       "    <tr>\n",
       "      <th>...</th>\n",
       "      <td>...</td>\n",
       "      <td>...</td>\n",
       "    </tr>\n",
       "    <tr>\n",
       "      <th>262</th>\n",
       "      <td>OC(=O)c1[nH]cnc1C(=O)N[C@@H](C(=O)N[C@H]1[C@H]...</td>\n",
       "      <td>0.000343</td>\n",
       "    </tr>\n",
       "    <tr>\n",
       "      <th>223</th>\n",
       "      <td>CC1(C)S[C@@H]2[C@H](NC(=O)[C@H](NC(=O)C3=CC=C(...</td>\n",
       "      <td>0.000312</td>\n",
       "    </tr>\n",
       "    <tr>\n",
       "      <th>274</th>\n",
       "      <td>Cc1sc(nn1)SCC1=C(N2[C@H](SC1)[C@H](NC(=O)CN1C=...</td>\n",
       "      <td>0.000163</td>\n",
       "    </tr>\n",
       "    <tr>\n",
       "      <th>205</th>\n",
       "      <td>CN(C)[C@H]1[C@@H]2C[C@H]3C(=C(O)[C@]2(O)C(=O)C...</td>\n",
       "      <td>0.000018</td>\n",
       "    </tr>\n",
       "    <tr>\n",
       "      <th>275</th>\n",
       "      <td>N[C@@H](C(=O)N[C@H]1[C@H]2SCC(=C(N2C1=O)C(O)=O...</td>\n",
       "      <td>0.000014</td>\n",
       "    </tr>\n",
       "  </tbody>\n",
       "</table>\n",
       "<p>334 rows × 2 columns</p>\n",
       "</div>"
      ],
      "text/plain": [
       "                                                SMILES  Prob Permeable\n",
       "309   CCCCc1nc(c(n1Cc1ccc(cc1)c1ccccc1c1[nH]nnn1)CO)Cl        1.000000\n",
       "28                CCc1sc2c(c1)C(=NCC(=O)N2C)c1ccccc1Cl        1.000000\n",
       "130           CN(CCc1cc2cccc3c2n1c1ccccc1CC3)Cc1ccccc1        0.999999\n",
       "33                  Brc1ccc2c(c1)C(=NCC(=O)N2)c1ccccn1        0.999999\n",
       "10   CC(=O)OCC(=O)[C@]12OC3(CCCC3)O[C@@H]2C[C@H]2[C...        0.999999\n",
       "..                                                 ...             ...\n",
       "262  OC(=O)c1[nH]cnc1C(=O)N[C@@H](C(=O)N[C@H]1[C@H]...        0.000343\n",
       "223  CC1(C)S[C@@H]2[C@H](NC(=O)[C@H](NC(=O)C3=CC=C(...        0.000312\n",
       "274  Cc1sc(nn1)SCC1=C(N2[C@H](SC1)[C@H](NC(=O)CN1C=...        0.000163\n",
       "205  CN(C)[C@H]1[C@@H]2C[C@H]3C(=C(O)[C@]2(O)C(=O)C...        0.000018\n",
       "275  N[C@@H](C(=O)N[C@H]1[C@H]2SCC(=C(N2C1=O)C(O)=O...        0.000014\n",
       "\n",
       "[334 rows x 2 columns]"
      ]
     },
     "execution_count": 16,
     "metadata": {},
     "output_type": "execute_result"
    }
   ],
   "source": [
    "y_pred_scaff_prob = SVM_best.predict_proba(test_scaff.X)\n",
    "\n",
    "prob_test_df = pd.DataFrame()\n",
    "prob_test_df['SMILES'] = test_scaff.ids\n",
    "prob_test_df['Prob Permeable'] = y_pred_scaff_prob[:,1]\n",
    "prob_test_df = prob_test_df.sort_values(by=['Prob Permeable'], ascending=False)\n",
    "prob_test_df"
   ]
  },
  {
   "cell_type": "markdown",
   "id": "4f9bbfc5",
   "metadata": {},
   "source": [
    "### Scaffold Split PCA, DR, and Result Metrics"
   ]
  },
  {
   "cell_type": "code",
   "execution_count": 17,
   "id": "8f800c98",
   "metadata": {},
   "outputs": [],
   "source": [
    "dim = 100\n",
    "pca_scaff = PCA(n_components=dim)\n",
    "components_scaff = pca_scaff.fit_transform(test_scaff.X)"
   ]
  },
  {
   "cell_type": "code",
   "execution_count": 18,
   "id": "b37ca413",
   "metadata": {},
   "outputs": [
    {
     "name": "stderr",
     "output_type": "stream",
     "text": [
      "C:\\Users\\Jamie Wang\\anaconda3\\envs\\bme590\\lib\\site-packages\\sklearn\\manifold\\_t_sne.py:800: FutureWarning: The default initialization in TSNE will change from 'random' to 'pca' in 1.2.\n",
      "  warnings.warn(\n",
      "C:\\Users\\Jamie Wang\\anaconda3\\envs\\bme590\\lib\\site-packages\\sklearn\\manifold\\_t_sne.py:810: FutureWarning: The default learning rate in TSNE will change from 200.0 to 'auto' in 1.2.\n",
      "  warnings.warn(\n"
     ]
    }
   ],
   "source": [
    "tsne_scaff = TSNE(n_components=2)\n",
    "t_components_scaff = tsne_scaff.fit_transform(components_scaff)"
   ]
  },
  {
   "cell_type": "code",
   "execution_count": 19,
   "id": "31a8c6bc",
   "metadata": {
    "scrolled": false
   },
   "outputs": [
    {
     "name": "stdout",
     "output_type": "stream",
     "text": [
      "Scaffold Split Metrics:\n",
      "Accuracy: 0.8922155688622755\n",
      "Balanced Accuracy: 0.8766648421820835\n",
      "ROC AUC: 0.8766648421820835\n",
      "Precision Score: 0.8430493273542601\n",
      "Recall Score: 0.9947089947089947\n",
      "\n"
     ]
    },
    {
     "data": {
      "image/png": "[encoded data removed]",
      "text/plain": [
       "<Figure size 1080x360 with 4 Axes>"
      ]
     },
     "metadata": {
      "needs_background": "light"
     },
     "output_type": "display_data"
    }
   ],
   "source": [
    "plot_split('Scaffold', y_pred_scaff, test_scaff.y, t_components_scaff)"
   ]
  },
  {
   "cell_type": "markdown",
   "id": "06e2abcd",
   "metadata": {},
   "source": [
    "## Scaffold Split Feature Importances"
   ]
  },
  {
   "cell_type": "code",
   "execution_count": 20,
   "id": "9a6356ef",
   "metadata": {},
   "outputs": [],
   "source": [
    "# get importance\n",
    "dt_importance = SVM_best.coef_\n",
    "\n",
    "# summarize and print out the feature importance\n",
    "non_zero_index_list = [i for i, v in enumerate(dt_importance[0]) if v != 0]\n",
    "\n",
    "# remove all zero value entries\n",
    "non_zero_feature_names = [bbb_df.iloc[:,3:].columns[i] for i in non_zero_index_list]\n",
    "non_zero_importance = [dt_importance[0][i] for i in non_zero_index_list]\n",
    "non_zero_feature_names_str = [str(x) for x in non_zero_feature_names]\n",
    "feature_importance = pd.DataFrame(list(zip(non_zero_feature_names_str, non_zero_importance)), columns =['Feature','Importance'])\n",
    "feature_importance.sort_values(by='Importance', ascending=True, inplace=True)"
   ]
  },
  {
   "cell_type": "code",
   "execution_count": 21,
   "id": "bdee7630",
   "metadata": {},
   "outputs": [
    {
     "data": {
      "text/html": [
       "<div>\n",
       "<style scoped>\n",
       "    .dataframe tbody tr th:only-of-type {\n",
       "        vertical-align: middle;\n",
       "    }\n",
       "\n",
       "    .dataframe tbody tr th {\n",
       "        vertical-align: top;\n",
       "    }\n",
       "\n",
       "    .dataframe thead th {\n",
       "        text-align: right;\n",
       "    }\n",
       "</style>\n",
       "<table border=\"1\" class=\"dataframe\">\n",
       "  <thead>\n",
       "    <tr style=\"text-align: right;\">\n",
       "      <th></th>\n",
       "      <th>Feature</th>\n",
       "      <th>Importance</th>\n",
       "    </tr>\n",
       "  </thead>\n",
       "  <tbody>\n",
       "    <tr>\n",
       "      <th>5</th>\n",
       "      <td>5</td>\n",
       "      <td>-0.386517</td>\n",
       "    </tr>\n",
       "    <tr>\n",
       "      <th>349</th>\n",
       "      <td>357</td>\n",
       "      <td>-0.325430</td>\n",
       "    </tr>\n",
       "    <tr>\n",
       "      <th>231</th>\n",
       "      <td>237</td>\n",
       "      <td>-0.316579</td>\n",
       "    </tr>\n",
       "    <tr>\n",
       "      <th>139</th>\n",
       "      <td>143</td>\n",
       "      <td>-0.304241</td>\n",
       "    </tr>\n",
       "    <tr>\n",
       "      <th>934</th>\n",
       "      <td>953</td>\n",
       "      <td>-0.272490</td>\n",
       "    </tr>\n",
       "    <tr>\n",
       "      <th>...</th>\n",
       "      <td>...</td>\n",
       "      <td>...</td>\n",
       "    </tr>\n",
       "    <tr>\n",
       "      <th>632</th>\n",
       "      <td>646</td>\n",
       "      <td>0.188514</td>\n",
       "    </tr>\n",
       "    <tr>\n",
       "      <th>134</th>\n",
       "      <td>138</td>\n",
       "      <td>0.190203</td>\n",
       "    </tr>\n",
       "    <tr>\n",
       "      <th>518</th>\n",
       "      <td>530</td>\n",
       "      <td>0.194462</td>\n",
       "    </tr>\n",
       "    <tr>\n",
       "      <th>812</th>\n",
       "      <td>828</td>\n",
       "      <td>0.208082</td>\n",
       "    </tr>\n",
       "    <tr>\n",
       "      <th>74</th>\n",
       "      <td>78</td>\n",
       "      <td>0.235820</td>\n",
       "    </tr>\n",
       "  </tbody>\n",
       "</table>\n",
       "<p>1005 rows × 2 columns</p>\n",
       "</div>"
      ],
      "text/plain": [
       "    Feature  Importance\n",
       "5         5   -0.386517\n",
       "349     357   -0.325430\n",
       "231     237   -0.316579\n",
       "139     143   -0.304241\n",
       "934     953   -0.272490\n",
       "..      ...         ...\n",
       "632     646    0.188514\n",
       "134     138    0.190203\n",
       "518     530    0.194462\n",
       "812     828    0.208082\n",
       "74       78    0.235820\n",
       "\n",
       "[1005 rows x 2 columns]"
      ]
     },
     "execution_count": 21,
     "metadata": {},
     "output_type": "execute_result"
    }
   ],
   "source": [
    "feature_importance"
   ]
  },
  {
   "cell_type": "code",
   "execution_count": 22,
   "id": "9838986f",
   "metadata": {
    "scrolled": true
   },
   "outputs": [
    {
     "data": {
      "text/plain": [
       "Text(0.5, 1.0, 'Top 10 XGBoost Feature Importances')"
      ]
     },
     "execution_count": 22,
     "metadata": {},
     "output_type": "execute_result"
    },
    {
     "data": {
      "image/png": "[encoded data removed]",
      "text/plain": [
       "<Figure size 360x720 with 1 Axes>"
      ]
     },
     "metadata": {
      "needs_background": "light"
     },
     "output_type": "display_data"
    }
   ],
   "source": [
    "fig,ax = plt.subplots(figsize=(5,10))\n",
    "plt.xlabel('Gini Importance')\n",
    "plt.ylabel('Features (with non-zero gini importance)')\n",
    "plt.barh(feature_importance['Feature'][-10:], feature_importance['Importance'][-10:])\n",
    "plt.title('Top 10 SVM Feature Importances')"
   ]
  },
  {
   "cell_type": "code",
   "execution_count": 29,
   "metadata": {},
   "outputs": [
    {
     "data": {
      "text/plain": [
       "[0.13980670764279488,\n",
       " 0.1411576319439674,\n",
       " 0.14438885951173616,\n",
       " 0.14980977631547177,\n",
       " 0.15188283208396375,\n",
       " 0.1578963759879286,\n",
       " 0.15941575138137315,\n",
       " 0.1603848006150405,\n",
       " 0.16090741654153815,\n",
       " 0.16420089036368543,\n",
       " 0.16544398887507364,\n",
       " 0.17031250422707883,\n",
       " 0.17567167003688294,\n",
       " 0.17977053927709283,\n",
       " 0.18259849329630726,\n",
       " 0.18851372644366476,\n",
       " 0.19020334053489368,\n",
       " 0.19446214484841093,\n",
       " 0.20808202632675638,\n",
       " 0.23581952457052585]"
      ]
     },
     "execution_count": 29,
     "metadata": {},
     "output_type": "execute_result"
    }
   ],
   "source": [
    "feature_importance['Importance'][-20:].values.tolist()"
   ]
  },
  {
   "cell_type": "code",
   "execution_count": 28,
   "metadata": {},
   "outputs": [
    {
     "data": {
      "text/plain": [
       "[667,\n",
       " 980,\n",
       " 700,\n",
       " 325,\n",
       " 767,\n",
       " 580,\n",
       " 997,\n",
       " 798,\n",
       " 264,\n",
       " 352,\n",
       " 672,\n",
       " 119,\n",
       " 412,\n",
       " 1010,\n",
       " 74,\n",
       " 646,\n",
       " 138,\n",
       " 530,\n",
       " 828,\n",
       " 78]"
      ]
     },
     "execution_count": 28,
     "metadata": {},
     "output_type": "execute_result"
    }
   ],
   "source": [
    "top20 = feature_importance['Feature'][-20:].values.tolist()\n",
    "top20 = [int(val) for val in top20]\n",
    "top20"
   ]
  },
  {
   "cell_type": "markdown",
   "metadata": {},
   "source": [
    "### K Fold Splits and MCC Calculations"
   ]
  },
  {
   "cell_type": "code",
   "execution_count": null,
   "metadata": {},
   "outputs": [],
   "source": [
    "def K_fold_MCC(dataset, h, split_name=\"Random Split\", splitter=RandomSplitter()):\n",
    "    \n",
    "    split_data = splitter.k_fold_split(dataset, k=4)\n",
    "    \n",
    "    MCCs = []\n",
    "    y_true = []\n",
    "    h_predictions = []\n",
    "    \n",
    "    for data in split_data:\n",
    "        h.fit(data[0].X, data[0].y)\n",
    "        y_pred = h.predict(data[1].X)\n",
    "        y_true.extend(list(data[1].y))\n",
    "        h_predictions.extend(list(y_pred))\n",
    "        mcc = matthews_corrcoef(data[1].y, y_pred)\n",
    "        MCCs.append(mcc)\n",
    "    \n",
    "    print(split_name + \" MCC Values:\")\n",
    "    \n",
    "    for mcc in MCCs:\n",
    "        print(mcc)\n",
    "    print(\"Mean: \" + str(np.mean(MCCs)))\n",
    "\n",
    "    print(\"MCC value across full test data: \" + str(matthews_corrcoef(y_true, h_predictions)))\n",
    "    \n",
    "    return MCCs"
   ]
  },
  {
   "cell_type": "code",
   "execution_count": null,
   "metadata": {},
   "outputs": [],
   "source": [
    "scaffold_split_mcc = K_fold_MCC(dataset, SVM_best, 'Scaffold Split', scaffoldsplitter)"
   ]
  },
  {
   "cell_type": "code",
   "execution_count": null,
   "metadata": {},
   "outputs": [],
   "source": [
    "random_split_mcc = K_fold_MCC(dataset=dataset, h=SVM_best)"
   ]
  },
  {
   "cell_type": "code",
   "execution_count": null,
   "metadata": {},
   "outputs": [],
   "source": [
    "print(\"T Test P-value: \" + str(ttest_ind(scaffold_split_mcc, random_split_mcc).pvalue))"
   ]
  },
  {
   "cell_type": "code",
   "execution_count": null,
   "metadata": {},
   "outputs": [],
   "source": [
    "fig, ax = plt.subplots(1,2, sharey=True)\n",
    "fig.tight_layout()\n",
    "\n",
    "ax[0].boxplot(scaffold_split_mcc)\n",
    "ax[0].title.set_text(\"Scaffold Split MCC\")\n",
    "ax[1].boxplot(random_split_mcc)\n",
    "ax[1].title.set_text(\"Random Split MCC\")"
   ]
  }
 ],
 "metadata": {
  "kernelspec": {
   "display_name": "Python 3",
   "language": "python",
   "name": "python3"
  },
  "language_info": {
   "codemirror_mode": {
    "name": "ipython",
    "version": 3
   },
   "file_extension": ".py",
   "mimetype": "text/x-python",
   "name": "python",
   "nbconvert_exporter": "python",
   "pygments_lexer": "ipython3",
   "version": "3.8.8"
  },
  "vscode": {
   "interpreter": {
    "hash": "aee8b7b246df8f9039afb4144a1f6fd8d2ca17a180786b69acc140d282b71a49"
   }
  }
 },
 "nbformat": 4,
 "nbformat_minor": 2
}
