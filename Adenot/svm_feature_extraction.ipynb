{
 "cells": [
  {
   "cell_type": "code",
   "execution_count": 1,
   "id": "cc2b3ef2",
   "metadata": {},
   "outputs": [],
   "source": [
    "import numpy as np\n",
    "import pandas as pd\n",
    "import math\n",
    "import matplotlib.pyplot as plt\n",
    "import numpy as np\n",
    "\n",
    "from sklearn.svm import SVC\n",
    "from sklearn.model_selection import train_test_split \n",
    "from sklearn.decomposition import PCA\n",
    "from sklearn.manifold import TSNE\n",
    "from deepchem import metrics\n",
    "import deepchem as dc\n",
    "from rdkit import Chem\n",
    "from rdkit.Chem import AllChem, DataStructs\n",
    "from sklearn.model_selection import GridSearchCV\n"
   ]
  },
  {
   "cell_type": "code",
   "execution_count": 2,
   "id": "94679f64",
   "metadata": {},
   "outputs": [],
   "source": [
    "bbb_df = pd.read_csv('adenot_processed.csv')"
   ]
  },
  {
   "cell_type": "code",
   "execution_count": 3,
   "id": "89325ff5",
   "metadata": {},
   "outputs": [],
   "source": [
    "X = bbb_df.drop(columns=[\"Drug\", \"SMILES\", 'permeable'])\n",
    "Y = bbb_df['permeable']\n",
    "X_train, X_test, y_train, y_test = train_test_split(X, Y, test_size=0.3, random_state=0)"
   ]
  },
  {
   "cell_type": "markdown",
   "id": "1f45117e",
   "metadata": {},
   "source": [
    "## Optimized SVM"
   ]
  },
  {
   "cell_type": "code",
   "execution_count": 4,
   "id": "bc8e1429",
   "metadata": {},
   "outputs": [],
   "source": [
    "SVM_best = SVC(C=0.1, gamma=1, kernel='linear', probability=True).fit(X_train, y_train)"
   ]
  },
  {
   "cell_type": "markdown",
   "id": "5f38d1c3",
   "metadata": {},
   "source": [
    "## Scaffold Split"
   ]
  },
  {
   "cell_type": "code",
   "execution_count": 5,
   "id": "af036c9e",
   "metadata": {},
   "outputs": [],
   "source": [
    "Xs = bbb_df.iloc[:,3:].copy()\n",
    "Ys = bbb_df.iloc[:,2].copy()\n",
    "dataset = dc.data.DiskDataset.from_numpy(X=Xs,y=Ys,ids=bbb_df['SMILES'].tolist())\n",
    "scaffoldsplitter = dc.splits.ScaffoldSplitter()\n",
    "train_scaff, test_scaff = scaffoldsplitter.train_test_split(dataset)"
   ]
  },
  {
   "cell_type": "markdown",
   "id": "d6889c86",
   "metadata": {},
   "source": [
    "## Model Training and Predictions"
   ]
  },
  {
   "cell_type": "code",
   "execution_count": 6,
   "id": "b5bfd2e0",
   "metadata": {},
   "outputs": [],
   "source": [
    "# Train Decision Tree classifier\n",
    "SVM_best = SVM_best.fit(train_scaff.X,train_scaff.y)"
   ]
  },
  {
   "cell_type": "code",
   "execution_count": 7,
   "id": "548abb97",
   "metadata": {},
   "outputs": [],
   "source": [
    "# Predict the response for test dataset\n",
    "y_pred_scaff = SVM_best.predict(test_scaff.X)"
   ]
  },
  {
   "cell_type": "code",
   "execution_count": 8,
   "id": "20832705",
   "metadata": {},
   "outputs": [
    {
     "data": {
      "text/html": [
       "<div>\n",
       "<style scoped>\n",
       "    .dataframe tbody tr th:only-of-type {\n",
       "        vertical-align: middle;\n",
       "    }\n",
       "\n",
       "    .dataframe tbody tr th {\n",
       "        vertical-align: top;\n",
       "    }\n",
       "\n",
       "    .dataframe thead th {\n",
       "        text-align: right;\n",
       "    }\n",
       "</style>\n",
       "<table border=\"1\" class=\"dataframe\">\n",
       "  <thead>\n",
       "    <tr style=\"text-align: right;\">\n",
       "      <th></th>\n",
       "      <th>SMILES</th>\n",
       "      <th>Prob Permeable</th>\n",
       "    </tr>\n",
       "  </thead>\n",
       "  <tbody>\n",
       "    <tr>\n",
       "      <th>149</th>\n",
       "      <td>Clc1ccc(c(c1)Cl)/C(/Cl)=C/n1cncn1</td>\n",
       "      <td>0.999999</td>\n",
       "    </tr>\n",
       "    <tr>\n",
       "      <th>124</th>\n",
       "      <td>O=C(N1CCN(CC1)Cc1ccccc1)c1oc2ccccc2c1</td>\n",
       "      <td>0.999999</td>\n",
       "    </tr>\n",
       "    <tr>\n",
       "      <th>305</th>\n",
       "      <td>CCCCc1nc(c(n1Cc1ccc(cc1)c1ccccc1c1[nH]nnn1)CO)Cl</td>\n",
       "      <td>0.999999</td>\n",
       "    </tr>\n",
       "    <tr>\n",
       "      <th>150</th>\n",
       "      <td>Nc1nnc(c(n1)N)c1cccc(c1Cl)Cl</td>\n",
       "      <td>0.999998</td>\n",
       "    </tr>\n",
       "    <tr>\n",
       "      <th>63</th>\n",
       "      <td>CCN1CCC(C1)=C(c1ccccc1)c1ccccc1</td>\n",
       "      <td>0.999998</td>\n",
       "    </tr>\n",
       "    <tr>\n",
       "      <th>...</th>\n",
       "      <td>...</td>\n",
       "      <td>...</td>\n",
       "    </tr>\n",
       "    <tr>\n",
       "      <th>244</th>\n",
       "      <td>CO\\N=C(\\C(=O)N[C@H]1[C@H]2SCC(=C(N2C1=O)C(O)=O...</td>\n",
       "      <td>0.000175</td>\n",
       "    </tr>\n",
       "    <tr>\n",
       "      <th>185</th>\n",
       "      <td>COC(=O)C1NC(=O)[C@H]2NC(=O)[C@H](NC(=O)[C@@H]3...</td>\n",
       "      <td>0.000151</td>\n",
       "    </tr>\n",
       "    <tr>\n",
       "      <th>184</th>\n",
       "      <td>CN[C@H](CC(C)C)C(=O)N[C@@H]1[C@H](O)c2ccc(c(c2...</td>\n",
       "      <td>0.000070</td>\n",
       "    </tr>\n",
       "    <tr>\n",
       "      <th>270</th>\n",
       "      <td>N[C@@H](C(=O)N[C@H]1[C@H]2SCC(=C(N2C1=O)C(O)=O...</td>\n",
       "      <td>0.000048</td>\n",
       "    </tr>\n",
       "    <tr>\n",
       "      <th>199</th>\n",
       "      <td>CN(C)C1C2CC3C(=C(O)[C@]2(O)C(=O)C(=C1O)C(=O)NC...</td>\n",
       "      <td>0.000015</td>\n",
       "    </tr>\n",
       "  </tbody>\n",
       "</table>\n",
       "<p>332 rows × 2 columns</p>\n",
       "</div>"
      ],
      "text/plain": [
       "                                                SMILES  Prob Permeable\n",
       "149                  Clc1ccc(c(c1)Cl)/C(/Cl)=C/n1cncn1        0.999999\n",
       "124              O=C(N1CCN(CC1)Cc1ccccc1)c1oc2ccccc2c1        0.999999\n",
       "305   CCCCc1nc(c(n1Cc1ccc(cc1)c1ccccc1c1[nH]nnn1)CO)Cl        0.999999\n",
       "150                       Nc1nnc(c(n1)N)c1cccc(c1Cl)Cl        0.999998\n",
       "63                     CCN1CCC(C1)=C(c1ccccc1)c1ccccc1        0.999998\n",
       "..                                                 ...             ...\n",
       "244  CO\\N=C(\\C(=O)N[C@H]1[C@H]2SCC(=C(N2C1=O)C(O)=O...        0.000175\n",
       "185  COC(=O)C1NC(=O)[C@H]2NC(=O)[C@H](NC(=O)[C@@H]3...        0.000151\n",
       "184  CN[C@H](CC(C)C)C(=O)N[C@@H]1[C@H](O)c2ccc(c(c2...        0.000070\n",
       "270  N[C@@H](C(=O)N[C@H]1[C@H]2SCC(=C(N2C1=O)C(O)=O...        0.000048\n",
       "199  CN(C)C1C2CC3C(=C(O)[C@]2(O)C(=O)C(=C1O)C(=O)NC...        0.000015\n",
       "\n",
       "[332 rows x 2 columns]"
      ]
     },
     "execution_count": 8,
     "metadata": {},
     "output_type": "execute_result"
    }
   ],
   "source": [
    "y_pred_scaff_prob = SVM_best.predict_proba(test_scaff.X)\n",
    "\n",
    "prob_test_df = pd.DataFrame()\n",
    "prob_test_df['SMILES'] = test_scaff.ids\n",
    "prob_test_df['Prob Permeable'] = y_pred_scaff_prob[:,1]\n",
    "prob_test_df = prob_test_df.sort_values(by=['Prob Permeable'], ascending=False)\n",
    "prob_test_df"
   ]
  },
  {
   "cell_type": "markdown",
   "id": "2b244407",
   "metadata": {},
   "source": [
    "## Feature Importances"
   ]
  },
  {
   "cell_type": "code",
   "execution_count": 9,
   "id": "176d1a39",
   "metadata": {},
   "outputs": [],
   "source": [
    "# get importance\n",
    "dt_importance = SVM_best.coef_\n",
    "\n",
    "# summarize and print out the feature importance\n",
    "non_zero_index_list = [i for i, v in enumerate(dt_importance[0]) if v != 0]\n",
    "\n",
    "# remove all zero value entries\n",
    "non_zero_feature_names = [bbb_df.iloc[:,3:].columns[i] for i in non_zero_index_list]\n",
    "non_zero_importance = [dt_importance[0][i] for i in non_zero_index_list]\n",
    "non_zero_feature_names_str = [str(x) for x in non_zero_feature_names]\n",
    "feature_importance = pd.DataFrame(list(zip(non_zero_feature_names_str, non_zero_importance)), columns =['Feature','Importance'])\n",
    "feature_importance.sort_values(by='Importance', ascending=True, inplace=True)"
   ]
  },
  {
   "cell_type": "code",
   "execution_count": 10,
   "id": "f83276f1",
   "metadata": {},
   "outputs": [
    {
     "data": {
      "text/html": [
       "<div>\n",
       "<style scoped>\n",
       "    .dataframe tbody tr th:only-of-type {\n",
       "        vertical-align: middle;\n",
       "    }\n",
       "\n",
       "    .dataframe tbody tr th {\n",
       "        vertical-align: top;\n",
       "    }\n",
       "\n",
       "    .dataframe thead th {\n",
       "        text-align: right;\n",
       "    }\n",
       "</style>\n",
       "<table border=\"1\" class=\"dataframe\">\n",
       "  <thead>\n",
       "    <tr style=\"text-align: right;\">\n",
       "      <th></th>\n",
       "      <th>Feature</th>\n",
       "      <th>Importance</th>\n",
       "    </tr>\n",
       "  </thead>\n",
       "  <tbody>\n",
       "    <tr>\n",
       "      <th>5</th>\n",
       "      <td>5</td>\n",
       "      <td>-0.349273</td>\n",
       "    </tr>\n",
       "    <tr>\n",
       "      <th>346</th>\n",
       "      <td>357</td>\n",
       "      <td>-0.331275</td>\n",
       "    </tr>\n",
       "    <tr>\n",
       "      <th>399</th>\n",
       "      <td>410</td>\n",
       "      <td>-0.258262</td>\n",
       "    </tr>\n",
       "    <tr>\n",
       "      <th>306</th>\n",
       "      <td>315</td>\n",
       "      <td>-0.256448</td>\n",
       "    </tr>\n",
       "    <tr>\n",
       "      <th>624</th>\n",
       "      <td>640</td>\n",
       "      <td>-0.254354</td>\n",
       "    </tr>\n",
       "    <tr>\n",
       "      <th>...</th>\n",
       "      <td>...</td>\n",
       "      <td>...</td>\n",
       "    </tr>\n",
       "    <tr>\n",
       "      <th>564</th>\n",
       "      <td>580</td>\n",
       "      <td>0.172304</td>\n",
       "    </tr>\n",
       "    <tr>\n",
       "      <th>75</th>\n",
       "      <td>78</td>\n",
       "      <td>0.176783</td>\n",
       "    </tr>\n",
       "    <tr>\n",
       "      <th>516</th>\n",
       "      <td>530</td>\n",
       "      <td>0.183104</td>\n",
       "    </tr>\n",
       "    <tr>\n",
       "      <th>132</th>\n",
       "      <td>138</td>\n",
       "      <td>0.187629</td>\n",
       "    </tr>\n",
       "    <tr>\n",
       "      <th>401</th>\n",
       "      <td>412</td>\n",
       "      <td>0.229927</td>\n",
       "    </tr>\n",
       "  </tbody>\n",
       "</table>\n",
       "<p>992 rows × 2 columns</p>\n",
       "</div>"
      ],
      "text/plain": [
       "    Feature  Importance\n",
       "5         5   -0.349273\n",
       "346     357   -0.331275\n",
       "399     410   -0.258262\n",
       "306     315   -0.256448\n",
       "624     640   -0.254354\n",
       "..      ...         ...\n",
       "564     580    0.172304\n",
       "75       78    0.176783\n",
       "516     530    0.183104\n",
       "132     138    0.187629\n",
       "401     412    0.229927\n",
       "\n",
       "[992 rows x 2 columns]"
      ]
     },
     "execution_count": 10,
     "metadata": {},
     "output_type": "execute_result"
    }
   ],
   "source": [
    "feature_importance"
   ]
  },
  {
   "cell_type": "code",
   "execution_count": 11,
   "id": "167a17c7",
   "metadata": {},
   "outputs": [
    {
     "data": {
      "text/plain": [
       "Text(0.5, 1.0, 'Top 10 SVM Feature Importances')"
      ]
     },
     "execution_count": 11,
     "metadata": {},
     "output_type": "execute_result"
    },
    {
     "data": {
      "image/png": "[encoded data removed]",
      "text/plain": [
       "<Figure size 360x720 with 1 Axes>"
      ]
     },
     "metadata": {
      "needs_background": "light"
     },
     "output_type": "display_data"
    }
   ],
   "source": [
    "fig,ax = plt.subplots(figsize=(5,10))\n",
    "plt.xlabel('Gini Importance')\n",
    "plt.ylabel('Features (with non-zero gini importance)')\n",
    "plt.barh(feature_importance['Feature'][-10:], feature_importance['Importance'][-10:])\n",
    "plt.title('Top 10 SVM Feature Importances')"
   ]
  },
  {
   "cell_type": "code",
   "execution_count": 15,
   "id": "bf7a31c7",
   "metadata": {},
   "outputs": [
    {
     "data": {
      "text/plain": [
       "array([ 835,  935,  667,  245,  672,  520,  155,  144,  249,  646, 1010,\n",
       "        915,  904,   74,  119,  580,   78,  530,  138,  412])"
      ]
     },
     "execution_count": 15,
     "metadata": {},
     "output_type": "execute_result"
    }
   ],
   "source": [
    "important_features = feature_importance['Feature'].values.astype(int)\n",
    "important_features[-20:]"
   ]
  },
  {
   "cell_type": "code",
   "execution_count": null,
   "id": "704d1927",
   "metadata": {},
   "outputs": [],
   "source": []
  }
 ],
 "metadata": {
  "kernelspec": {
   "display_name": "Python [conda env:bme590]",
   "language": "python",
   "name": "conda-env-bme590-py"
  },
  "language_info": {
   "codemirror_mode": {
    "name": "ipython",
    "version": 3
   },
   "file_extension": ".py",
   "mimetype": "text/x-python",
   "name": "python",
   "nbconvert_exporter": "python",
   "pygments_lexer": "ipython3",
   "version": "3.10.4"
  }
 },
 "nbformat": 4,
 "nbformat_minor": 5
}
