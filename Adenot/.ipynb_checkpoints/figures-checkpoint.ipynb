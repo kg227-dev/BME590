{
 "cells": [
  {
   "cell_type": "code",
   "execution_count": 1,
   "id": "eaacd7b4",
   "metadata": {},
   "outputs": [],
   "source": [
    "import numpy as np\n",
    "import pandas as pd\n",
    "import matplotlib.pyplot as plt"
   ]
  },
  {
   "cell_type": "code",
   "execution_count": 2,
   "id": "10cb8f99",
   "metadata": {},
   "outputs": [],
   "source": [
    "#Accuracies in the order (Random Forest, SVM, XGBoost, Ensemble)\n",
    "random = [0.9520958083832335, 0.9640718562874252, 0.9560878243512974,0.9600798403193613]\n",
    "scaffold = [0.8413173652694611,0.8922155688622755, 0.8802395209580839,0.8832335329341318]"
   ]
  },
  {
   "cell_type": "code",
   "execution_count": 3,
   "id": "88cede15",
   "metadata": {},
   "outputs": [],
   "source": [
    "#Balanced Accuracies in the order (Random Forest, SVM, XGBoost, Ensemble)\n",
    "random = [0.88,0.9212593516209476,0.9162718204488778,0.907506234413965]\n",
    "scaffold = [0.8172413793103448,0.8766648421820835,0.8628717387338076,0.8655172413793104]"
   ]
  },
  {
   "cell_type": "code",
   "execution_count": 4,
   "id": "f54fc081",
   "metadata": {},
   "outputs": [],
   "source": [
    "#ROC AUC in the order (Random Forest, SVM, XGBoost, Ensemble)\n",
    "random = [0.88, 0.9212593516209476, 0.9162718204488777, 0.9075062344139652 ]\n",
    "scaffold = [0.8172413793103448,0.8766648421820835, 0.8628717387338077,0.8655172413793104]"
   ]
  },
  {
   "cell_type": "code",
   "execution_count": 5,
   "id": "4ad4229e",
   "metadata": {},
   "outputs": [],
   "source": [
    "#Precision in the order (Random Forest, SVM, XGBoost, Ensemble)\n",
    "random = [0.9435294117647058,0.9636803874092009, 0.9633251833740831,0.9568345323741008]\n",
    "scaffold = [0.78099173553719,0.8430493273542601, 0.8281938325991189, 0.8289473684210527]"
   ]
  },
  {
   "cell_type": "code",
   "execution_count": 6,
   "id": "a0cf811c",
   "metadata": {},
   "outputs": [],
   "source": [
    "#Recall in the order (Random Forest, SVM, XGBoost, Ensemble)\n",
    "random = [1.0, 0.9925187032418953, 0.9825436408977556, 0.9950124688279302]\n",
    "scaffold = [1.0, 0.9947089947089947, 0.9947089947089947, 1.0]"
   ]
  },
  {
   "cell_type": "code",
   "execution_count": null,
   "id": "5379babf",
   "metadata": {},
   "outputs": [],
   "source": []
  }
 ],
 "metadata": {
  "kernelspec": {
   "display_name": "Python [conda env:bme590] *",
   "language": "python",
   "name": "conda-env-bme590-py"
  },
  "language_info": {
   "codemirror_mode": {
    "name": "ipython",
    "version": 3
   },
   "file_extension": ".py",
   "mimetype": "text/x-python",
   "name": "python",
   "nbconvert_exporter": "python",
   "pygments_lexer": "ipython3",
   "version": "3.10.4"
  }
 },
 "nbformat": 4,
 "nbformat_minor": 5
}
