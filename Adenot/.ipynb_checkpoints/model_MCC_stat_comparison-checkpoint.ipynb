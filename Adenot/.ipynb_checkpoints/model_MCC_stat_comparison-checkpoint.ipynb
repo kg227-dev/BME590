{
 "cells": [
  {
   "cell_type": "markdown",
   "id": "6bb55246",
   "metadata": {
    "id": "NyaYVlmX0I3G"
   },
   "source": [
    "#### Import necessary libraries "
   ]
  },
  {
   "cell_type": "code",
   "execution_count": 1,
   "id": "eb06cd7d",
   "metadata": {},
   "outputs": [],
   "source": [
    "# importing utility modules\n",
    "import pandas as pd\n",
    "from sklearn.model_selection import train_test_split\n",
    "from sklearn.metrics import log_loss\n",
    " \n",
    "# importing machine learning models for prediction\n",
    "from sklearn.ensemble import RandomForestClassifier\n",
    "from sklearn.svm import SVC\n",
    "from xgboost import XGBClassifier \n",
    "# importing voting classifier\n",
    "from sklearn.ensemble import VotingClassifier\n",
    "import deepchem as dc\n",
    "from sklearn.decomposition import PCA\n",
    "from sklearn.manifold import TSNE\n",
    "import matplotlib.pyplot as plt\n",
    "from deepchem import metrics\n",
    "\n",
    "import numpy as np\n",
    "from sklearn.metrics import matthews_corrcoef\n",
    "from deepchem.splits import RandomSplitter\n",
    "from scipy.stats import ttest_ind"
   ]
  },
  {
   "cell_type": "markdown",
   "id": "6f7996de",
   "metadata": {
    "id": "z2umHdMLtqmw"
   },
   "source": [
    "#### Read in the preprocessed BBB dataset from Adenot paper"
   ]
  },
  {
   "cell_type": "code",
   "execution_count": 2,
   "id": "da732072",
   "metadata": {},
   "outputs": [],
   "source": [
    "bbb_df = pd.read_csv('adenot_processed.csv')"
   ]
  },
  {
   "cell_type": "code",
   "execution_count": 3,
   "id": "f12bb967",
   "metadata": {},
   "outputs": [
    {
     "data": {
      "text/html": [
       "<div>\n",
       "<style scoped>\n",
       "    .dataframe tbody tr th:only-of-type {\n",
       "        vertical-align: middle;\n",
       "    }\n",
       "\n",
       "    .dataframe tbody tr th {\n",
       "        vertical-align: top;\n",
       "    }\n",
       "\n",
       "    .dataframe thead th {\n",
       "        text-align: right;\n",
       "    }\n",
       "</style>\n",
       "<table border=\"1\" class=\"dataframe\">\n",
       "  <thead>\n",
       "    <tr style=\"text-align: right;\">\n",
       "      <th></th>\n",
       "      <th>Drug</th>\n",
       "      <th>SMILES</th>\n",
       "      <th>permeable</th>\n",
       "      <th>0</th>\n",
       "      <th>1</th>\n",
       "      <th>2</th>\n",
       "      <th>3</th>\n",
       "      <th>4</th>\n",
       "      <th>5</th>\n",
       "      <th>6</th>\n",
       "      <th>...</th>\n",
       "      <th>1014</th>\n",
       "      <th>1015</th>\n",
       "      <th>1016</th>\n",
       "      <th>1017</th>\n",
       "      <th>1018</th>\n",
       "      <th>1019</th>\n",
       "      <th>1020</th>\n",
       "      <th>1021</th>\n",
       "      <th>1022</th>\n",
       "      <th>1023</th>\n",
       "    </tr>\n",
       "  </thead>\n",
       "  <tbody>\n",
       "    <tr>\n",
       "      <th>0</th>\n",
       "      <td>ACEBUTOLOL</td>\n",
       "      <td>CCCC(=O)Nc1ccc(c(c1)C(C)=O)OCC(O)CNC(C)C</td>\n",
       "      <td>0.0</td>\n",
       "      <td>0.0</td>\n",
       "      <td>1.0</td>\n",
       "      <td>0.0</td>\n",
       "      <td>0.0</td>\n",
       "      <td>1.0</td>\n",
       "      <td>0.0</td>\n",
       "      <td>0.0</td>\n",
       "      <td>...</td>\n",
       "      <td>1.0</td>\n",
       "      <td>0.0</td>\n",
       "      <td>0.0</td>\n",
       "      <td>1.0</td>\n",
       "      <td>0.0</td>\n",
       "      <td>0.0</td>\n",
       "      <td>0.0</td>\n",
       "      <td>0.0</td>\n",
       "      <td>0.0</td>\n",
       "      <td>0.0</td>\n",
       "    </tr>\n",
       "    <tr>\n",
       "      <th>1</th>\n",
       "      <td>DACTINOMYCIN</td>\n",
       "      <td>CC(C)[C@H]1NC(=O)[C@@H](NC(=O)c2ccc(c3c2N=C2C(...</td>\n",
       "      <td>0.0</td>\n",
       "      <td>0.0</td>\n",
       "      <td>1.0</td>\n",
       "      <td>0.0</td>\n",
       "      <td>0.0</td>\n",
       "      <td>1.0</td>\n",
       "      <td>1.0</td>\n",
       "      <td>0.0</td>\n",
       "      <td>...</td>\n",
       "      <td>0.0</td>\n",
       "      <td>0.0</td>\n",
       "      <td>0.0</td>\n",
       "      <td>0.0</td>\n",
       "      <td>0.0</td>\n",
       "      <td>1.0</td>\n",
       "      <td>0.0</td>\n",
       "      <td>0.0</td>\n",
       "      <td>0.0</td>\n",
       "      <td>0.0</td>\n",
       "    </tr>\n",
       "    <tr>\n",
       "      <th>2</th>\n",
       "      <td>ALDOSTERONE</td>\n",
       "      <td>C[C@@]12CCC(=O)C=C2CC[C@H]2C3CC[C@H](C(=O)CO)C...</td>\n",
       "      <td>0.0</td>\n",
       "      <td>0.0</td>\n",
       "      <td>0.0</td>\n",
       "      <td>0.0</td>\n",
       "      <td>0.0</td>\n",
       "      <td>0.0</td>\n",
       "      <td>0.0</td>\n",
       "      <td>0.0</td>\n",
       "      <td>...</td>\n",
       "      <td>0.0</td>\n",
       "      <td>0.0</td>\n",
       "      <td>0.0</td>\n",
       "      <td>0.0</td>\n",
       "      <td>0.0</td>\n",
       "      <td>1.0</td>\n",
       "      <td>0.0</td>\n",
       "      <td>0.0</td>\n",
       "      <td>0.0</td>\n",
       "      <td>0.0</td>\n",
       "    </tr>\n",
       "    <tr>\n",
       "      <th>3</th>\n",
       "      <td>AMILORIDE</td>\n",
       "      <td>N\\C(=N)\\NC(=O)c1nc(c(nc1N)N)Cl</td>\n",
       "      <td>0.0</td>\n",
       "      <td>0.0</td>\n",
       "      <td>0.0</td>\n",
       "      <td>0.0</td>\n",
       "      <td>0.0</td>\n",
       "      <td>0.0</td>\n",
       "      <td>0.0</td>\n",
       "      <td>0.0</td>\n",
       "      <td>...</td>\n",
       "      <td>0.0</td>\n",
       "      <td>0.0</td>\n",
       "      <td>0.0</td>\n",
       "      <td>0.0</td>\n",
       "      <td>0.0</td>\n",
       "      <td>0.0</td>\n",
       "      <td>0.0</td>\n",
       "      <td>0.0</td>\n",
       "      <td>0.0</td>\n",
       "      <td>0.0</td>\n",
       "    </tr>\n",
       "    <tr>\n",
       "      <th>4</th>\n",
       "      <td>AMIODARONE</td>\n",
       "      <td>CCCCc1oc2ccccc2c1C(=O)c1cc(c(c(c1)[I])OCCN(CC)...</td>\n",
       "      <td>0.0</td>\n",
       "      <td>0.0</td>\n",
       "      <td>0.0</td>\n",
       "      <td>0.0</td>\n",
       "      <td>0.0</td>\n",
       "      <td>0.0</td>\n",
       "      <td>0.0</td>\n",
       "      <td>0.0</td>\n",
       "      <td>...</td>\n",
       "      <td>0.0</td>\n",
       "      <td>0.0</td>\n",
       "      <td>0.0</td>\n",
       "      <td>0.0</td>\n",
       "      <td>0.0</td>\n",
       "      <td>0.0</td>\n",
       "      <td>0.0</td>\n",
       "      <td>0.0</td>\n",
       "      <td>0.0</td>\n",
       "      <td>0.0</td>\n",
       "    </tr>\n",
       "  </tbody>\n",
       "</table>\n",
       "<p>5 rows × 1027 columns</p>\n",
       "</div>"
      ],
      "text/plain": [
       "           Drug                                             SMILES  permeable  \\\n",
       "0    ACEBUTOLOL           CCCC(=O)Nc1ccc(c(c1)C(C)=O)OCC(O)CNC(C)C        0.0   \n",
       "1  DACTINOMYCIN  CC(C)[C@H]1NC(=O)[C@@H](NC(=O)c2ccc(c3c2N=C2C(...        0.0   \n",
       "2   ALDOSTERONE  C[C@@]12CCC(=O)C=C2CC[C@H]2C3CC[C@H](C(=O)CO)C...        0.0   \n",
       "3     AMILORIDE                     N\\C(=N)\\NC(=O)c1nc(c(nc1N)N)Cl        0.0   \n",
       "4    AMIODARONE  CCCCc1oc2ccccc2c1C(=O)c1cc(c(c(c1)[I])OCCN(CC)...        0.0   \n",
       "\n",
       "     0    1    2    3    4    5    6  ...  1014  1015  1016  1017  1018  1019  \\\n",
       "0  0.0  1.0  0.0  0.0  1.0  0.0  0.0  ...   1.0   0.0   0.0   1.0   0.0   0.0   \n",
       "1  0.0  1.0  0.0  0.0  1.0  1.0  0.0  ...   0.0   0.0   0.0   0.0   0.0   1.0   \n",
       "2  0.0  0.0  0.0  0.0  0.0  0.0  0.0  ...   0.0   0.0   0.0   0.0   0.0   1.0   \n",
       "3  0.0  0.0  0.0  0.0  0.0  0.0  0.0  ...   0.0   0.0   0.0   0.0   0.0   0.0   \n",
       "4  0.0  0.0  0.0  0.0  0.0  0.0  0.0  ...   0.0   0.0   0.0   0.0   0.0   0.0   \n",
       "\n",
       "   1020  1021  1022  1023  \n",
       "0   0.0   0.0   0.0   0.0  \n",
       "1   0.0   0.0   0.0   0.0  \n",
       "2   0.0   0.0   0.0   0.0  \n",
       "3   0.0   0.0   0.0   0.0  \n",
       "4   0.0   0.0   0.0   0.0  \n",
       "\n",
       "[5 rows x 1027 columns]"
      ]
     },
     "execution_count": 3,
     "metadata": {},
     "output_type": "execute_result"
    }
   ],
   "source": [
    "bbb_df.head()"
   ]
  },
  {
   "cell_type": "markdown",
   "id": "ea09ee40",
   "metadata": {},
   "source": [
    "#### Data preprocessing"
   ]
  },
  {
   "cell_type": "code",
   "execution_count": 4,
   "id": "e3e119a9",
   "metadata": {},
   "outputs": [],
   "source": [
    "X = bbb_df.iloc[:,3:].copy()\n",
    "y = bbb_df.iloc[:,2].copy()\n",
    "X_train, X_test, y_train, y_test = train_test_split(X, y, test_size=0.3, random_state=0)"
   ]
  },
  {
   "cell_type": "markdown",
   "id": "47c81fb4",
   "metadata": {},
   "source": [
    "## Optimized Models"
   ]
  },
  {
   "cell_type": "markdown",
   "id": "8cebcc8c",
   "metadata": {},
   "source": [
    "#### Optimized Random Forest"
   ]
  },
  {
   "cell_type": "code",
   "execution_count": 5,
   "id": "c97b6857",
   "metadata": {},
   "outputs": [],
   "source": [
    "# Create a Random Forest Classifier\n",
    "rf_best = RandomForestClassifier(random_state=0, n_estimators = 100, criterion='gini', max_depth=20)\n",
    "\n",
    "# Train the model using the training sets\n",
    "rf_best.fit(X_train,y_train)"
   ]
  },
  {
   "cell_type": "markdown",
   "id": "1f943c60",
   "metadata": {},
   "source": [
    "#### Optimized SVM"
   ]
  },
  {
   "cell_type": "code",
   "execution_count": 6,
   "id": "7f11100a",
   "metadata": {},
   "outputs": [],
   "source": [
    "# Create a Support Vector Machine Classifier\n",
    "SVM_best = SVC(C=0.1, gamma=1, kernel='linear', probability=True).fit(X_train, y_train)\n",
    "\n",
    "# Train the model using the training sets\n",
    "SVM_best.fit(X_train, y_train)"
   ]
  },
  {
   "cell_type": "markdown",
   "id": "4c250b76",
   "metadata": {},
   "source": [
    "#### Optimized XGBoost"
   ]
  },
  {
   "cell_type": "code",
   "execution_count": 7,
   "id": "ffe512e1",
   "metadata": {},
   "outputs": [],
   "source": [
    "xg_best = XGBClassifier(\n",
    " learning_rate =0.1,\n",
    " n_estimators=1000,\n",
    " max_depth=4,\n",
    " min_child_weight=3,\n",
    " gamma=0,\n",
    " subsample=0.8,\n",
    " colsample_bytree=0.85,\n",
    " reg_alpha=1e-05,\n",
    " objective= 'binary:logistic',\n",
    " nthread=4,\n",
    " scale_pos_weight=1,)"
   ]
  },
  {
   "cell_type": "code",
   "execution_count": 8,
   "id": "889ab0ea",
   "metadata": {},
   "outputs": [],
   "source": [
    "xg_best.fit(X_train, y_train)"
   ]
  },
  {
   "cell_type": "markdown",
   "id": "67119c4c",
   "metadata": {},
   "source": [
    "### Ensemble"
   ]
  },
  {
   "cell_type": "code",
   "execution_count": 9,
   "id": "6082fc71",
   "metadata": {},
   "outputs": [],
   "source": [
    "# Making the final model using voting classifier\n",
    "final_model = VotingClassifier(\n",
    "    estimators=[('svm', SVM_best), ('xgb', xg_best), ('rf', rf_best)], voting='soft')\n",
    " \n",
    "# training all the model on the train dataset\n",
    "final_model.fit(X_train, y_train)\n"
   ]
  },
  {
   "cell_type": "markdown",
   "id": "f267b618",
   "metadata": {},
   "source": [
    "## Data Preprocessing"
   ]
  },
  {
   "cell_type": "code",
   "execution_count": 11,
   "id": "2ac08dc4",
   "metadata": {},
   "outputs": [],
   "source": [
    "Xs = bbb_df.iloc[:,3:].copy()\n",
    "Ys = bbb_df.iloc[:,2].copy()\n",
    "dataset = dc.data.DiskDataset.from_numpy(X=Xs,y=Ys,ids=bbb_df['SMILES'].tolist())\n",
    "scaffoldsplitter = dc.splits.ScaffoldSplitter()"
   ]
  },
  {
   "cell_type": "markdown",
   "id": "3b406e2c",
   "metadata": {},
   "source": [
    "## K-Fold and MCC Caluclations"
   ]
  },
  {
   "cell_type": "code",
   "execution_count": null,
   "id": "d93e42fd",
   "metadata": {},
   "outputs": [],
   "source": [
    "def K_fold_MCC(dataset, h, split_name=\"Random Split\", splitter=RandomSplitter()):\n",
    "    \n",
    "    split_data = splitter.k_fold_split(dataset, k=4)\n",
    "    \n",
    "    MCCs = []\n",
    "    y_true = []\n",
    "    h_predictions = []\n",
    "    \n",
    "    for data in split_data:\n",
    "        h.fit(data[0].X, data[0].y)\n",
    "        y_pred = h.predict(data[1].X)\n",
    "        y_true.extend(list(data[1].y))\n",
    "        h_predictions.extend(list(y_pred))\n",
    "        mcc = matthews_corrcoef(data[1].y, y_pred)\n",
    "        MCCs.append(mcc)\n",
    "    \n",
    "    print(split_name + \" MCC Values:\")\n",
    "    \n",
    "    for mcc in MCCs:\n",
    "        print(mcc)\n",
    "    print(\"Mean: \" + str(np.mean(MCCs)))\n",
    "\n",
    "    print(\"MCC value across full test data: \" + str(matthews_corrcoef(y_true, h_predictions)))\n",
    "    \n",
    "    return MCCs"
   ]
  },
  {
   "cell_type": "markdown",
   "id": "35003bfb",
   "metadata": {},
   "source": [
    "#### Comparing MCC Values"
   ]
  },
  {
   "cell_type": "code",
   "execution_count": null,
   "id": "5e521df9",
   "metadata": {},
   "outputs": [],
   "source": [
    "model_MCC_dict = {}"
   ]
  },
  {
   "cell_type": "markdown",
   "id": "c03a16f7",
   "metadata": {},
   "source": [
    "#### MCC values for RF Model"
   ]
  },
  {
   "cell_type": "code",
   "execution_count": null,
   "id": "11809388",
   "metadata": {},
   "outputs": [],
   "source": [
    "scaffold_split_mcc = K_fold_MCC(dataset, rf_best, 'Scaffold Split', scaffoldsplitter)\n",
    "random_split_mcc = K_fold_MCC(dataset=dataset, h=rf_best)\n",
    "model_MCC_dict[\"Random Forest\"] = (scaffold_split_mcc, random_split_mcc)"
   ]
  },
  {
   "cell_type": "markdown",
   "id": "b3c0b993",
   "metadata": {},
   "source": [
    "#### MCC values for SVM Model"
   ]
  },
  {
   "cell_type": "code",
   "execution_count": null,
   "id": "45b9ff78",
   "metadata": {},
   "outputs": [],
   "source": [
    "scaffold_split_mcc = K_fold_MCC(dataset, SVM_best, 'Scaffold Split', scaffoldsplitter)\n",
    "random_split_mcc = K_fold_MCC(dataset=dataset, h=SVM_best)\n",
    "model_MCC_dict[\"SVM\"] = (scaffold_split_mcc, random_split_mcc)"
   ]
  },
  {
   "cell_type": "markdown",
   "id": "033815fd",
   "metadata": {},
   "source": [
    "#### MCC values for XG-Boost Model"
   ]
  },
  {
   "cell_type": "code",
   "execution_count": null,
   "id": "4c3e59d1",
   "metadata": {},
   "outputs": [],
   "source": [
    "scaffold_split_mcc = K_fold_MCC(dataset, xg_best, 'Scaffold Split', scaffoldsplitter)\n",
    "random_split_mcc = K_fold_MCC(dataset=dataset, h=xg_best)\n",
    "model_MCC_dict[\"XG-Boost\"] = (scaffold_split_mcc, random_split_mcc)"
   ]
  },
  {
   "cell_type": "markdown",
   "id": "1e68c6b6",
   "metadata": {},
   "source": [
    "#### MCC values for Ensemble Model"
   ]
  },
  {
   "cell_type": "code",
   "execution_count": null,
   "id": "b9190ed1",
   "metadata": {},
   "outputs": [],
   "source": [
    "scaffold_split_mcc = K_fold_MCC(dataset, final_model, 'Scaffold Split', scaffoldsplitter)\n",
    "random_split_mcc = K_fold_MCC(dataset=dataset, h=final_model)\n",
    "model_MCC_dict[\"Ensemble\"] = (scaffold_split_mcc, random_split_mcc)"
   ]
  },
  {
   "cell_type": "markdown",
   "id": "e85228fe",
   "metadata": {},
   "source": [
    "#### Statistical Comparison"
   ]
  },
  {
   "cell_type": "code",
   "execution_count": null,
   "id": "792379a0",
   "metadata": {},
   "outputs": [],
   "source": [
    "splits = [\"Scaffold Split\", \"Random Split\"]\n",
    "\n",
    "for i in range(2):\n",
    "    print(splits[i] + \" P Values\")\n",
    "    for model in model_MCC_dict:\n",
    "        for model_2 in model_MCC_dict:\n",
    "            if model != model_2:\n",
    "                print(model + \" vs. \" + model_2 + \": \" + str(ttest_ind(model_MCC_dict[model][i], model_MCC_dict[model_2][i]).pvalue))\n",
    "        if model != model_2:\n",
    "            print()\n",
    "    print(\"____________________\")\n",
    "    print()"
   ]
  }
 ],
 "metadata": {
  "kernelspec": {
   "display_name": "Python 3",
   "language": "python",
   "name": "python3"
  },
  "language_info": {
   "codemirror_mode": {
    "name": "ipython",
    "version": 3
   },
   "file_extension": ".py",
   "mimetype": "text/x-python",
   "name": "python",
   "nbconvert_exporter": "python",
   "pygments_lexer": "ipython3",
   "version": "3.8.8"
  }
 },
 "nbformat": 4,
 "nbformat_minor": 5
}
