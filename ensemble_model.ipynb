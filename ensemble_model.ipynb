{
  "cells": [
    {
      "cell_type": "markdown",
      "id": "6bb55246",
      "metadata": {
        "id": "6bb55246"
      },
      "source": [
        "#### Import necessary libraries "
      ]
    },
    {
      "cell_type": "code",
      "source": [
        "!pip install deepchem==2.6.1\n",
        "!pip install rdkit-pypi"
      ],
      "metadata": {
        "colab": {
          "base_uri": "https://localhost:8080/"
        },
        "id": "96Ws_Dhp4xly",
        "outputId": "de23f64c-7156-478c-8933-53cb8e818ac7"
      },
      "id": "96Ws_Dhp4xly",
      "execution_count": 1,
      "outputs": [
        {
          "output_type": "stream",
          "name": "stdout",
          "text": [
            "Looking in indexes: https://pypi.org/simple, https://us-python.pkg.dev/colab-wheels/public/simple/\n",
            "Collecting deepchem==2.6.1\n",
            "  Downloading deepchem-2.6.1-py3-none-any.whl (608 kB)\n",
            "\u001b[K     |████████████████████████████████| 608 kB 4.9 MB/s \n",
            "\u001b[?25hRequirement already satisfied: joblib in /usr/local/lib/python3.8/dist-packages (from deepchem==2.6.1) (1.2.0)\n",
            "Requirement already satisfied: scipy in /usr/local/lib/python3.8/dist-packages (from deepchem==2.6.1) (1.7.3)\n",
            "Requirement already satisfied: numpy>=1.21 in /usr/local/lib/python3.8/dist-packages (from deepchem==2.6.1) (1.21.6)\n",
            "Requirement already satisfied: pandas in /usr/local/lib/python3.8/dist-packages (from deepchem==2.6.1) (1.3.5)\n",
            "Requirement already satisfied: scikit-learn in /usr/local/lib/python3.8/dist-packages (from deepchem==2.6.1) (1.0.2)\n",
            "Collecting rdkit-pypi\n",
            "  Downloading rdkit_pypi-2022.9.2-cp38-cp38-manylinux_2_17_x86_64.manylinux2014_x86_64.whl (29.3 MB)\n",
            "\u001b[K     |████████████████████████████████| 29.3 MB 7.7 MB/s \n",
            "\u001b[?25hRequirement already satisfied: python-dateutil>=2.7.3 in /usr/local/lib/python3.8/dist-packages (from pandas->deepchem==2.6.1) (2.8.2)\n",
            "Requirement already satisfied: pytz>=2017.3 in /usr/local/lib/python3.8/dist-packages (from pandas->deepchem==2.6.1) (2022.6)\n",
            "Requirement already satisfied: six>=1.5 in /usr/local/lib/python3.8/dist-packages (from python-dateutil>=2.7.3->pandas->deepchem==2.6.1) (1.15.0)\n",
            "Requirement already satisfied: Pillow in /usr/local/lib/python3.8/dist-packages (from rdkit-pypi->deepchem==2.6.1) (7.1.2)\n",
            "Requirement already satisfied: threadpoolctl>=2.0.0 in /usr/local/lib/python3.8/dist-packages (from scikit-learn->deepchem==2.6.1) (3.1.0)\n",
            "Installing collected packages: rdkit-pypi, deepchem\n",
            "Successfully installed deepchem-2.6.1 rdkit-pypi-2022.9.2\n",
            "Looking in indexes: https://pypi.org/simple, https://us-python.pkg.dev/colab-wheels/public/simple/\n",
            "Requirement already satisfied: rdkit-pypi in /usr/local/lib/python3.8/dist-packages (2022.9.2)\n",
            "Requirement already satisfied: Pillow in /usr/local/lib/python3.8/dist-packages (from rdkit-pypi) (7.1.2)\n",
            "Requirement already satisfied: numpy in /usr/local/lib/python3.8/dist-packages (from rdkit-pypi) (1.21.6)\n"
          ]
        }
      ]
    },
    {
      "cell_type": "code",
      "execution_count": 2,
      "id": "eb06cd7d",
      "metadata": {
        "id": "eb06cd7d"
      },
      "outputs": [],
      "source": [
        "# importing utility modules\n",
        "import pandas as pd\n",
        "from sklearn.model_selection import train_test_split\n",
        "from sklearn.metrics import log_loss\n",
        " \n",
        "# importing machine learning models for prediction\n",
        "from sklearn.ensemble import RandomForestClassifier\n",
        "from sklearn.svm import SVC\n",
        "from xgboost import XGBClassifier \n",
        "# importing voting classifier\n",
        "from sklearn.ensemble import VotingClassifier\n",
        "import deepchem as dc\n",
        "from sklearn.decomposition import PCA\n",
        "from sklearn.manifold import TSNE\n",
        "import matplotlib.pyplot as plt\n",
        "from deepchem import metrics\n",
        "\n",
        "import numpy as np\n",
        "from sklearn.metrics import matthews_corrcoef\n",
        "from deepchem.splits import RandomSplitter\n",
        "from scipy.stats import ttest_ind\n"
      ]
    },
    {
      "cell_type": "markdown",
      "id": "6f7996de",
      "metadata": {
        "id": "6f7996de"
      },
      "source": [
        "#### Read in the preprocessed BBB dataset from Adenot paper"
      ]
    },
    {
      "cell_type": "code",
      "execution_count": 3,
      "id": "da732072",
      "metadata": {
        "id": "da732072"
      },
      "outputs": [],
      "source": [
        "bbb_df = pd.read_csv('adenot_processed.csv')"
      ]
    },
    {
      "cell_type": "code",
      "execution_count": 4,
      "id": "f12bb967",
      "metadata": {
        "colab": {
          "base_uri": "https://localhost:8080/",
          "height": 352
        },
        "id": "f12bb967",
        "outputId": "ee601a8b-b409-45f3-b441-d2b6be53b962"
      },
      "outputs": [
        {
          "output_type": "execute_result",
          "data": {
            "text/plain": [
              "           Drug                                             SMILES  permeable  \\\n",
              "0    ACEBUTOLOL           CCCC(=O)Nc1ccc(c(c1)C(C)=O)OCC(O)CNC(C)C          0   \n",
              "1  DACTINOMYCIN  CC(C)[C@H]1NC(=O)[C@@H](NC(=O)c2ccc(c3c2N=C2C(...          0   \n",
              "2   ALDOSTERONE  C[C@@]12CCC(=O)C=C2CC[C@H]2C3CC[C@H](C(=O)CO)C...          0   \n",
              "3     AMILORIDE                     N\\C(=N)\\NC(=O)c1nc(c(nc1N)N)Cl          0   \n",
              "4    AMIODARONE  CCCCc1oc2ccccc2c1C(=O)c1cc(c(c(c1)[I])OCCN(CC)...          0   \n",
              "\n",
              "   0  1  2  3  4  5  6  ...  1014  1015  1016  1017  1018  1019  1020  1021  \\\n",
              "0  0  1  0  0  1  0  0  ...     1     0     0     1     0     0     0     0   \n",
              "1  0  1  0  0  1  1  0  ...     0     0     0     0     0     1     0     0   \n",
              "2  0  0  0  0  0  0  0  ...     0     0     0     0     0     1     0     0   \n",
              "3  0  0  0  0  0  0  0  ...     0     0     0     0     0     0     0     0   \n",
              "4  0  0  0  0  0  0  0  ...     0     0     0     0     0     0     0     0   \n",
              "\n",
              "   1022  1023  \n",
              "0     0     0  \n",
              "1     0     0  \n",
              "2     0     0  \n",
              "3     0     0  \n",
              "4     0     0  \n",
              "\n",
              "[5 rows x 1027 columns]"
            ],
            "text/html": [
              "\n",
              "  <div id=\"df-23852f2b-b509-4456-90db-ad30cfb620e5\">\n",
              "    <div class=\"colab-df-container\">\n",
              "      <div>\n",
              "<style scoped>\n",
              "    .dataframe tbody tr th:only-of-type {\n",
              "        vertical-align: middle;\n",
              "    }\n",
              "\n",
              "    .dataframe tbody tr th {\n",
              "        vertical-align: top;\n",
              "    }\n",
              "\n",
              "    .dataframe thead th {\n",
              "        text-align: right;\n",
              "    }\n",
              "</style>\n",
              "<table border=\"1\" class=\"dataframe\">\n",
              "  <thead>\n",
              "    <tr style=\"text-align: right;\">\n",
              "      <th></th>\n",
              "      <th>Drug</th>\n",
              "      <th>SMILES</th>\n",
              "      <th>permeable</th>\n",
              "      <th>0</th>\n",
              "      <th>1</th>\n",
              "      <th>2</th>\n",
              "      <th>3</th>\n",
              "      <th>4</th>\n",
              "      <th>5</th>\n",
              "      <th>6</th>\n",
              "      <th>...</th>\n",
              "      <th>1014</th>\n",
              "      <th>1015</th>\n",
              "      <th>1016</th>\n",
              "      <th>1017</th>\n",
              "      <th>1018</th>\n",
              "      <th>1019</th>\n",
              "      <th>1020</th>\n",
              "      <th>1021</th>\n",
              "      <th>1022</th>\n",
              "      <th>1023</th>\n",
              "    </tr>\n",
              "  </thead>\n",
              "  <tbody>\n",
              "    <tr>\n",
              "      <th>0</th>\n",
              "      <td>ACEBUTOLOL</td>\n",
              "      <td>CCCC(=O)Nc1ccc(c(c1)C(C)=O)OCC(O)CNC(C)C</td>\n",
              "      <td>0</td>\n",
              "      <td>0</td>\n",
              "      <td>1</td>\n",
              "      <td>0</td>\n",
              "      <td>0</td>\n",
              "      <td>1</td>\n",
              "      <td>0</td>\n",
              "      <td>0</td>\n",
              "      <td>...</td>\n",
              "      <td>1</td>\n",
              "      <td>0</td>\n",
              "      <td>0</td>\n",
              "      <td>1</td>\n",
              "      <td>0</td>\n",
              "      <td>0</td>\n",
              "      <td>0</td>\n",
              "      <td>0</td>\n",
              "      <td>0</td>\n",
              "      <td>0</td>\n",
              "    </tr>\n",
              "    <tr>\n",
              "      <th>1</th>\n",
              "      <td>DACTINOMYCIN</td>\n",
              "      <td>CC(C)[C@H]1NC(=O)[C@@H](NC(=O)c2ccc(c3c2N=C2C(...</td>\n",
              "      <td>0</td>\n",
              "      <td>0</td>\n",
              "      <td>1</td>\n",
              "      <td>0</td>\n",
              "      <td>0</td>\n",
              "      <td>1</td>\n",
              "      <td>1</td>\n",
              "      <td>0</td>\n",
              "      <td>...</td>\n",
              "      <td>0</td>\n",
              "      <td>0</td>\n",
              "      <td>0</td>\n",
              "      <td>0</td>\n",
              "      <td>0</td>\n",
              "      <td>1</td>\n",
              "      <td>0</td>\n",
              "      <td>0</td>\n",
              "      <td>0</td>\n",
              "      <td>0</td>\n",
              "    </tr>\n",
              "    <tr>\n",
              "      <th>2</th>\n",
              "      <td>ALDOSTERONE</td>\n",
              "      <td>C[C@@]12CCC(=O)C=C2CC[C@H]2C3CC[C@H](C(=O)CO)C...</td>\n",
              "      <td>0</td>\n",
              "      <td>0</td>\n",
              "      <td>0</td>\n",
              "      <td>0</td>\n",
              "      <td>0</td>\n",
              "      <td>0</td>\n",
              "      <td>0</td>\n",
              "      <td>0</td>\n",
              "      <td>...</td>\n",
              "      <td>0</td>\n",
              "      <td>0</td>\n",
              "      <td>0</td>\n",
              "      <td>0</td>\n",
              "      <td>0</td>\n",
              "      <td>1</td>\n",
              "      <td>0</td>\n",
              "      <td>0</td>\n",
              "      <td>0</td>\n",
              "      <td>0</td>\n",
              "    </tr>\n",
              "    <tr>\n",
              "      <th>3</th>\n",
              "      <td>AMILORIDE</td>\n",
              "      <td>N\\C(=N)\\NC(=O)c1nc(c(nc1N)N)Cl</td>\n",
              "      <td>0</td>\n",
              "      <td>0</td>\n",
              "      <td>0</td>\n",
              "      <td>0</td>\n",
              "      <td>0</td>\n",
              "      <td>0</td>\n",
              "      <td>0</td>\n",
              "      <td>0</td>\n",
              "      <td>...</td>\n",
              "      <td>0</td>\n",
              "      <td>0</td>\n",
              "      <td>0</td>\n",
              "      <td>0</td>\n",
              "      <td>0</td>\n",
              "      <td>0</td>\n",
              "      <td>0</td>\n",
              "      <td>0</td>\n",
              "      <td>0</td>\n",
              "      <td>0</td>\n",
              "    </tr>\n",
              "    <tr>\n",
              "      <th>4</th>\n",
              "      <td>AMIODARONE</td>\n",
              "      <td>CCCCc1oc2ccccc2c1C(=O)c1cc(c(c(c1)[I])OCCN(CC)...</td>\n",
              "      <td>0</td>\n",
              "      <td>0</td>\n",
              "      <td>0</td>\n",
              "      <td>0</td>\n",
              "      <td>0</td>\n",
              "      <td>0</td>\n",
              "      <td>0</td>\n",
              "      <td>0</td>\n",
              "      <td>...</td>\n",
              "      <td>0</td>\n",
              "      <td>0</td>\n",
              "      <td>0</td>\n",
              "      <td>0</td>\n",
              "      <td>0</td>\n",
              "      <td>0</td>\n",
              "      <td>0</td>\n",
              "      <td>0</td>\n",
              "      <td>0</td>\n",
              "      <td>0</td>\n",
              "    </tr>\n",
              "  </tbody>\n",
              "</table>\n",
              "<p>5 rows × 1027 columns</p>\n",
              "</div>\n",
              "      <button class=\"colab-df-convert\" onclick=\"convertToInteractive('df-23852f2b-b509-4456-90db-ad30cfb620e5')\"\n",
              "              title=\"Convert this dataframe to an interactive table.\"\n",
              "              style=\"display:none;\">\n",
              "        \n",
              "  <svg xmlns=\"http://www.w3.org/2000/svg\" height=\"24px\"viewBox=\"0 0 24 24\"\n",
              "       width=\"24px\">\n",
              "    <path d=\"M0 0h24v24H0V0z\" fill=\"none\"/>\n",
              "    <path d=\"M18.56 5.44l.94 2.06.94-2.06 2.06-.94-2.06-.94-.94-2.06-.94 2.06-2.06.94zm-11 1L8.5 8.5l.94-2.06 2.06-.94-2.06-.94L8.5 2.5l-.94 2.06-2.06.94zm10 10l.94 2.06.94-2.06 2.06-.94-2.06-.94-.94-2.06-.94 2.06-2.06.94z\"/><path d=\"M17.41 7.96l-1.37-1.37c-.4-.4-.92-.59-1.43-.59-.52 0-1.04.2-1.43.59L10.3 9.45l-7.72 7.72c-.78.78-.78 2.05 0 2.83L4 21.41c.39.39.9.59 1.41.59.51 0 1.02-.2 1.41-.59l7.78-7.78 2.81-2.81c.8-.78.8-2.07 0-2.86zM5.41 20L4 18.59l7.72-7.72 1.47 1.35L5.41 20z\"/>\n",
              "  </svg>\n",
              "      </button>\n",
              "      \n",
              "  <style>\n",
              "    .colab-df-container {\n",
              "      display:flex;\n",
              "      flex-wrap:wrap;\n",
              "      gap: 12px;\n",
              "    }\n",
              "\n",
              "    .colab-df-convert {\n",
              "      background-color: #E8F0FE;\n",
              "      border: none;\n",
              "      border-radius: 50%;\n",
              "      cursor: pointer;\n",
              "      display: none;\n",
              "      fill: #1967D2;\n",
              "      height: 32px;\n",
              "      padding: 0 0 0 0;\n",
              "      width: 32px;\n",
              "    }\n",
              "\n",
              "    .colab-df-convert:hover {\n",
              "      background-color: #E2EBFA;\n",
              "      box-shadow: 0px 1px 2px rgba(60, 64, 67, 0.3), 0px 1px 3px 1px rgba(60, 64, 67, 0.15);\n",
              "      fill: #174EA6;\n",
              "    }\n",
              "\n",
              "    [theme=dark] .colab-df-convert {\n",
              "      background-color: #3B4455;\n",
              "      fill: #D2E3FC;\n",
              "    }\n",
              "\n",
              "    [theme=dark] .colab-df-convert:hover {\n",
              "      background-color: #434B5C;\n",
              "      box-shadow: 0px 1px 3px 1px rgba(0, 0, 0, 0.15);\n",
              "      filter: drop-shadow(0px 1px 2px rgba(0, 0, 0, 0.3));\n",
              "      fill: #FFFFFF;\n",
              "    }\n",
              "  </style>\n",
              "\n",
              "      <script>\n",
              "        const buttonEl =\n",
              "          document.querySelector('#df-23852f2b-b509-4456-90db-ad30cfb620e5 button.colab-df-convert');\n",
              "        buttonEl.style.display =\n",
              "          google.colab.kernel.accessAllowed ? 'block' : 'none';\n",
              "\n",
              "        async function convertToInteractive(key) {\n",
              "          const element = document.querySelector('#df-23852f2b-b509-4456-90db-ad30cfb620e5');\n",
              "          const dataTable =\n",
              "            await google.colab.kernel.invokeFunction('convertToInteractive',\n",
              "                                                     [key], {});\n",
              "          if (!dataTable) return;\n",
              "\n",
              "          const docLinkHtml = 'Like what you see? Visit the ' +\n",
              "            '<a target=\"_blank\" href=https://colab.research.google.com/notebooks/data_table.ipynb>data table notebook</a>'\n",
              "            + ' to learn more about interactive tables.';\n",
              "          element.innerHTML = '';\n",
              "          dataTable['output_type'] = 'display_data';\n",
              "          await google.colab.output.renderOutput(dataTable, element);\n",
              "          const docLink = document.createElement('div');\n",
              "          docLink.innerHTML = docLinkHtml;\n",
              "          element.appendChild(docLink);\n",
              "        }\n",
              "      </script>\n",
              "    </div>\n",
              "  </div>\n",
              "  "
            ]
          },
          "metadata": {},
          "execution_count": 4
        }
      ],
      "source": [
        "bbb_df.head()"
      ]
    },
    {
      "cell_type": "markdown",
      "id": "ea09ee40",
      "metadata": {
        "id": "ea09ee40"
      },
      "source": [
        "#### Data preprocessing"
      ]
    },
    {
      "cell_type": "code",
      "execution_count": 5,
      "id": "e3e119a9",
      "metadata": {
        "id": "e3e119a9"
      },
      "outputs": [],
      "source": [
        "X = bbb_df.iloc[:,3:].copy()\n",
        "y = bbb_df.iloc[:,2].copy()\n",
        "X_train, X_test, y_train, y_test = train_test_split(X, y, test_size=0.3, random_state=0)"
      ]
    },
    {
      "cell_type": "markdown",
      "id": "8cebcc8c",
      "metadata": {
        "id": "8cebcc8c"
      },
      "source": [
        "#### Optimized Random Forest"
      ]
    },
    {
      "cell_type": "code",
      "execution_count": 6,
      "id": "c97b6857",
      "metadata": {
        "id": "c97b6857"
      },
      "outputs": [],
      "source": [
        "# Create a Random Forest Classifier\n",
        "rf_best = RandomForestClassifier(random_state=0, n_estimators = 100, criterion='gini', max_depth=20)\n",
        "\n",
        "# Train the model using the training sets\n",
        "rf_best.fit(X_train,y_train)\n",
        "y_pred = rf_best.predict(X_test)"
      ]
    },
    {
      "cell_type": "markdown",
      "id": "1f943c60",
      "metadata": {
        "id": "1f943c60"
      },
      "source": [
        "#### Optimized SVM"
      ]
    },
    {
      "cell_type": "code",
      "execution_count": 7,
      "id": "7f11100a",
      "metadata": {
        "id": "7f11100a"
      },
      "outputs": [],
      "source": [
        "# Create a Support Vector Machine Classifier\n",
        "SVM_best = SVC(C=0.1, gamma=1, kernel='linear', probability=True).fit(X_train, y_train)\n",
        "\n",
        "# Train the model using the training sets\n",
        "SVM_best.fit(X_train, y_train)\n",
        "# make predictions for test data\n",
        "y_pred = SVM_best.predict(X_test)"
      ]
    },
    {
      "cell_type": "markdown",
      "id": "4c250b76",
      "metadata": {
        "id": "4c250b76"
      },
      "source": [
        "#### Optimized XGBoost"
      ]
    },
    {
      "cell_type": "code",
      "execution_count": 8,
      "id": "ffe512e1",
      "metadata": {
        "id": "ffe512e1"
      },
      "outputs": [],
      "source": [
        "xg_best = XGBClassifier(\n",
        " learning_rate =0.1,\n",
        " n_estimators=1000,\n",
        " max_depth=4,\n",
        " min_child_weight=3,\n",
        " gamma=0,\n",
        " subsample=0.8,\n",
        " colsample_bytree=0.85,\n",
        " reg_alpha=1e-05,\n",
        " objective= 'binary:logistic',\n",
        " nthread=4,\n",
        " scale_pos_weight=1,)"
      ]
    },
    {
      "cell_type": "code",
      "execution_count": 9,
      "id": "889ab0ea",
      "metadata": {
        "id": "889ab0ea"
      },
      "outputs": [],
      "source": [
        "xg_best.fit(X_train, y_train)\n",
        "# make predictions for test data\n",
        "y_pred = xg_best.predict(X_test)"
      ]
    },
    {
      "cell_type": "markdown",
      "id": "67119c4c",
      "metadata": {
        "id": "67119c4c"
      },
      "source": [
        "### Ensemble"
      ]
    },
    {
      "cell_type": "code",
      "execution_count": 10,
      "id": "6082fc71",
      "metadata": {
        "id": "6082fc71"
      },
      "outputs": [],
      "source": [
        "# Making the final model using voting classifier\n",
        "final_model = VotingClassifier(\n",
        "    estimators=[('svm', SVM_best), ('xgb', xg_best), ('rf', rf_best)], voting='soft')\n",
        " \n",
        "# training all the model on the train dataset\n",
        "final_model.fit(X_train, y_train)\n",
        " \n",
        "# predicting the output on the test dataset\n",
        "y_pred = final_model.predict(X_test)\n"
      ]
    },
    {
      "cell_type": "markdown",
      "id": "bab154c3",
      "metadata": {
        "id": "bab154c3"
      },
      "source": [
        "### Random Split PCA, DR, and Result Metrics"
      ]
    },
    {
      "cell_type": "code",
      "execution_count": 11,
      "id": "e7316d11",
      "metadata": {
        "colab": {
          "base_uri": "https://localhost:8080/",
          "height": 575
        },
        "id": "e7316d11",
        "outputId": "6acbf0ba-506c-4103-829c-0edcc2970e7c"
      },
      "outputs": [
        {
          "output_type": "stream",
          "name": "stderr",
          "text": [
            "/usr/local/lib/python3.8/dist-packages/sklearn/manifold/_t_sne.py:780: FutureWarning: The default initialization in TSNE will change from 'random' to 'pca' in 1.2.\n",
            "  warnings.warn(\n",
            "/usr/local/lib/python3.8/dist-packages/sklearn/manifold/_t_sne.py:790: FutureWarning: The default learning rate in TSNE will change from 200.0 to 'auto' in 1.2.\n",
            "  warnings.warn(\n"
          ]
        },
        {
          "output_type": "stream",
          "name": "stdout",
          "text": [
            "Random Split Metrics:\n",
            "Accuracy: 0.9618473895582329\n",
            "Balanced Accuracy: 0.910765306122449\n",
            "ROC AUC: 0.910765306122449\n",
            "Precision Score: 0.9590361445783132\n",
            "Recall Score: 0.995\n",
            "\n"
          ]
        },
        {
          "output_type": "display_data",
          "data": {
            "text/plain": [
              "<Figure size 1080x360 with 4 Axes>"
            ],
            "image/png": "[encoded data removed]"
          },
          "metadata": {
            "needs_background": "light"
          }
        }
      ],
      "source": [
        "def plot_split(split, y_pred, y_test, t_components):\n",
        "    \n",
        "    fig = plt.figure(figsize=(15, 5))\n",
        "    fig.suptitle('{} Split'.format(split))\n",
        "    plt.subplot(1, 2, 1)\n",
        "    plt.scatter(t_components[:,0], t_components[:,1], c=y_pred, s=10)\n",
        "    plt.xlabel('t-SNE_1')\n",
        "    plt.ylabel('t-SNE_2')\n",
        "    plt.title('Prediction Visualization')\n",
        "    plt.colorbar()\n",
        "\n",
        "    plt.subplot(1, 2, 2)\n",
        "    plt.scatter(t_components[:,0], t_components[:,1], c=y_test,s=10)\n",
        "    plt.xlabel('t-SNE_1')\n",
        "    plt.ylabel('t-SNE_2')\n",
        "    plt.title('Permeability Visualization')\n",
        "    plt.colorbar()\n",
        "    \n",
        "    # Calculate how often the classifier is correct\n",
        "    print(\"{} Split Metrics:\".format(split))\n",
        "    print(\"Accuracy:\",metrics.accuracy_score(y_test, y_pred))\n",
        "    print(\"Balanced Accuracy:\", metrics.balanced_accuracy_score(y_test, y_pred))\n",
        "    print(\"ROC AUC:\", metrics.roc_auc_score(y_test, y_pred))\n",
        "    print(\"Precision Score:\", metrics.precision_score(y_test, y_pred))\n",
        "    print(\"Recall Score:\", metrics.recall_score(y_test, y_pred))\n",
        "    print(\"\")\n",
        "\n",
        "dim = 100\n",
        "pca_rand = PCA(n_components=dim)\n",
        "components_rand = pca_rand.fit_transform(X_test)\n",
        "tsne_rand = TSNE(n_components=2)\n",
        "t_components_rand = tsne_rand.fit_transform(components_rand)\n",
        "\n",
        "plot_split('Random', y_pred, y_test, t_components_rand)\n"
      ]
    },
    {
      "cell_type": "markdown",
      "id": "1ab0e18d",
      "metadata": {
        "id": "1ab0e18d"
      },
      "source": [
        "### Scaffold Split"
      ]
    },
    {
      "cell_type": "markdown",
      "id": "8c9c0d00",
      "metadata": {
        "id": "8c9c0d00"
      },
      "source": [
        "#### Data preprocessing"
      ]
    },
    {
      "cell_type": "code",
      "execution_count": 12,
      "id": "2ac08dc4",
      "metadata": {
        "id": "2ac08dc4"
      },
      "outputs": [],
      "source": [
        "Xs = bbb_df.iloc[:,3:].copy()\n",
        "Ys = bbb_df.iloc[:,2].copy()\n",
        "dataset = dc.data.DiskDataset.from_numpy(X=Xs,y=Ys,ids=bbb_df['SMILES'].tolist())\n",
        "scaffoldsplitter = dc.splits.ScaffoldSplitter()\n",
        "train_scaff, test_scaff = scaffoldsplitter.train_test_split(dataset)"
      ]
    },
    {
      "cell_type": "markdown",
      "id": "fb9d2dc3",
      "metadata": {
        "id": "fb9d2dc3"
      },
      "source": [
        "### Model Predictions (Classes and Probabilities)"
      ]
    },
    {
      "cell_type": "code",
      "execution_count": 13,
      "id": "a55821c1",
      "metadata": {
        "id": "a55821c1"
      },
      "outputs": [],
      "source": [
        "# Train SVM classifier\n",
        "final_model = final_model.fit(train_scaff.X,train_scaff.y)\n",
        "\n",
        "# Predict the response for test dataset\n",
        "y_pred_scaff = final_model.predict(test_scaff.X)"
      ]
    },
    {
      "cell_type": "code",
      "execution_count": 14,
      "id": "0cf7430f",
      "metadata": {
        "colab": {
          "base_uri": "https://localhost:8080/",
          "height": 424
        },
        "id": "0cf7430f",
        "outputId": "babd79f3-95ff-499e-dd83-81a1286d039a"
      },
      "outputs": [
        {
          "output_type": "execute_result",
          "data": {
            "text/plain": [
              "                                                SMILES  Prob Permeable\n",
              "23                CCc1sc2c(c1)C(=NCC(=O)N2C)c1ccccc1Cl        0.999222\n",
              "51   CN1C[C@H](CSc2ccccn2)C=C2[C@H]1Cc1c[nH]c3cccc2c13        0.999158\n",
              "67                  CN1CCN(CC1)c1cc2c(nn1)Oc1ccccc1N2C        0.998898\n",
              "147                CC1(CC(=O)N(CN2CCOCC2)C1=O)c1ccccc1        0.998884\n",
              "149                  Clc1ccc(c(c1)Cl)/C(/Cl)=C/n1cncn1        0.998816\n",
              "..                                                 ...             ...\n",
              "230  CC1(C)S[C@@H]2[C@H](NC(=O)C(/N=C/c3occc3)c3ccc...        0.003828\n",
              "243  CO\\N=C(/C(=O)N[C@H]1[C@H]2SCC(=C(N2C1=O)C(O)=O...        0.003453\n",
              "248  CO\\N=C(/C(=O)N[C@H]1[C@H]2SCC(=C(N2C1=O)C(O)=O...        0.001116\n",
              "247  CO\\N=C(/C(=O)N[C@H]1[C@H]2SCC(=C(N2C1=O)C(O)=O...        0.000574\n",
              "263  CO\\N=C(/C(=O)N[C@H]1[C@H]2SCC(=C(N2C1=O)C(O)=O...        0.000231\n",
              "\n",
              "[332 rows x 2 columns]"
            ],
            "text/html": [
              "\n",
              "  <div id=\"df-190a79cf-f7e6-415f-a9fa-3e0addaaf1b5\">\n",
              "    <div class=\"colab-df-container\">\n",
              "      <div>\n",
              "<style scoped>\n",
              "    .dataframe tbody tr th:only-of-type {\n",
              "        vertical-align: middle;\n",
              "    }\n",
              "\n",
              "    .dataframe tbody tr th {\n",
              "        vertical-align: top;\n",
              "    }\n",
              "\n",
              "    .dataframe thead th {\n",
              "        text-align: right;\n",
              "    }\n",
              "</style>\n",
              "<table border=\"1\" class=\"dataframe\">\n",
              "  <thead>\n",
              "    <tr style=\"text-align: right;\">\n",
              "      <th></th>\n",
              "      <th>SMILES</th>\n",
              "      <th>Prob Permeable</th>\n",
              "    </tr>\n",
              "  </thead>\n",
              "  <tbody>\n",
              "    <tr>\n",
              "      <th>23</th>\n",
              "      <td>CCc1sc2c(c1)C(=NCC(=O)N2C)c1ccccc1Cl</td>\n",
              "      <td>0.999222</td>\n",
              "    </tr>\n",
              "    <tr>\n",
              "      <th>51</th>\n",
              "      <td>CN1C[C@H](CSc2ccccn2)C=C2[C@H]1Cc1c[nH]c3cccc2c13</td>\n",
              "      <td>0.999158</td>\n",
              "    </tr>\n",
              "    <tr>\n",
              "      <th>67</th>\n",
              "      <td>CN1CCN(CC1)c1cc2c(nn1)Oc1ccccc1N2C</td>\n",
              "      <td>0.998898</td>\n",
              "    </tr>\n",
              "    <tr>\n",
              "      <th>147</th>\n",
              "      <td>CC1(CC(=O)N(CN2CCOCC2)C1=O)c1ccccc1</td>\n",
              "      <td>0.998884</td>\n",
              "    </tr>\n",
              "    <tr>\n",
              "      <th>149</th>\n",
              "      <td>Clc1ccc(c(c1)Cl)/C(/Cl)=C/n1cncn1</td>\n",
              "      <td>0.998816</td>\n",
              "    </tr>\n",
              "    <tr>\n",
              "      <th>...</th>\n",
              "      <td>...</td>\n",
              "      <td>...</td>\n",
              "    </tr>\n",
              "    <tr>\n",
              "      <th>230</th>\n",
              "      <td>CC1(C)S[C@@H]2[C@H](NC(=O)C(/N=C/c3occc3)c3ccc...</td>\n",
              "      <td>0.003828</td>\n",
              "    </tr>\n",
              "    <tr>\n",
              "      <th>243</th>\n",
              "      <td>CO\\N=C(/C(=O)N[C@H]1[C@H]2SCC(=C(N2C1=O)C(O)=O...</td>\n",
              "      <td>0.003453</td>\n",
              "    </tr>\n",
              "    <tr>\n",
              "      <th>248</th>\n",
              "      <td>CO\\N=C(/C(=O)N[C@H]1[C@H]2SCC(=C(N2C1=O)C(O)=O...</td>\n",
              "      <td>0.001116</td>\n",
              "    </tr>\n",
              "    <tr>\n",
              "      <th>247</th>\n",
              "      <td>CO\\N=C(/C(=O)N[C@H]1[C@H]2SCC(=C(N2C1=O)C(O)=O...</td>\n",
              "      <td>0.000574</td>\n",
              "    </tr>\n",
              "    <tr>\n",
              "      <th>263</th>\n",
              "      <td>CO\\N=C(/C(=O)N[C@H]1[C@H]2SCC(=C(N2C1=O)C(O)=O...</td>\n",
              "      <td>0.000231</td>\n",
              "    </tr>\n",
              "  </tbody>\n",
              "</table>\n",
              "<p>332 rows × 2 columns</p>\n",
              "</div>\n",
              "      <button class=\"colab-df-convert\" onclick=\"convertToInteractive('df-190a79cf-f7e6-415f-a9fa-3e0addaaf1b5')\"\n",
              "              title=\"Convert this dataframe to an interactive table.\"\n",
              "              style=\"display:none;\">\n",
              "        \n",
              "  <svg xmlns=\"http://www.w3.org/2000/svg\" height=\"24px\"viewBox=\"0 0 24 24\"\n",
              "       width=\"24px\">\n",
              "    <path d=\"M0 0h24v24H0V0z\" fill=\"none\"/>\n",
              "    <path d=\"M18.56 5.44l.94 2.06.94-2.06 2.06-.94-2.06-.94-.94-2.06-.94 2.06-2.06.94zm-11 1L8.5 8.5l.94-2.06 2.06-.94-2.06-.94L8.5 2.5l-.94 2.06-2.06.94zm10 10l.94 2.06.94-2.06 2.06-.94-2.06-.94-.94-2.06-.94 2.06-2.06.94z\"/><path d=\"M17.41 7.96l-1.37-1.37c-.4-.4-.92-.59-1.43-.59-.52 0-1.04.2-1.43.59L10.3 9.45l-7.72 7.72c-.78.78-.78 2.05 0 2.83L4 21.41c.39.39.9.59 1.41.59.51 0 1.02-.2 1.41-.59l7.78-7.78 2.81-2.81c.8-.78.8-2.07 0-2.86zM5.41 20L4 18.59l7.72-7.72 1.47 1.35L5.41 20z\"/>\n",
              "  </svg>\n",
              "      </button>\n",
              "      \n",
              "  <style>\n",
              "    .colab-df-container {\n",
              "      display:flex;\n",
              "      flex-wrap:wrap;\n",
              "      gap: 12px;\n",
              "    }\n",
              "\n",
              "    .colab-df-convert {\n",
              "      background-color: #E8F0FE;\n",
              "      border: none;\n",
              "      border-radius: 50%;\n",
              "      cursor: pointer;\n",
              "      display: none;\n",
              "      fill: #1967D2;\n",
              "      height: 32px;\n",
              "      padding: 0 0 0 0;\n",
              "      width: 32px;\n",
              "    }\n",
              "\n",
              "    .colab-df-convert:hover {\n",
              "      background-color: #E2EBFA;\n",
              "      box-shadow: 0px 1px 2px rgba(60, 64, 67, 0.3), 0px 1px 3px 1px rgba(60, 64, 67, 0.15);\n",
              "      fill: #174EA6;\n",
              "    }\n",
              "\n",
              "    [theme=dark] .colab-df-convert {\n",
              "      background-color: #3B4455;\n",
              "      fill: #D2E3FC;\n",
              "    }\n",
              "\n",
              "    [theme=dark] .colab-df-convert:hover {\n",
              "      background-color: #434B5C;\n",
              "      box-shadow: 0px 1px 3px 1px rgba(0, 0, 0, 0.15);\n",
              "      filter: drop-shadow(0px 1px 2px rgba(0, 0, 0, 0.3));\n",
              "      fill: #FFFFFF;\n",
              "    }\n",
              "  </style>\n",
              "\n",
              "      <script>\n",
              "        const buttonEl =\n",
              "          document.querySelector('#df-190a79cf-f7e6-415f-a9fa-3e0addaaf1b5 button.colab-df-convert');\n",
              "        buttonEl.style.display =\n",
              "          google.colab.kernel.accessAllowed ? 'block' : 'none';\n",
              "\n",
              "        async function convertToInteractive(key) {\n",
              "          const element = document.querySelector('#df-190a79cf-f7e6-415f-a9fa-3e0addaaf1b5');\n",
              "          const dataTable =\n",
              "            await google.colab.kernel.invokeFunction('convertToInteractive',\n",
              "                                                     [key], {});\n",
              "          if (!dataTable) return;\n",
              "\n",
              "          const docLinkHtml = 'Like what you see? Visit the ' +\n",
              "            '<a target=\"_blank\" href=https://colab.research.google.com/notebooks/data_table.ipynb>data table notebook</a>'\n",
              "            + ' to learn more about interactive tables.';\n",
              "          element.innerHTML = '';\n",
              "          dataTable['output_type'] = 'display_data';\n",
              "          await google.colab.output.renderOutput(dataTable, element);\n",
              "          const docLink = document.createElement('div');\n",
              "          docLink.innerHTML = docLinkHtml;\n",
              "          element.appendChild(docLink);\n",
              "        }\n",
              "      </script>\n",
              "    </div>\n",
              "  </div>\n",
              "  "
            ]
          },
          "metadata": {},
          "execution_count": 14
        }
      ],
      "source": [
        "y_pred_scaff_prob = final_model.predict_proba(test_scaff.X)\n",
        "\n",
        "prob_test_df = pd.DataFrame()\n",
        "prob_test_df['SMILES'] = test_scaff.ids\n",
        "prob_test_df['Prob Permeable'] = y_pred_scaff_prob[:,1]\n",
        "prob_test_df = prob_test_df.sort_values(by=['Prob Permeable'], ascending=False)\n",
        "prob_test_df"
      ]
    },
    {
      "cell_type": "markdown",
      "id": "4f9bbfc5",
      "metadata": {
        "id": "4f9bbfc5"
      },
      "source": [
        "### Scaffold Split PCA, DR, and Result Metrics"
      ]
    },
    {
      "cell_type": "code",
      "execution_count": 15,
      "id": "8f800c98",
      "metadata": {
        "id": "8f800c98"
      },
      "outputs": [],
      "source": [
        "dim = 100\n",
        "pca_scaff = PCA(n_components=dim)\n",
        "components_scaff = pca_scaff.fit_transform(test_scaff.X)"
      ]
    },
    {
      "cell_type": "code",
      "execution_count": 16,
      "id": "b37ca413",
      "metadata": {
        "colab": {
          "base_uri": "https://localhost:8080/"
        },
        "id": "b37ca413",
        "outputId": "fe7d792e-d78f-4146-8c70-759282e6fb5c"
      },
      "outputs": [
        {
          "output_type": "stream",
          "name": "stderr",
          "text": [
            "/usr/local/lib/python3.8/dist-packages/sklearn/manifold/_t_sne.py:780: FutureWarning: The default initialization in TSNE will change from 'random' to 'pca' in 1.2.\n",
            "  warnings.warn(\n",
            "/usr/local/lib/python3.8/dist-packages/sklearn/manifold/_t_sne.py:790: FutureWarning: The default learning rate in TSNE will change from 200.0 to 'auto' in 1.2.\n",
            "  warnings.warn(\n"
          ]
        }
      ],
      "source": [
        "tsne_scaff = TSNE(n_components=2)\n",
        "t_components_scaff = tsne_scaff.fit_transform(components_scaff)"
      ]
    },
    {
      "cell_type": "code",
      "execution_count": 17,
      "id": "31a8c6bc",
      "metadata": {
        "scrolled": false,
        "colab": {
          "base_uri": "https://localhost:8080/",
          "height": 483
        },
        "id": "31a8c6bc",
        "outputId": "a6638f59-87b2-40fa-d7b0-48f02c0401a7"
      },
      "outputs": [
        {
          "output_type": "stream",
          "name": "stdout",
          "text": [
            "Scaffold Split Metrics:\n",
            "Accuracy: 0.858433734939759\n",
            "Balanced Accuracy: 0.8412162162162162\n",
            "ROC AUC: 0.8412162162162162\n",
            "Precision Score: 0.7965367965367965\n",
            "Recall Score: 1.0\n",
            "\n"
          ]
        },
        {
          "output_type": "display_data",
          "data": {
            "text/plain": [
              "<Figure size 1080x360 with 4 Axes>"
            ],
            "image/png": "[encoded data removed]"
          },
          "metadata": {
            "needs_background": "light"
          }
        }
      ],
      "source": [
        "plot_split('Scaffold', y_pred_scaff, test_scaff.y, t_components_scaff)"
      ]
    },
    {
      "cell_type": "markdown",
      "source": [
        "## K-Fold anfd MCC Calcluations"
      ],
      "metadata": {
        "id": "h0sdE0PJ42Hw"
      },
      "id": "h0sdE0PJ42Hw"
    },
    {
      "cell_type": "code",
      "source": [
        "def K_fold_MCC(dataset, h, split_name=\"Random Split\", splitter=RandomSplitter()):\n",
        "    \n",
        "    split_data = splitter.k_fold_split(dataset, k=4)\n",
        "    \n",
        "    MCCs = []\n",
        "    y_true = []\n",
        "    h_predictions = []\n",
        "    \n",
        "    for data in split_data:\n",
        "        h.fit(data[0].X, data[0].y)\n",
        "        y_pred = h.predict(data[1].X)\n",
        "        y_true.extend(list(data[1].y))\n",
        "        h_predictions.extend(list(y_pred))\n",
        "        mcc = matthews_corrcoef(data[1].y, y_pred)\n",
        "        MCCs.append(mcc)\n",
        "    \n",
        "    print(split_name + \" MCC Values:\")\n",
        "    \n",
        "    for mcc in MCCs:\n",
        "        print(mcc)\n",
        "    print(\"Mean: \" + str(np.mean(MCCs)))\n",
        "\n",
        "    print(\"MCC value across full test data: \" + str(matthews_corrcoef(y_true, h_predictions)))\n",
        "    \n",
        "    return MCCs"
      ],
      "metadata": {
        "id": "BNbAZjMp5fPO"
      },
      "id": "BNbAZjMp5fPO",
      "execution_count": 18,
      "outputs": []
    },
    {
      "cell_type": "code",
      "source": [
        "scaffoldsplitter = dc.splits.ScaffoldSplitter()\n",
        "scaffold_split_mcc = K_fold_MCC(dataset, final_model, 'Scaffold Split', scaffoldsplitter)"
      ],
      "metadata": {
        "colab": {
          "base_uri": "https://localhost:8080/"
        },
        "id": "Z-eR86T-5hbq",
        "outputId": "d5fba964-f58a-4b57-cb85-78c9ef3677b3"
      },
      "id": "Z-eR86T-5hbq",
      "execution_count": 19,
      "outputs": [
        {
          "output_type": "stream",
          "name": "stderr",
          "text": [
            "/usr/local/lib/python3.8/dist-packages/sklearn/preprocessing/_label.py:98: DataConversionWarning: A column-vector y was passed when a 1d array was expected. Please change the shape of y to (n_samples, ), for example using ravel().\n",
            "  y = column_or_1d(y, warn=True)\n",
            "/usr/local/lib/python3.8/dist-packages/sklearn/preprocessing/_label.py:133: DataConversionWarning: A column-vector y was passed when a 1d array was expected. Please change the shape of y to (n_samples, ), for example using ravel().\n",
            "  y = column_or_1d(y, warn=True)\n"
          ]
        },
        {
          "output_type": "stream",
          "name": "stdout",
          "text": [
            "Scaffold Split MCC Values:\n",
            "0.7586646256039993\n",
            "0.8361088119466458\n",
            "0.47733816590699973\n",
            "0.7657810101349732\n",
            "Mean: 0.7094731533981545\n",
            "MCC value across full test data: 0.7879888945626207\n"
          ]
        }
      ]
    },
    {
      "cell_type": "code",
      "source": [
        "random_split_mcc = K_fold_MCC(dataset=dataset, h=final_model)"
      ],
      "metadata": {
        "colab": {
          "base_uri": "https://localhost:8080/"
        },
        "id": "_9O16Ngx5kx7",
        "outputId": "f56cb2aa-cc0a-46bf-8edd-6111254e1117"
      },
      "id": "_9O16Ngx5kx7",
      "execution_count": 20,
      "outputs": [
        {
          "output_type": "stream",
          "name": "stderr",
          "text": [
            "/usr/local/lib/python3.8/dist-packages/sklearn/preprocessing/_label.py:98: DataConversionWarning: A column-vector y was passed when a 1d array was expected. Please change the shape of y to (n_samples, ), for example using ravel().\n",
            "  y = column_or_1d(y, warn=True)\n",
            "/usr/local/lib/python3.8/dist-packages/sklearn/preprocessing/_label.py:133: DataConversionWarning: A column-vector y was passed when a 1d array was expected. Please change the shape of y to (n_samples, ), for example using ravel().\n",
            "  y = column_or_1d(y, warn=True)\n"
          ]
        },
        {
          "output_type": "stream",
          "name": "stdout",
          "text": [
            "Random Split MCC Values:\n",
            "0.8674521060047046\n",
            "0.8538497022862972\n",
            "0.858215794019498\n",
            "0.893141589474305\n",
            "Mean: 0.8681647979462012\n",
            "MCC value across full test data: 0.8695811089834783\n"
          ]
        }
      ]
    },
    {
      "cell_type": "code",
      "source": [
        "print(\"T Test P-value: \" + str(ttest_ind(scaffold_split_mcc, random_split_mcc).pvalue))"
      ],
      "metadata": {
        "colab": {
          "base_uri": "https://localhost:8080/"
        },
        "id": "KpKkn6qp5s3K",
        "outputId": "a773e45d-7334-4c99-b4fa-9e87c7400779"
      },
      "id": "KpKkn6qp5s3K",
      "execution_count": 21,
      "outputs": [
        {
          "output_type": "stream",
          "name": "stdout",
          "text": [
            "T Test P-value: 0.09393880935135787\n"
          ]
        }
      ]
    },
    {
      "cell_type": "code",
      "source": [
        "fig, ax = plt.subplots(1,2, sharey=True)\n",
        "fig.tight_layout()\n",
        "\n",
        "ax[0].boxplot(scaffold_split_mcc)\n",
        "ax[0].title.set_text(\"Scaffold Split MCC\")\n",
        "ax[1].boxplot(random_split_mcc)\n",
        "ax[1].title.set_text(\"Random Split MCC\")"
      ],
      "metadata": {
        "colab": {
          "base_uri": "https://localhost:8080/",
          "height": 309
        },
        "id": "UDNpLYLi5ta2",
        "outputId": "f16cb8f9-c145-4ed6-9237-2471b1987fb9"
      },
      "id": "UDNpLYLi5ta2",
      "execution_count": 22,
      "outputs": [
        {
          "output_type": "display_data",
          "data": {
            "text/plain": [
              "<Figure size 432x288 with 2 Axes>"
            ],
            "image/png": "[encoded data removed]"
          },
          "metadata": {
            "needs_background": "light"
          }
        }
      ]
    }
  ],
  "metadata": {
    "kernelspec": {
      "display_name": "Python [conda env:bme590] *",
      "language": "python",
      "name": "conda-env-bme590-py"
    },
    "language_info": {
      "codemirror_mode": {
        "name": "ipython",
        "version": 3
      },
      "file_extension": ".py",
      "mimetype": "text/x-python",
      "name": "python",
      "nbconvert_exporter": "python",
      "pygments_lexer": "ipython3",
      "version": "3.10.4"
    },
    "colab": {
      "provenance": []
    }
  },
  "nbformat": 4,
  "nbformat_minor": 5
}