{
 "cells": [
  {
   "cell_type": "code",
   "execution_count": 2,
   "id": "263ed1a3",
   "metadata": {},
   "outputs": [],
   "source": [
    "import numpy as np\n",
    "import pandas as pd\n",
    "from rdkit import Chem\n",
    "from rdkit.Chem import AllChem, DataStructs\n",
    "\n",
    "from sklearn.cluster import KMeans\n",
    "from sklearn.decomposition import PCA\n",
    "from sklearn.manifold import TSNE\n",
    "\n",
    "import matplotlib.pyplot as plt"
   ]
  },
  {
   "cell_type": "code",
   "execution_count": 4,
   "id": "6ceae498",
   "metadata": {
    "scrolled": false
   },
   "outputs": [
    {
     "data": {
      "text/html": [
       "<div>\n",
       "<style scoped>\n",
       "    .dataframe tbody tr th:only-of-type {\n",
       "        vertical-align: middle;\n",
       "    }\n",
       "\n",
       "    .dataframe tbody tr th {\n",
       "        vertical-align: top;\n",
       "    }\n",
       "\n",
       "    .dataframe thead th {\n",
       "        text-align: right;\n",
       "    }\n",
       "</style>\n",
       "<table border=\"1\" class=\"dataframe\">\n",
       "  <thead>\n",
       "    <tr style=\"text-align: right;\">\n",
       "      <th></th>\n",
       "      <th>Drug</th>\n",
       "      <th>SMILES</th>\n",
       "      <th>permeable</th>\n",
       "    </tr>\n",
       "  </thead>\n",
       "  <tbody>\n",
       "    <tr>\n",
       "      <th>0</th>\n",
       "      <td>ACEBUTOLOL</td>\n",
       "      <td>CCCC(=O)Nc1ccc(c(c1)C(C)=O)OCC(O)CNC(C)C</td>\n",
       "      <td>0.0</td>\n",
       "    </tr>\n",
       "    <tr>\n",
       "      <th>1</th>\n",
       "      <td>DACTINOMYCIN</td>\n",
       "      <td>CC(C)[C@H]1NC(=O)[C@@H](NC(=O)c2ccc(c3c2N=C2C(...</td>\n",
       "      <td>0.0</td>\n",
       "    </tr>\n",
       "    <tr>\n",
       "      <th>2</th>\n",
       "      <td>ALDOSTERONE</td>\n",
       "      <td>C[C@@]12CCC(=O)C=C2CC[C@H]2C3CC[C@H](C(=O)CO)C...</td>\n",
       "      <td>0.0</td>\n",
       "    </tr>\n",
       "    <tr>\n",
       "      <th>3</th>\n",
       "      <td>AMILORIDE</td>\n",
       "      <td>N\\C(=N)\\NC(=O)c1nc(c(nc1N)N)Cl</td>\n",
       "      <td>0.0</td>\n",
       "    </tr>\n",
       "    <tr>\n",
       "      <th>4</th>\n",
       "      <td>AMIODARONE</td>\n",
       "      <td>CCCCc1oc2ccccc2c1C(=O)c1cc(c(c(c1)[I])OCCN(CC)...</td>\n",
       "      <td>0.0</td>\n",
       "    </tr>\n",
       "    <tr>\n",
       "      <th>...</th>\n",
       "      <td>...</td>\n",
       "      <td>...</td>\n",
       "      <td>...</td>\n",
       "    </tr>\n",
       "    <tr>\n",
       "      <th>1687</th>\n",
       "      <td>AMITRIPTYLINE</td>\n",
       "      <td>CN(C)CCC=C1c2ccccc2CCc2ccccc12</td>\n",
       "      <td>1.0</td>\n",
       "    </tr>\n",
       "    <tr>\n",
       "      <th>1688</th>\n",
       "      <td>CHLORPROMAZINE</td>\n",
       "      <td>CN(C)CCCN1c2ccccc2Sc2ccc(cc12)Cl</td>\n",
       "      <td>1.0</td>\n",
       "    </tr>\n",
       "    <tr>\n",
       "      <th>1689</th>\n",
       "      <td>DISULFIRAM</td>\n",
       "      <td>CCN(CC)C(=S)SSC(=S)N(CC)CC</td>\n",
       "      <td>1.0</td>\n",
       "    </tr>\n",
       "    <tr>\n",
       "      <th>1690</th>\n",
       "      <td>MORPHINE</td>\n",
       "      <td>CN1CC[C@@]23[C@H]4Oc5c(ccc(c52)C[C@@H]1[C@@H]3...</td>\n",
       "      <td>1.0</td>\n",
       "    </tr>\n",
       "    <tr>\n",
       "      <th>1691</th>\n",
       "      <td>TRIFLUOPERAZINE</td>\n",
       "      <td>CN1CCN(CCCN2c3ccccc3Sc3ccc(cc23)C(F)(F)F)CC1</td>\n",
       "      <td>1.0</td>\n",
       "    </tr>\n",
       "  </tbody>\n",
       "</table>\n",
       "<p>1692 rows × 3 columns</p>\n",
       "</div>"
      ],
      "text/plain": [
       "                 Drug                                             SMILES  \\\n",
       "0          ACEBUTOLOL           CCCC(=O)Nc1ccc(c(c1)C(C)=O)OCC(O)CNC(C)C   \n",
       "1        DACTINOMYCIN  CC(C)[C@H]1NC(=O)[C@@H](NC(=O)c2ccc(c3c2N=C2C(...   \n",
       "2         ALDOSTERONE  C[C@@]12CCC(=O)C=C2CC[C@H]2C3CC[C@H](C(=O)CO)C...   \n",
       "3           AMILORIDE                     N\\C(=N)\\NC(=O)c1nc(c(nc1N)N)Cl   \n",
       "4          AMIODARONE  CCCCc1oc2ccccc2c1C(=O)c1cc(c(c(c1)[I])OCCN(CC)...   \n",
       "...               ...                                                ...   \n",
       "1687    AMITRIPTYLINE                     CN(C)CCC=C1c2ccccc2CCc2ccccc12   \n",
       "1688   CHLORPROMAZINE                   CN(C)CCCN1c2ccccc2Sc2ccc(cc12)Cl   \n",
       "1689       DISULFIRAM                         CCN(CC)C(=S)SSC(=S)N(CC)CC   \n",
       "1690         MORPHINE  CN1CC[C@@]23[C@H]4Oc5c(ccc(c52)C[C@@H]1[C@@H]3...   \n",
       "1691  TRIFLUOPERAZINE       CN1CCN(CCCN2c3ccccc3Sc3ccc(cc23)C(F)(F)F)CC1   \n",
       "\n",
       "      permeable  \n",
       "0           0.0  \n",
       "1           0.0  \n",
       "2           0.0  \n",
       "3           0.0  \n",
       "4           0.0  \n",
       "...         ...  \n",
       "1687        1.0  \n",
       "1688        1.0  \n",
       "1689        1.0  \n",
       "1690        1.0  \n",
       "1691        1.0  \n",
       "\n",
       "[1692 rows x 3 columns]"
      ]
     },
     "execution_count": 4,
     "metadata": {},
     "output_type": "execute_result"
    }
   ],
   "source": [
    "bbb_df = pd.read_csv('adenot.csv')\n",
    "bbb_df"
   ]
  },
  {
   "cell_type": "markdown",
   "id": "bb674929",
   "metadata": {},
   "source": [
    "## Getting Fingerprints"
   ]
  },
  {
   "cell_type": "code",
   "execution_count": 5,
   "id": "11af255f",
   "metadata": {},
   "outputs": [
    {
     "name": "stderr",
     "output_type": "stream",
     "text": [
      "[16:16:03] SMILES Parse Error: syntax error while parsing: CO[C@]1(NC(=O)CSC[C@@H]([N+H3])C([O-])=O)[C@H]2SCC(=C(N2C1=O)C(O)=O)CSc1nnnn1C\n",
      "[16:16:03] SMILES Parse Error: Failed parsing SMILES 'CO[C@]1(NC(=O)CSC[C@@H]([N+H3])C([O-])=O)[C@H]2SCC(=C(N2C1=O)C(O)=O)CSc1nnnn1C' for input: 'CO[C@]1(NC(=O)CSC[C@@H]([N+H3])C([O-])=O)[C@H]2SCC(=C(N2C1=O)C(O)=O)CSc1nnnn1C'\n"
     ]
    },
    {
     "ename": "ArgumentError",
     "evalue": "Python argument types in\n    rdkit.Chem.rdMolDescriptors.GetMorganFingerprintAsBitVect(NoneType, int)\ndid not match C++ signature:\n    GetMorganFingerprintAsBitVect(class RDKit::ROMol mol, unsigned int radius, unsigned int nBits=2048, class boost::python::api::object invariants=[], class boost::python::api::object fromAtoms=[], bool useChirality=False, bool useBondTypes=True, bool useFeatures=False, class boost::python::api::object bitInfo=None, bool includeRedundantEnvironments=False)",
     "output_type": "error",
     "traceback": [
      "\u001b[1;31m---------------------------------------------------------------------------\u001b[0m",
      "\u001b[1;31mArgumentError\u001b[0m                             Traceback (most recent call last)",
      "Input \u001b[1;32mIn [5]\u001b[0m, in \u001b[0;36m<cell line: 5>\u001b[1;34m()\u001b[0m\n\u001b[0;32m      5\u001b[0m \u001b[38;5;28;01mfor\u001b[39;00m smile \u001b[38;5;129;01min\u001b[39;00m bbb_df[\u001b[38;5;124m'\u001b[39m\u001b[38;5;124mSMILES\u001b[39m\u001b[38;5;124m'\u001b[39m]:\n\u001b[0;32m      6\u001b[0m     mol \u001b[38;5;241m=\u001b[39m Chem\u001b[38;5;241m.\u001b[39mMolFromSmiles(smile)\n\u001b[1;32m----> 7\u001b[0m     fp \u001b[38;5;241m=\u001b[39m \u001b[43mAllChem\u001b[49m\u001b[38;5;241;43m.\u001b[39;49m\u001b[43mGetMorganFingerprintAsBitVect\u001b[49m\u001b[43m(\u001b[49m\u001b[43mmol\u001b[49m\u001b[43m,\u001b[49m\u001b[43m \u001b[49m\u001b[43mr\u001b[49m\u001b[43m,\u001b[49m\u001b[43m \u001b[49m\u001b[43mnBits\u001b[49m\u001b[38;5;241;43m=\u001b[39;49m\u001b[43md\u001b[49m\u001b[43m,\u001b[49m\u001b[43m \u001b[49m\u001b[43museChirality\u001b[49m\u001b[38;5;241;43m=\u001b[39;49m\u001b[38;5;28;43;01mFalse\u001b[39;49;00m\u001b[43m)\u001b[49m\n\u001b[0;32m      8\u001b[0m     fp_list\u001b[38;5;241m.\u001b[39mappend(fp)\n\u001b[0;32m     10\u001b[0m morgan_list \u001b[38;5;241m=\u001b[39m np\u001b[38;5;241m.\u001b[39marray(fp_list)\n",
      "\u001b[1;31mArgumentError\u001b[0m: Python argument types in\n    rdkit.Chem.rdMolDescriptors.GetMorganFingerprintAsBitVect(NoneType, int)\ndid not match C++ signature:\n    GetMorganFingerprintAsBitVect(class RDKit::ROMol mol, unsigned int radius, unsigned int nBits=2048, class boost::python::api::object invariants=[], class boost::python::api::object fromAtoms=[], bool useChirality=False, bool useBondTypes=True, bool useFeatures=False, class boost::python::api::object bitInfo=None, bool includeRedundantEnvironments=False)"
     ]
    }
   ],
   "source": [
    "r = 2\n",
    "d = 1024\n",
    "\n",
    "fp_list = []\n",
    "for smile in bbb_df['SMILES']:\n",
    "    mol = Chem.MolFromSmiles(smile)\n",
    "    fp = AllChem.GetMorganFingerprintAsBitVect(mol,r,nBits=d,useChirality=False)\n",
    "    fp_list.append(fp)\n",
    "    \n",
    "morgan_list = np.array(fp_list)\n",
    "print(morgan_list.shape)"
   ]
  },
  {
   "cell_type": "code",
   "execution_count": null,
   "id": "aaa08eef",
   "metadata": {},
   "outputs": [],
   "source": []
  }
 ],
 "metadata": {
  "kernelspec": {
   "display_name": "Python [conda env:bme590]",
   "language": "python",
   "name": "conda-env-bme590-py"
  },
  "language_info": {
   "codemirror_mode": {
    "name": "ipython",
    "version": 3
   },
   "file_extension": ".py",
   "mimetype": "text/x-python",
   "name": "python",
   "nbconvert_exporter": "python",
   "pygments_lexer": "ipython3",
   "version": "3.10.4"
  }
 },
 "nbformat": 4,
 "nbformat_minor": 5
}
