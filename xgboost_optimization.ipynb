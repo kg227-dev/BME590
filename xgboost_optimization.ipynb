{
  "cells": [
    {
      "cell_type": "markdown",
      "id": "6bb55246",
      "metadata": {
        "id": "6bb55246"
      },
      "source": [
        "#### Import necessary libraries "
      ]
    },
    {
      "cell_type": "code",
      "execution_count": 4,
      "id": "4jDylWDV2_k6",
      "metadata": {
        "colab": {
          "base_uri": "https://localhost:8080/"
        },
        "id": "4jDylWDV2_k6",
        "outputId": "70f23b96-1627-4590-b934-abdec89938d4"
      },
      "outputs": [
        {
          "name": "stdout",
          "output_type": "stream",
          "text": [
            "Looking in indexes: https://pypi.org/simple, https://us-python.pkg.dev/colab-wheels/public/simple/\n",
            "Requirement already satisfied: deepchem==2.6.1 in /usr/local/lib/python3.8/dist-packages (2.6.1)\n",
            "Requirement already satisfied: rdkit-pypi in /usr/local/lib/python3.8/dist-packages (from deepchem==2.6.1) (2022.9.2)\n",
            "Requirement already satisfied: numpy>=1.21 in /usr/local/lib/python3.8/dist-packages (from deepchem==2.6.1) (1.21.6)\n",
            "Requirement already satisfied: joblib in /usr/local/lib/python3.8/dist-packages (from deepchem==2.6.1) (1.2.0)\n",
            "Requirement already satisfied: scipy in /usr/local/lib/python3.8/dist-packages (from deepchem==2.6.1) (1.7.3)\n",
            "Requirement already satisfied: scikit-learn in /usr/local/lib/python3.8/dist-packages (from deepchem==2.6.1) (1.0.2)\n",
            "Requirement already satisfied: pandas in /usr/local/lib/python3.8/dist-packages (from deepchem==2.6.1) (1.3.5)\n",
            "Requirement already satisfied: python-dateutil>=2.7.3 in /usr/local/lib/python3.8/dist-packages (from pandas->deepchem==2.6.1) (2.8.2)\n",
            "Requirement already satisfied: pytz>=2017.3 in /usr/local/lib/python3.8/dist-packages (from pandas->deepchem==2.6.1) (2022.6)\n",
            "Requirement already satisfied: six>=1.5 in /usr/local/lib/python3.8/dist-packages (from python-dateutil>=2.7.3->pandas->deepchem==2.6.1) (1.15.0)\n",
            "Requirement already satisfied: Pillow in /usr/local/lib/python3.8/dist-packages (from rdkit-pypi->deepchem==2.6.1) (7.1.2)\n",
            "Requirement already satisfied: threadpoolctl>=2.0.0 in /usr/local/lib/python3.8/dist-packages (from scikit-learn->deepchem==2.6.1) (3.1.0)\n",
            "Looking in indexes: https://pypi.org/simple, https://us-python.pkg.dev/colab-wheels/public/simple/\n",
            "Requirement already satisfied: rdkit-pypi in /usr/local/lib/python3.8/dist-packages (2022.9.2)\n",
            "Requirement already satisfied: numpy in /usr/local/lib/python3.8/dist-packages (from rdkit-pypi) (1.21.6)\n",
            "Requirement already satisfied: Pillow in /usr/local/lib/python3.8/dist-packages (from rdkit-pypi) (7.1.2)\n"
          ]
        }
      ],
      "source": [
        "!pip install deepchem==2.6.1\n",
        "!pip install rdkit-pypi"
      ]
    },
    {
      "cell_type": "code",
      "execution_count": 5,
      "id": "d9378a71",
      "metadata": {
        "id": "d9378a71"
      },
      "outputs": [],
      "source": [
        "import numpy as np\n",
        "import pandas as pd\n",
        "from rdkit import Chem\n",
        "import matplotlib.pyplot as plt\n",
        "from rdkit.Chem import AllChem, DataStructs, PandasTools\n",
        "from rdkit.Chem import Descriptors\n",
        "from rdkit.ML.Descriptors import MoleculeDescriptors\n",
        "from sklearn.model_selection import train_test_split \n",
        "from sklearn.tree import DecisionTreeClassifier\n",
        "from deepchem import metrics\n",
        "from sklearn.ensemble import RandomForestClassifier\n",
        "from sklearn.model_selection import ParameterGrid\n",
        "import scipy\n",
        "from sklearn.manifold import TSNE\n",
        "from sklearn.decomposition import PCA\n",
        "from deepchem import metrics\n",
        "import deepchem as dc\n",
        "from xgboost import XGBClassifier\n",
        "import xgboost as xgb\n",
        "from sklearn.metrics import accuracy_score\n",
        "from sklearn.model_selection import GridSearchCV\n",
        "\n",
        "from sklearn.metrics import matthews_corrcoef\n",
        "from deepchem.splits import RandomSplitter\n",
        "from scipy.stats import ttest_ind"
      ]
    },
    {
      "cell_type": "markdown",
      "id": "6f7996de",
      "metadata": {
        "id": "6f7996de"
      },
      "source": [
        "#### Read in the preprocessed BBB dataset from Adenot paper"
      ]
    },
    {
      "cell_type": "code",
      "execution_count": 6,
      "id": "da732072",
      "metadata": {
        "id": "da732072"
      },
      "outputs": [],
      "source": [
        "bbb_df = pd.read_csv('adenot_processed.csv')"
      ]
    },
    {
      "cell_type": "code",
      "execution_count": 7,
      "id": "f12bb967",
      "metadata": {
        "colab": {
          "base_uri": "https://localhost:8080/",
          "height": 352
        },
        "id": "f12bb967",
        "outputId": "27ec7ad4-7723-477d-c9f3-7646a3995cd6"
      },
      "outputs": [
        {
          "data": {
            "text/html": [
              "\n",
              "  <div id=\"df-6cf64170-2c4b-4a51-8256-be9a3c443df5\">\n",
              "    <div class=\"colab-df-container\">\n",
              "      <div>\n",
              "<style scoped>\n",
              "    .dataframe tbody tr th:only-of-type {\n",
              "        vertical-align: middle;\n",
              "    }\n",
              "\n",
              "    .dataframe tbody tr th {\n",
              "        vertical-align: top;\n",
              "    }\n",
              "\n",
              "    .dataframe thead th {\n",
              "        text-align: right;\n",
              "    }\n",
              "</style>\n",
              "<table border=\"1\" class=\"dataframe\">\n",
              "  <thead>\n",
              "    <tr style=\"text-align: right;\">\n",
              "      <th></th>\n",
              "      <th>Drug</th>\n",
              "      <th>SMILES</th>\n",
              "      <th>permeable</th>\n",
              "      <th>0</th>\n",
              "      <th>1</th>\n",
              "      <th>2</th>\n",
              "      <th>3</th>\n",
              "      <th>4</th>\n",
              "      <th>5</th>\n",
              "      <th>6</th>\n",
              "      <th>...</th>\n",
              "      <th>1014</th>\n",
              "      <th>1015</th>\n",
              "      <th>1016</th>\n",
              "      <th>1017</th>\n",
              "      <th>1018</th>\n",
              "      <th>1019</th>\n",
              "      <th>1020</th>\n",
              "      <th>1021</th>\n",
              "      <th>1022</th>\n",
              "      <th>1023</th>\n",
              "    </tr>\n",
              "  </thead>\n",
              "  <tbody>\n",
              "    <tr>\n",
              "      <th>0</th>\n",
              "      <td>ACEBUTOLOL</td>\n",
              "      <td>CCCC(=O)Nc1ccc(c(c1)C(C)=O)OCC(O)CNC(C)C</td>\n",
              "      <td>0</td>\n",
              "      <td>0</td>\n",
              "      <td>1</td>\n",
              "      <td>0</td>\n",
              "      <td>0</td>\n",
              "      <td>1</td>\n",
              "      <td>0</td>\n",
              "      <td>0</td>\n",
              "      <td>...</td>\n",
              "      <td>1</td>\n",
              "      <td>0</td>\n",
              "      <td>0</td>\n",
              "      <td>1</td>\n",
              "      <td>0</td>\n",
              "      <td>0</td>\n",
              "      <td>0</td>\n",
              "      <td>0</td>\n",
              "      <td>0</td>\n",
              "      <td>0</td>\n",
              "    </tr>\n",
              "    <tr>\n",
              "      <th>1</th>\n",
              "      <td>DACTINOMYCIN</td>\n",
              "      <td>CC(C)[C@H]1NC(=O)[C@@H](NC(=O)c2ccc(c3c2N=C2C(...</td>\n",
              "      <td>0</td>\n",
              "      <td>0</td>\n",
              "      <td>1</td>\n",
              "      <td>0</td>\n",
              "      <td>0</td>\n",
              "      <td>1</td>\n",
              "      <td>1</td>\n",
              "      <td>0</td>\n",
              "      <td>...</td>\n",
              "      <td>0</td>\n",
              "      <td>0</td>\n",
              "      <td>0</td>\n",
              "      <td>0</td>\n",
              "      <td>0</td>\n",
              "      <td>1</td>\n",
              "      <td>0</td>\n",
              "      <td>0</td>\n",
              "      <td>0</td>\n",
              "      <td>0</td>\n",
              "    </tr>\n",
              "    <tr>\n",
              "      <th>2</th>\n",
              "      <td>ALDOSTERONE</td>\n",
              "      <td>C[C@@]12CCC(=O)C=C2CC[C@H]2C3CC[C@H](C(=O)CO)C...</td>\n",
              "      <td>0</td>\n",
              "      <td>0</td>\n",
              "      <td>0</td>\n",
              "      <td>0</td>\n",
              "      <td>0</td>\n",
              "      <td>0</td>\n",
              "      <td>0</td>\n",
              "      <td>0</td>\n",
              "      <td>...</td>\n",
              "      <td>0</td>\n",
              "      <td>0</td>\n",
              "      <td>0</td>\n",
              "      <td>0</td>\n",
              "      <td>0</td>\n",
              "      <td>1</td>\n",
              "      <td>0</td>\n",
              "      <td>0</td>\n",
              "      <td>0</td>\n",
              "      <td>0</td>\n",
              "    </tr>\n",
              "    <tr>\n",
              "      <th>3</th>\n",
              "      <td>AMILORIDE</td>\n",
              "      <td>N\\C(=N)\\NC(=O)c1nc(c(nc1N)N)Cl</td>\n",
              "      <td>0</td>\n",
              "      <td>0</td>\n",
              "      <td>0</td>\n",
              "      <td>0</td>\n",
              "      <td>0</td>\n",
              "      <td>0</td>\n",
              "      <td>0</td>\n",
              "      <td>0</td>\n",
              "      <td>...</td>\n",
              "      <td>0</td>\n",
              "      <td>0</td>\n",
              "      <td>0</td>\n",
              "      <td>0</td>\n",
              "      <td>0</td>\n",
              "      <td>0</td>\n",
              "      <td>0</td>\n",
              "      <td>0</td>\n",
              "      <td>0</td>\n",
              "      <td>0</td>\n",
              "    </tr>\n",
              "    <tr>\n",
              "      <th>4</th>\n",
              "      <td>AMIODARONE</td>\n",
              "      <td>CCCCc1oc2ccccc2c1C(=O)c1cc(c(c(c1)[I])OCCN(CC)...</td>\n",
              "      <td>0</td>\n",
              "      <td>0</td>\n",
              "      <td>0</td>\n",
              "      <td>0</td>\n",
              "      <td>0</td>\n",
              "      <td>0</td>\n",
              "      <td>0</td>\n",
              "      <td>0</td>\n",
              "      <td>...</td>\n",
              "      <td>0</td>\n",
              "      <td>0</td>\n",
              "      <td>0</td>\n",
              "      <td>0</td>\n",
              "      <td>0</td>\n",
              "      <td>0</td>\n",
              "      <td>0</td>\n",
              "      <td>0</td>\n",
              "      <td>0</td>\n",
              "      <td>0</td>\n",
              "    </tr>\n",
              "  </tbody>\n",
              "</table>\n",
              "<p>5 rows × 1027 columns</p>\n",
              "</div>\n",
              "      <button class=\"colab-df-convert\" onclick=\"convertToInteractive('df-6cf64170-2c4b-4a51-8256-be9a3c443df5')\"\n",
              "              title=\"Convert this dataframe to an interactive table.\"\n",
              "              style=\"display:none;\">\n",
              "        \n",
              "  <svg xmlns=\"http://www.w3.org/2000/svg\" height=\"24px\"viewBox=\"0 0 24 24\"\n",
              "       width=\"24px\">\n",
              "    <path d=\"M0 0h24v24H0V0z\" fill=\"none\"/>\n",
              "    <path d=\"M18.56 5.44l.94 2.06.94-2.06 2.06-.94-2.06-.94-.94-2.06-.94 2.06-2.06.94zm-11 1L8.5 8.5l.94-2.06 2.06-.94-2.06-.94L8.5 2.5l-.94 2.06-2.06.94zm10 10l.94 2.06.94-2.06 2.06-.94-2.06-.94-.94-2.06-.94 2.06-2.06.94z\"/><path d=\"M17.41 7.96l-1.37-1.37c-.4-.4-.92-.59-1.43-.59-.52 0-1.04.2-1.43.59L10.3 9.45l-7.72 7.72c-.78.78-.78 2.05 0 2.83L4 21.41c.39.39.9.59 1.41.59.51 0 1.02-.2 1.41-.59l7.78-7.78 2.81-2.81c.8-.78.8-2.07 0-2.86zM5.41 20L4 18.59l7.72-7.72 1.47 1.35L5.41 20z\"/>\n",
              "  </svg>\n",
              "      </button>\n",
              "      \n",
              "  <style>\n",
              "    .colab-df-container {\n",
              "      display:flex;\n",
              "      flex-wrap:wrap;\n",
              "      gap: 12px;\n",
              "    }\n",
              "\n",
              "    .colab-df-convert {\n",
              "      background-color: #E8F0FE;\n",
              "      border: none;\n",
              "      border-radius: 50%;\n",
              "      cursor: pointer;\n",
              "      display: none;\n",
              "      fill: #1967D2;\n",
              "      height: 32px;\n",
              "      padding: 0 0 0 0;\n",
              "      width: 32px;\n",
              "    }\n",
              "\n",
              "    .colab-df-convert:hover {\n",
              "      background-color: #E2EBFA;\n",
              "      box-shadow: 0px 1px 2px rgba(60, 64, 67, 0.3), 0px 1px 3px 1px rgba(60, 64, 67, 0.15);\n",
              "      fill: #174EA6;\n",
              "    }\n",
              "\n",
              "    [theme=dark] .colab-df-convert {\n",
              "      background-color: #3B4455;\n",
              "      fill: #D2E3FC;\n",
              "    }\n",
              "\n",
              "    [theme=dark] .colab-df-convert:hover {\n",
              "      background-color: #434B5C;\n",
              "      box-shadow: 0px 1px 3px 1px rgba(0, 0, 0, 0.15);\n",
              "      filter: drop-shadow(0px 1px 2px rgba(0, 0, 0, 0.3));\n",
              "      fill: #FFFFFF;\n",
              "    }\n",
              "  </style>\n",
              "\n",
              "      <script>\n",
              "        const buttonEl =\n",
              "          document.querySelector('#df-6cf64170-2c4b-4a51-8256-be9a3c443df5 button.colab-df-convert');\n",
              "        buttonEl.style.display =\n",
              "          google.colab.kernel.accessAllowed ? 'block' : 'none';\n",
              "\n",
              "        async function convertToInteractive(key) {\n",
              "          const element = document.querySelector('#df-6cf64170-2c4b-4a51-8256-be9a3c443df5');\n",
              "          const dataTable =\n",
              "            await google.colab.kernel.invokeFunction('convertToInteractive',\n",
              "                                                     [key], {});\n",
              "          if (!dataTable) return;\n",
              "\n",
              "          const docLinkHtml = 'Like what you see? Visit the ' +\n",
              "            '<a target=\"_blank\" href=https://colab.research.google.com/notebooks/data_table.ipynb>data table notebook</a>'\n",
              "            + ' to learn more about interactive tables.';\n",
              "          element.innerHTML = '';\n",
              "          dataTable['output_type'] = 'display_data';\n",
              "          await google.colab.output.renderOutput(dataTable, element);\n",
              "          const docLink = document.createElement('div');\n",
              "          docLink.innerHTML = docLinkHtml;\n",
              "          element.appendChild(docLink);\n",
              "        }\n",
              "      </script>\n",
              "    </div>\n",
              "  </div>\n",
              "  "
            ],
            "text/plain": [
              "           Drug                                             SMILES  permeable  \\\n",
              "0    ACEBUTOLOL           CCCC(=O)Nc1ccc(c(c1)C(C)=O)OCC(O)CNC(C)C          0   \n",
              "1  DACTINOMYCIN  CC(C)[C@H]1NC(=O)[C@@H](NC(=O)c2ccc(c3c2N=C2C(...          0   \n",
              "2   ALDOSTERONE  C[C@@]12CCC(=O)C=C2CC[C@H]2C3CC[C@H](C(=O)CO)C...          0   \n",
              "3     AMILORIDE                     N\\C(=N)\\NC(=O)c1nc(c(nc1N)N)Cl          0   \n",
              "4    AMIODARONE  CCCCc1oc2ccccc2c1C(=O)c1cc(c(c(c1)[I])OCCN(CC)...          0   \n",
              "\n",
              "   0  1  2  3  4  5  6  ...  1014  1015  1016  1017  1018  1019  1020  1021  \\\n",
              "0  0  1  0  0  1  0  0  ...     1     0     0     1     0     0     0     0   \n",
              "1  0  1  0  0  1  1  0  ...     0     0     0     0     0     1     0     0   \n",
              "2  0  0  0  0  0  0  0  ...     0     0     0     0     0     1     0     0   \n",
              "3  0  0  0  0  0  0  0  ...     0     0     0     0     0     0     0     0   \n",
              "4  0  0  0  0  0  0  0  ...     0     0     0     0     0     0     0     0   \n",
              "\n",
              "   1022  1023  \n",
              "0     0     0  \n",
              "1     0     0  \n",
              "2     0     0  \n",
              "3     0     0  \n",
              "4     0     0  \n",
              "\n",
              "[5 rows x 1027 columns]"
            ]
          },
          "execution_count": 7,
          "metadata": {},
          "output_type": "execute_result"
        }
      ],
      "source": [
        "bbb_df.head()"
      ]
    },
    {
      "cell_type": "markdown",
      "id": "3dff8a03",
      "metadata": {
        "id": "3dff8a03"
      },
      "source": [
        "## Random Split"
      ]
    },
    {
      "cell_type": "markdown",
      "id": "ea09ee40",
      "metadata": {
        "id": "ea09ee40"
      },
      "source": [
        "#### Data preprocessing"
      ]
    },
    {
      "cell_type": "code",
      "execution_count": 8,
      "id": "e3e119a9",
      "metadata": {
        "id": "e3e119a9"
      },
      "outputs": [],
      "source": [
        "X = bbb_df.iloc[:,3:].copy()\n",
        "y = bbb_df.iloc[:,2].copy()\n",
        "X_train, X_test, y_train, y_test = train_test_split(X, y, test_size=0.3, random_state=0)"
      ]
    },
    {
      "cell_type": "markdown",
      "id": "8cebcc8c",
      "metadata": {
        "id": "8cebcc8c"
      },
      "source": [
        "#### XGBoost"
      ]
    },
    {
      "cell_type": "code",
      "execution_count": 9,
      "id": "c97b6857",
      "metadata": {
        "colab": {
          "base_uri": "https://localhost:8080/"
        },
        "id": "c97b6857",
        "outputId": "bf9be451-d7c9-4870-cc41-7ec77b4be5f0"
      },
      "outputs": [
        {
          "name": "stdout",
          "output_type": "stream",
          "text": [
            "0.9518072289156626\n"
          ]
        }
      ],
      "source": [
        "xgboost = XGBClassifier()\n",
        "xgboost.fit(X_train, y_train)\n",
        "# make predictions for test data\n",
        "y_pred = xgboost.predict(X_test)\n",
        "accuracy = accuracy_score(y_test, y_pred)\n",
        "print(accuracy)"
      ]
    },
    {
      "cell_type": "markdown",
      "id": "8f7bbeba",
      "metadata": {
        "id": "8f7bbeba"
      },
      "source": [
        "#### Hyperparameter Optimization"
      ]
    },
    {
      "cell_type": "code",
      "execution_count": 10,
      "id": "36742705",
      "metadata": {
        "colab": {
          "base_uri": "https://localhost:8080/"
        },
        "id": "36742705",
        "outputId": "fd398093-ec89-498e-a95c-e00767db90ac"
      },
      "outputs": [
        {
          "data": {
            "text/plain": [
              "GridSearchCV(cv=5,\n",
              "             estimator=XGBClassifier(colsample_bytree=0.8, max_depth=5,\n",
              "                                     n_estimators=140, nthread=4,\n",
              "                                     subsample=0.8),\n",
              "             n_jobs=4,\n",
              "             param_grid={'max_depth': range(3, 10, 2),\n",
              "                         'min_child_weight': range(1, 6, 2)},\n",
              "             scoring='roc_auc')"
            ]
          },
          "execution_count": 10,
          "metadata": {},
          "output_type": "execute_result"
        }
      ],
      "source": [
        "param_test1 = {\n",
        " 'max_depth':range(3,10,2),\n",
        " 'min_child_weight':range(1,6,2)\n",
        "}\n",
        "gsearch1 = GridSearchCV(estimator = XGBClassifier( learning_rate =0.1, n_estimators=140, max_depth=5,\n",
        " min_child_weight=1, gamma=0, subsample=0.8, colsample_bytree=0.8,\n",
        " objective= 'binary:logistic', nthread=4, scale_pos_weight=1, ), \n",
        " param_grid = param_test1, scoring='roc_auc',n_jobs=4, cv=5)\n",
        "gsearch1.fit(X_train,y_train)"
      ]
    },
    {
      "cell_type": "code",
      "execution_count": 11,
      "id": "68b3f383",
      "metadata": {
        "colab": {
          "base_uri": "https://localhost:8080/"
        },
        "id": "68b3f383",
        "outputId": "06aa4196-7b0b-4514-c18d-1a5e8ef24f9b"
      },
      "outputs": [
        {
          "data": {
            "text/plain": [
              "({'mean_fit_time': array([ 9.98097687, 10.29310923, 10.68749347, 16.74652109, 16.34793601,\n",
              "         16.30066681, 22.64082179, 19.20825524, 15.97847953, 23.56265812,\n",
              "         20.25902858, 13.979915  ]),\n",
              "  'std_fit_time': array([0.56339465, 0.30131467, 0.18017571, 0.36294324, 0.43442382,\n",
              "         0.22285145, 0.27583062, 0.9208594 , 0.41803895, 0.71626915,\n",
              "         0.58369527, 2.66997137]),\n",
              "  'mean_score_time': array([0.16952586, 0.18349948, 0.19863167, 0.15344319, 0.14431801,\n",
              "         0.17128434, 0.16873188, 0.12979903, 0.13205976, 0.13410559,\n",
              "         0.1243392 , 0.07738671]),\n",
              "  'std_score_time': array([0.0436664 , 0.02929742, 0.03660255, 0.05444701, 0.03776861,\n",
              "         0.03914479, 0.02889581, 0.04278811, 0.01285011, 0.06005283,\n",
              "         0.04747394, 0.05512258]),\n",
              "  'param_max_depth': masked_array(data=[3, 3, 3, 5, 5, 5, 7, 7, 7, 9, 9, 9],\n",
              "               mask=[False, False, False, False, False, False, False, False,\n",
              "                     False, False, False, False],\n",
              "         fill_value='?',\n",
              "              dtype=object),\n",
              "  'param_min_child_weight': masked_array(data=[1, 3, 5, 1, 3, 5, 1, 3, 5, 1, 3, 5],\n",
              "               mask=[False, False, False, False, False, False, False, False,\n",
              "                     False, False, False, False],\n",
              "         fill_value='?',\n",
              "              dtype=object),\n",
              "  'params': [{'max_depth': 3, 'min_child_weight': 1},\n",
              "   {'max_depth': 3, 'min_child_weight': 3},\n",
              "   {'max_depth': 3, 'min_child_weight': 5},\n",
              "   {'max_depth': 5, 'min_child_weight': 1},\n",
              "   {'max_depth': 5, 'min_child_weight': 3},\n",
              "   {'max_depth': 5, 'min_child_weight': 5},\n",
              "   {'max_depth': 7, 'min_child_weight': 1},\n",
              "   {'max_depth': 7, 'min_child_weight': 3},\n",
              "   {'max_depth': 7, 'min_child_weight': 5},\n",
              "   {'max_depth': 9, 'min_child_weight': 1},\n",
              "   {'max_depth': 9, 'min_child_weight': 3},\n",
              "   {'max_depth': 9, 'min_child_weight': 5}],\n",
              "  'split0_test_score': array([0.94570763, 0.95496894, 0.95519077, 0.95341615, 0.95818545,\n",
              "         0.95297249, 0.94642857, 0.95885093, 0.94942325, 0.95230701,\n",
              "         0.9506433 , 0.95153061]),\n",
              "  'split1_test_score': array([0.97360248, 0.97637533, 0.97282609, 0.97071872, 0.97859361,\n",
              "         0.9769299 , 0.97349157, 0.97959184, 0.97637533, 0.97526619,\n",
              "         0.98025732, 0.9769299 ]),\n",
              "  'split2_test_score': array([0.93743727, 0.93219583, 0.93353407, 0.92773503, 0.92851567,\n",
              "         0.93542991, 0.92940783, 0.92673135, 0.93464927, 0.92728895,\n",
              "         0.93108063, 0.93386863]),\n",
              "  'split3_test_score': array([0.93319746, 0.93399004, 0.93727355, 0.9361413 , 0.93274457,\n",
              "         0.93908514, 0.93500906, 0.93297101, 0.93874547, 0.93421649,\n",
              "         0.93829257, 0.93931159]),\n",
              "  'split4_test_score': array([0.95425725, 0.94893569, 0.95516304, 0.95844656, 0.95437047,\n",
              "         0.95063406, 0.9526721 , 0.953125  , 0.95289855, 0.95572917,\n",
              "         0.95063406, 0.95482337]),\n",
              "  'mean_test_score': array([0.94884042, 0.94929317, 0.9507975 , 0.94929155, 0.95048195,\n",
              "         0.9510103 , 0.94740183, 0.95025403, 0.95041837, 0.94896156,\n",
              "         0.95018158, 0.95129282]),\n",
              "  'std_test_score': array([0.01433213, 0.01607663, 0.01417421, 0.01547619, 0.01823109,\n",
              "         0.01456554, 0.01540625, 0.01894664, 0.01460018, 0.01694725,\n",
              "         0.01679978, 0.01494613]),\n",
              "  'rank_test_score': array([11,  8,  3,  9,  4,  2, 12,  6,  5, 10,  7,  1], dtype=int32)},\n",
              " {'max_depth': 9, 'min_child_weight': 5},\n",
              " 0.9512928215655471)"
            ]
          },
          "execution_count": 11,
          "metadata": {},
          "output_type": "execute_result"
        }
      ],
      "source": [
        "gsearch1.cv_results_, gsearch1.best_params_, gsearch1.best_score_"
      ]
    },
    {
      "cell_type": "code",
      "execution_count": 12,
      "id": "09443aec",
      "metadata": {
        "colab": {
          "base_uri": "https://localhost:8080/"
        },
        "id": "09443aec",
        "outputId": "16090a63-4566-4665-a67b-24e1ca51d6f4"
      },
      "outputs": [
        {
          "data": {
            "text/plain": [
              "GridSearchCV(cv=5,\n",
              "             estimator=XGBClassifier(colsample_bytree=0.8, max_depth=5,\n",
              "                                     min_child_weight=2, n_estimators=140,\n",
              "                                     nthread=4, subsample=0.8),\n",
              "             n_jobs=4,\n",
              "             param_grid={'max_depth': [2, 3, 4], 'min_child_weight': [2, 3, 4]},\n",
              "             scoring='roc_auc')"
            ]
          },
          "execution_count": 12,
          "metadata": {},
          "output_type": "execute_result"
        }
      ],
      "source": [
        "param_test2 = {\n",
        " 'max_depth':[2,3,4],\n",
        " 'min_child_weight':[2,3,4]\n",
        "}\n",
        "gsearch2 = GridSearchCV(estimator = XGBClassifier( learning_rate=0.1, n_estimators=140, max_depth=5,\n",
        " min_child_weight=2, gamma=0, subsample=0.8, colsample_bytree=0.8,\n",
        " objective= 'binary:logistic', nthread=4, scale_pos_weight=1,), \n",
        " param_grid = param_test2, scoring='roc_auc',n_jobs=4, cv=5)\n",
        "gsearch2.fit(X_train,y_train)"
      ]
    },
    {
      "cell_type": "code",
      "execution_count": 13,
      "id": "0fbf6c15",
      "metadata": {
        "colab": {
          "base_uri": "https://localhost:8080/"
        },
        "id": "0fbf6c15",
        "outputId": "f3429796-a663-47f5-cc6d-7db0026309a5"
      },
      "outputs": [
        {
          "data": {
            "text/plain": [
              "({'mean_fit_time': array([ 6.8573132 ,  6.61616049,  8.04110117, 10.52056546,  9.16504622,\n",
              "          9.46924376, 12.29066958, 11.9791152 , 10.32941022]),\n",
              "  'std_fit_time': array([0.17646414, 0.30604514, 1.26710515, 1.16182441, 0.3500779 ,\n",
              "         0.27513831, 0.80401574, 0.13659271, 2.46057805]),\n",
              "  'mean_score_time': array([0.09098001, 0.12262526, 0.16911135, 0.12978106, 0.13581238,\n",
              "         0.13788781, 0.16056395, 0.13798103, 0.07613368]),\n",
              "  'std_score_time': array([0.0605434 , 0.04481447, 0.11602364, 0.0558043 , 0.01788534,\n",
              "         0.01391724, 0.06380244, 0.02184138, 0.04961913]),\n",
              "  'param_max_depth': masked_array(data=[2, 2, 2, 3, 3, 3, 4, 4, 4],\n",
              "               mask=[False, False, False, False, False, False, False, False,\n",
              "                     False],\n",
              "         fill_value='?',\n",
              "              dtype=object),\n",
              "  'param_min_child_weight': masked_array(data=[2, 3, 4, 2, 3, 4, 2, 3, 4],\n",
              "               mask=[False, False, False, False, False, False, False, False,\n",
              "                     False],\n",
              "         fill_value='?',\n",
              "              dtype=object),\n",
              "  'params': [{'max_depth': 2, 'min_child_weight': 2},\n",
              "   {'max_depth': 2, 'min_child_weight': 3},\n",
              "   {'max_depth': 2, 'min_child_weight': 4},\n",
              "   {'max_depth': 3, 'min_child_weight': 2},\n",
              "   {'max_depth': 3, 'min_child_weight': 3},\n",
              "   {'max_depth': 3, 'min_child_weight': 4},\n",
              "   {'max_depth': 4, 'min_child_weight': 2},\n",
              "   {'max_depth': 4, 'min_child_weight': 3},\n",
              "   {'max_depth': 4, 'min_child_weight': 4}],\n",
              "  'split0_test_score': array([0.9466504 , 0.945874  , 0.94670586, 0.94820319, 0.95496894,\n",
              "         0.95186335, 0.94764862, 0.95718722, 0.95973824]),\n",
              "  'split1_test_score': array([0.98181012, 0.97559894, 0.97204969, 0.97859361, 0.97637533,\n",
              "         0.97570985, 0.97859361, 0.97959184, 0.97837178]),\n",
              "  'split2_test_score': array([0.93810639, 0.93319951, 0.93230735, 0.93174975, 0.93219583,\n",
              "         0.93598751, 0.93621055, 0.92695439, 0.93331103]),\n",
              "  'split3_test_score': array([0.93399004, 0.93048007, 0.93466938, 0.93851902, 0.93399004,\n",
              "         0.93399004, 0.93353714, 0.92889493, 0.93376359]),\n",
              "  'split4_test_score': array([0.94916214, 0.95165308, 0.94429348, 0.9544837 , 0.94893569,\n",
              "         0.95086051, 0.95754076, 0.95323822, 0.95810688]),\n",
              "  'mean_test_score': array([0.94994382, 0.94736112, 0.94600515, 0.95030985, 0.94929317,\n",
              "         0.94968225, 0.95070614, 0.94917332, 0.95265831]),\n",
              "  'std_test_score': array([0.01686159, 0.01614638, 0.01412705, 0.01615754, 0.01607663,\n",
              "         0.01494907, 0.01636257, 0.01954956, 0.01715997]),\n",
              "  'rank_test_score': array([4, 8, 9, 3, 6, 5, 2, 7, 1], dtype=int32)},\n",
              " {'max_depth': 4, 'min_child_weight': 4},\n",
              " 0.9526583053927201)"
            ]
          },
          "execution_count": 13,
          "metadata": {},
          "output_type": "execute_result"
        }
      ],
      "source": [
        "gsearch2.cv_results_, gsearch2.best_params_, gsearch2.best_score_"
      ]
    },
    {
      "cell_type": "code",
      "execution_count": 14,
      "id": "4d8b63ae",
      "metadata": {
        "colab": {
          "base_uri": "https://localhost:8080/"
        },
        "id": "4d8b63ae",
        "outputId": "6acf9048-2323-4aa9-87f2-e9e414a6c68e"
      },
      "outputs": [
        {
          "data": {
            "text/plain": [
              "GridSearchCV(cv=5,\n",
              "             estimator=XGBClassifier(colsample_bytree=0.8, max_depth=4,\n",
              "                                     min_child_weight=3, n_estimators=140,\n",
              "                                     nthread=4, subsample=0.8),\n",
              "             n_jobs=4, param_grid={'gamma': [0.0, 0.1, 0.2, 0.3, 0.4]},\n",
              "             scoring='roc_auc')"
            ]
          },
          "execution_count": 14,
          "metadata": {},
          "output_type": "execute_result"
        }
      ],
      "source": [
        "param_test3 = {\n",
        " 'gamma':[i/10.0 for i in range(0,5)]\n",
        "}\n",
        "gsearch3 = GridSearchCV(estimator = XGBClassifier( learning_rate =0.1, n_estimators=140, max_depth=4,\n",
        " min_child_weight=3, gamma=0, subsample=0.8, colsample_bytree=0.8,\n",
        " objective= 'binary:logistic', nthread=4, scale_pos_weight=1,), \n",
        " param_grid = param_test3, scoring='roc_auc',n_jobs=4, cv=5)\n",
        "gsearch3.fit(X_train,y_train)\n"
      ]
    },
    {
      "cell_type": "code",
      "execution_count": 15,
      "id": "4ddcb2fc",
      "metadata": {
        "colab": {
          "base_uri": "https://localhost:8080/"
        },
        "id": "4ddcb2fc",
        "outputId": "32d50849-a281-4a8d-e439-5b24c43879d9"
      },
      "outputs": [
        {
          "data": {
            "text/plain": [
              "({'mean_fit_time': array([13.46101418, 11.81205521, 11.92383547, 11.82769246, 10.26773334]),\n",
              "  'std_fit_time': array([0.97328154, 0.14118581, 0.22717552, 0.35120335, 3.23563329]),\n",
              "  'mean_score_time': array([0.1620924 , 0.1180685 , 0.13693128, 0.14469776, 0.05662088]),\n",
              "  'std_score_time': array([0.03132049, 0.04321926, 0.01412771, 0.05829226, 0.03817941]),\n",
              "  'param_gamma': masked_array(data=[0.0, 0.1, 0.2, 0.3, 0.4],\n",
              "               mask=[False, False, False, False, False],\n",
              "         fill_value='?',\n",
              "              dtype=object),\n",
              "  'params': [{'gamma': 0.0},\n",
              "   {'gamma': 0.1},\n",
              "   {'gamma': 0.2},\n",
              "   {'gamma': 0.3},\n",
              "   {'gamma': 0.4}],\n",
              "  'split0_test_score': array([0.95718722, 0.95729814, 0.95352706, 0.95674357, 0.9554126 ]),\n",
              "  'split1_test_score': array([0.97959184, 0.97826087, 0.97981366, 0.97881544, 0.97748447]),\n",
              "  'split2_test_score': array([0.92695439, 0.92840415, 0.92706591, 0.92684287, 0.92606223]),\n",
              "  'split3_test_score': array([0.92889493, 0.93297101, 0.93127264, 0.93297101, 0.93365036]),\n",
              "  'split4_test_score': array([0.95323822, 0.95538949, 0.95686141, 0.95697464, 0.9540308 ]),\n",
              "  'mean_test_score': array([0.94917332, 0.95046473, 0.94970814, 0.95046951, 0.94932809]),\n",
              "  'std_test_score': array([0.01954956, 0.01809018, 0.01910306, 0.01870608, 0.0181053 ]),\n",
              "  'rank_test_score': array([5, 2, 3, 1, 4], dtype=int32)},\n",
              " {'gamma': 0.3},\n",
              " 0.9504695053359903)"
            ]
          },
          "execution_count": 15,
          "metadata": {},
          "output_type": "execute_result"
        }
      ],
      "source": [
        "gsearch3.cv_results_, gsearch3.best_params_, gsearch3.best_score_"
      ]
    },
    {
      "cell_type": "code",
      "execution_count": 16,
      "id": "3d508346",
      "metadata": {
        "colab": {
          "base_uri": "https://localhost:8080/"
        },
        "id": "3d508346",
        "outputId": "3d26ad7f-fb99-41a4-d201-57f88848baa8"
      },
      "outputs": [
        {
          "data": {
            "text/plain": [
              "GridSearchCV(cv=5,\n",
              "             estimator=XGBClassifier(colsample_bytree=0.8, max_depth=4,\n",
              "                                     min_child_weight=3, n_estimators=177,\n",
              "                                     nthread=4, subsample=0.8),\n",
              "             n_jobs=4,\n",
              "             param_grid={'colsample_bytree': [0.6, 0.7, 0.8, 0.9],\n",
              "                         'subsample': [0.6, 0.7, 0.8, 0.9]},\n",
              "             scoring='roc_auc')"
            ]
          },
          "execution_count": 16,
          "metadata": {},
          "output_type": "execute_result"
        }
      ],
      "source": [
        "param_test4 = {\n",
        " 'subsample':[i/10.0 for i in range(6,10)],\n",
        " 'colsample_bytree':[i/10.0 for i in range(6,10)]\n",
        "}\n",
        "gsearch4 = GridSearchCV(estimator = XGBClassifier( learning_rate =0.1, n_estimators=177, max_depth=4,\n",
        " min_child_weight=3, gamma=0, subsample=0.8, colsample_bytree=0.8,\n",
        " objective= 'binary:logistic', nthread=4, scale_pos_weight=1,), \n",
        " param_grid = param_test4, scoring='roc_auc',n_jobs=4, cv=5)\n",
        "gsearch4.fit(X_train, y_train)\n"
      ]
    },
    {
      "cell_type": "code",
      "execution_count": 17,
      "id": "4856b7a5",
      "metadata": {
        "colab": {
          "base_uri": "https://localhost:8080/"
        },
        "id": "4856b7a5",
        "outputId": "af89ef83-5678-4bc7-d4d2-13d9e649775b"
      },
      "outputs": [
        {
          "data": {
            "text/plain": [
              "({'mean_fit_time': array([12.47528338, 12.39943743, 12.17898622, 11.52396708, 14.27460332,\n",
              "         14.15873661, 13.45789709, 12.72173767, 16.09566717, 17.29054222,\n",
              "         16.51328063, 14.8518208 , 18.01936984, 17.70790701, 16.78017383,\n",
              "         15.5779264 ]),\n",
              "  'std_fit_time': array([0.51611232, 0.35346594, 0.41240299, 0.52386702, 0.2403053 ,\n",
              "         0.14378566, 0.29981852, 0.46521128, 0.20240764, 1.81772545,\n",
              "         1.56943975, 0.56031155, 0.15934999, 0.51906735, 0.19233596,\n",
              "         0.30085272]),\n",
              "  'mean_score_time': array([0.10909829, 0.11821737, 0.11129999, 0.11307344, 0.12547355,\n",
              "         0.10861731, 0.10645251, 0.13566937, 0.13524089, 0.14610476,\n",
              "         0.13934507, 0.13814478, 0.13130994, 0.09193068, 0.15011191,\n",
              "         0.07746286]),\n",
              "  'std_score_time': array([0.03733922, 0.03300454, 0.05867888, 0.03391314, 0.02965199,\n",
              "         0.03177338, 0.0350662 , 0.00848447, 0.04383727, 0.08439079,\n",
              "         0.03649085, 0.07083197, 0.03496838, 0.04518579, 0.03107525,\n",
              "         0.04641858]),\n",
              "  'param_colsample_bytree': masked_array(data=[0.6, 0.6, 0.6, 0.6, 0.7, 0.7, 0.7, 0.7, 0.8, 0.8, 0.8,\n",
              "                     0.8, 0.9, 0.9, 0.9, 0.9],\n",
              "               mask=[False, False, False, False, False, False, False, False,\n",
              "                     False, False, False, False, False, False, False, False],\n",
              "         fill_value='?',\n",
              "              dtype=object),\n",
              "  'param_subsample': masked_array(data=[0.6, 0.7, 0.8, 0.9, 0.6, 0.7, 0.8, 0.9, 0.6, 0.7, 0.8,\n",
              "                     0.9, 0.6, 0.7, 0.8, 0.9],\n",
              "               mask=[False, False, False, False, False, False, False, False,\n",
              "                     False, False, False, False, False, False, False, False],\n",
              "         fill_value='?',\n",
              "              dtype=object),\n",
              "  'params': [{'colsample_bytree': 0.6, 'subsample': 0.6},\n",
              "   {'colsample_bytree': 0.6, 'subsample': 0.7},\n",
              "   {'colsample_bytree': 0.6, 'subsample': 0.8},\n",
              "   {'colsample_bytree': 0.6, 'subsample': 0.9},\n",
              "   {'colsample_bytree': 0.7, 'subsample': 0.6},\n",
              "   {'colsample_bytree': 0.7, 'subsample': 0.7},\n",
              "   {'colsample_bytree': 0.7, 'subsample': 0.8},\n",
              "   {'colsample_bytree': 0.7, 'subsample': 0.9},\n",
              "   {'colsample_bytree': 0.8, 'subsample': 0.6},\n",
              "   {'colsample_bytree': 0.8, 'subsample': 0.7},\n",
              "   {'colsample_bytree': 0.8, 'subsample': 0.8},\n",
              "   {'colsample_bytree': 0.8, 'subsample': 0.9},\n",
              "   {'colsample_bytree': 0.9, 'subsample': 0.6},\n",
              "   {'colsample_bytree': 0.9, 'subsample': 0.7},\n",
              "   {'colsample_bytree': 0.9, 'subsample': 0.8},\n",
              "   {'colsample_bytree': 0.9, 'subsample': 0.9}],\n",
              "  'split0_test_score': array([0.95308341, 0.95042147, 0.9521961 , 0.9521961 , 0.95175244,\n",
              "         0.94864685, 0.95352706, 0.95652174, 0.95319432, 0.95430346,\n",
              "         0.95629991, 0.94964508, 0.94709406, 0.95319432, 0.956189  ,\n",
              "         0.94897959]),\n",
              "  'split1_test_score': array([0.97826087, 0.97892635, 0.97981366, 0.97859361, 0.97604259,\n",
              "         0.98014641, 0.97759539, 0.97914818, 0.97360248, 0.98059006,\n",
              "         0.98147737, 0.97914818, 0.97925909, 0.97892635, 0.97948092,\n",
              "         0.98059006]),\n",
              "  'split2_test_score': array([0.92617375, 0.92951935, 0.92985391, 0.92628527, 0.92751199,\n",
              "         0.92851567, 0.92974239, 0.93063455, 0.93141519, 0.92528159,\n",
              "         0.92595071, 0.92517007, 0.93219583, 0.93108063, 0.92717743,\n",
              "         0.92706591]),\n",
              "  'split3_test_score': array([0.93376359, 0.93534873, 0.93874547, 0.93953804, 0.93206522,\n",
              "         0.93274457, 0.93399004, 0.93874547, 0.92866848, 0.93036685,\n",
              "         0.93195199, 0.93534873, 0.92685688, 0.93127264, 0.93421649,\n",
              "         0.93466938]),\n",
              "  'split4_test_score': array([0.95889946, 0.95187953, 0.9544837 , 0.9526721 , 0.95810688,\n",
              "         0.95323822, 0.95187953, 0.95538949, 0.95640851, 0.95018116,\n",
              "         0.95289855, 0.953125  , 0.94406703, 0.95097373, 0.95278533,\n",
              "         0.95346467]),\n",
              "  'mean_test_score': array([0.95003621, 0.94921909, 0.95101857, 0.94985702, 0.94909582,\n",
              "         0.94865834, 0.94934688, 0.95208789, 0.9486578 , 0.94814462,\n",
              "         0.94971571, 0.94848741, 0.94589458, 0.94908954, 0.94996983,\n",
              "         0.94895392]),\n",
              "  'std_test_score': array([0.01854017, 0.01715524, 0.01697718, 0.01732799, 0.01772167,\n",
              "         0.0182836 , 0.01698255, 0.01673968, 0.01673183, 0.01966496,\n",
              "         0.01971096, 0.01832623, 0.01826504, 0.01762043, 0.01835849,\n",
              "         0.01846254]),\n",
              "  'rank_test_score': array([ 3,  8,  2,  5,  9, 12,  7,  1, 13, 15,  6, 14, 16, 10,  4, 11],\n",
              "        dtype=int32)},\n",
              " {'colsample_bytree': 0.7, 'subsample': 0.9},\n",
              " 0.9520878865623228)"
            ]
          },
          "execution_count": 17,
          "metadata": {},
          "output_type": "execute_result"
        }
      ],
      "source": [
        "gsearch4.cv_results_, gsearch4.best_params_, gsearch4.best_score_"
      ]
    },
    {
      "cell_type": "code",
      "execution_count": 18,
      "id": "465036ec",
      "metadata": {
        "colab": {
          "base_uri": "https://localhost:8080/"
        },
        "id": "465036ec",
        "outputId": "48c1b668-a1c1-4228-b2f6-580ab5856777"
      },
      "outputs": [
        {
          "data": {
            "text/plain": [
              "GridSearchCV(cv=5,\n",
              "             estimator=XGBClassifier(colsample_bytree=0.8, max_depth=4,\n",
              "                                     min_child_weight=6, n_estimators=177,\n",
              "                                     nthread=4, subsample=0.8),\n",
              "             n_jobs=4,\n",
              "             param_grid={'colsample_bytree': [0.75, 0.8, 0.85],\n",
              "                         'subsample': [0.75, 0.8, 0.85]},\n",
              "             scoring='roc_auc')"
            ]
          },
          "execution_count": 18,
          "metadata": {},
          "output_type": "execute_result"
        }
      ],
      "source": [
        "param_test5 = {\n",
        " 'subsample':[i/100.0 for i in range(75,90,5)],\n",
        " 'colsample_bytree':[i/100.0 for i in range(75,90,5)]\n",
        "}\n",
        "gsearch5 = GridSearchCV(estimator = XGBClassifier( learning_rate =0.1, n_estimators=177, max_depth=4,\n",
        " min_child_weight=6, gamma=0, subsample=0.8, colsample_bytree=0.8,\n",
        " objective= 'binary:logistic', nthread=4, scale_pos_weight=1,), \n",
        " param_grid = param_test5, scoring='roc_auc',n_jobs=4, cv=5)\n",
        "gsearch5.fit(X_train,y_train)"
      ]
    },
    {
      "cell_type": "code",
      "execution_count": 19,
      "id": "17c85d43",
      "metadata": {
        "colab": {
          "base_uri": "https://localhost:8080/"
        },
        "id": "17c85d43",
        "outputId": "73c0aefa-f8bc-4ac6-ace5-9bf3b1bb2d34"
      },
      "outputs": [
        {
          "data": {
            "text/plain": [
              "({'mean_fit_time': array([14.35946808, 14.32155762, 13.94143109, 15.24632859, 15.06804924,\n",
              "         14.80621371, 15.79228129, 15.86398125, 13.08940926]),\n",
              "  'std_fit_time': array([0.25234507, 0.15406474, 0.2181726 , 0.21058963, 0.22901845,\n",
              "         0.52885163, 0.43335113, 0.29137932, 4.44877864]),\n",
              "  'mean_score_time': array([0.0835031 , 0.08978209, 0.08507991, 0.11326828, 0.10498691,\n",
              "         0.11042366, 0.08589988, 0.10994425, 0.06867962]),\n",
              "  'std_score_time': array([0.0252775 , 0.03065424, 0.03927149, 0.05505151, 0.03694717,\n",
              "         0.03024861, 0.02576885, 0.03356572, 0.04977705]),\n",
              "  'param_colsample_bytree': masked_array(data=[0.75, 0.75, 0.75, 0.8, 0.8, 0.8, 0.85, 0.85, 0.85],\n",
              "               mask=[False, False, False, False, False, False, False, False,\n",
              "                     False],\n",
              "         fill_value='?',\n",
              "              dtype=object),\n",
              "  'param_subsample': masked_array(data=[0.75, 0.8, 0.85, 0.75, 0.8, 0.85, 0.75, 0.8, 0.85],\n",
              "               mask=[False, False, False, False, False, False, False, False,\n",
              "                     False],\n",
              "         fill_value='?',\n",
              "              dtype=object),\n",
              "  'params': [{'colsample_bytree': 0.75, 'subsample': 0.75},\n",
              "   {'colsample_bytree': 0.75, 'subsample': 0.8},\n",
              "   {'colsample_bytree': 0.75, 'subsample': 0.85},\n",
              "   {'colsample_bytree': 0.8, 'subsample': 0.75},\n",
              "   {'colsample_bytree': 0.8, 'subsample': 0.8},\n",
              "   {'colsample_bytree': 0.8, 'subsample': 0.85},\n",
              "   {'colsample_bytree': 0.85, 'subsample': 0.75},\n",
              "   {'colsample_bytree': 0.85, 'subsample': 0.8},\n",
              "   {'colsample_bytree': 0.85, 'subsample': 0.85}],\n",
              "  'split0_test_score': array([0.94332298, 0.94565217, 0.95031056, 0.94299024, 0.94365572,\n",
              "         0.94642857, 0.94421029, 0.94787045, 0.9474268 ]),\n",
              "  'split1_test_score': array([0.97704082, 0.97504437, 0.9777063 , 0.97537711, 0.97182786,\n",
              "         0.97704082, 0.97593168, 0.97315883, 0.97814996]),\n",
              "  'split2_test_score': array([0.93297647, 0.93598751, 0.93989071, 0.93743727, 0.93699119,\n",
              "         0.93676815, 0.93487231, 0.94089439, 0.93721423]),\n",
              "  'split3_test_score': array([0.93648098, 0.94078351, 0.93285779, 0.93625453, 0.93602808,\n",
              "         0.93568841, 0.94089674, 0.94100996, 0.93772645]),\n",
              "  'split4_test_score': array([0.95731431, 0.95652174, 0.9535779 , 0.95278533, 0.9604846 ,\n",
              "         0.95640851, 0.95572917, 0.95674819, 0.95459692]),\n",
              "  'mean_test_score': array([0.94942711, 0.95079786, 0.95086865, 0.94896889, 0.94979749,\n",
              "         0.95046689, 0.95032804, 0.95193636, 0.95102287]),\n",
              "  'std_test_score': array([0.01612582, 0.01390516, 0.01531546, 0.0144384 , 0.01407744,\n",
              "         0.01525676, 0.0144912 , 0.01209454, 0.01502703]),\n",
              "  'rank_test_score': array([8, 4, 3, 9, 7, 5, 6, 1, 2], dtype=int32)},\n",
              " {'colsample_bytree': 0.85, 'subsample': 0.8},\n",
              " 0.9519363647989488)"
            ]
          },
          "execution_count": 19,
          "metadata": {},
          "output_type": "execute_result"
        }
      ],
      "source": [
        "gsearch5.cv_results_, gsearch5.best_params_, gsearch5.best_score_"
      ]
    },
    {
      "cell_type": "code",
      "execution_count": 20,
      "id": "610d9637",
      "metadata": {
        "colab": {
          "base_uri": "https://localhost:8080/"
        },
        "id": "610d9637",
        "outputId": "ba0ac9b4-2584-4cef-bd04-83084383b161"
      },
      "outputs": [
        {
          "data": {
            "text/plain": [
              "GridSearchCV(cv=5,\n",
              "             estimator=XGBClassifier(colsample_bytree=0.8, gamma=0.1,\n",
              "                                     max_depth=4, min_child_weight=6,\n",
              "                                     n_estimators=177, nthread=4,\n",
              "                                     subsample=0.85),\n",
              "             n_jobs=4, param_grid={'reg_alpha': [1e-05, 0.01, 0.1, 1, 100]},\n",
              "             scoring='roc_auc')"
            ]
          },
          "execution_count": 20,
          "metadata": {},
          "output_type": "execute_result"
        }
      ],
      "source": [
        "param_test6 = {\n",
        " 'reg_alpha':[1e-5, 1e-2, 0.1, 1, 100]\n",
        "}\n",
        "gsearch6 = GridSearchCV(estimator = XGBClassifier( learning_rate =0.1, n_estimators=177, max_depth=4,\n",
        " min_child_weight=6, gamma=0.1, subsample=0.85, colsample_bytree=0.8,\n",
        " objective= 'binary:logistic', nthread=4, scale_pos_weight=1,), \n",
        " param_grid = param_test6, scoring='roc_auc',n_jobs=4, cv=5)\n",
        "gsearch6.fit(X_train,y_train)"
      ]
    },
    {
      "cell_type": "code",
      "execution_count": 21,
      "id": "50686743",
      "metadata": {
        "colab": {
          "base_uri": "https://localhost:8080/"
        },
        "id": "50686743",
        "outputId": "4ee286c7-3ee4-40f3-e737-a36c45933af8"
      },
      "outputs": [
        {
          "data": {
            "text/plain": [
              "({'mean_fit_time': array([15.68674927, 17.33113179, 14.75573735, 14.53355737,  5.59151969]),\n",
              "  'std_fit_time': array([1.33005534, 1.99566929, 0.2733984 , 0.28930162, 1.56124659]),\n",
              "  'mean_score_time': array([0.11659455, 0.12053666, 0.08549042, 0.13347278, 0.09332895]),\n",
              "  'std_score_time': array([0.06023353, 0.03961572, 0.0306243 , 0.01836304, 0.06086352]),\n",
              "  'param_reg_alpha': masked_array(data=[1e-05, 0.01, 0.1, 1, 100],\n",
              "               mask=[False, False, False, False, False],\n",
              "         fill_value='?',\n",
              "              dtype=object),\n",
              "  'params': [{'reg_alpha': 1e-05},\n",
              "   {'reg_alpha': 0.01},\n",
              "   {'reg_alpha': 0.1},\n",
              "   {'reg_alpha': 1},\n",
              "   {'reg_alpha': 100}],\n",
              "  'split0_test_score': array([0.945874  , 0.95175244, 0.94820319, 0.94853594, 0.90428128]),\n",
              "  'split1_test_score': array([0.97748447, 0.97659716, 0.97803904, 0.97548802, 0.92236025]),\n",
              "  'split2_test_score': array([0.93743727, 0.93565295, 0.93832943, 0.94000223, 0.90738263]),\n",
              "  'split3_test_score': array([0.93648098, 0.93602808, 0.93240489, 0.93874547, 0.90426857]),\n",
              "  'split4_test_score': array([0.95765399, 0.95346467, 0.95538949, 0.95278533, 0.88524683]),\n",
              "  'mean_test_score': array([0.95098614, 0.95069906, 0.95047321, 0.9511114 , 0.90470791]),\n",
              "  'std_test_score': array([0.01527565, 0.01497393, 0.01589423, 0.01326638, 0.01181413]),\n",
              "  'rank_test_score': array([2, 3, 4, 1, 5], dtype=int32)},\n",
              " {'reg_alpha': 1},\n",
              " 0.9511113969821713)"
            ]
          },
          "execution_count": 21,
          "metadata": {},
          "output_type": "execute_result"
        }
      ],
      "source": [
        "gsearch6.cv_results_, gsearch6.best_params_, gsearch6.best_score_"
      ]
    },
    {
      "cell_type": "code",
      "execution_count": 22,
      "id": "04883b53",
      "metadata": {
        "colab": {
          "base_uri": "https://localhost:8080/"
        },
        "id": "04883b53",
        "outputId": "07ff19c1-a7e0-471c-897f-fb15697f7539"
      },
      "outputs": [
        {
          "data": {
            "text/plain": [
              "GridSearchCV(cv=5,\n",
              "             estimator=XGBClassifier(colsample_bytree=0.8, gamma=0.1,\n",
              "                                     max_depth=4, min_child_weight=6,\n",
              "                                     n_estimators=177, nthread=4,\n",
              "                                     subsample=0.85),\n",
              "             n_jobs=4, param_grid={'reg_alpha': [1e-05, 1e-06, 0.0001, 1e-07]},\n",
              "             scoring='roc_auc')"
            ]
          },
          "execution_count": 22,
          "metadata": {},
          "output_type": "execute_result"
        }
      ],
      "source": [
        "param_test7 = {\n",
        " 'reg_alpha':[1e-05,1e-06,1e-04,1e-07]\n",
        "}\n",
        "gsearch7 = GridSearchCV(estimator = XGBClassifier( learning_rate =0.1, n_estimators=177, max_depth=4,\n",
        " min_child_weight=6, gamma=0.1, subsample=0.85, colsample_bytree=0.8,\n",
        " objective= 'binary:logistic', nthread=4, scale_pos_weight=1,), \n",
        " param_grid = param_test7, scoring='roc_auc',n_jobs=4, cv=5)\n",
        "gsearch7.fit(X_train, y_train)"
      ]
    },
    {
      "cell_type": "code",
      "execution_count": 23,
      "id": "339d38cc",
      "metadata": {
        "colab": {
          "base_uri": "https://localhost:8080/"
        },
        "id": "339d38cc",
        "outputId": "69eab6a4-7d76-4c68-b061-fefec116241a"
      },
      "outputs": [
        {
          "data": {
            "text/plain": [
              "({'mean_fit_time': array([14.89385109, 15.99290752, 16.64701791, 16.83435011]),\n",
              "  'std_fit_time': array([0.31286929, 0.44602957, 0.52035716, 0.26449588]),\n",
              "  'mean_score_time': array([0.11016321, 0.15442557, 0.13911986, 0.07587538]),\n",
              "  'std_score_time': array([0.04062702, 0.02133888, 0.03171408, 0.04451526]),\n",
              "  'param_reg_alpha': masked_array(data=[1e-05, 1e-06, 0.0001, 1e-07],\n",
              "               mask=[False, False, False, False],\n",
              "         fill_value='?',\n",
              "              dtype=object),\n",
              "  'params': [{'reg_alpha': 1e-05},\n",
              "   {'reg_alpha': 1e-06},\n",
              "   {'reg_alpha': 0.0001},\n",
              "   {'reg_alpha': 1e-07}],\n",
              "  'split0_test_score': array([0.945874, 0.945874, 0.945874, 0.945874]),\n",
              "  'split1_test_score': array([0.97748447, 0.97748447, 0.97748447, 0.97748447]),\n",
              "  'split2_test_score': array([0.93743727, 0.93743727, 0.93743727, 0.93743727]),\n",
              "  'split3_test_score': array([0.93648098, 0.93648098, 0.93648098, 0.93648098]),\n",
              "  'split4_test_score': array([0.95765399, 0.95765399, 0.95765399, 0.95765399]),\n",
              "  'mean_test_score': array([0.95098614, 0.95098614, 0.95098614, 0.95098614]),\n",
              "  'std_test_score': array([0.01527565, 0.01527565, 0.01527565, 0.01527565]),\n",
              "  'rank_test_score': array([1, 1, 1, 1], dtype=int32)},\n",
              " {'reg_alpha': 1e-05},\n",
              " 0.9509861415164783)"
            ]
          },
          "execution_count": 23,
          "metadata": {},
          "output_type": "execute_result"
        }
      ],
      "source": [
        "gsearch7.cv_results_, gsearch7.best_params_, gsearch7.best_score_"
      ]
    },
    {
      "cell_type": "markdown",
      "id": "23737b22",
      "metadata": {
        "id": "23737b22"
      },
      "source": [
        "#### Optimized XGBoost"
      ]
    },
    {
      "cell_type": "code",
      "execution_count": 24,
      "id": "ffe512e1",
      "metadata": {
        "id": "ffe512e1"
      },
      "outputs": [],
      "source": [
        "xg_best = XGBClassifier(\n",
        " learning_rate =0.1,\n",
        " n_estimators=1000,\n",
        " max_depth=4,\n",
        " min_child_weight=3,\n",
        " gamma=0,\n",
        " subsample=0.8,\n",
        " colsample_bytree=0.85,\n",
        " reg_alpha=1e-05,\n",
        " objective= 'binary:logistic',\n",
        " nthread=4,\n",
        " scale_pos_weight=1,)"
      ]
    },
    {
      "cell_type": "code",
      "execution_count": 25,
      "id": "889ab0ea",
      "metadata": {
        "id": "889ab0ea"
      },
      "outputs": [],
      "source": [
        "xg_best.fit(X_train, y_train)\n",
        "# make predictions for test data\n",
        "y_pred = xg_best.predict(X_test)"
      ]
    },
    {
      "cell_type": "markdown",
      "id": "3384016e",
      "metadata": {
        "id": "3384016e"
      },
      "source": [
        "#### Feature Importances"
      ]
    },
    {
      "cell_type": "code",
      "execution_count": 26,
      "id": "97350c94",
      "metadata": {
        "id": "97350c94"
      },
      "outputs": [],
      "source": [
        "# get importance\n",
        "dt_importance = xg_best.feature_importances_\n",
        "\n",
        "# summarize and print out the feature importance\n",
        "non_zero_index_list = [i for i, v in enumerate(dt_importance) if v != 0]\n",
        "\n",
        "# remove all zero value entries\n",
        "non_zero_feature_names = [bbb_df.iloc[:,3:].columns[i] for i in non_zero_index_list]\n",
        "non_zero_importance = [dt_importance[i] for i in non_zero_index_list]\n",
        "non_zero_feature_names_str = [str(x) for x in non_zero_feature_names]\n",
        "feature_importance = pd.DataFrame(list(zip(non_zero_feature_names_str, non_zero_importance)), columns =['Feature','Importance'])\n",
        "feature_importance.sort_values(by='Importance', ascending=True, inplace=True)"
      ]
    },
    {
      "cell_type": "code",
      "execution_count": 27,
      "id": "6d40a1c8",
      "metadata": {
        "colab": {
          "base_uri": "https://localhost:8080/"
        },
        "id": "6d40a1c8",
        "outputId": "2dbcc753-fced-4cb4-c659-a72c0c23cc48"
      },
      "outputs": [
        {
          "data": {
            "text/plain": [
              "132"
            ]
          },
          "execution_count": 27,
          "metadata": {},
          "output_type": "execute_result"
        }
      ],
      "source": [
        "len(non_zero_importance)"
      ]
    },
    {
      "cell_type": "code",
      "execution_count": 28,
      "id": "89eeac3c",
      "metadata": {
        "colab": {
          "base_uri": "https://localhost:8080/",
          "height": 0
        },
        "id": "89eeac3c",
        "outputId": "7157b6ba-a8e6-4bce-8043-7aeeb10c33de"
      },
      "outputs": [
        {
          "data": {
            "text/plain": [
              "Text(0.5, 1.0, 'Top 10 XGBoost Feature Importances')"
            ]
          },
          "execution_count": 28,
          "metadata": {},
          "output_type": "execute_result"
        },
        {
          "data": {
            "image/png": "[encoded data removed]",
            "text/plain": [
              "<Figure size 360x720 with 1 Axes>"
            ]
          },
          "metadata": {
            "needs_background": "light"
          },
          "output_type": "display_data"
        }
      ],
      "source": [
        "fig,ax = plt.subplots(figsize=(5,10))\n",
        "plt.xlabel('Gini Importance')\n",
        "plt.ylabel('Features (with non-zero gini importance)')\n",
        "plt.barh(feature_importance['Feature'][121:], feature_importance['Importance'][121:])\n",
        "plt.title('Top 10 XGBoost Feature Importances')"
      ]
    },
    {
      "cell_type": "markdown",
      "id": "bab154c3",
      "metadata": {
        "id": "bab154c3"
      },
      "source": [
        "### Random Split PCA, DR, and Result Metrics"
      ]
    },
    {
      "cell_type": "code",
      "execution_count": 29,
      "id": "e7316d11",
      "metadata": {
        "colab": {
          "base_uri": "https://localhost:8080/",
          "height": 587
        },
        "id": "e7316d11",
        "outputId": "fd864380-a9ba-4efc-d58c-82a48527b1a3"
      },
      "outputs": [
        {
          "name": "stderr",
          "output_type": "stream",
          "text": [
            "/usr/local/lib/python3.8/dist-packages/sklearn/manifold/_t_sne.py:780: FutureWarning: The default initialization in TSNE will change from 'random' to 'pca' in 1.2.\n",
            "  warnings.warn(\n",
            "/usr/local/lib/python3.8/dist-packages/sklearn/manifold/_t_sne.py:790: FutureWarning: The default learning rate in TSNE will change from 200.0 to 'auto' in 1.2.\n",
            "  warnings.warn(\n"
          ]
        },
        {
          "name": "stdout",
          "output_type": "stream",
          "text": [
            "Random Split Metrics:\n",
            "Accuracy: 0.9497991967871486\n",
            "Balanced Accuracy: 0.9032653061224489\n",
            "ROC AUC: 0.9032653061224489\n",
            "Precision Score: 0.9584352078239609\n",
            "Recall Score: 0.98\n",
            "\n"
          ]
        },
        {
          "data": {
            "image/png": "[encoded data removed]",
            "text/plain": [
              "<Figure size 1080x360 with 4 Axes>"
            ]
          },
          "metadata": {
            "needs_background": "light"
          },
          "output_type": "display_data"
        }
      ],
      "source": [
        "def plot_split(split, y_pred, y_test, t_components):\n",
        "    \n",
        "    fig = plt.figure(figsize=(15, 5))\n",
        "    fig.suptitle('{} Split'.format(split))\n",
        "    plt.subplot(1, 2, 1)\n",
        "    plt.scatter(t_components[:,0], t_components[:,1], c=y_pred, s=10)\n",
        "    plt.xlabel('t-SNE_1')\n",
        "    plt.ylabel('t-SNE_2')\n",
        "    plt.title('Prediction Visualization')\n",
        "    plt.colorbar()\n",
        "\n",
        "    plt.subplot(1, 2, 2)\n",
        "    plt.scatter(t_components[:,0], t_components[:,1], c=y_test,s=10)\n",
        "    plt.xlabel('t-SNE_1')\n",
        "    plt.ylabel('t-SNE_2')\n",
        "    plt.title('Permeability Visualization')\n",
        "    plt.colorbar()\n",
        "    \n",
        "    # Calculate how often the classifier is correct\n",
        "    print(\"{} Split Metrics:\".format(split))\n",
        "    print(\"Accuracy:\",metrics.accuracy_score(y_test, y_pred))\n",
        "    print(\"Balanced Accuracy:\", metrics.balanced_accuracy_score(y_test, y_pred))\n",
        "    print(\"ROC AUC:\", metrics.roc_auc_score(y_test, y_pred))\n",
        "    print(\"Precision Score:\", metrics.precision_score(y_test, y_pred))\n",
        "    print(\"Recall Score:\", metrics.recall_score(y_test, y_pred))\n",
        "    print(\"\")\n",
        "\n",
        "dim = 100\n",
        "pca_rand = PCA(n_components=dim)\n",
        "components_rand = pca_rand.fit_transform(X_test)\n",
        "tsne_rand = TSNE(n_components=2)\n",
        "t_components_rand = tsne_rand.fit_transform(components_rand)\n",
        "\n",
        "plot_split('Random', y_pred, y_test, t_components_rand)\n"
      ]
    },
    {
      "cell_type": "markdown",
      "id": "ff1a8410",
      "metadata": {
        "id": "ff1a8410"
      },
      "source": [
        "### Scaffold Split "
      ]
    },
    {
      "cell_type": "markdown",
      "id": "8c9c0d00",
      "metadata": {
        "id": "8c9c0d00"
      },
      "source": [
        "#### Data preprocessing"
      ]
    },
    {
      "cell_type": "code",
      "execution_count": 30,
      "id": "2ac08dc4",
      "metadata": {
        "id": "2ac08dc4"
      },
      "outputs": [],
      "source": [
        "Xs = bbb_df.iloc[:,3:].copy()\n",
        "Ys = bbb_df.iloc[:,2].copy()\n",
        "dataset = dc.data.DiskDataset.from_numpy(X=Xs,y=Ys,ids=bbb_df['SMILES'].tolist())\n",
        "scaffoldsplitter = dc.splits.ScaffoldSplitter()\n",
        "train_scaff, test_scaff = scaffoldsplitter.train_test_split(dataset)"
      ]
    },
    {
      "cell_type": "markdown",
      "id": "fb9d2dc3",
      "metadata": {
        "id": "fb9d2dc3"
      },
      "source": [
        "### Model Predictions (Classes and Probabilities)"
      ]
    },
    {
      "cell_type": "code",
      "execution_count": 31,
      "id": "a55821c1",
      "metadata": {
        "id": "a55821c1"
      },
      "outputs": [],
      "source": [
        "# Train Decision Tree classifier\n",
        "xg_best = xg_best.fit(train_scaff.X,train_scaff.y)\n",
        "\n",
        "# Predict the response for test dataset\n",
        "y_pred_scaff = xg_best.predict(test_scaff.X)"
      ]
    },
    {
      "cell_type": "code",
      "execution_count": 32,
      "id": "0cf7430f",
      "metadata": {
        "colab": {
          "base_uri": "https://localhost:8080/",
          "height": 424
        },
        "id": "0cf7430f",
        "outputId": "99e63c57-60ed-4dff-e2c1-1b2ed0853d02"
      },
      "outputs": [
        {
          "data": {
            "text/html": [
              "\n",
              "  <div id=\"df-a21caf0c-8431-4d98-8f73-dde2311ee2c4\">\n",
              "    <div class=\"colab-df-container\">\n",
              "      <div>\n",
              "<style scoped>\n",
              "    .dataframe tbody tr th:only-of-type {\n",
              "        vertical-align: middle;\n",
              "    }\n",
              "\n",
              "    .dataframe tbody tr th {\n",
              "        vertical-align: top;\n",
              "    }\n",
              "\n",
              "    .dataframe thead th {\n",
              "        text-align: right;\n",
              "    }\n",
              "</style>\n",
              "<table border=\"1\" class=\"dataframe\">\n",
              "  <thead>\n",
              "    <tr style=\"text-align: right;\">\n",
              "      <th></th>\n",
              "      <th>SMILES</th>\n",
              "      <th>Prob Permeable</th>\n",
              "    </tr>\n",
              "  </thead>\n",
              "  <tbody>\n",
              "    <tr>\n",
              "      <th>151</th>\n",
              "      <td>CC1CCCCC1(N1CCCCC1)c1sccc1</td>\n",
              "      <td>0.999998</td>\n",
              "    </tr>\n",
              "    <tr>\n",
              "      <th>25</th>\n",
              "      <td>Clc1ccccc1C1=NCc2nnc(n2c2sc(cc12)Br)C1CCCCC1</td>\n",
              "      <td>0.999998</td>\n",
              "    </tr>\n",
              "    <tr>\n",
              "      <th>65</th>\n",
              "      <td>CN1CCC(CC1)=C1c2ccsc2CCc2ccccc12</td>\n",
              "      <td>0.999997</td>\n",
              "    </tr>\n",
              "    <tr>\n",
              "      <th>62</th>\n",
              "      <td>C1CN2CCC1C(C2)N1c2ccccc2CCc2ccccc12</td>\n",
              "      <td>0.999995</td>\n",
              "    </tr>\n",
              "    <tr>\n",
              "      <th>111</th>\n",
              "      <td>CNCCCC1(C)CN(c2ccccc2)c2ccccc12</td>\n",
              "      <td>0.999993</td>\n",
              "    </tr>\n",
              "    <tr>\n",
              "      <th>...</th>\n",
              "      <td>...</td>\n",
              "      <td>...</td>\n",
              "    </tr>\n",
              "    <tr>\n",
              "      <th>204</th>\n",
              "      <td>CC[C@H](C(=O)NC/C=C/C=C(\\C)/[C@@H](OC)[C@@H](C...</td>\n",
              "      <td>0.000094</td>\n",
              "    </tr>\n",
              "    <tr>\n",
              "      <th>246</th>\n",
              "      <td>CO\\N=C(\\C(=O)N[C@H]1[C@H]2SCC(=C(N2C1=O)C(O)=O...</td>\n",
              "      <td>0.000092</td>\n",
              "    </tr>\n",
              "    <tr>\n",
              "      <th>261</th>\n",
              "      <td>CCN1CCN(C(=O)N[C@@H](C(=O)N[C@H]2[C@H]3SCC(=C(...</td>\n",
              "      <td>0.000077</td>\n",
              "    </tr>\n",
              "    <tr>\n",
              "      <th>270</th>\n",
              "      <td>N[C@@H](C(=O)N[C@H]1[C@H]2SCC(=C(N2C1=O)C(O)=O...</td>\n",
              "      <td>0.000050</td>\n",
              "    </tr>\n",
              "    <tr>\n",
              "      <th>259</th>\n",
              "      <td>CN(C)CCn1nnnc1SCC1=C(N2[C@H](SC1)[C@H](NC(=O)C...</td>\n",
              "      <td>0.000050</td>\n",
              "    </tr>\n",
              "  </tbody>\n",
              "</table>\n",
              "<p>332 rows × 2 columns</p>\n",
              "</div>\n",
              "      <button class=\"colab-df-convert\" onclick=\"convertToInteractive('df-a21caf0c-8431-4d98-8f73-dde2311ee2c4')\"\n",
              "              title=\"Convert this dataframe to an interactive table.\"\n",
              "              style=\"display:none;\">\n",
              "        \n",
              "  <svg xmlns=\"http://www.w3.org/2000/svg\" height=\"24px\"viewBox=\"0 0 24 24\"\n",
              "       width=\"24px\">\n",
              "    <path d=\"M0 0h24v24H0V0z\" fill=\"none\"/>\n",
              "    <path d=\"M18.56 5.44l.94 2.06.94-2.06 2.06-.94-2.06-.94-.94-2.06-.94 2.06-2.06.94zm-11 1L8.5 8.5l.94-2.06 2.06-.94-2.06-.94L8.5 2.5l-.94 2.06-2.06.94zm10 10l.94 2.06.94-2.06 2.06-.94-2.06-.94-.94-2.06-.94 2.06-2.06.94z\"/><path d=\"M17.41 7.96l-1.37-1.37c-.4-.4-.92-.59-1.43-.59-.52 0-1.04.2-1.43.59L10.3 9.45l-7.72 7.72c-.78.78-.78 2.05 0 2.83L4 21.41c.39.39.9.59 1.41.59.51 0 1.02-.2 1.41-.59l7.78-7.78 2.81-2.81c.8-.78.8-2.07 0-2.86zM5.41 20L4 18.59l7.72-7.72 1.47 1.35L5.41 20z\"/>\n",
              "  </svg>\n",
              "      </button>\n",
              "      \n",
              "  <style>\n",
              "    .colab-df-container {\n",
              "      display:flex;\n",
              "      flex-wrap:wrap;\n",
              "      gap: 12px;\n",
              "    }\n",
              "\n",
              "    .colab-df-convert {\n",
              "      background-color: #E8F0FE;\n",
              "      border: none;\n",
              "      border-radius: 50%;\n",
              "      cursor: pointer;\n",
              "      display: none;\n",
              "      fill: #1967D2;\n",
              "      height: 32px;\n",
              "      padding: 0 0 0 0;\n",
              "      width: 32px;\n",
              "    }\n",
              "\n",
              "    .colab-df-convert:hover {\n",
              "      background-color: #E2EBFA;\n",
              "      box-shadow: 0px 1px 2px rgba(60, 64, 67, 0.3), 0px 1px 3px 1px rgba(60, 64, 67, 0.15);\n",
              "      fill: #174EA6;\n",
              "    }\n",
              "\n",
              "    [theme=dark] .colab-df-convert {\n",
              "      background-color: #3B4455;\n",
              "      fill: #D2E3FC;\n",
              "    }\n",
              "\n",
              "    [theme=dark] .colab-df-convert:hover {\n",
              "      background-color: #434B5C;\n",
              "      box-shadow: 0px 1px 3px 1px rgba(0, 0, 0, 0.15);\n",
              "      filter: drop-shadow(0px 1px 2px rgba(0, 0, 0, 0.3));\n",
              "      fill: #FFFFFF;\n",
              "    }\n",
              "  </style>\n",
              "\n",
              "      <script>\n",
              "        const buttonEl =\n",
              "          document.querySelector('#df-a21caf0c-8431-4d98-8f73-dde2311ee2c4 button.colab-df-convert');\n",
              "        buttonEl.style.display =\n",
              "          google.colab.kernel.accessAllowed ? 'block' : 'none';\n",
              "\n",
              "        async function convertToInteractive(key) {\n",
              "          const element = document.querySelector('#df-a21caf0c-8431-4d98-8f73-dde2311ee2c4');\n",
              "          const dataTable =\n",
              "            await google.colab.kernel.invokeFunction('convertToInteractive',\n",
              "                                                     [key], {});\n",
              "          if (!dataTable) return;\n",
              "\n",
              "          const docLinkHtml = 'Like what you see? Visit the ' +\n",
              "            '<a target=\"_blank\" href=https://colab.research.google.com/notebooks/data_table.ipynb>data table notebook</a>'\n",
              "            + ' to learn more about interactive tables.';\n",
              "          element.innerHTML = '';\n",
              "          dataTable['output_type'] = 'display_data';\n",
              "          await google.colab.output.renderOutput(dataTable, element);\n",
              "          const docLink = document.createElement('div');\n",
              "          docLink.innerHTML = docLinkHtml;\n",
              "          element.appendChild(docLink);\n",
              "        }\n",
              "      </script>\n",
              "    </div>\n",
              "  </div>\n",
              "  "
            ],
            "text/plain": [
              "                                                SMILES  Prob Permeable\n",
              "151                         CC1CCCCC1(N1CCCCC1)c1sccc1        0.999998\n",
              "25        Clc1ccccc1C1=NCc2nnc(n2c2sc(cc12)Br)C1CCCCC1        0.999998\n",
              "65                    CN1CCC(CC1)=C1c2ccsc2CCc2ccccc12        0.999997\n",
              "62                 C1CN2CCC1C(C2)N1c2ccccc2CCc2ccccc12        0.999995\n",
              "111                    CNCCCC1(C)CN(c2ccccc2)c2ccccc12        0.999993\n",
              "..                                                 ...             ...\n",
              "204  CC[C@H](C(=O)NC/C=C/C=C(\\C)/[C@@H](OC)[C@@H](C...        0.000094\n",
              "246  CO\\N=C(\\C(=O)N[C@H]1[C@H]2SCC(=C(N2C1=O)C(O)=O...        0.000092\n",
              "261  CCN1CCN(C(=O)N[C@@H](C(=O)N[C@H]2[C@H]3SCC(=C(...        0.000077\n",
              "270  N[C@@H](C(=O)N[C@H]1[C@H]2SCC(=C(N2C1=O)C(O)=O...        0.000050\n",
              "259  CN(C)CCn1nnnc1SCC1=C(N2[C@H](SC1)[C@H](NC(=O)C...        0.000050\n",
              "\n",
              "[332 rows x 2 columns]"
            ]
          },
          "execution_count": 32,
          "metadata": {},
          "output_type": "execute_result"
        }
      ],
      "source": [
        "y_pred_scaff_prob = xg_best.predict_proba(test_scaff.X)\n",
        "\n",
        "prob_test_df = pd.DataFrame()\n",
        "prob_test_df['SMILES'] = test_scaff.ids\n",
        "prob_test_df['Prob Permeable'] = y_pred_scaff_prob[:,1]\n",
        "prob_test_df = prob_test_df.sort_values(by=['Prob Permeable'], ascending=False)\n",
        "prob_test_df"
      ]
    },
    {
      "cell_type": "markdown",
      "id": "4f9bbfc5",
      "metadata": {
        "id": "4f9bbfc5"
      },
      "source": [
        "### Scaffold Split PCA, DR, and Result Metrics"
      ]
    },
    {
      "cell_type": "code",
      "execution_count": 33,
      "id": "8f800c98",
      "metadata": {
        "id": "8f800c98"
      },
      "outputs": [],
      "source": [
        "dim = 100\n",
        "pca_scaff = PCA(n_components=dim)\n",
        "components_scaff = pca_scaff.fit_transform(test_scaff.X)"
      ]
    },
    {
      "cell_type": "code",
      "execution_count": 34,
      "id": "b37ca413",
      "metadata": {
        "colab": {
          "base_uri": "https://localhost:8080/"
        },
        "id": "b37ca413",
        "outputId": "ec864f5e-c33b-450f-b11c-7f477d96cc8f"
      },
      "outputs": [
        {
          "name": "stderr",
          "output_type": "stream",
          "text": [
            "/usr/local/lib/python3.8/dist-packages/sklearn/manifold/_t_sne.py:780: FutureWarning: The default initialization in TSNE will change from 'random' to 'pca' in 1.2.\n",
            "  warnings.warn(\n",
            "/usr/local/lib/python3.8/dist-packages/sklearn/manifold/_t_sne.py:790: FutureWarning: The default learning rate in TSNE will change from 200.0 to 'auto' in 1.2.\n",
            "  warnings.warn(\n"
          ]
        }
      ],
      "source": [
        "tsne_scaff = TSNE(n_components=2)\n",
        "t_components_scaff = tsne_scaff.fit_transform(components_scaff)"
      ]
    },
    {
      "cell_type": "code",
      "execution_count": 35,
      "id": "31a8c6bc",
      "metadata": {
        "colab": {
          "base_uri": "https://localhost:8080/",
          "height": 496
        },
        "id": "31a8c6bc",
        "outputId": "31fef01d-ca35-4522-b44a-88c7412f85c6",
        "scrolled": true
      },
      "outputs": [
        {
          "name": "stdout",
          "output_type": "stream",
          "text": [
            "Scaffold Split Metrics:\n",
            "Accuracy: 0.8614457831325302\n",
            "Balanced Accuracy: 0.8452555816686251\n",
            "ROC AUC: 0.8452555816686251\n",
            "Precision Score: 0.8026315789473685\n",
            "Recall Score: 0.9945652173913043\n",
            "\n"
          ]
        },
        {
          "data": {
            "image/png": "[encoded data removed]",
            "text/plain": [
              "<Figure size 1080x360 with 4 Axes>"
            ]
          },
          "metadata": {
            "needs_background": "light"
          },
          "output_type": "display_data"
        }
      ],
      "source": [
        "plot_split('Scaffold', y_pred_scaff, test_scaff.y, t_components_scaff)"
      ]
    },
    {
      "cell_type": "markdown",
      "id": "06e2abcd",
      "metadata": {
        "id": "06e2abcd"
      },
      "source": [
        "## Scaffold Split Feature Importances"
      ]
    },
    {
      "cell_type": "code",
      "execution_count": 36,
      "id": "9a6356ef",
      "metadata": {
        "id": "9a6356ef"
      },
      "outputs": [],
      "source": [
        "# get importance\n",
        "dt_importance = xg_best.feature_importances_\n",
        "\n",
        "# summarize and print out the feature importance\n",
        "non_zero_index_list = [i for i, v in enumerate(dt_importance) if v != 0]\n",
        "\n",
        "# remove all zero value entries\n",
        "non_zero_feature_names = [bbb_df.iloc[:,3:].columns[i] for i in non_zero_index_list]\n",
        "non_zero_importance = [dt_importance[i] for i in non_zero_index_list]\n",
        "non_zero_feature_names_str = [str(x) for x in non_zero_feature_names]\n",
        "feature_importance = pd.DataFrame(list(zip(non_zero_feature_names_str, non_zero_importance)), columns =['Feature','Importance'])\n",
        "feature_importance.sort_values(by='Importance', ascending=True, inplace=True)"
      ]
    },
    {
      "cell_type": "code",
      "execution_count": 37,
      "id": "bdee7630",
      "metadata": {
        "colab": {
          "base_uri": "https://localhost:8080/"
        },
        "id": "bdee7630",
        "outputId": "8ddebdc6-50ca-4b0f-a05c-e2430b4d002d"
      },
      "outputs": [
        {
          "data": {
            "text/plain": [
              "109"
            ]
          },
          "execution_count": 37,
          "metadata": {},
          "output_type": "execute_result"
        }
      ],
      "source": [
        "len(non_zero_importance)"
      ]
    },
    {
      "cell_type": "code",
      "execution_count": 38,
      "id": "9838986f",
      "metadata": {
        "colab": {
          "base_uri": "https://localhost:8080/",
          "height": 639
        },
        "id": "9838986f",
        "outputId": "79a71103-d2e5-40ad-bcc5-50bd92d4cb97",
        "scrolled": true
      },
      "outputs": [
        {
          "data": {
            "text/plain": [
              "Text(0.5, 1.0, 'Top 10 XGBoost Feature Importances')"
            ]
          },
          "execution_count": 38,
          "metadata": {},
          "output_type": "execute_result"
        },
        {
          "data": {
            "image/png": "[encoded data removed]",
            "text/plain": [
              "<Figure size 360x720 with 1 Axes>"
            ]
          },
          "metadata": {
            "needs_background": "light"
          },
          "output_type": "display_data"
        }
      ],
      "source": [
        "fig,ax = plt.subplots(figsize=(5,10))\n",
        "plt.xlabel('Gini Importance')\n",
        "plt.ylabel('Features (with non-zero gini importance)')\n",
        "plt.barh(feature_importance['Feature'][-10:], feature_importance['Importance'][-10:])\n",
        "plt.title('Top 10 XGBoost Feature Importances')"
      ]
    },
    {
      "cell_type": "code",
      "execution_count": 39,
      "id": "37b7e2a2",
      "metadata": {
        "colab": {
          "base_uri": "https://localhost:8080/"
        },
        "id": "37b7e2a2",
        "outputId": "94eaf8fa-0476-4969-f8eb-33e30052e419"
      },
      "outputs": [
        {
          "data": {
            "text/plain": [
              "[0.013503183610737324,\n",
              " 0.014889633283019066,\n",
              " 0.015603496693074703,\n",
              " 0.017803117632865906,\n",
              " 0.01815555989742279,\n",
              " 0.0195459071546793,\n",
              " 0.02011752314865589,\n",
              " 0.021557139232754707,\n",
              " 0.021719837561249733,\n",
              " 0.022954512387514114,\n",
              " 0.023583069443702698,\n",
              " 0.024666598066687584,\n",
              " 0.02703344076871872,\n",
              " 0.02854366973042488,\n",
              " 0.030800338834524155,\n",
              " 0.0448836013674736,\n",
              " 0.05311009660363197,\n",
              " 0.0638805478811264,\n",
              " 0.07361932843923569,\n",
              " 0.1067618876695633]"
            ]
          },
          "execution_count": 39,
          "metadata": {},
          "output_type": "execute_result"
        }
      ],
      "source": [
        "feature_importance['Importance'][-20:].tolist()"
      ]
    },
    {
      "cell_type": "markdown",
      "id": "K-giAyFr3TAn",
      "metadata": {
        "id": "K-giAyFr3TAn"
      },
      "source": [
        "## K Fold Splits and MCC Calculations"
      ]
    },
    {
      "cell_type": "code",
      "execution_count": 40,
      "id": "V9T7zFsz3YuT",
      "metadata": {
        "id": "V9T7zFsz3YuT"
      },
      "outputs": [],
      "source": [
        "def K_fold_MCC(dataset, h, split_name=\"Random Split\", splitter=RandomSplitter()):\n",
        "    \n",
        "    split_data = splitter.k_fold_split(dataset, k=4)\n",
        "    \n",
        "    MCCs = []\n",
        "    y_true = []\n",
        "    h_predictions = []\n",
        "    \n",
        "    for data in split_data:\n",
        "        h.fit(data[0].X, data[0].y)\n",
        "        y_pred = h.predict(data[1].X)\n",
        "        y_true.extend(list(data[1].y))\n",
        "        h_predictions.extend(list(y_pred))\n",
        "        mcc = matthews_corrcoef(data[1].y, y_pred)\n",
        "        MCCs.append(mcc)\n",
        "    \n",
        "    print(split_name + \" MCC Values:\")\n",
        "    \n",
        "    for mcc in MCCs:\n",
        "        print(mcc)\n",
        "    print(\"Mean: \" + str(np.mean(MCCs)))\n",
        "\n",
        "    print(\"MCC value across full test data: \" + str(matthews_corrcoef(y_true, h_predictions)))\n",
        "    \n",
        "    return MCCs"
      ]
    },
    {
      "cell_type": "code",
      "execution_count": 45,
      "id": "v0x28pok3cKR",
      "metadata": {
        "colab": {
          "base_uri": "https://localhost:8080/"
        },
        "id": "v0x28pok3cKR",
        "outputId": "8ad3d316-fedd-4a5d-daf5-b270e795c179"
      },
      "outputs": [
        {
          "name": "stderr",
          "output_type": "stream",
          "text": [
            "/usr/local/lib/python3.8/dist-packages/sklearn/preprocessing/_label.py:98: DataConversionWarning: A column-vector y was passed when a 1d array was expected. Please change the shape of y to (n_samples, ), for example using ravel().\n",
            "  y = column_or_1d(y, warn=True)\n",
            "/usr/local/lib/python3.8/dist-packages/sklearn/preprocessing/_label.py:133: DataConversionWarning: A column-vector y was passed when a 1d array was expected. Please change the shape of y to (n_samples, ), for example using ravel().\n",
            "  y = column_or_1d(y, warn=True)\n"
          ]
        },
        {
          "name": "stdout",
          "output_type": "stream",
          "text": [
            "Scaffold Split MCC Values:\n",
            "0.6515187123488106\n",
            "0.811764902392185\n",
            "0.35340999030727216\n",
            "0.7561700932611006\n",
            "Mean: 0.6432159245773421\n",
            "MCC value across full test data: 0.7337132712263612\n"
          ]
        }
      ],
      "source": [
        "scaffoldsplitter = dc.splits.ScaffoldSplitter()\n",
        "\n",
        "scaffold_split_mcc = K_fold_MCC(dataset, xg_best, 'Scaffold Split', scaffoldsplitter)"
      ]
    },
    {
      "cell_type": "code",
      "execution_count": 46,
      "id": "4ssyHikA3eca",
      "metadata": {
        "colab": {
          "base_uri": "https://localhost:8080/"
        },
        "id": "4ssyHikA3eca",
        "outputId": "7af459ec-5b1a-4254-f572-98394358f4f3"
      },
      "outputs": [
        {
          "name": "stderr",
          "output_type": "stream",
          "text": [
            "/usr/local/lib/python3.8/dist-packages/sklearn/preprocessing/_label.py:98: DataConversionWarning: A column-vector y was passed when a 1d array was expected. Please change the shape of y to (n_samples, ), for example using ravel().\n",
            "  y = column_or_1d(y, warn=True)\n",
            "/usr/local/lib/python3.8/dist-packages/sklearn/preprocessing/_label.py:133: DataConversionWarning: A column-vector y was passed when a 1d array was expected. Please change the shape of y to (n_samples, ), for example using ravel().\n",
            "  y = column_or_1d(y, warn=True)\n"
          ]
        },
        {
          "name": "stdout",
          "output_type": "stream",
          "text": [
            "Random Split MCC Values:\n",
            "0.778463210077747\n",
            "0.8728987260488277\n",
            "0.8657913314960837\n",
            "0.8202596556550688\n",
            "Mean: 0.8343532308194317\n",
            "MCC value across full test data: 0.8328419997825265\n"
          ]
        }
      ],
      "source": [
        "random_split_mcc = K_fold_MCC(dataset=dataset, h=xg_best)"
      ]
    },
    {
      "cell_type": "code",
      "execution_count": 47,
      "id": "78SpnKoi3gZ4",
      "metadata": {
        "colab": {
          "base_uri": "https://localhost:8080/"
        },
        "id": "78SpnKoi3gZ4",
        "outputId": "cb30a57f-a7c9-4f06-982c-3626d62a1198"
      },
      "outputs": [
        {
          "name": "stdout",
          "output_type": "stream",
          "text": [
            "T Test P-value: 0.11711400589962877\n"
          ]
        }
      ],
      "source": [
        "print(\"T Test P-value: \" + str(ttest_ind(scaffold_split_mcc, random_split_mcc).pvalue))"
      ]
    },
    {
      "cell_type": "code",
      "execution_count": 48,
      "id": "Nh9bYgpg3k40",
      "metadata": {
        "colab": {
          "base_uri": "https://localhost:8080/",
          "height": 309
        },
        "id": "Nh9bYgpg3k40",
        "outputId": "d90576cb-f6a7-41b0-b68f-e479fd8c316b"
      },
      "outputs": [
        {
          "data": {
            "image/png": "[encoded data removed]",
            "text/plain": [
              "<Figure size 432x288 with 2 Axes>"
            ]
          },
          "metadata": {
            "needs_background": "light"
          },
          "output_type": "display_data"
        }
      ],
      "source": [
        "fig, ax = plt.subplots(1,2, sharey=True)\n",
        "fig.tight_layout()\n",
        "\n",
        "ax[0].boxplot(scaffold_split_mcc)\n",
        "ax[0].title.set_text(\"Scaffold Split MCC\")\n",
        "ax[1].boxplot(random_split_mcc)\n",
        "ax[1].title.set_text(\"Random Split MCC\")"
      ]
    }
  ],
  "metadata": {
    "colab": {
      "provenance": []
    },
    "kernelspec": {
      "display_name": "Python 3.9.7 64-bit",
      "language": "python",
      "name": "python3"
    },
    "language_info": {
      "codemirror_mode": {
        "name": "ipython",
        "version": 3
      },
      "file_extension": ".py",
      "mimetype": "text/x-python",
      "name": "python",
      "nbconvert_exporter": "python",
      "pygments_lexer": "ipython3",
      "version": "3.9.7"
    },
    "vscode": {
      "interpreter": {
        "hash": "aee8b7b246df8f9039afb4144a1f6fd8d2ca17a180786b69acc140d282b71a49"
      }
    }
  },
  "nbformat": 4,
  "nbformat_minor": 5
}
