{
  "cells": [
    {
      "cell_type": "code",
      "source": [
        "!pip install deepchem==2.6.1\n",
        "!pip install rdkit-pypi"
      ],
      "metadata": {
        "colab": {
          "base_uri": "https://localhost:8080/"
        },
        "id": "SeMyHT5o1FZX",
        "outputId": "d555c4b5-7181-4b06-9307-47199bcd85d7"
      },
      "execution_count": 1,
      "outputs": [
        {
          "output_type": "stream",
          "name": "stdout",
          "text": [
            "Looking in indexes: https://pypi.org/simple, https://us-python.pkg.dev/colab-wheels/public/simple/\n",
            "Collecting deepchem==2.6.1\n",
            "  Downloading deepchem-2.6.1-py3-none-any.whl (608 kB)\n",
            "\u001b[K     |████████████████████████████████| 608 kB 6.4 MB/s \n",
            "\u001b[?25hRequirement already satisfied: pandas in /usr/local/lib/python3.8/dist-packages (from deepchem==2.6.1) (1.3.5)\n",
            "Collecting rdkit-pypi\n",
            "  Downloading rdkit_pypi-2022.9.2-cp38-cp38-manylinux_2_17_x86_64.manylinux2014_x86_64.whl (29.3 MB)\n",
            "\u001b[K     |████████████████████████████████| 29.3 MB 61.8 MB/s \n",
            "\u001b[?25hRequirement already satisfied: scipy in /usr/local/lib/python3.8/dist-packages (from deepchem==2.6.1) (1.7.3)\n",
            "Requirement already satisfied: scikit-learn in /usr/local/lib/python3.8/dist-packages (from deepchem==2.6.1) (1.0.2)\n",
            "Requirement already satisfied: joblib in /usr/local/lib/python3.8/dist-packages (from deepchem==2.6.1) (1.2.0)\n",
            "Requirement already satisfied: numpy>=1.21 in /usr/local/lib/python3.8/dist-packages (from deepchem==2.6.1) (1.21.6)\n",
            "Requirement already satisfied: python-dateutil>=2.7.3 in /usr/local/lib/python3.8/dist-packages (from pandas->deepchem==2.6.1) (2.8.2)\n",
            "Requirement already satisfied: pytz>=2017.3 in /usr/local/lib/python3.8/dist-packages (from pandas->deepchem==2.6.1) (2022.6)\n",
            "Requirement already satisfied: six>=1.5 in /usr/local/lib/python3.8/dist-packages (from python-dateutil>=2.7.3->pandas->deepchem==2.6.1) (1.15.0)\n",
            "Requirement already satisfied: Pillow in /usr/local/lib/python3.8/dist-packages (from rdkit-pypi->deepchem==2.6.1) (7.1.2)\n",
            "Requirement already satisfied: threadpoolctl>=2.0.0 in /usr/local/lib/python3.8/dist-packages (from scikit-learn->deepchem==2.6.1) (3.1.0)\n",
            "Installing collected packages: rdkit-pypi, deepchem\n",
            "Successfully installed deepchem-2.6.1 rdkit-pypi-2022.9.2\n",
            "Looking in indexes: https://pypi.org/simple, https://us-python.pkg.dev/colab-wheels/public/simple/\n",
            "Requirement already satisfied: rdkit-pypi in /usr/local/lib/python3.8/dist-packages (2022.9.2)\n",
            "Requirement already satisfied: Pillow in /usr/local/lib/python3.8/dist-packages (from rdkit-pypi) (7.1.2)\n",
            "Requirement already satisfied: numpy in /usr/local/lib/python3.8/dist-packages (from rdkit-pypi) (1.21.6)\n"
          ]
        }
      ]
    },
    {
      "cell_type": "code",
      "execution_count": 2,
      "metadata": {
        "id": "SqKB5TbS04NH"
      },
      "outputs": [],
      "source": [
        "import numpy as np\n",
        "import pandas as pd\n",
        "import math\n",
        "import matplotlib.pyplot as plt\n",
        "import numpy as np\n",
        "\n",
        "from sklearn.svm import SVC\n",
        "from sklearn.model_selection import train_test_split \n",
        "from sklearn.decomposition import PCA\n",
        "from sklearn.manifold import TSNE\n",
        "from deepchem import metrics\n",
        "import deepchem as dc\n",
        "from rdkit import Chem\n",
        "from rdkit.Chem import AllChem, DataStructs\n",
        "from sklearn.model_selection import GridSearchCV\n",
        "\n",
        "from sklearn.metrics import matthews_corrcoef\n",
        "from deepchem.splits import RandomSplitter\n",
        "from scipy.stats import ttest_ind\n"
      ]
    },
    {
      "cell_type": "markdown",
      "metadata": {
        "id": "drcT83I-04NK"
      },
      "source": [
        "## Importing and splitting the data"
      ]
    },
    {
      "cell_type": "code",
      "execution_count": 3,
      "metadata": {
        "colab": {
          "base_uri": "https://localhost:8080/",
          "height": 352
        },
        "id": "SoNByflT04NM",
        "outputId": "c32365a9-d8d6-4a6a-80b2-f0c43ad7b467"
      },
      "outputs": [
        {
          "output_type": "execute_result",
          "data": {
            "text/plain": [
              "           Drug                                             SMILES  permeable  \\\n",
              "0    ACEBUTOLOL           CCCC(=O)Nc1ccc(c(c1)C(C)=O)OCC(O)CNC(C)C          0   \n",
              "1  DACTINOMYCIN  CC(C)[C@H]1NC(=O)[C@@H](NC(=O)c2ccc(c3c2N=C2C(...          0   \n",
              "2   ALDOSTERONE  C[C@@]12CCC(=O)C=C2CC[C@H]2C3CC[C@H](C(=O)CO)C...          0   \n",
              "3     AMILORIDE                     N\\C(=N)\\NC(=O)c1nc(c(nc1N)N)Cl          0   \n",
              "4    AMIODARONE  CCCCc1oc2ccccc2c1C(=O)c1cc(c(c(c1)[I])OCCN(CC)...          0   \n",
              "\n",
              "   0  1  2  3  4  5  6  ...  1014  1015  1016  1017  1018  1019  1020  1021  \\\n",
              "0  0  1  0  0  1  0  0  ...     1     0     0     1     0     0     0     0   \n",
              "1  0  1  0  0  1  1  0  ...     0     0     0     0     0     1     0     0   \n",
              "2  0  0  0  0  0  0  0  ...     0     0     0     0     0     1     0     0   \n",
              "3  0  0  0  0  0  0  0  ...     0     0     0     0     0     0     0     0   \n",
              "4  0  0  0  0  0  0  0  ...     0     0     0     0     0     0     0     0   \n",
              "\n",
              "   1022  1023  \n",
              "0     0     0  \n",
              "1     0     0  \n",
              "2     0     0  \n",
              "3     0     0  \n",
              "4     0     0  \n",
              "\n",
              "[5 rows x 1027 columns]"
            ],
            "text/html": [
              "\n",
              "  <div id=\"df-963b2f42-0bd0-49e0-b1e0-fd3d8cef306f\">\n",
              "    <div class=\"colab-df-container\">\n",
              "      <div>\n",
              "<style scoped>\n",
              "    .dataframe tbody tr th:only-of-type {\n",
              "        vertical-align: middle;\n",
              "    }\n",
              "\n",
              "    .dataframe tbody tr th {\n",
              "        vertical-align: top;\n",
              "    }\n",
              "\n",
              "    .dataframe thead th {\n",
              "        text-align: right;\n",
              "    }\n",
              "</style>\n",
              "<table border=\"1\" class=\"dataframe\">\n",
              "  <thead>\n",
              "    <tr style=\"text-align: right;\">\n",
              "      <th></th>\n",
              "      <th>Drug</th>\n",
              "      <th>SMILES</th>\n",
              "      <th>permeable</th>\n",
              "      <th>0</th>\n",
              "      <th>1</th>\n",
              "      <th>2</th>\n",
              "      <th>3</th>\n",
              "      <th>4</th>\n",
              "      <th>5</th>\n",
              "      <th>6</th>\n",
              "      <th>...</th>\n",
              "      <th>1014</th>\n",
              "      <th>1015</th>\n",
              "      <th>1016</th>\n",
              "      <th>1017</th>\n",
              "      <th>1018</th>\n",
              "      <th>1019</th>\n",
              "      <th>1020</th>\n",
              "      <th>1021</th>\n",
              "      <th>1022</th>\n",
              "      <th>1023</th>\n",
              "    </tr>\n",
              "  </thead>\n",
              "  <tbody>\n",
              "    <tr>\n",
              "      <th>0</th>\n",
              "      <td>ACEBUTOLOL</td>\n",
              "      <td>CCCC(=O)Nc1ccc(c(c1)C(C)=O)OCC(O)CNC(C)C</td>\n",
              "      <td>0</td>\n",
              "      <td>0</td>\n",
              "      <td>1</td>\n",
              "      <td>0</td>\n",
              "      <td>0</td>\n",
              "      <td>1</td>\n",
              "      <td>0</td>\n",
              "      <td>0</td>\n",
              "      <td>...</td>\n",
              "      <td>1</td>\n",
              "      <td>0</td>\n",
              "      <td>0</td>\n",
              "      <td>1</td>\n",
              "      <td>0</td>\n",
              "      <td>0</td>\n",
              "      <td>0</td>\n",
              "      <td>0</td>\n",
              "      <td>0</td>\n",
              "      <td>0</td>\n",
              "    </tr>\n",
              "    <tr>\n",
              "      <th>1</th>\n",
              "      <td>DACTINOMYCIN</td>\n",
              "      <td>CC(C)[C@H]1NC(=O)[C@@H](NC(=O)c2ccc(c3c2N=C2C(...</td>\n",
              "      <td>0</td>\n",
              "      <td>0</td>\n",
              "      <td>1</td>\n",
              "      <td>0</td>\n",
              "      <td>0</td>\n",
              "      <td>1</td>\n",
              "      <td>1</td>\n",
              "      <td>0</td>\n",
              "      <td>...</td>\n",
              "      <td>0</td>\n",
              "      <td>0</td>\n",
              "      <td>0</td>\n",
              "      <td>0</td>\n",
              "      <td>0</td>\n",
              "      <td>1</td>\n",
              "      <td>0</td>\n",
              "      <td>0</td>\n",
              "      <td>0</td>\n",
              "      <td>0</td>\n",
              "    </tr>\n",
              "    <tr>\n",
              "      <th>2</th>\n",
              "      <td>ALDOSTERONE</td>\n",
              "      <td>C[C@@]12CCC(=O)C=C2CC[C@H]2C3CC[C@H](C(=O)CO)C...</td>\n",
              "      <td>0</td>\n",
              "      <td>0</td>\n",
              "      <td>0</td>\n",
              "      <td>0</td>\n",
              "      <td>0</td>\n",
              "      <td>0</td>\n",
              "      <td>0</td>\n",
              "      <td>0</td>\n",
              "      <td>...</td>\n",
              "      <td>0</td>\n",
              "      <td>0</td>\n",
              "      <td>0</td>\n",
              "      <td>0</td>\n",
              "      <td>0</td>\n",
              "      <td>1</td>\n",
              "      <td>0</td>\n",
              "      <td>0</td>\n",
              "      <td>0</td>\n",
              "      <td>0</td>\n",
              "    </tr>\n",
              "    <tr>\n",
              "      <th>3</th>\n",
              "      <td>AMILORIDE</td>\n",
              "      <td>N\\C(=N)\\NC(=O)c1nc(c(nc1N)N)Cl</td>\n",
              "      <td>0</td>\n",
              "      <td>0</td>\n",
              "      <td>0</td>\n",
              "      <td>0</td>\n",
              "      <td>0</td>\n",
              "      <td>0</td>\n",
              "      <td>0</td>\n",
              "      <td>0</td>\n",
              "      <td>...</td>\n",
              "      <td>0</td>\n",
              "      <td>0</td>\n",
              "      <td>0</td>\n",
              "      <td>0</td>\n",
              "      <td>0</td>\n",
              "      <td>0</td>\n",
              "      <td>0</td>\n",
              "      <td>0</td>\n",
              "      <td>0</td>\n",
              "      <td>0</td>\n",
              "    </tr>\n",
              "    <tr>\n",
              "      <th>4</th>\n",
              "      <td>AMIODARONE</td>\n",
              "      <td>CCCCc1oc2ccccc2c1C(=O)c1cc(c(c(c1)[I])OCCN(CC)...</td>\n",
              "      <td>0</td>\n",
              "      <td>0</td>\n",
              "      <td>0</td>\n",
              "      <td>0</td>\n",
              "      <td>0</td>\n",
              "      <td>0</td>\n",
              "      <td>0</td>\n",
              "      <td>0</td>\n",
              "      <td>...</td>\n",
              "      <td>0</td>\n",
              "      <td>0</td>\n",
              "      <td>0</td>\n",
              "      <td>0</td>\n",
              "      <td>0</td>\n",
              "      <td>0</td>\n",
              "      <td>0</td>\n",
              "      <td>0</td>\n",
              "      <td>0</td>\n",
              "      <td>0</td>\n",
              "    </tr>\n",
              "  </tbody>\n",
              "</table>\n",
              "<p>5 rows × 1027 columns</p>\n",
              "</div>\n",
              "      <button class=\"colab-df-convert\" onclick=\"convertToInteractive('df-963b2f42-0bd0-49e0-b1e0-fd3d8cef306f')\"\n",
              "              title=\"Convert this dataframe to an interactive table.\"\n",
              "              style=\"display:none;\">\n",
              "        \n",
              "  <svg xmlns=\"http://www.w3.org/2000/svg\" height=\"24px\"viewBox=\"0 0 24 24\"\n",
              "       width=\"24px\">\n",
              "    <path d=\"M0 0h24v24H0V0z\" fill=\"none\"/>\n",
              "    <path d=\"M18.56 5.44l.94 2.06.94-2.06 2.06-.94-2.06-.94-.94-2.06-.94 2.06-2.06.94zm-11 1L8.5 8.5l.94-2.06 2.06-.94-2.06-.94L8.5 2.5l-.94 2.06-2.06.94zm10 10l.94 2.06.94-2.06 2.06-.94-2.06-.94-.94-2.06-.94 2.06-2.06.94z\"/><path d=\"M17.41 7.96l-1.37-1.37c-.4-.4-.92-.59-1.43-.59-.52 0-1.04.2-1.43.59L10.3 9.45l-7.72 7.72c-.78.78-.78 2.05 0 2.83L4 21.41c.39.39.9.59 1.41.59.51 0 1.02-.2 1.41-.59l7.78-7.78 2.81-2.81c.8-.78.8-2.07 0-2.86zM5.41 20L4 18.59l7.72-7.72 1.47 1.35L5.41 20z\"/>\n",
              "  </svg>\n",
              "      </button>\n",
              "      \n",
              "  <style>\n",
              "    .colab-df-container {\n",
              "      display:flex;\n",
              "      flex-wrap:wrap;\n",
              "      gap: 12px;\n",
              "    }\n",
              "\n",
              "    .colab-df-convert {\n",
              "      background-color: #E8F0FE;\n",
              "      border: none;\n",
              "      border-radius: 50%;\n",
              "      cursor: pointer;\n",
              "      display: none;\n",
              "      fill: #1967D2;\n",
              "      height: 32px;\n",
              "      padding: 0 0 0 0;\n",
              "      width: 32px;\n",
              "    }\n",
              "\n",
              "    .colab-df-convert:hover {\n",
              "      background-color: #E2EBFA;\n",
              "      box-shadow: 0px 1px 2px rgba(60, 64, 67, 0.3), 0px 1px 3px 1px rgba(60, 64, 67, 0.15);\n",
              "      fill: #174EA6;\n",
              "    }\n",
              "\n",
              "    [theme=dark] .colab-df-convert {\n",
              "      background-color: #3B4455;\n",
              "      fill: #D2E3FC;\n",
              "    }\n",
              "\n",
              "    [theme=dark] .colab-df-convert:hover {\n",
              "      background-color: #434B5C;\n",
              "      box-shadow: 0px 1px 3px 1px rgba(0, 0, 0, 0.15);\n",
              "      filter: drop-shadow(0px 1px 2px rgba(0, 0, 0, 0.3));\n",
              "      fill: #FFFFFF;\n",
              "    }\n",
              "  </style>\n",
              "\n",
              "      <script>\n",
              "        const buttonEl =\n",
              "          document.querySelector('#df-963b2f42-0bd0-49e0-b1e0-fd3d8cef306f button.colab-df-convert');\n",
              "        buttonEl.style.display =\n",
              "          google.colab.kernel.accessAllowed ? 'block' : 'none';\n",
              "\n",
              "        async function convertToInteractive(key) {\n",
              "          const element = document.querySelector('#df-963b2f42-0bd0-49e0-b1e0-fd3d8cef306f');\n",
              "          const dataTable =\n",
              "            await google.colab.kernel.invokeFunction('convertToInteractive',\n",
              "                                                     [key], {});\n",
              "          if (!dataTable) return;\n",
              "\n",
              "          const docLinkHtml = 'Like what you see? Visit the ' +\n",
              "            '<a target=\"_blank\" href=https://colab.research.google.com/notebooks/data_table.ipynb>data table notebook</a>'\n",
              "            + ' to learn more about interactive tables.';\n",
              "          element.innerHTML = '';\n",
              "          dataTable['output_type'] = 'display_data';\n",
              "          await google.colab.output.renderOutput(dataTable, element);\n",
              "          const docLink = document.createElement('div');\n",
              "          docLink.innerHTML = docLinkHtml;\n",
              "          element.appendChild(docLink);\n",
              "        }\n",
              "      </script>\n",
              "    </div>\n",
              "  </div>\n",
              "  "
            ]
          },
          "metadata": {},
          "execution_count": 3
        }
      ],
      "source": [
        "bbb_df = pd.read_csv('adenot_processed.csv')\n",
        "bbb_df.head()"
      ]
    },
    {
      "cell_type": "code",
      "execution_count": 4,
      "metadata": {
        "id": "YiIXUIvx04NN"
      },
      "outputs": [],
      "source": [
        "X = bbb_df.drop(columns=[\"Drug\", \"SMILES\", 'permeable'])\n",
        "Y = bbb_df['permeable']\n",
        "X_train, X_test, y_train, y_test = train_test_split(X, Y, test_size=0.3, random_state=0)"
      ]
    },
    {
      "cell_type": "markdown",
      "metadata": {
        "id": "6yBgi3Ex04NN"
      },
      "source": [
        "## Building and training the model"
      ]
    },
    {
      "cell_type": "code",
      "execution_count": 5,
      "metadata": {
        "id": "fiYIZzW904NO"
      },
      "outputs": [],
      "source": [
        "SVM = SVC().fit(X_train, y_train)\n",
        "\n",
        "train_prediction = SVM.predict(X_train)\n",
        "test_prediction = SVM.predict(X_test)"
      ]
    },
    {
      "cell_type": "markdown",
      "metadata": {
        "id": "8f7bbeba"
      },
      "source": [
        "#### Hyperparameter Optimization"
      ]
    },
    {
      "cell_type": "code",
      "execution_count": 6,
      "metadata": {
        "id": "9Ci2S8Mg04NO"
      },
      "outputs": [],
      "source": [
        "param_grid = {'C': [0.1,1, 10, 100], 'gamma': [1,0.1,0.01,0.001],'kernel': ['linear']}\n"
      ]
    },
    {
      "cell_type": "code",
      "execution_count": 7,
      "metadata": {
        "scrolled": true,
        "colab": {
          "base_uri": "https://localhost:8080/"
        },
        "id": "RWtq3Ryx04NO",
        "outputId": "5f94b549-69e5-479d-d105-df653fd37940"
      },
      "outputs": [
        {
          "output_type": "stream",
          "name": "stdout",
          "text": [
            "Fitting 5 folds for each of 16 candidates, totalling 80 fits\n",
            "[CV] END ......................C=0.1, gamma=1, kernel=linear; total time=   0.2s\n",
            "[CV] END ......................C=0.1, gamma=1, kernel=linear; total time=   0.2s\n",
            "[CV] END ......................C=0.1, gamma=1, kernel=linear; total time=   0.2s\n",
            "[CV] END ......................C=0.1, gamma=1, kernel=linear; total time=   0.2s\n",
            "[CV] END ......................C=0.1, gamma=1, kernel=linear; total time=   0.2s\n",
            "[CV] END ....................C=0.1, gamma=0.1, kernel=linear; total time=   0.2s\n",
            "[CV] END ....................C=0.1, gamma=0.1, kernel=linear; total time=   0.2s\n",
            "[CV] END ....................C=0.1, gamma=0.1, kernel=linear; total time=   0.2s\n",
            "[CV] END ....................C=0.1, gamma=0.1, kernel=linear; total time=   0.2s\n",
            "[CV] END ....................C=0.1, gamma=0.1, kernel=linear; total time=   0.2s\n",
            "[CV] END ...................C=0.1, gamma=0.01, kernel=linear; total time=   0.2s\n",
            "[CV] END ...................C=0.1, gamma=0.01, kernel=linear; total time=   0.3s\n",
            "[CV] END ...................C=0.1, gamma=0.01, kernel=linear; total time=   0.3s\n",
            "[CV] END ...................C=0.1, gamma=0.01, kernel=linear; total time=   0.2s\n",
            "[CV] END ...................C=0.1, gamma=0.01, kernel=linear; total time=   0.3s\n",
            "[CV] END ..................C=0.1, gamma=0.001, kernel=linear; total time=   0.3s\n",
            "[CV] END ..................C=0.1, gamma=0.001, kernel=linear; total time=   0.3s\n",
            "[CV] END ..................C=0.1, gamma=0.001, kernel=linear; total time=   0.2s\n",
            "[CV] END ..................C=0.1, gamma=0.001, kernel=linear; total time=   0.3s\n",
            "[CV] END ..................C=0.1, gamma=0.001, kernel=linear; total time=   0.2s\n",
            "[CV] END ........................C=1, gamma=1, kernel=linear; total time=   0.3s\n",
            "[CV] END ........................C=1, gamma=1, kernel=linear; total time=   0.2s\n",
            "[CV] END ........................C=1, gamma=1, kernel=linear; total time=   0.2s\n",
            "[CV] END ........................C=1, gamma=1, kernel=linear; total time=   0.2s\n",
            "[CV] END ........................C=1, gamma=1, kernel=linear; total time=   0.3s\n",
            "[CV] END ......................C=1, gamma=0.1, kernel=linear; total time=   0.2s\n",
            "[CV] END ......................C=1, gamma=0.1, kernel=linear; total time=   0.3s\n",
            "[CV] END ......................C=1, gamma=0.1, kernel=linear; total time=   0.3s\n",
            "[CV] END ......................C=1, gamma=0.1, kernel=linear; total time=   0.2s\n",
            "[CV] END ......................C=1, gamma=0.1, kernel=linear; total time=   0.2s\n",
            "[CV] END .....................C=1, gamma=0.01, kernel=linear; total time=   0.2s\n",
            "[CV] END .....................C=1, gamma=0.01, kernel=linear; total time=   0.3s\n",
            "[CV] END .....................C=1, gamma=0.01, kernel=linear; total time=   0.4s\n",
            "[CV] END .....................C=1, gamma=0.01, kernel=linear; total time=   0.4s\n",
            "[CV] END .....................C=1, gamma=0.01, kernel=linear; total time=   0.5s\n",
            "[CV] END ....................C=1, gamma=0.001, kernel=linear; total time=   0.3s\n",
            "[CV] END ....................C=1, gamma=0.001, kernel=linear; total time=   0.3s\n",
            "[CV] END ....................C=1, gamma=0.001, kernel=linear; total time=   0.3s\n",
            "[CV] END ....................C=1, gamma=0.001, kernel=linear; total time=   0.2s\n",
            "[CV] END ....................C=1, gamma=0.001, kernel=linear; total time=   0.2s\n",
            "[CV] END .......................C=10, gamma=1, kernel=linear; total time=   0.2s\n",
            "[CV] END .......................C=10, gamma=1, kernel=linear; total time=   0.2s\n",
            "[CV] END .......................C=10, gamma=1, kernel=linear; total time=   0.2s\n",
            "[CV] END .......................C=10, gamma=1, kernel=linear; total time=   0.2s\n",
            "[CV] END .......................C=10, gamma=1, kernel=linear; total time=   0.3s\n",
            "[CV] END .....................C=10, gamma=0.1, kernel=linear; total time=   0.3s\n",
            "[CV] END .....................C=10, gamma=0.1, kernel=linear; total time=   0.3s\n",
            "[CV] END .....................C=10, gamma=0.1, kernel=linear; total time=   0.2s\n",
            "[CV] END .....................C=10, gamma=0.1, kernel=linear; total time=   0.3s\n",
            "[CV] END .....................C=10, gamma=0.1, kernel=linear; total time=   0.4s\n",
            "[CV] END ....................C=10, gamma=0.01, kernel=linear; total time=   0.3s\n",
            "[CV] END ....................C=10, gamma=0.01, kernel=linear; total time=   0.3s\n",
            "[CV] END ....................C=10, gamma=0.01, kernel=linear; total time=   0.2s\n",
            "[CV] END ....................C=10, gamma=0.01, kernel=linear; total time=   0.3s\n",
            "[CV] END ....................C=10, gamma=0.01, kernel=linear; total time=   0.3s\n",
            "[CV] END ...................C=10, gamma=0.001, kernel=linear; total time=   0.3s\n",
            "[CV] END ...................C=10, gamma=0.001, kernel=linear; total time=   0.2s\n",
            "[CV] END ...................C=10, gamma=0.001, kernel=linear; total time=   0.2s\n",
            "[CV] END ...................C=10, gamma=0.001, kernel=linear; total time=   0.3s\n",
            "[CV] END ...................C=10, gamma=0.001, kernel=linear; total time=   0.3s\n",
            "[CV] END ......................C=100, gamma=1, kernel=linear; total time=   0.2s\n",
            "[CV] END ......................C=100, gamma=1, kernel=linear; total time=   0.5s\n",
            "[CV] END ......................C=100, gamma=1, kernel=linear; total time=   0.4s\n",
            "[CV] END ......................C=100, gamma=1, kernel=linear; total time=   0.3s\n",
            "[CV] END ......................C=100, gamma=1, kernel=linear; total time=   0.3s\n",
            "[CV] END ....................C=100, gamma=0.1, kernel=linear; total time=   0.2s\n",
            "[CV] END ....................C=100, gamma=0.1, kernel=linear; total time=   0.4s\n",
            "[CV] END ....................C=100, gamma=0.1, kernel=linear; total time=   0.3s\n",
            "[CV] END ....................C=100, gamma=0.1, kernel=linear; total time=   0.2s\n",
            "[CV] END ....................C=100, gamma=0.1, kernel=linear; total time=   0.3s\n",
            "[CV] END ...................C=100, gamma=0.01, kernel=linear; total time=   0.3s\n",
            "[CV] END ...................C=100, gamma=0.01, kernel=linear; total time=   0.2s\n",
            "[CV] END ...................C=100, gamma=0.01, kernel=linear; total time=   0.3s\n",
            "[CV] END ...................C=100, gamma=0.01, kernel=linear; total time=   0.3s\n",
            "[CV] END ...................C=100, gamma=0.01, kernel=linear; total time=   0.3s\n",
            "[CV] END ..................C=100, gamma=0.001, kernel=linear; total time=   0.2s\n",
            "[CV] END ..................C=100, gamma=0.001, kernel=linear; total time=   0.3s\n",
            "[CV] END ..................C=100, gamma=0.001, kernel=linear; total time=   0.5s\n",
            "[CV] END ..................C=100, gamma=0.001, kernel=linear; total time=   0.3s\n",
            "[CV] END ..................C=100, gamma=0.001, kernel=linear; total time=   0.3s\n"
          ]
        },
        {
          "output_type": "execute_result",
          "data": {
            "text/plain": [
              "GridSearchCV(estimator=SVC(),\n",
              "             param_grid={'C': [0.1, 1, 10, 100], 'gamma': [1, 0.1, 0.01, 0.001],\n",
              "                         'kernel': ['linear']},\n",
              "             verbose=2)"
            ]
          },
          "metadata": {},
          "execution_count": 7
        }
      ],
      "source": [
        "grid = GridSearchCV(SVC(),param_grid,refit=True,verbose=2)\n",
        "grid.fit(X_train,y_train)"
      ]
    },
    {
      "cell_type": "code",
      "execution_count": 8,
      "metadata": {
        "colab": {
          "base_uri": "https://localhost:8080/"
        },
        "id": "X_Wj8Hgx04NP",
        "outputId": "cc349b4b-7e47-4606-ea7f-e8c7af4d2ab7"
      },
      "outputs": [
        {
          "output_type": "stream",
          "name": "stdout",
          "text": [
            "{'C': 0.1, 'gamma': 1, 'kernel': 'linear'}\n"
          ]
        }
      ],
      "source": [
        "print(grid.best_params_)\n"
      ]
    },
    {
      "cell_type": "markdown",
      "metadata": {
        "id": "23737b22"
      },
      "source": [
        "#### Optimized SVM"
      ]
    },
    {
      "cell_type": "code",
      "execution_count": 9,
      "metadata": {
        "id": "ffe512e1"
      },
      "outputs": [],
      "source": [
        "SVM_best = SVC(C=0.1, gamma=1, kernel='linear', probability=True).fit(X_train, y_train)"
      ]
    },
    {
      "cell_type": "code",
      "execution_count": 10,
      "metadata": {
        "id": "889ab0ea"
      },
      "outputs": [],
      "source": [
        "SVM_best.fit(X_train, y_train)\n",
        "# make predictions for test data\n",
        "y_pred = SVM_best.predict(X_test)"
      ]
    },
    {
      "cell_type": "markdown",
      "metadata": {
        "id": "3384016e"
      },
      "source": [
        "#### Feature Importances"
      ]
    },
    {
      "cell_type": "code",
      "execution_count": 11,
      "metadata": {
        "id": "97350c94"
      },
      "outputs": [],
      "source": [
        "# get importance\n",
        "dt_importance = SVM_best.coef_\n",
        "\n",
        "# summarize and print out the feature importance\n",
        "non_zero_index_list = [i for i, v in enumerate(dt_importance[0]) if v != 0]\n",
        "\n",
        "# remove all zero value entries\n",
        "non_zero_feature_names = [bbb_df.iloc[:,3:].columns[i] for i in non_zero_index_list]\n",
        "non_zero_importance = [dt_importance[0][i] for i in non_zero_index_list]\n",
        "non_zero_feature_names_str = [str(x) for x in non_zero_feature_names]\n",
        "feature_importance = pd.DataFrame(list(zip(non_zero_feature_names_str, non_zero_importance)), columns =['Feature','Importance'])\n",
        "feature_importance.sort_values(by='Importance', ascending=True, inplace=True)"
      ]
    },
    {
      "cell_type": "code",
      "execution_count": 12,
      "metadata": {
        "colab": {
          "base_uri": "https://localhost:8080/",
          "height": 206
        },
        "id": "Q3v4WYq404NR",
        "outputId": "7e8f1736-8184-472d-d6cc-c83750cf3181"
      },
      "outputs": [
        {
          "output_type": "execute_result",
          "data": {
            "text/plain": [
              "    Feature  Importance\n",
              "782     798    0.207953\n",
              "769     784    0.210628\n",
              "812     828    0.230212\n",
              "403     412    0.246982\n",
              "77       78    0.275957"
            ],
            "text/html": [
              "\n",
              "  <div id=\"df-390d0245-d686-4690-8c99-525ec36557d0\">\n",
              "    <div class=\"colab-df-container\">\n",
              "      <div>\n",
              "<style scoped>\n",
              "    .dataframe tbody tr th:only-of-type {\n",
              "        vertical-align: middle;\n",
              "    }\n",
              "\n",
              "    .dataframe tbody tr th {\n",
              "        vertical-align: top;\n",
              "    }\n",
              "\n",
              "    .dataframe thead th {\n",
              "        text-align: right;\n",
              "    }\n",
              "</style>\n",
              "<table border=\"1\" class=\"dataframe\">\n",
              "  <thead>\n",
              "    <tr style=\"text-align: right;\">\n",
              "      <th></th>\n",
              "      <th>Feature</th>\n",
              "      <th>Importance</th>\n",
              "    </tr>\n",
              "  </thead>\n",
              "  <tbody>\n",
              "    <tr>\n",
              "      <th>782</th>\n",
              "      <td>798</td>\n",
              "      <td>0.207953</td>\n",
              "    </tr>\n",
              "    <tr>\n",
              "      <th>769</th>\n",
              "      <td>784</td>\n",
              "      <td>0.210628</td>\n",
              "    </tr>\n",
              "    <tr>\n",
              "      <th>812</th>\n",
              "      <td>828</td>\n",
              "      <td>0.230212</td>\n",
              "    </tr>\n",
              "    <tr>\n",
              "      <th>403</th>\n",
              "      <td>412</td>\n",
              "      <td>0.246982</td>\n",
              "    </tr>\n",
              "    <tr>\n",
              "      <th>77</th>\n",
              "      <td>78</td>\n",
              "      <td>0.275957</td>\n",
              "    </tr>\n",
              "  </tbody>\n",
              "</table>\n",
              "</div>\n",
              "      <button class=\"colab-df-convert\" onclick=\"convertToInteractive('df-390d0245-d686-4690-8c99-525ec36557d0')\"\n",
              "              title=\"Convert this dataframe to an interactive table.\"\n",
              "              style=\"display:none;\">\n",
              "        \n",
              "  <svg xmlns=\"http://www.w3.org/2000/svg\" height=\"24px\"viewBox=\"0 0 24 24\"\n",
              "       width=\"24px\">\n",
              "    <path d=\"M0 0h24v24H0V0z\" fill=\"none\"/>\n",
              "    <path d=\"M18.56 5.44l.94 2.06.94-2.06 2.06-.94-2.06-.94-.94-2.06-.94 2.06-2.06.94zm-11 1L8.5 8.5l.94-2.06 2.06-.94-2.06-.94L8.5 2.5l-.94 2.06-2.06.94zm10 10l.94 2.06.94-2.06 2.06-.94-2.06-.94-.94-2.06-.94 2.06-2.06.94z\"/><path d=\"M17.41 7.96l-1.37-1.37c-.4-.4-.92-.59-1.43-.59-.52 0-1.04.2-1.43.59L10.3 9.45l-7.72 7.72c-.78.78-.78 2.05 0 2.83L4 21.41c.39.39.9.59 1.41.59.51 0 1.02-.2 1.41-.59l7.78-7.78 2.81-2.81c.8-.78.8-2.07 0-2.86zM5.41 20L4 18.59l7.72-7.72 1.47 1.35L5.41 20z\"/>\n",
              "  </svg>\n",
              "      </button>\n",
              "      \n",
              "  <style>\n",
              "    .colab-df-container {\n",
              "      display:flex;\n",
              "      flex-wrap:wrap;\n",
              "      gap: 12px;\n",
              "    }\n",
              "\n",
              "    .colab-df-convert {\n",
              "      background-color: #E8F0FE;\n",
              "      border: none;\n",
              "      border-radius: 50%;\n",
              "      cursor: pointer;\n",
              "      display: none;\n",
              "      fill: #1967D2;\n",
              "      height: 32px;\n",
              "      padding: 0 0 0 0;\n",
              "      width: 32px;\n",
              "    }\n",
              "\n",
              "    .colab-df-convert:hover {\n",
              "      background-color: #E2EBFA;\n",
              "      box-shadow: 0px 1px 2px rgba(60, 64, 67, 0.3), 0px 1px 3px 1px rgba(60, 64, 67, 0.15);\n",
              "      fill: #174EA6;\n",
              "    }\n",
              "\n",
              "    [theme=dark] .colab-df-convert {\n",
              "      background-color: #3B4455;\n",
              "      fill: #D2E3FC;\n",
              "    }\n",
              "\n",
              "    [theme=dark] .colab-df-convert:hover {\n",
              "      background-color: #434B5C;\n",
              "      box-shadow: 0px 1px 3px 1px rgba(0, 0, 0, 0.15);\n",
              "      filter: drop-shadow(0px 1px 2px rgba(0, 0, 0, 0.3));\n",
              "      fill: #FFFFFF;\n",
              "    }\n",
              "  </style>\n",
              "\n",
              "      <script>\n",
              "        const buttonEl =\n",
              "          document.querySelector('#df-390d0245-d686-4690-8c99-525ec36557d0 button.colab-df-convert');\n",
              "        buttonEl.style.display =\n",
              "          google.colab.kernel.accessAllowed ? 'block' : 'none';\n",
              "\n",
              "        async function convertToInteractive(key) {\n",
              "          const element = document.querySelector('#df-390d0245-d686-4690-8c99-525ec36557d0');\n",
              "          const dataTable =\n",
              "            await google.colab.kernel.invokeFunction('convertToInteractive',\n",
              "                                                     [key], {});\n",
              "          if (!dataTable) return;\n",
              "\n",
              "          const docLinkHtml = 'Like what you see? Visit the ' +\n",
              "            '<a target=\"_blank\" href=https://colab.research.google.com/notebooks/data_table.ipynb>data table notebook</a>'\n",
              "            + ' to learn more about interactive tables.';\n",
              "          element.innerHTML = '';\n",
              "          dataTable['output_type'] = 'display_data';\n",
              "          await google.colab.output.renderOutput(dataTable, element);\n",
              "          const docLink = document.createElement('div');\n",
              "          docLink.innerHTML = docLinkHtml;\n",
              "          element.appendChild(docLink);\n",
              "        }\n",
              "      </script>\n",
              "    </div>\n",
              "  </div>\n",
              "  "
            ]
          },
          "metadata": {},
          "execution_count": 12
        }
      ],
      "source": [
        "feature_importance.tail(5)"
      ]
    },
    {
      "cell_type": "code",
      "execution_count": 13,
      "metadata": {
        "colab": {
          "base_uri": "https://localhost:8080/",
          "height": 639
        },
        "id": "89eeac3c",
        "outputId": "4c531869-08a6-4d58-ac17-b66802e5a634"
      },
      "outputs": [
        {
          "output_type": "execute_result",
          "data": {
            "text/plain": [
              "Text(0.5, 1.0, 'Top 10 SVM Feature Importances')"
            ]
          },
          "metadata": {},
          "execution_count": 13
        },
        {
          "output_type": "display_data",
          "data": {
            "text/plain": [
              "<Figure size 360x720 with 1 Axes>"
            ],
            "image/png": "[encoded data removed]"
          },
          "metadata": {
            "needs_background": "light"
          }
        }
      ],
      "source": [
        "fig,ax = plt.subplots(figsize=(5,10))\n",
        "plt.xlabel('Feature Importance')\n",
        "plt.ylabel('Features (with non-zero gini importance)')\n",
        "plt.barh(feature_importance['Feature'][990:], feature_importance['Importance'][990:])\n",
        "plt.title('Top 10 SVM Feature Importances')"
      ]
    },
    {
      "cell_type": "markdown",
      "metadata": {
        "id": "bab154c3"
      },
      "source": [
        "### Random Split PCA, DR, and Result Metrics"
      ]
    },
    {
      "cell_type": "code",
      "execution_count": 14,
      "metadata": {
        "colab": {
          "base_uri": "https://localhost:8080/",
          "height": 587
        },
        "id": "e7316d11",
        "outputId": "eb9cb980-ce88-4aeb-b26e-e170afd49e33"
      },
      "outputs": [
        {
          "output_type": "stream",
          "name": "stderr",
          "text": [
            "/usr/local/lib/python3.8/dist-packages/sklearn/manifold/_t_sne.py:780: FutureWarning: The default initialization in TSNE will change from 'random' to 'pca' in 1.2.\n",
            "  warnings.warn(\n",
            "/usr/local/lib/python3.8/dist-packages/sklearn/manifold/_t_sne.py:790: FutureWarning: The default learning rate in TSNE will change from 200.0 to 'auto' in 1.2.\n",
            "  warnings.warn(\n"
          ]
        },
        {
          "output_type": "stream",
          "name": "stdout",
          "text": [
            "Random Split Metrics:\n",
            "Accuracy: 0.963855421686747\n",
            "Balanced Accuracy: 0.9158673469387755\n",
            "ROC AUC: 0.9158673469387756\n",
            "Precision Score: 0.961352657004831\n",
            "Recall Score: 0.995\n",
            "\n"
          ]
        },
        {
          "output_type": "display_data",
          "data": {
            "text/plain": [
              "<Figure size 1080x360 with 4 Axes>"
            ],
            "image/png": "[encoded data removed]"
          },
          "metadata": {
            "needs_background": "light"
          }
        }
      ],
      "source": [
        "def plot_split(split, y_pred, y_test, t_components):\n",
        "    \n",
        "    fig = plt.figure(figsize=(15, 5))\n",
        "    fig.suptitle('{} Split'.format(split))\n",
        "    plt.subplot(1, 2, 1)\n",
        "    plt.scatter(t_components[:,0], t_components[:,1], c=y_pred, s=10)\n",
        "    plt.xlabel('t-SNE_1')\n",
        "    plt.ylabel('t-SNE_2')\n",
        "    plt.title('Prediction Visualization')\n",
        "    plt.colorbar()\n",
        "\n",
        "    plt.subplot(1, 2, 2)\n",
        "    plt.scatter(t_components[:,0], t_components[:,1], c=y_test,s=10)\n",
        "    plt.xlabel('t-SNE_1')\n",
        "    plt.ylabel('t-SNE_2')\n",
        "    plt.title('Permeability Visualization')\n",
        "    plt.colorbar()\n",
        "    \n",
        "    # Calculate how often the classifier is correct\n",
        "    print(\"{} Split Metrics:\".format(split))\n",
        "    print(\"Accuracy:\",metrics.accuracy_score(y_test, y_pred))\n",
        "    print(\"Balanced Accuracy:\", metrics.balanced_accuracy_score(y_test, y_pred))\n",
        "    print(\"ROC AUC:\", metrics.roc_auc_score(y_test, y_pred))\n",
        "    print(\"Precision Score:\", metrics.precision_score(y_test, y_pred))\n",
        "    print(\"Recall Score:\", metrics.recall_score(y_test, y_pred))\n",
        "    print(\"\")\n",
        "\n",
        "dim = 100\n",
        "pca_rand = PCA(n_components=dim)\n",
        "components_rand = pca_rand.fit_transform(X_test)\n",
        "tsne_rand = TSNE(n_components=2)\n",
        "t_components_rand = tsne_rand.fit_transform(components_rand)\n",
        "\n",
        "plot_split('Random', y_pred, y_test, t_components_rand)\n"
      ]
    },
    {
      "cell_type": "markdown",
      "metadata": {
        "id": "ff1a8410"
      },
      "source": [
        "### Scaffold Split "
      ]
    },
    {
      "cell_type": "markdown",
      "metadata": {
        "id": "8c9c0d00"
      },
      "source": [
        "#### Data preprocessing"
      ]
    },
    {
      "cell_type": "code",
      "execution_count": 15,
      "metadata": {
        "id": "2ac08dc4"
      },
      "outputs": [],
      "source": [
        "Xs = bbb_df.iloc[:,3:].copy()\n",
        "Ys = bbb_df.iloc[:,2].copy()\n",
        "dataset = dc.data.DiskDataset.from_numpy(X=Xs,y=Ys,ids=bbb_df['SMILES'].tolist())\n",
        "scaffoldsplitter = dc.splits.ScaffoldSplitter()\n",
        "train_scaff, test_scaff = scaffoldsplitter.train_test_split(dataset)"
      ]
    },
    {
      "cell_type": "markdown",
      "metadata": {
        "id": "fb9d2dc3"
      },
      "source": [
        "### Model Predictions (Classes and Probabilities)"
      ]
    },
    {
      "cell_type": "code",
      "execution_count": 16,
      "metadata": {
        "id": "a55821c1"
      },
      "outputs": [],
      "source": [
        "# Train SVM classifier\n",
        "SVM_best = SVM_best.fit(train_scaff.X,train_scaff.y)\n",
        "\n",
        "# Predict the response for test dataset\n",
        "y_pred_scaff = SVM_best.predict(test_scaff.X)"
      ]
    },
    {
      "cell_type": "code",
      "execution_count": 17,
      "metadata": {
        "colab": {
          "base_uri": "https://localhost:8080/",
          "height": 424
        },
        "id": "0cf7430f",
        "outputId": "cf101fb3-071a-4ccc-a64c-2a4b3375b7ba"
      },
      "outputs": [
        {
          "output_type": "execute_result",
          "data": {
            "text/plain": [
              "                                                SMILES  Prob Permeable\n",
              "149                  Clc1ccc(c(c1)Cl)/C(/Cl)=C/n1cncn1        0.999999\n",
              "124              O=C(N1CCN(CC1)Cc1ccccc1)c1oc2ccccc2c1        0.999999\n",
              "305   CCCCc1nc(c(n1Cc1ccc(cc1)c1ccccc1c1[nH]nnn1)CO)Cl        0.999998\n",
              "150                       Nc1nnc(c(n1)N)c1cccc(c1Cl)Cl        0.999998\n",
              "63                     CCN1CCC(C1)=C(c1ccccc1)c1ccccc1        0.999998\n",
              "..                                                 ...             ...\n",
              "244  CO\\N=C(\\C(=O)N[C@H]1[C@H]2SCC(=C(N2C1=O)C(O)=O...        0.000159\n",
              "185  COC(=O)C1NC(=O)[C@H]2NC(=O)[C@H](NC(=O)[C@@H]3...        0.000137\n",
              "184  CN[C@H](CC(C)C)C(=O)N[C@@H]1[C@H](O)c2ccc(c(c2...        0.000063\n",
              "270  N[C@@H](C(=O)N[C@H]1[C@H]2SCC(=C(N2C1=O)C(O)=O...        0.000044\n",
              "199  CN(C)C1C2CC3C(=C(O)[C@]2(O)C(=O)C(=C1O)C(=O)NC...        0.000013\n",
              "\n",
              "[332 rows x 2 columns]"
            ],
            "text/html": [
              "\n",
              "  <div id=\"df-7d6b4486-056f-4a51-b5a9-bda95f9e821e\">\n",
              "    <div class=\"colab-df-container\">\n",
              "      <div>\n",
              "<style scoped>\n",
              "    .dataframe tbody tr th:only-of-type {\n",
              "        vertical-align: middle;\n",
              "    }\n",
              "\n",
              "    .dataframe tbody tr th {\n",
              "        vertical-align: top;\n",
              "    }\n",
              "\n",
              "    .dataframe thead th {\n",
              "        text-align: right;\n",
              "    }\n",
              "</style>\n",
              "<table border=\"1\" class=\"dataframe\">\n",
              "  <thead>\n",
              "    <tr style=\"text-align: right;\">\n",
              "      <th></th>\n",
              "      <th>SMILES</th>\n",
              "      <th>Prob Permeable</th>\n",
              "    </tr>\n",
              "  </thead>\n",
              "  <tbody>\n",
              "    <tr>\n",
              "      <th>149</th>\n",
              "      <td>Clc1ccc(c(c1)Cl)/C(/Cl)=C/n1cncn1</td>\n",
              "      <td>0.999999</td>\n",
              "    </tr>\n",
              "    <tr>\n",
              "      <th>124</th>\n",
              "      <td>O=C(N1CCN(CC1)Cc1ccccc1)c1oc2ccccc2c1</td>\n",
              "      <td>0.999999</td>\n",
              "    </tr>\n",
              "    <tr>\n",
              "      <th>305</th>\n",
              "      <td>CCCCc1nc(c(n1Cc1ccc(cc1)c1ccccc1c1[nH]nnn1)CO)Cl</td>\n",
              "      <td>0.999998</td>\n",
              "    </tr>\n",
              "    <tr>\n",
              "      <th>150</th>\n",
              "      <td>Nc1nnc(c(n1)N)c1cccc(c1Cl)Cl</td>\n",
              "      <td>0.999998</td>\n",
              "    </tr>\n",
              "    <tr>\n",
              "      <th>63</th>\n",
              "      <td>CCN1CCC(C1)=C(c1ccccc1)c1ccccc1</td>\n",
              "      <td>0.999998</td>\n",
              "    </tr>\n",
              "    <tr>\n",
              "      <th>...</th>\n",
              "      <td>...</td>\n",
              "      <td>...</td>\n",
              "    </tr>\n",
              "    <tr>\n",
              "      <th>244</th>\n",
              "      <td>CO\\N=C(\\C(=O)N[C@H]1[C@H]2SCC(=C(N2C1=O)C(O)=O...</td>\n",
              "      <td>0.000159</td>\n",
              "    </tr>\n",
              "    <tr>\n",
              "      <th>185</th>\n",
              "      <td>COC(=O)C1NC(=O)[C@H]2NC(=O)[C@H](NC(=O)[C@@H]3...</td>\n",
              "      <td>0.000137</td>\n",
              "    </tr>\n",
              "    <tr>\n",
              "      <th>184</th>\n",
              "      <td>CN[C@H](CC(C)C)C(=O)N[C@@H]1[C@H](O)c2ccc(c(c2...</td>\n",
              "      <td>0.000063</td>\n",
              "    </tr>\n",
              "    <tr>\n",
              "      <th>270</th>\n",
              "      <td>N[C@@H](C(=O)N[C@H]1[C@H]2SCC(=C(N2C1=O)C(O)=O...</td>\n",
              "      <td>0.000044</td>\n",
              "    </tr>\n",
              "    <tr>\n",
              "      <th>199</th>\n",
              "      <td>CN(C)C1C2CC3C(=C(O)[C@]2(O)C(=O)C(=C1O)C(=O)NC...</td>\n",
              "      <td>0.000013</td>\n",
              "    </tr>\n",
              "  </tbody>\n",
              "</table>\n",
              "<p>332 rows × 2 columns</p>\n",
              "</div>\n",
              "      <button class=\"colab-df-convert\" onclick=\"convertToInteractive('df-7d6b4486-056f-4a51-b5a9-bda95f9e821e')\"\n",
              "              title=\"Convert this dataframe to an interactive table.\"\n",
              "              style=\"display:none;\">\n",
              "        \n",
              "  <svg xmlns=\"http://www.w3.org/2000/svg\" height=\"24px\"viewBox=\"0 0 24 24\"\n",
              "       width=\"24px\">\n",
              "    <path d=\"M0 0h24v24H0V0z\" fill=\"none\"/>\n",
              "    <path d=\"M18.56 5.44l.94 2.06.94-2.06 2.06-.94-2.06-.94-.94-2.06-.94 2.06-2.06.94zm-11 1L8.5 8.5l.94-2.06 2.06-.94-2.06-.94L8.5 2.5l-.94 2.06-2.06.94zm10 10l.94 2.06.94-2.06 2.06-.94-2.06-.94-.94-2.06-.94 2.06-2.06.94z\"/><path d=\"M17.41 7.96l-1.37-1.37c-.4-.4-.92-.59-1.43-.59-.52 0-1.04.2-1.43.59L10.3 9.45l-7.72 7.72c-.78.78-.78 2.05 0 2.83L4 21.41c.39.39.9.59 1.41.59.51 0 1.02-.2 1.41-.59l7.78-7.78 2.81-2.81c.8-.78.8-2.07 0-2.86zM5.41 20L4 18.59l7.72-7.72 1.47 1.35L5.41 20z\"/>\n",
              "  </svg>\n",
              "      </button>\n",
              "      \n",
              "  <style>\n",
              "    .colab-df-container {\n",
              "      display:flex;\n",
              "      flex-wrap:wrap;\n",
              "      gap: 12px;\n",
              "    }\n",
              "\n",
              "    .colab-df-convert {\n",
              "      background-color: #E8F0FE;\n",
              "      border: none;\n",
              "      border-radius: 50%;\n",
              "      cursor: pointer;\n",
              "      display: none;\n",
              "      fill: #1967D2;\n",
              "      height: 32px;\n",
              "      padding: 0 0 0 0;\n",
              "      width: 32px;\n",
              "    }\n",
              "\n",
              "    .colab-df-convert:hover {\n",
              "      background-color: #E2EBFA;\n",
              "      box-shadow: 0px 1px 2px rgba(60, 64, 67, 0.3), 0px 1px 3px 1px rgba(60, 64, 67, 0.15);\n",
              "      fill: #174EA6;\n",
              "    }\n",
              "\n",
              "    [theme=dark] .colab-df-convert {\n",
              "      background-color: #3B4455;\n",
              "      fill: #D2E3FC;\n",
              "    }\n",
              "\n",
              "    [theme=dark] .colab-df-convert:hover {\n",
              "      background-color: #434B5C;\n",
              "      box-shadow: 0px 1px 3px 1px rgba(0, 0, 0, 0.15);\n",
              "      filter: drop-shadow(0px 1px 2px rgba(0, 0, 0, 0.3));\n",
              "      fill: #FFFFFF;\n",
              "    }\n",
              "  </style>\n",
              "\n",
              "      <script>\n",
              "        const buttonEl =\n",
              "          document.querySelector('#df-7d6b4486-056f-4a51-b5a9-bda95f9e821e button.colab-df-convert');\n",
              "        buttonEl.style.display =\n",
              "          google.colab.kernel.accessAllowed ? 'block' : 'none';\n",
              "\n",
              "        async function convertToInteractive(key) {\n",
              "          const element = document.querySelector('#df-7d6b4486-056f-4a51-b5a9-bda95f9e821e');\n",
              "          const dataTable =\n",
              "            await google.colab.kernel.invokeFunction('convertToInteractive',\n",
              "                                                     [key], {});\n",
              "          if (!dataTable) return;\n",
              "\n",
              "          const docLinkHtml = 'Like what you see? Visit the ' +\n",
              "            '<a target=\"_blank\" href=https://colab.research.google.com/notebooks/data_table.ipynb>data table notebook</a>'\n",
              "            + ' to learn more about interactive tables.';\n",
              "          element.innerHTML = '';\n",
              "          dataTable['output_type'] = 'display_data';\n",
              "          await google.colab.output.renderOutput(dataTable, element);\n",
              "          const docLink = document.createElement('div');\n",
              "          docLink.innerHTML = docLinkHtml;\n",
              "          element.appendChild(docLink);\n",
              "        }\n",
              "      </script>\n",
              "    </div>\n",
              "  </div>\n",
              "  "
            ]
          },
          "metadata": {},
          "execution_count": 17
        }
      ],
      "source": [
        "y_pred_scaff_prob = SVM_best.predict_proba(test_scaff.X)\n",
        "\n",
        "prob_test_df = pd.DataFrame()\n",
        "prob_test_df['SMILES'] = test_scaff.ids\n",
        "prob_test_df['Prob Permeable'] = y_pred_scaff_prob[:,1]\n",
        "prob_test_df = prob_test_df.sort_values(by=['Prob Permeable'], ascending=False)\n",
        "prob_test_df"
      ]
    },
    {
      "cell_type": "markdown",
      "metadata": {
        "id": "4f9bbfc5"
      },
      "source": [
        "### Scaffold Split PCA, DR, and Result Metrics"
      ]
    },
    {
      "cell_type": "code",
      "execution_count": 18,
      "metadata": {
        "id": "8f800c98"
      },
      "outputs": [],
      "source": [
        "dim = 100\n",
        "pca_scaff = PCA(n_components=dim)\n",
        "components_scaff = pca_scaff.fit_transform(test_scaff.X)"
      ]
    },
    {
      "cell_type": "code",
      "execution_count": 19,
      "metadata": {
        "colab": {
          "base_uri": "https://localhost:8080/"
        },
        "id": "b37ca413",
        "outputId": "85052c0d-f124-4517-9e38-a5941acba300"
      },
      "outputs": [
        {
          "output_type": "stream",
          "name": "stderr",
          "text": [
            "/usr/local/lib/python3.8/dist-packages/sklearn/manifold/_t_sne.py:780: FutureWarning: The default initialization in TSNE will change from 'random' to 'pca' in 1.2.\n",
            "  warnings.warn(\n",
            "/usr/local/lib/python3.8/dist-packages/sklearn/manifold/_t_sne.py:790: FutureWarning: The default learning rate in TSNE will change from 200.0 to 'auto' in 1.2.\n",
            "  warnings.warn(\n"
          ]
        }
      ],
      "source": [
        "tsne_scaff = TSNE(n_components=2)\n",
        "t_components_scaff = tsne_scaff.fit_transform(components_scaff)"
      ]
    },
    {
      "cell_type": "code",
      "execution_count": 20,
      "metadata": {
        "scrolled": false,
        "colab": {
          "base_uri": "https://localhost:8080/",
          "height": 496
        },
        "id": "31a8c6bc",
        "outputId": "470c7bc9-c9cc-4bba-ad35-11454b37247b"
      },
      "outputs": [
        {
          "output_type": "stream",
          "name": "stdout",
          "text": [
            "Scaffold Split Metrics:\n",
            "Accuracy: 0.8644578313253012\n",
            "Balanced Accuracy: 0.8499559341950647\n",
            "ROC AUC: 0.8499559341950647\n",
            "Precision Score: 0.8116591928251121\n",
            "Recall Score: 0.9836956521739131\n",
            "\n"
          ]
        },
        {
          "output_type": "display_data",
          "data": {
            "text/plain": [
              "<Figure size 1080x360 with 4 Axes>"
            ],
            "image/png": "[encoded data removed]"
          },
          "metadata": {
            "needs_background": "light"
          }
        }
      ],
      "source": [
        "plot_split('Scaffold', y_pred_scaff, test_scaff.y, t_components_scaff)"
      ]
    },
    {
      "cell_type": "markdown",
      "metadata": {
        "id": "06e2abcd"
      },
      "source": [
        "## Scaffold Split Feature Importances"
      ]
    },
    {
      "cell_type": "code",
      "execution_count": 21,
      "metadata": {
        "id": "9a6356ef"
      },
      "outputs": [],
      "source": [
        "# get importance\n",
        "dt_importance = SVM_best.coef_\n",
        "\n",
        "# summarize and print out the feature importance\n",
        "non_zero_index_list = [i for i, v in enumerate(dt_importance[0]) if v != 0]\n",
        "\n",
        "# remove all zero value entries\n",
        "non_zero_feature_names = [bbb_df.iloc[:,3:].columns[i] for i in non_zero_index_list]\n",
        "non_zero_importance = [dt_importance[0][i] for i in non_zero_index_list]\n",
        "non_zero_feature_names_str = [str(x) for x in non_zero_feature_names]\n",
        "feature_importance = pd.DataFrame(list(zip(non_zero_feature_names_str, non_zero_importance)), columns =['Feature','Importance'])\n",
        "feature_importance.sort_values(by='Importance', ascending=True, inplace=True)"
      ]
    },
    {
      "cell_type": "code",
      "execution_count": 22,
      "metadata": {
        "colab": {
          "base_uri": "https://localhost:8080/",
          "height": 424
        },
        "id": "bdee7630",
        "outputId": "a7821616-fb2d-4c24-8b34-6ac04fd95129"
      },
      "outputs": [
        {
          "output_type": "execute_result",
          "data": {
            "text/plain": [
              "    Feature  Importance\n",
              "5         5   -0.349273\n",
              "346     357   -0.331275\n",
              "399     410   -0.258262\n",
              "306     315   -0.256448\n",
              "624     640   -0.254354\n",
              "..      ...         ...\n",
              "564     580    0.172304\n",
              "75       78    0.176783\n",
              "516     530    0.183104\n",
              "132     138    0.187629\n",
              "401     412    0.229927\n",
              "\n",
              "[992 rows x 2 columns]"
            ],
            "text/html": [
              "\n",
              "  <div id=\"df-4682b983-a21b-4819-a4cd-dedbf0292e63\">\n",
              "    <div class=\"colab-df-container\">\n",
              "      <div>\n",
              "<style scoped>\n",
              "    .dataframe tbody tr th:only-of-type {\n",
              "        vertical-align: middle;\n",
              "    }\n",
              "\n",
              "    .dataframe tbody tr th {\n",
              "        vertical-align: top;\n",
              "    }\n",
              "\n",
              "    .dataframe thead th {\n",
              "        text-align: right;\n",
              "    }\n",
              "</style>\n",
              "<table border=\"1\" class=\"dataframe\">\n",
              "  <thead>\n",
              "    <tr style=\"text-align: right;\">\n",
              "      <th></th>\n",
              "      <th>Feature</th>\n",
              "      <th>Importance</th>\n",
              "    </tr>\n",
              "  </thead>\n",
              "  <tbody>\n",
              "    <tr>\n",
              "      <th>5</th>\n",
              "      <td>5</td>\n",
              "      <td>-0.349273</td>\n",
              "    </tr>\n",
              "    <tr>\n",
              "      <th>346</th>\n",
              "      <td>357</td>\n",
              "      <td>-0.331275</td>\n",
              "    </tr>\n",
              "    <tr>\n",
              "      <th>399</th>\n",
              "      <td>410</td>\n",
              "      <td>-0.258262</td>\n",
              "    </tr>\n",
              "    <tr>\n",
              "      <th>306</th>\n",
              "      <td>315</td>\n",
              "      <td>-0.256448</td>\n",
              "    </tr>\n",
              "    <tr>\n",
              "      <th>624</th>\n",
              "      <td>640</td>\n",
              "      <td>-0.254354</td>\n",
              "    </tr>\n",
              "    <tr>\n",
              "      <th>...</th>\n",
              "      <td>...</td>\n",
              "      <td>...</td>\n",
              "    </tr>\n",
              "    <tr>\n",
              "      <th>564</th>\n",
              "      <td>580</td>\n",
              "      <td>0.172304</td>\n",
              "    </tr>\n",
              "    <tr>\n",
              "      <th>75</th>\n",
              "      <td>78</td>\n",
              "      <td>0.176783</td>\n",
              "    </tr>\n",
              "    <tr>\n",
              "      <th>516</th>\n",
              "      <td>530</td>\n",
              "      <td>0.183104</td>\n",
              "    </tr>\n",
              "    <tr>\n",
              "      <th>132</th>\n",
              "      <td>138</td>\n",
              "      <td>0.187629</td>\n",
              "    </tr>\n",
              "    <tr>\n",
              "      <th>401</th>\n",
              "      <td>412</td>\n",
              "      <td>0.229927</td>\n",
              "    </tr>\n",
              "  </tbody>\n",
              "</table>\n",
              "<p>992 rows × 2 columns</p>\n",
              "</div>\n",
              "      <button class=\"colab-df-convert\" onclick=\"convertToInteractive('df-4682b983-a21b-4819-a4cd-dedbf0292e63')\"\n",
              "              title=\"Convert this dataframe to an interactive table.\"\n",
              "              style=\"display:none;\">\n",
              "        \n",
              "  <svg xmlns=\"http://www.w3.org/2000/svg\" height=\"24px\"viewBox=\"0 0 24 24\"\n",
              "       width=\"24px\">\n",
              "    <path d=\"M0 0h24v24H0V0z\" fill=\"none\"/>\n",
              "    <path d=\"M18.56 5.44l.94 2.06.94-2.06 2.06-.94-2.06-.94-.94-2.06-.94 2.06-2.06.94zm-11 1L8.5 8.5l.94-2.06 2.06-.94-2.06-.94L8.5 2.5l-.94 2.06-2.06.94zm10 10l.94 2.06.94-2.06 2.06-.94-2.06-.94-.94-2.06-.94 2.06-2.06.94z\"/><path d=\"M17.41 7.96l-1.37-1.37c-.4-.4-.92-.59-1.43-.59-.52 0-1.04.2-1.43.59L10.3 9.45l-7.72 7.72c-.78.78-.78 2.05 0 2.83L4 21.41c.39.39.9.59 1.41.59.51 0 1.02-.2 1.41-.59l7.78-7.78 2.81-2.81c.8-.78.8-2.07 0-2.86zM5.41 20L4 18.59l7.72-7.72 1.47 1.35L5.41 20z\"/>\n",
              "  </svg>\n",
              "      </button>\n",
              "      \n",
              "  <style>\n",
              "    .colab-df-container {\n",
              "      display:flex;\n",
              "      flex-wrap:wrap;\n",
              "      gap: 12px;\n",
              "    }\n",
              "\n",
              "    .colab-df-convert {\n",
              "      background-color: #E8F0FE;\n",
              "      border: none;\n",
              "      border-radius: 50%;\n",
              "      cursor: pointer;\n",
              "      display: none;\n",
              "      fill: #1967D2;\n",
              "      height: 32px;\n",
              "      padding: 0 0 0 0;\n",
              "      width: 32px;\n",
              "    }\n",
              "\n",
              "    .colab-df-convert:hover {\n",
              "      background-color: #E2EBFA;\n",
              "      box-shadow: 0px 1px 2px rgba(60, 64, 67, 0.3), 0px 1px 3px 1px rgba(60, 64, 67, 0.15);\n",
              "      fill: #174EA6;\n",
              "    }\n",
              "\n",
              "    [theme=dark] .colab-df-convert {\n",
              "      background-color: #3B4455;\n",
              "      fill: #D2E3FC;\n",
              "    }\n",
              "\n",
              "    [theme=dark] .colab-df-convert:hover {\n",
              "      background-color: #434B5C;\n",
              "      box-shadow: 0px 1px 3px 1px rgba(0, 0, 0, 0.15);\n",
              "      filter: drop-shadow(0px 1px 2px rgba(0, 0, 0, 0.3));\n",
              "      fill: #FFFFFF;\n",
              "    }\n",
              "  </style>\n",
              "\n",
              "      <script>\n",
              "        const buttonEl =\n",
              "          document.querySelector('#df-4682b983-a21b-4819-a4cd-dedbf0292e63 button.colab-df-convert');\n",
              "        buttonEl.style.display =\n",
              "          google.colab.kernel.accessAllowed ? 'block' : 'none';\n",
              "\n",
              "        async function convertToInteractive(key) {\n",
              "          const element = document.querySelector('#df-4682b983-a21b-4819-a4cd-dedbf0292e63');\n",
              "          const dataTable =\n",
              "            await google.colab.kernel.invokeFunction('convertToInteractive',\n",
              "                                                     [key], {});\n",
              "          if (!dataTable) return;\n",
              "\n",
              "          const docLinkHtml = 'Like what you see? Visit the ' +\n",
              "            '<a target=\"_blank\" href=https://colab.research.google.com/notebooks/data_table.ipynb>data table notebook</a>'\n",
              "            + ' to learn more about interactive tables.';\n",
              "          element.innerHTML = '';\n",
              "          dataTable['output_type'] = 'display_data';\n",
              "          await google.colab.output.renderOutput(dataTable, element);\n",
              "          const docLink = document.createElement('div');\n",
              "          docLink.innerHTML = docLinkHtml;\n",
              "          element.appendChild(docLink);\n",
              "        }\n",
              "      </script>\n",
              "    </div>\n",
              "  </div>\n",
              "  "
            ]
          },
          "metadata": {},
          "execution_count": 22
        }
      ],
      "source": [
        "feature_importance"
      ]
    },
    {
      "cell_type": "code",
      "execution_count": 23,
      "metadata": {
        "scrolled": true,
        "colab": {
          "base_uri": "https://localhost:8080/",
          "height": 639
        },
        "id": "9838986f",
        "outputId": "0323f385-f4a5-432c-f577-61309e63f8c5"
      },
      "outputs": [
        {
          "output_type": "execute_result",
          "data": {
            "text/plain": [
              "Text(0.5, 1.0, 'Top 10 SVM Feature Importances')"
            ]
          },
          "metadata": {},
          "execution_count": 23
        },
        {
          "output_type": "display_data",
          "data": {
            "text/plain": [
              "<Figure size 360x720 with 1 Axes>"
            ],
            "image/png": "[encoded data removed]"
          },
          "metadata": {
            "needs_background": "light"
          }
        }
      ],
      "source": [
        "fig,ax = plt.subplots(figsize=(5,10))\n",
        "plt.xlabel('Gini Importance')\n",
        "plt.ylabel('Features (with non-zero gini importance)')\n",
        "plt.barh(feature_importance['Feature'][-10:], feature_importance['Importance'][-10:])\n",
        "plt.title('Top 10 SVM Feature Importances')"
      ]
    },
    {
      "cell_type": "code",
      "execution_count": 24,
      "metadata": {
        "colab": {
          "base_uri": "https://localhost:8080/"
        },
        "id": "I4gnVC7W04NV",
        "outputId": "3eae34f8-eaa2-457d-fb46-36374082c78e"
      },
      "outputs": [
        {
          "output_type": "execute_result",
          "data": {
            "text/plain": [
              "[0.13372779392586617,\n",
              " 0.13632480191369564,\n",
              " 0.138932992356682,\n",
              " 0.14083083565278967,\n",
              " 0.14090059809093844,\n",
              " 0.14105687830018293,\n",
              " 0.14252462088136958,\n",
              " 0.14328626822153895,\n",
              " 0.14332839042503714,\n",
              " 0.15200046517975518,\n",
              " 0.155718651845881,\n",
              " 0.16228580768768971,\n",
              " 0.16570069921025515,\n",
              " 0.16696688878562255,\n",
              " 0.17180545468512864,\n",
              " 0.17230446238075178,\n",
              " 0.1767826144485264,\n",
              " 0.18310378172584607,\n",
              " 0.18762879433840352,\n",
              " 0.22992676032314519]"
            ]
          },
          "metadata": {},
          "execution_count": 24
        }
      ],
      "source": [
        "feature_importance['Importance'][-20:].values.tolist()"
      ]
    },
    {
      "cell_type": "code",
      "execution_count": 25,
      "metadata": {
        "colab": {
          "base_uri": "https://localhost:8080/"
        },
        "id": "iD4_gCbz04NV",
        "outputId": "c9aeece9-3995-411d-ec44-80be32ed6aba"
      },
      "outputs": [
        {
          "output_type": "execute_result",
          "data": {
            "text/plain": [
              "[835,\n",
              " 935,\n",
              " 667,\n",
              " 245,\n",
              " 672,\n",
              " 520,\n",
              " 155,\n",
              " 144,\n",
              " 249,\n",
              " 646,\n",
              " 1010,\n",
              " 915,\n",
              " 904,\n",
              " 74,\n",
              " 119,\n",
              " 580,\n",
              " 78,\n",
              " 530,\n",
              " 138,\n",
              " 412]"
            ]
          },
          "metadata": {},
          "execution_count": 25
        }
      ],
      "source": [
        "top20 = feature_importance['Feature'][-20:].values.tolist()\n",
        "top20 = [int(val) for val in top20]\n",
        "top20"
      ]
    },
    {
      "cell_type": "markdown",
      "source": [
        "### K Fold Splits and MCC Calculations"
      ],
      "metadata": {
        "id": "gG-7imk21LuV"
      }
    },
    {
      "cell_type": "code",
      "source": [
        "def K_fold_MCC(dataset, h, split_name=\"Random Split\", splitter=RandomSplitter()):\n",
        "    \n",
        "    split_data = splitter.k_fold_split(dataset, k=4)\n",
        "    \n",
        "    MCCs = []\n",
        "    y_true = []\n",
        "    h_predictions = []\n",
        "    \n",
        "    for data in split_data:\n",
        "        h.fit(data[0].X, data[0].y)\n",
        "        y_pred = h.predict(data[1].X)\n",
        "        y_true.extend(list(data[1].y))\n",
        "        h_predictions.extend(list(y_pred))\n",
        "        mcc = matthews_corrcoef(data[1].y, y_pred)\n",
        "        MCCs.append(mcc)\n",
        "    \n",
        "    print(split_name + \" MCC Values:\")\n",
        "    \n",
        "    for mcc in MCCs:\n",
        "        print(mcc)\n",
        "    print(\"Mean: \" + str(np.mean(MCCs)))\n",
        "\n",
        "    print(\"MCC value across full test data: \" + str(matthews_corrcoef(y_true, h_predictions)))\n",
        "    \n",
        "    return MCCs"
      ],
      "metadata": {
        "id": "2Hg528Oo1RlN"
      },
      "execution_count": 26,
      "outputs": []
    },
    {
      "cell_type": "code",
      "source": [
        "scaffold_split_mcc = K_fold_MCC(dataset, SVM_best, 'Scaffold Split', scaffoldsplitter)"
      ],
      "metadata": {
        "colab": {
          "base_uri": "https://localhost:8080/"
        },
        "id": "XpAEYzq-1Ter",
        "outputId": "cb068606-9672-45e2-e968-c1fd3cc89672"
      },
      "execution_count": 27,
      "outputs": [
        {
          "output_type": "stream",
          "name": "stderr",
          "text": [
            "/usr/local/lib/python3.8/dist-packages/sklearn/utils/validation.py:993: DataConversionWarning: A column-vector y was passed when a 1d array was expected. Please change the shape of y to (n_samples, ), for example using ravel().\n",
            "  y = column_or_1d(y, warn=True)\n"
          ]
        },
        {
          "output_type": "stream",
          "name": "stdout",
          "text": [
            "Scaffold Split MCC Values:\n",
            "0.6887294242922333\n",
            "0.8368969503903855\n",
            "0.3739754258990208\n",
            "0.7728042598325765\n",
            "Mean: 0.668101515103554\n",
            "MCC value across full test data: 0.7598248879287592\n"
          ]
        }
      ]
    },
    {
      "cell_type": "code",
      "source": [
        "random_split_mcc = K_fold_MCC(dataset=dataset, h=SVM_best)"
      ],
      "metadata": {
        "colab": {
          "base_uri": "https://localhost:8080/"
        },
        "id": "LlZrRtxn1VVV",
        "outputId": "a4552486-55b8-4adb-c395-3871fb379c09"
      },
      "execution_count": 28,
      "outputs": [
        {
          "output_type": "stream",
          "name": "stderr",
          "text": [
            "/usr/local/lib/python3.8/dist-packages/sklearn/utils/validation.py:993: DataConversionWarning: A column-vector y was passed when a 1d array was expected. Please change the shape of y to (n_samples, ), for example using ravel().\n",
            "  y = column_or_1d(y, warn=True)\n"
          ]
        },
        {
          "output_type": "stream",
          "name": "stdout",
          "text": [
            "Random Split MCC Values:\n",
            "0.8572887773614826\n",
            "0.8613619594160902\n",
            "0.8077182890794775\n",
            "0.8923132027191636\n",
            "Mean: 0.8546705571440534\n",
            "MCC value across full test data: 0.8538606982070811\n"
          ]
        }
      ]
    },
    {
      "cell_type": "code",
      "source": [
        "print(\"T Test P-value: \" + str(ttest_ind(scaffold_split_mcc, random_split_mcc).pvalue))"
      ],
      "metadata": {
        "colab": {
          "base_uri": "https://localhost:8080/"
        },
        "id": "Sw7Uq6lj1YTB",
        "outputId": "bd755b48-dc74-4964-8b17-88c056d43837"
      },
      "execution_count": 29,
      "outputs": [
        {
          "output_type": "stream",
          "name": "stdout",
          "text": [
            "T Test P-value: 0.12330054789246303\n"
          ]
        }
      ]
    },
    {
      "cell_type": "code",
      "source": [
        "fig, ax = plt.subplots(1,2, sharey=True)\n",
        "fig.tight_layout()\n",
        "\n",
        "ax[0].boxplot(scaffold_split_mcc)\n",
        "ax[0].title.set_text(\"Scaffold Split MCC\")\n",
        "ax[1].boxplot(random_split_mcc)\n",
        "ax[1].title.set_text(\"Random Split MCC\")"
      ],
      "metadata": {
        "colab": {
          "base_uri": "https://localhost:8080/",
          "height": 309
        },
        "id": "GzUjYwo81aFq",
        "outputId": "d204ebbb-540f-452b-d569-8cd20fe5a960"
      },
      "execution_count": 30,
      "outputs": [
        {
          "output_type": "display_data",
          "data": {
            "text/plain": [
              "<Figure size 432x288 with 2 Axes>"
            ],
            "image/png": "[encoded data removed]"
          },
          "metadata": {
            "needs_background": "light"
          }
        }
      ]
    }
  ],
  "metadata": {
    "kernelspec": {
      "display_name": "Python [conda env:bme590] *",
      "language": "python",
      "name": "conda-env-bme590-py"
    },
    "language_info": {
      "codemirror_mode": {
        "name": "ipython",
        "version": 3
      },
      "file_extension": ".py",
      "mimetype": "text/x-python",
      "name": "python",
      "nbconvert_exporter": "python",
      "pygments_lexer": "ipython3",
      "version": "3.10.4"
    },
    "vscode": {
      "interpreter": {
        "hash": "aee8b7b246df8f9039afb4144a1f6fd8d2ca17a180786b69acc140d282b71a49"
      }
    },
    "colab": {
      "provenance": []
    }
  },
  "nbformat": 4,
  "nbformat_minor": 0
}